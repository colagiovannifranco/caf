{
 "cells": [
  {
   "cell_type": "markdown",
   "metadata": {},
   "source": [
    "<h3 style=\"text-align:center\">Ciudades de Referencia</h3>\n",
    "<p style=\"text-align: justify\">A modo de referencia, se comporarán los resultados para Manizales con ciudades similares en términos de población, composición de actividades económicas y acceso a mercados. Por un lado se seleccionaron otras ciudades de la región \"cafetera\" de Colombia, que incluye a Pereira, Armenia y Medellin, así como ciudades de poblaciones similares que presentan composiciones de actividad diferentes (Villavicencio). Se agrega un grupo de ciudades de Brasil, Argentina y México que muestran similitudes en su cercanía a grandes mercados en menos de 8 horas de automóvil: Bahía Blance, Florianópolis y San Luis Potosí. En los casos en los que sea conveniente, se cambiará la composición de las ciudades de referencia.</p>"
   ]
  },
  {
   "cell_type": "markdown",
   "metadata": {},
   "source": [
    "<h3 style=\"text-align:center\">Población baja</h3>\n",
    "<p style=\"text-align: justify\">Manizales tiene una población de 434.000 habitantes, mientras que su área metropolitana se compone de 586.000 personas. Dentro de la muestra incial de 26 ciudades colombianas para las cuáles se posee información, Manizales se encuentra en el puesto número 16 del ranking poblacional.</p>"
   ]
  },
  {
   "cell_type": "markdown",
   "metadata": {},
   "source": [
    "<h3 style=\"text-align:center\">Salarios bajos</h3>\n",
    "<p style=\"text-align: justify\">El salario horario (calculado a partir del salario estimado por CEDLAS para cada sector de la economía) se estima en 3,2 ólares hora, un 13 menos que el promedio del país (3,7 dólares hora).</p>\n",
    "<p style='text-align:center'><img src='images/wyp.png'></p>\n",
    "<p style=\"text-align: justify\">Podemos ver que la ciudad se encuentra rezagada al compararla con la ciudad capital del país en términos de brecha salrial (gráfico 3). </p>\n",
    "<p style='text-align:center'><img src='images/brecha.png'></p>"
   ]
  },
  {
   "cell_type": "markdown",
   "metadata": {},
   "source": [
    "<h3 style=\"text-align:center\">Determinantes de la productividad</h3>\n",
    "<p style=\"text-align: justify\">Habiendo presentado ya el contexto de la ciudad de Manizales, Colombia, se realiza un trabajo de identificación, obtención de datos y construcción de indicadores, utilizando como marco téorico “Determinantes de la Productividad en las Ciudades y Políticas Públicas para su Mejora”, de Guillermo Alves y Pablo López (2020). Se comparará a Manizales con un grupo de ciudades de población similar, así como también con resultados del promedio de Colombia. La totalidad de los indicadores deseables no han sido capturados, las tablas 1 a 5 resumen los indicadores con los que contamos y los faltantes.</p>"
   ]
  },
  {
   "cell_type": "markdown",
   "metadata": {},
   "source": [
    "<center> <h4> Disponibilidad de Indicadores Seleccionados </h4> </center>"
   ]
  },
  {
   "cell_type": "markdown",
   "metadata": {},
   "source": [
    "<table class=\"determinantes\">\n",
    "  <caption style=\"font-size: 18px;\">Tabla 1: Conectividad Interna</caption>\n",
    "  <tr>\n",
    "    <th>Accesibilidad</th>\n",
    "    <th>Tiempo de viaje</th>\n",
    "    <th>Índice de Eficiencia de internet</th>\n",
    "    <th>% de firmas que eligen transporte como principal obstáculo</th>\n",
    "  </tr>\n",
    "  <tr>\n",
    "    <td style=\"text-align:center\"> - </td>\n",
    "    <td style=\"text-align:center\"> - </td>\n",
    "    <td style=\"text-align:center\"> Sí </td>\n",
    "    <td style=\"text-align:center\"> - </td>\n",
    "  </tr>    \n",
    "</table>"
   ]
  },
  {
   "cell_type": "markdown",
   "metadata": {},
   "source": [
    "<table class=\"determinantes\">\n",
    "  <caption style=\"font-size: 18px;\">Tabla 2: Conectividad Externa</caption>\n",
    "  <tr>\n",
    "    <th>Acceso a Mercados</th>\n",
    "    <th>Distancia a Puerto</th>\n",
    "    <th>Distancia a Aeropuerto</th>\n",
    "    <th>Índice de eficiencia de Internet</th>\n",
    "  </tr>\n",
    "  <tr>\n",
    "    <td style=\"text-align:center\"> Sí </td>\n",
    "    <td style=\"text-align:center\"> - </td>\n",
    "    <td style=\"text-align:center\"> Sí </td>\n",
    "    <td style=\"text-align:center\"> Sí </td>\n",
    "  </tr>    \n",
    "</table>"
   ]
  },
  {
   "cell_type": "markdown",
   "metadata": {},
   "source": [
    "<table class=\"determinantes\">\n",
    "  <caption style=\"font-size: 18px;\">Tabla 3: Trabajo y Conocimiento</caption>\n",
    "  <tr>\n",
    "    <th>Informalidad</th>\n",
    "    <th>Género</th>\n",
    "    <th>Desempleo</th>\n",
    "    <th>Necesidades Básicas insatisfechas</th>\n",
    "    <th>% de pob. con secundario completo</th>\n",
    "    <th>% de pob. estudiando terciario</th>\n",
    "    <th>% de pob. con terciario completo</th>\n",
    "    <th>% de firmas que eligen educación como principal obstáculo</th>\n",
    "    <th>Cuartos ocupados de hotel / población</th>\n",
    "  </tr>\n",
    "  <tr>\n",
    "    <td style=\"text-align:center\"> Sí </td>\n",
    "    <td style=\"text-align:center\"> Sí </td>\n",
    "    <td style=\"text-align:center\"> Sí </td>\n",
    "    <td style=\"text-align:center\"> - </td>\n",
    "    <td style=\"text-align:center\"> Sí </td>\n",
    "    <td style=\"text-align:center\"> Sí </td>\n",
    "    <td style=\"text-align:center\"> Sí </td>\n",
    "    <td style=\"text-align:center\"> - </td>\n",
    "    <td style=\"text-align:center\"> - </td>      \n",
    "  </tr>    \n",
    "</table>"
   ]
  },
  {
   "cell_type": "markdown",
   "metadata": {},
   "source": [
    "<table class=\"determinantes\">\n",
    "  <caption style=\"font-size: 18px;\">Tabla 4: Conglomerados y cadenas de valor</caption>\n",
    "  <tr>\n",
    "    <th>Índice de HH comparado al país</th>\n",
    "    <th>Principal Sector comparado al país</th>\n",
    "    <th>Número de Clusters</th>\n",
    "    <th>Número de Clusters con plan estratégico</th>\n",
    "  </tr>\n",
    "  <tr>\n",
    "    <td style=\"text-align:center\"> Sí </td>\n",
    "    <td style=\"text-align:center\"> Sí </td>\n",
    "    <td style=\"text-align:center\"> - </td>\n",
    "    <td style=\"text-align:center\"> - </td>\n",
    "  </tr>    \n",
    "</table>"
   ]
  },
  {
   "cell_type": "markdown",
   "metadata": {},
   "source": [
    "<table class=\"determinantes\">\n",
    "  <caption style=\"font-size: 18px;\">Tabla 5: Facilitación de Negocios</caption>\n",
    "  <tr>\n",
    "    <th>Composición del Crédito</th>\n",
    "    <th>Número de sucursales bancarias</th>\n",
    "    <th>Puntaje de Comienzo de Negocio</th>\n",
    "    <th>Puntaje de Permisos de Construcción</th>\n",
    "    <th>Puntaje de Registro de propiedad</th>\n",
    "    <th>Puntaje de Cumplimiento de Contratos</th>\n",
    "    <th>Incidencia del Crimen</th>\n",
    "    <th>Regulación del tipo de suelo</th>\n",
    "    <th>Precio del m2 de oficina/depósito/local comercial</th>\n",
    "    <th>Principales tres obstáculos</th>\n",
    "  </tr>\n",
    "  <tr>\n",
    "    <td style=\"text-align:center\"> - </td>\n",
    "    <td style=\"text-align:center\"> - </td>\n",
    "    <td style=\"text-align:center\"> Sí </td>\n",
    "    <td style=\"text-align:center\"> Sí </td>\n",
    "    <td style=\"text-align:center\"> Sí </td>\n",
    "    <td style=\"text-align:center\"> - </td>\n",
    "    <td style=\"text-align:center\"> Sí </td>\n",
    "    <td style=\"text-align:center\"> - </td>\n",
    "    <td style=\"text-align:center\"> Sí </td>\n",
    "    <td style=\"text-align:center\"> - </td>  \n",
    "  </tr>    \n",
    "</table>"
   ]
  },
  {
   "cell_type": "markdown",
   "metadata": {},
   "source": [
    "<h4 style=\"text-align:center\">Conectividad Interna</h4>\n",
    "<p style=\"text-align: justify\">Dentro de este grupo de determinantes, se habían seleccionado en el trabajo “Segundo Componente”: Indicador de accesibilidad de empleos, indicador de tiempo de viaje, indicador de eficiencia de internet y porcentaje de firmas que eligen al transporte como el principal obstáculo. Los primeros dos indicadores serán proporcionados por OMU-CAF, pero no contamos actualmente con ellos. En cuanto al porcentaje de firmas que eligen transporte como principal obstáculo, para la ciudad estudiada no hay dato. En Colombia, en promedio, solo el 1,9% de las firmas eligen este tipo de problema como el principal (año 2017). El valor promedio para Latinomérica es de 2,2% (se calcula como promedio simple de las encuestas de los países de latinoamérica disponibles, aún cuando el año de la encuesta difiere para cada país).\n",
    "</p>\n",
    "<p style=\"text-align: justify\">En cuanto a la velocidad de conectividad digital, la ciudad de Manizales se encuentra muy por encima tanto del promedio para Colombia como para toda Latinoamérica. De acuerdo a la data proporcionada por <a href=\"https://www.measurementlab.net/\"> M-Lab </a>, su velocidad de descarga promedio se encuentra cerca de los 6 megabytes por segundo (Mbps), mientras que en el promedio de la región es de 20 Mbps y el del país es cercano a 7Mbps.</p>\n",
    "<p style='text-align:center'><img src='images/descarga.png'></p>"
   ]
  },
  {
   "cell_type": "markdown",
   "metadata": {},
   "source": [
    "<h4 style=\"text-align:center\">Conectividad Externa</h4>\n",
    "<p style=\"text-align: justify\">Dentro de este grupo de determinantes, se habían seleccionado en el trabajo “Segundo Componente”: Indicador de acceso a mercados, indicador de distancia a puerto más cercano de calidad, indicador de distancia a aeropuerto más cercano de calidad y nuevamente la data de conectividad digital, ya expuesta en la sección anterior. El departamento de  Caldas no cuenta con puertos ya que no posee litoral marítimo. La ciudad se encuentra a 300 km (6 horas en automóvil aproximadamente) del puerto de Buenaventura (océano pacífico), el segundo puerto  de Colombia según <a href=\"https://www.cepal.org/sites/default/files/news/files/actividad_portuaria_2018.pdf\"><i>throughput</i></a> anual. Respecto de los puertos atlánticos, el más cercano es el de Cartagena (el principal puerto de país según <i>throughput</i>, que se encuentra a más de 800 km de distancia.\n",
    "</p>\n",
    "    <p style=\"text-align: justify\">En cuanto al indicador de <a href=\"#footnote-1\">acceso a mercados</a>, se obtuvo el porcentaje del total de la masa salarial del país, con la que Manizales está conectada, a ciertas horas de distancia. La ciudad tiene un acceso alto a mercados, dentro de las primeras 9 horas de distancia. Su situación es similar a las ciudades de Armenia, Pereira y Medellín. . Manizales, dentro de las 9 horas de viaje encuentra más del 80% de la masa salarial del país, mientras que el promedio nacional ronda el 50%.</p>\n",
    "<p style='text-align:center'><img src='images/acceso.png'></p>\n",
    "<p style=\"text-align: justify\">Vale mencionar que Manizales posee 3 centros urbanos de importancia en una distancia menor a 100 km. Estos corresponde a Armenia, Cártago y Pereira. Entre estas 3 ciudades totalizan una población estimada cercana a los 3.600.000 habitantes. La tabla 6 presenta algunos indicadores respecto de estas ciudades.\n",
    "<table border=\"1\" class=\"dataframe\">\n",
    "  <thead>\n",
    "    <caption style=\"font-size: 18px;\">Tabla 6: Ciudades Cercanas</caption>\n",
    "    <tr style=\"text-align: center;\">\n",
    "      <th style=\"text-align:center\">Ciudad</th>\n",
    "      <th style=\"text-align:center\">Distancia</th>\n",
    "      <th style=\"text-align:center\">horas de viaje en tráfico</th>\n",
    "      <th style=\"text-align:center\">Población estimada</th>\n",
    "      <th style=\"text-align:center\">Masa Salarial estimada</th>\n",
    "    </tr>\n",
    "  </thead>\n",
    "  <tbody>\n",
    "    <tr>\n",
    "      <td style=\"text-align:center\">Armenia</td>\n",
    "      <td style=\"text-align:center\">97.6 km</td>\n",
    "      <td style=\"text-align:center\">2.0</td>\n",
    "      <td style=\"text-align:center\">2,959,694</td>\n",
    "      <td style=\"text-align:center\">1,341,213.6</td>\n",
    "    </tr>\n",
    "    <tr>\n",
    "      <td style=\"text-align:center\">Cartago</td>\n",
    "      <td style=\"text-align:center\">79.8 km</td>\n",
    "      <td style=\"text-align:center\">1.7</td>\n",
    "      <td style=\"text-align:center\">112,741</td>\n",
    "      <td style=\"text-align:center\">nan</td>\n",
    "    </tr>\n",
    "    <tr>\n",
    "      <td style=\"text-align:center\">Pereira</td>\n",
    "      <td style=\"text-align:center\">52.4 km</td>\n",
    "      <td style=\"text-align:center\">1.1</td>\n",
    "      <td style=\"text-align:center\">590,554</td>\n",
    "      <td style=\"text-align:center\">1,975,648.2</td>\n",
    "    </tr>\n",
    "  </tbody>\n",
    "</table>\n",
    "<p style=\"text-align:justify\">En cuanto a acceso a aeropuertos, a menos de 9 km. al sudeste de la ciudad de Manizales se encuentra el Aeropuerto La Nubia, el cual no cuenta con vuelos internacionales. Debido a la limitada longitud de la pista, el aueropuerto sólo recibe aviones propulsados por turbohélice, lo que limita el tamaño de las aeronaves.</p>\n",
    "<p style='font-size:11px' id=\"footnote-1\">[1] Para construir este indicador tuvieron que realizarse una serie de metodologías. Para empezar, usa como base de ciudades el BEAM, luego se incluyen las ciudades trabajadas por CEDLAS. Al no tener datos sobre masa salarial para todas las ciudades, se procede a construir estimados en base a la población. Sin embargo, tampoco se contaba con la población para todas las ciudades, por lo que se realizó un trabajo manual para completar la base. Una vez que contamos con todas las ciudades, todas las poblaciones, y todas las masas salariales, estimadas y reales, entramos en contacto con Distance Matrix AI, la cual nos dio acceso a su API para calcular una matriz de distancias desde y hacia todas las ciudades, en tiempo de viaje. Con toda esta data obtenemos, para distintos límites de tiempo, la proporción del total de la masa salarial del país con la que está conectada la ciudad. Cabe destacar que cada ciudad tiene siempre acceso a su propia masa salarial adicionalmente.</p>"
   ]
  },
  {
   "cell_type": "markdown",
   "metadata": {},
   "source": [
    "<h4 style=\"text-align:center\">Trabajo y Conocimiento</h4>\n",
    "<p style=\"text-align: justify\">Dentro de este grupo de determinantes, se habían seleccionado en el trabajo “Segundo Componente”: Indicadores de informalidad, género, desempleo, NBI, educativos, del porcentaje de firmas que eligen a la inadecuada educación de la fuerza laboral como su principal obstáculo y de cuartos ocupados de hotel / la población.</p>\n",
    "<p style=\"text-align: justify\">En cuanto al principal obstáculo, de nuevo, la ciudad no fue incluída en el <i>Enterprise Surveys</i>. Aún así, las firmas del país no destacan a la \"fuerza laboral inadecuadamente educada\" como un problema relevante. El 7.7% de las firmas en promedio menciona la educación de su fuerza laboral como el principal obstáculo. De las ciudades Colombianas que sí están presentes en el <i>Survey</i>, Cartagena presenta el valor más alto, con un  17.7% de firmas mencionándola como su principal problema.</p>\n",
    "<p style=\"text-align: justify\">En cuanto al nivel de informalidad, Manizales se encuentra en una posición cercana al promedio del país. En los gráficos 6, 7 y 8 se muestran los porcentajes de informalidad en Hombres, Mujeres y Totales, respectivamente. Se puede ver que la ciudad se encuentra apenas por debajo del promedio del país, con un valor de 27.9% contra 29.6%. El valor para Hombres se encuentra bastante por debajo del promedio con 22.3% (el promedio para Colombia es 27%). En el caso de Mujeres, la situación es inversa: 34.2% para Manizales contra 32.5% de promedio para el país.</p>\n",
    "<p style='text-align:center'><img src='images/informalidad.png'></p>\n",
    "<p style=\"text-align: justify\">Respecto del desempleo, se utilizarán indicadores según rango etario y sexo, además de duración promedio del desempleo en meses. Los gráficos 9, 10 y 11 muestran las tasas de desempleo según sexo. La tasa de desempleo total de Manizales es de 6.8%, bastante por debajo de promedio de Colombia (10.6%) y también de la de latinoamérica (7.3%). Un análisis similar puede hacerse cuando consideramos el desempleo entre hombres: 4.3% contra 6.4% para latinoamérica y 8.8% para Colombia. En el caso del desempleo femenino, pareciera que los valores de todas las ciudades de Colombia son superiores a los promedios de la región. Aún así, Manizales mantiene valores bastante inferiores a los del promedio de su país. </p>\n",
    "<p style='text-align:center'><img src='images/desempleo_sexo.png'></p>\n",
    "<p style=\"text-align: justify\">Cuando observamos el desempleo según estratos de edades (gráficos 12, 13 y 14), Manizales se ubica nuevamente por debajo de los promedios del país y de la región, excepto por el rango 25-54. Para ese rango, tanto los valores de las ciudades Colombianas como el promedio para el país se ubican por encima del promedio para Latam. Aún así, el 6.2% de Manizales se encuentra entre los menores dentro del grupo de ciudades de referencia.</p>\n",
    "<p style='text-align:center'><img src='images/desempleo_edad.png'></p>\n",
    "<p style=\"text-align: justify\">Por último, los gráficos 15, 16 y 17 muestran la duración promedio del desempleo según sexo. Los valores para Manizales se ubican en todos los casos cerca de los promedios de la región, con valores cercanos a los 6 meses. Pareciera que los valores para Colombia son relativamente bajos al compararlos con los de Florianópolis y Bahía Blanca. </p>\n",
    "<p style='text-align:center'><img src='images/desempleo_duracion.png'></p>\n",
    "<p style=\"text-align: justify\">El último indicador relacionado con el empleo tiene que ver con la distribución del empleo entre asalariados (públicos y privados), cuentapropistas o sin salario (gráfico 18). Si bien algunos valores no se encuentran disponibles para todas las ciudades, este indicador muestra la gran participación de los cuentapropistas/patrones en el total de la masa salarial de Manizales: 59.9%. Este valor parece similar a otras ciudaedes de Colombia, aunque el promedio nacional se ubique algo más abajo: 45.3%.</p>\n",
    "<p style='text-align:center'><img src='images/empleo_dist.png'></p>\n",
    "<p style=\"text-align: justify\">Respecto de la eduación, los indicadores corresponden con educación secundaria terminada, educación superior terminada y población actualmente estudiando terciario/superior. Los gráficos 19, 20 y 21 muestran el porcentaje de la población, según sexo, con escuela secundaria terminada. Observando los valores promedio para Colombia y comparándolos contra los valores para Manizales, se ve que la ciudad se encuentra bastante relegada. Sólo el 39.3% de toda la población terminó el secundario, mientras que el promedio para Colombia es del 44%. Relaciones similares se obsrevan cuando se consideran estos valores para hombres y mujeres por separado.</p>\n",
    "<p style='text-align:center'><img src='images/edu_secundaria.png'></p>\n",
    "<p style=\"text-align: justify\">Los gráficos 22, 23 y 24 muestran indicadores relaciones con la educación y los rangos etarios. Los mismo se explican a continuación:</p>\n",
    "<ul>\n",
    "<li>El gráfico 22 muestra el porcentaje de la población de entre 20 y 25 años con secundario terminado. Los valores de este indicador son bastante homogéneos, manteniendosé entre 70% y 80%. El valor para la ciudad de Manizales es alto: 77.8% aunque es aún inferior al 81.5% de promedio para Colombia.</li>\n",
    "<li>El gráfico 23 muestra el porcentaje de la población de entre 25 y 35 años que posee un estudio superior terminado. Los valores de este indicador poseen bastante amplitud, yendo desde menos del 15% a casi el 30% de la población. En este caso, las ciudades de referencia colombianas se encuentran bastante rezagadas al compararlas tanto con el promedio para Colombia como para la región. El valor para Manizales es de 16%</li>\n",
    "<li>El gráfico 24 es el último gráfico de este grupo, y muestra el porcentaje de la poblaicón de entre 18 y 25 años que se encuentra estudiando una carrera superior o terciaria, actualmente. Con un 23.4%, Manizales muestra valores algo por encima del promedio colombiano (21.9%) pero bastante inferiores al valor de Bahía Blanca (48.9%).</li>    \n",
    "</ul>\n",
    "<p style='text-align:center'><img src='images/edu_estudiando.png'></p>\n",
    "<p style=\"text-align: justify\">Los últimos tres indicadores de educación corresponden a los porcentajes de la población con eduación superior terminada según sexo: el gráfico 25 mmuestra este valor para los hombres, el 26 para las mujeres y el 27 es el total de la ciudad. El valor de este indicador para Manizales, en el caso del total de su población, es de 7.8%, un valor que es similar tanto para el grupo masculino (7.4%) como para el femenino (8.1%). La ciudad se encuentra relegada contra la mayoría de la ciudades de referencia.</p>\n",
    "<p style='text-align:center'><img src='images/edu_superior.png'></p>"
   ]
  },
  {
   "cell_type": "markdown",
   "metadata": {},
   "source": [
    "<h4 style=\"text-align:center\">Conglomerados y Cadenas de Valor</h4>\n",
    "<p style=\"text-align: justify\">Dentro de este grupo de determinantes, se habían seleccionado en el trabajo “Segundo Componente”: el índice HH, absoluto y relativo al país, cuánto explica el principal sector y en qué medida se diferencia del promedio del país, y número de clusters, sobre lo que no se obtuvo información.</p>\n",
    "<p style=\"text-align: justify\">En cuanto al nivel de especialización, según los datos de CEDLAS, el sector más importante es el de educacion, salud y servicios personales. El índice HH indica que Manizales es una ciudad levemente menos especializada que el promedio del país, como podemos ver en el gráfico 28.</p>\n",
    "<p style='text-align:center'><img src='images/brecha.png'></p>\n",
    "<p style=\"text-align: justify\">Al observar la composición de la masa salarial en el gráfico 28, vemos que Manizales tiene valores similares a los promedios de todo el país. El  20% explicado por el comercio resulta algo menor al promedio nacional de 25%. Se destaca también el hecho de que la ciudad tiene una participación algo mayor que el promedio del país en industrias de baja tecnología (6.5%) y resto de las manufacturas (8%). El empleo de las industrias de baja tecnología (7.4%) y resto de las manufacturas (8%) se mantienen por encima de los valores  promedio para el país (6.8% y 5.1% respectivamente). Los salarios de estos sectores también se encuentran bastante por encima de los promedios nacionales: USD 3.81 contra USD 2.78 para bajas tecnolgías y USD 4.32 contra USD 3.57 para el resto de las manufacturas. La ciudad de Manizales posee un salario mayor al promedio de las ciudades del país en todos los sectores excepto por las actividades primadrias y el sector financiero.</p>\n",
    "<p style='text-align:center'><img src='images/concentracion.png'></p>\n",
    "<p style=\"text-align: justify\">Un punto adicional estudiado es la relación que existe entre el salario real observado, y el salario que uno esperaría ver en la ciudad, en base a su composición de actividades económicas. En el Gráfico 28.B podemos ver que la ciudad de Manizales tiene un salario estimado bastante más alto que su salario real: la relación es de 1.261. Esto significa que el salario real está por debajo (-26.1%) de lo que se esperaría acorde a su composición productiva.</p>\n",
    "<p style='text-align:center'><img src='images/brecha_estvsreal.png'></p>"
   ]
  },
  {
   "cell_type": "markdown",
   "metadata": {},
   "source": [
    "<h4 style=\"text-align:center\">Facilitación de Negocios</h4>\n",
    "<p style=\"text-align: justify\">Dentro de este grupo de determinantes, se habían seleccionado en el trabajo “Segundo Componente”: Composición del crédito, número de sucursales bancarias, una serie de indicadores del Banco Mundial, puntaje de comienzo de negocio, puntaje de manejo de permisos de construcción, puntaje de registro de propiedad, puntaje de cumplimiento de contratos, incidencia del crimen, regulación del tipo de suelo y precio del metro cuadrado de distintos tipos de propiedades. De los anteriores, sólo contamos con los puntajes de Permisos de Contrucción, Comienzo de Negocio y Registro de Propiedad, así como la Incidencia del Crimen y los precios de m2 de propiedades comerciales.</p>\n",
    "<p style=\"text-align: justify\">Los gráficos 32, 33 y 34 muestran los puntajes de los informes de <i>Doing business</i> del Banco Mundial. Manizales se encuentra en una posición bastante favorable aunque siempre cerca de los valores promedio: 74 en permisos de construcción, 85.8 en comienzo de negocio y 71.5 en registro de propiedad. Los tres valores se encuentran bastante por encima de los promedios de Colombia</p>\n",
    "<p style='text-align:center'><img src='images/doing_biz.png'></p>\n",
    "<p style=\"text-align: justify\">El siguiente indicador corresponde a la incidencia del crimen y la variable elegida tiene que ver con la tasa de homicidios por ciudad. Estos datos se obtuvieron de la<a href=\"http://www.ideaspaz.org/especiales/data-fip/homicidios/index.html\"> Fundación Ideas para la Paz </a> y muestran la tasa de homicidios cada 100.000 habitantes para el año 2015 en las principales ciudades de Colombia. El gráfico 35 muestra dicho indicador, en dónde se observa que Manizales posee valores similares a los del promedio del país: 21.71 contra 25.6 para el promedio de las principales ciudades del país.</p>\n",
    "<p style='text-align:center'><img src='images/homicidios.png'></p>\n",
    "<p style=\"text-align: justify\">El último indicador para el cuál se posee información corresponde al precio de las propiedades comerciales. Específicamente, se toma la base de datos de <a href=\"https://www.properati.com.ar/data/\">properati</a>. Estas corresponden a una base de todas las propiedades listadas para alquiler o venta en Colombia durante un periodo de meses que va desde junio a Noviembre de 2020. Se tomaron sólo las propiedades comerciales listadas para la venta: Depósitos, locales comerciales y oficinas. Se calcularon los precios en USD promedio por metro cuadrado de estas propiedas para las ciudades de interés. Los gráficos 36, 37 y 38 muestran dicha información. Se agregan algunas ciudades de importancia ya que las mismas poseen valores que pueden distorsinar los promedios (tal es el caso de Bogotá en el precio de las oficinas). Manizales se encuentra bastante cerca del promedio nacional para el caso de los depósitos, con un valor promedio de USD 536 por metro cuadrado. En los casos de locales comerciales y oficinas, los valores se encuentran bastante por debajo de los promedios: USD 1.542 y USD 1.317 respectivamente.</p>\n",
    "<p style='text-align:center'><img src='images/properati.png'></p>"
   ]
  }
 ],
 "metadata": {
  "kernelspec": {
   "display_name": "Python 3",
   "language": "python",
   "name": "python3"
  },
  "language_info": {
   "codemirror_mode": {
    "name": "ipython",
    "version": 3
   },
   "file_extension": ".py",
   "mimetype": "text/x-python",
   "name": "python",
   "nbconvert_exporter": "python",
   "pygments_lexer": "ipython3",
   "version": "3.7.8"
  }
 },
 "nbformat": 4,
 "nbformat_minor": 4
}
