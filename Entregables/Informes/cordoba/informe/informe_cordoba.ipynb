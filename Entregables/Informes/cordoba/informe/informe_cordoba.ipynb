{
 "cells": [
  {
   "cell_type": "markdown",
   "metadata": {},
   "source": [
    "<div style=\"overflow: hidden;\">\n",
    "   <div id=\"J\" style=\"float:left; width: 50%;\">\n",
    "      <img width=\"450\" height=\"500\" src=\"images/1.jpg\">\n",
    "   </div>\n",
    "   <div id=\"H\" style=\"float: left; width: 50%;\">\n",
    "      <div>\n",
    "          <h1 style='text-align:right'><b>Perfil productivo Gran Córdoba, Córdoba</b></h1>\n",
    "      </div>\n",
    "      <div>\n",
    "         <h2 style='text-align:right'>Introducción y contexto</h2>\n",
    "         <p style='text-align:justify'><a style='font-weight:bold'>Córdoba es una ciudad ciudad industrial del centro de Argentina, capital de la provincia de Córdoba.</a> Su área metropolitana poseía en 2014 aproximadamente 1.528.000 habitantes, de los cuáles alrededor de 1.400.000 se encuentran dentro de los límites de la ciudad. Posee una base industrial diverificada, en dónde el principal sector es el automotriz / autopartista.</p>\n",
    "      </div>\n",
    "   </div>\n",
    "</div>"
   ]
  },
  {
   "cell_type": "markdown",
   "metadata": {},
   "source": [
    "<h3 style=\"text-align:left\">Ciudades de Referencia</h3>\n",
    "<div style=\"text-align: justify\">\n",
    "<p style=\"text-align: justify\">A modo de referencia, se comporarán los resultados de córdoba con diversas ciudadades argentinas y del resto de Latam, de diferentes regiones, tamaños y principales actividades económicas. Por un lado se seleccionaron otras ciudades argentinas de poblaciones similares, que incluyen a  Gran Mendoza y Gran Tucumán-Tafi Viejo, así como ciudades argentinas de poblaciones diferentes que presentan una alta participación del sector <b>Resto de la Industria Manufacturera</b> en relación al promedio nacional: Gran Rosario y Bahía Blanca-Cerri. Se agrega también un grupo de ciudades de Brasil, Colombia y México que muestran participaciones importantes de dicho sector: Vitoria, Cali y San Luis de Potosí. En los casos en los que sea conveniente, se cambiará la composición de las ciudades de referencia. La tabla 1 muestra los principales indicadores de este grupo de ciudades.</p>\n",
    "</div>"
   ]
  },
  {
   "cell_type": "markdown",
   "metadata": {},
   "source": [
    "<table border=\"1\" class=\"dataframe\">\n",
    "<thead>\n",
    "<tr style=\"text-align: left;\">\n",
    "<th></th>\n",
    "<th></th>\n",
    "<th>Población estimada (millones)</th>\n",
    "<th>Salario Horario (PPP 2011)</th>\n",
    "<th>Tasa de Desempleo Total</th>\n",
    "<th>% población con secundario completo Total</th>\n",
    "<th>Masa Salarial como proporción del país</th>\n",
    "<th>Proporción de la masa salarial del país a la que se accede en &lt; 9 hs</th>\n",
    "<th>Ratio Agro</th>\n",
    "<th>Ratio Baja Tec</th>\n",
    "<th>Ratio Resto Ind</th>\n",
    "</tr>\n",
    "<tr>\n",
    "<th>Country</th>\n",
    "<th>City</th>\n",
    "<th></th>\n",
    "<th></th>\n",
    "<th></th>\n",
    "<th></th>\n",
    "<th></th>\n",
    "<th></th>\n",
    "<th></th>\n",
    "<th></th>\n",
    "<th></th>\n",
    "</tr>\n",
    "</thead>\n",
    "<tbody>\n",
    "<tr>\n",
    "<th rowspan=\"6\" valign=\"top\">Argentina</th>\n",
    "<th>Gran Tucuman-Tafi Viejo</th>\n",
    "<td>1.45</td>\n",
    "<td>4.45</td>\n",
    "<td>10.32</td>\n",
    "<td>42.95</td>\n",
    "<td>0.04</td>\n",
    "<td>0.13</td>\n",
    "<td>0.96</td>\n",
    "<td>0.89</td>\n",
    "<td>0.97</td>\n",
    "</tr>\n",
    "<tr style=\"background-color:#FF0000\">\n",
    "<th>Gran Cordoba</th>\n",
    "<td>1.43</td>\n",
    "<td>4.64</td>\n",
    "<td>12.75</td>\n",
    "<td>46.18</td>\n",
    "<td>0.04</td>\n",
    "<td>0.87</td>\n",
    "<td>0.31</td>\n",
    "<td>1.09</td>\n",
    "<td>1.51</td>\n",
    "</tr>\n",
    "<tr>\n",
    "<th>Gran Mendoza</th>\n",
    "<td>1.08</td>\n",
    "<td>4.76</td>\n",
    "<td>8.46</td>\n",
    "<td>38.40</td>\n",
    "<td>0.03</td>\n",
    "<td>0.58</td>\n",
    "<td>1.34</td>\n",
    "<td>1.14</td>\n",
    "<td>1.24</td>\n",
    "</tr>\n",
    "<tr>\n",
    "<th>Gran Rosario</th>\n",
    "<td>1.20</td>\n",
    "<td>5.29</td>\n",
    "<td>11.05</td>\n",
    "<td>46.14</td>\n",
    "<td>0.05</td>\n",
    "<td>0.79</td>\n",
    "<td>0.39</td>\n",
    "<td>1.46</td>\n",
    "<td>1.60</td>\n",
    "</tr>\n",
    "<tr>\n",
    "<th>Mar del Plata-Batan</th>\n",
    "<td>0.66</td>\n",
    "<td>6.46</td>\n",
    "<td>11.30</td>\n",
    "<td>45.33</td>\n",
    "<td>0.03</td>\n",
    "<td>0.73</td>\n",
    "<td>0.75</td>\n",
    "<td>1.81</td>\n",
    "<td>0.86</td>\n",
    "</tr>\n",
    "<tr>\n",
    "<th>Bahia Blanca-Cerri</th>\n",
    "<td>0.31</td>\n",
    "<td>6.50</td>\n",
    "<td>9.01</td>\n",
    "<td>49.04</td>\n",
    "<td>0.01</td>\n",
    "<td>0.69</td>\n",
    "<td>0.99</td>\n",
    "<td>0.98</td>\n",
    "<td>1.56</td>\n",
    "</tr>\n",
    "<tr>\n",
    "<th>Brasil</th>\n",
    "<th>Vitoria</th>\n",
    "<td>1.91</td>\n",
    "<td>5.42</td>\n",
    "<td>10.95</td>\n",
    "<td>42.51</td>\n",
    "<td>0.02</td>\n",
    "<td>0.05</td>\n",
    "<td>1.18</td>\n",
    "<td>1.60</td>\n",
    "<td>1.38</td>\n",
    "</tr>\n",
    "<tr>\n",
    "<th>Colombia</th>\n",
    "<th>Cali</th>\n",
    "<td>2.23</td>\n",
    "<td>4.11</td>\n",
    "<td>12.28</td>\n",
    "<td>40.26</td>\n",
    "<td>0.09</td>\n",
    "<td>0.77</td>\n",
    "<td>0.68</td>\n",
    "<td>1.50</td>\n",
    "<td>2.04</td>\n",
    "</tr>\n",
    "<tr>\n",
    "<th>Mexico</th>\n",
    "<th>San Luis Potosi</th>\n",
    "<td>0.82</td>\n",
    "<td>4.57</td>\n",
    "<td>3.15</td>\n",
    "<td>32.46</td>\n",
    "<td>0.01</td>\n",
    "<td>0.75</td>\n",
    "<td>0.44</td>\n",
    "<td>0.65</td>\n",
    "<td>1.93</td>\n",
    "</tr>\n",
    "</tbody>\n",
    "</table>"
   ]
  },
  {
   "cell_type": "markdown",
   "metadata": {},
   "source": [
    "<h3 style=\"text-align:left\">Población alta y Salarios por debajo de la mediana</h3>\n",
    "<div style=\"text-align: justify\">\n",
    "<p style=\"text-align: justify\">Córdoba tiene una población de 1,43 millones de habitantes. Dentro de la muestra incial de 32 ciudades Argentinas para las cuáles se posee información, Córdoba se encuentra en el percentil 0.91 de población.</p>\n",
    "<p style=\"text-align: justify\">El salario horario se estima en 4.64 dólares por hora (ajustados por PPP), lo que la ubica en el percentil 0.39 entre las ciudades argentinas.</p>\n",
    "    <p style='text-align:center'><img src='images/wyp.png'></p>\n",
    "</div>"
   ]
  },
  {
   "cell_type": "markdown",
   "metadata": {},
   "source": [
    "<h3 style=\"text-align:left\">Salario Esperado (según actividades) vs Salario Observado</h3>\n",
    "<div style=\"text-align: justify\">\n",
    "<p style=\"text-align: justify\">Un punto interesante del análisis es la relación que existe entre<a href='#footnote-2'> el salario observado, y el salario que uno esperaría ver en la ciudad, en base a su composición de actividades económicas</a>, (a veces llamado <i>Salario Estimado</i>). Córdoba tiene un salario estimado algo más alto que su salario observado (gráfico 3). El salario observado está por debajo (-3%) de lo que se esperaría acorde a su composición productiva. En otras palabras, si los salarios de cada sector económico de Córdoba fueran iguales a los promedios nacionales, la ciudad debería poseer un salario promedio (ponderado) más alto que el que efectivamente posee. Además, el gráfico 3 incorpora información respecto de cuál es el sector que posee mayor masa salarial de entre los tres sectores de mayor interés (Agro/Materias Primas, Industrias de Baja Tecnología y Resto de las Industrias). Los colores de los puntos se determinan a partir del sector que presenta la mayor masa salarial de entre los tres principales en la ciudad. Se intenta así divisar si existe alguna relación entre los principales tres sectores estudiados y la <i>brecha salarial observado vs estimado</i>, aunque en este caso no pareciera haber correlación.</p>\n",
    "</div>"
   ]
  },
  {
   "cell_type": "markdown",
   "metadata": {},
   "source": [
    "<div class=\"container-fluid\" style=\"margin-top:40px\">\n",
    "    <iframe src=\"images/estimado_vs_observado.html\" width=\"60%\" height=\"550\"></iframe>\n",
    "</div>"
   ]
  },
  {
   "cell_type": "markdown",
   "metadata": {},
   "source": [
    "<div style=\"text-align: justify\">\n",
    "<p style='font-size:11px' id=\"footnote-1\">[1] El salario observado resulta de calcular el promedio entre los salarios de cada actividad económica en la ciudad de córdoba, ponderados por el porcentaje de empleo que cada sector posee en el total de la ciudad. En el caso del salario estimado, se toman los salarios promedio del país para cada sector, ponderandolós por el share de cada sector en el empleo de la ciudad de córdoba. Esto nos permite comparar los salarios sectoriales de Córdoba contra los promedios nacionales, incorporando la composición de empleo de la ciudad en cuestión.</p>\n",
    "</div>"
   ]
  },
  {
   "cell_type": "markdown",
   "metadata": {},
   "source": [
    "<h3 style=\"text-align:left\">Empleo y Masa Salarial por Actividad</h3>\n",
    "<div style=\"text-align: justify\">\n",
    "<p style=\"text-align: justify\">El gráfico 4 muestra las proporciones de masa salarial y empleo según actividad para la ciudad. Los sectores que presentan valores más altos son \"Comercio\" y \"Educación y Salud\". Los sectores que aumentan su participación de empleo a masa salarial son: \"Bancos\",\"Educación y Salud\", \"Administración Pública\" y \"Resto de la Industria Manufacturera\", lo que indica que dichos sectores poseen salarios mayores al resto. </p>\n",
    "<p style='text-align:center'><img src='images/wm_sectores.png'></p>\n",
    "</div>"
   ]
  },
  {
   "cell_type": "markdown",
   "metadata": {},
   "source": [
    "<h3 style=\"text-align:left\">Distribución de Empleo</h3>\n",
    "<div style=\"text-align: justify\">\n",
    "<p style=\"text-align: justify\">El gráfico 5 muestra la distribución del empleo por ciudad. Córdoba posee un porcentaje alto de asalariados privados con un 61,7%, por encima del promedio nacional de 56,1%. A la vez, se encuentra por debajo del promedio nacional de asalariados públicos con un 12,5% contra 18,1% a nivel país.</p>\n",
    "    <p style='text-align:center'><img src='images/empleo_dist.png'></p>\n",
    "</div>"
   ]
  },
  {
   "cell_type": "markdown",
   "metadata": {},
   "source": [
    "<h3 style=\"text-align:left\">Determinantes de la productividad</h3>\n",
    "<div style=\"text-align: justify\">\n",
    "<p style=\"text-align: justify\">Se realizará entonces un trabajo de identificación, obtención de datos y construcción de indicadores, utilizando como marco téorico “Determinantes de la Productividad en las Ciudades y Políticas Públicas para su Mejora”, de Guillermo Alves y Pablo López (2020). Se comparará a Córdoba con un grupo de ciudades de población similar, así como también con resultados del promedio de Argentina y el resto de Latinoamérica. La totalidad de los indicadores deseables no han sido capturados, las tablas 2 a 6 resumen los indicadores con los que contamos y los faltantes.</p>\n",
    "</div>"
   ]
  },
  {
   "cell_type": "markdown",
   "metadata": {},
   "source": [
    "<h4 style=\"text-align:left\"> Disponibilidad de Indicadores Seleccionados </h4>"
   ]
  },
  {
   "cell_type": "markdown",
   "metadata": {},
   "source": [
    "<table class=\"determinantes\">\n",
    "  <caption style=\"font-size: 18px;\">Tabla 2: Conectividad Externa</caption>\n",
    "  <tr>\n",
    "    <th>Acceso a Mercados</th>\n",
    "    <th>Distancia a Puerto</th>\n",
    "    <th>Distancia a Aeropuerto</th>\n",
    "    <th>Índice de eficiencia de Internet</th>\n",
    "  </tr>\n",
    "  <tr>\n",
    "    <td style=\"text-align:center\"> Sí </td>\n",
    "    <td style=\"text-align:center\"> - </td>\n",
    "    <td style=\"text-align:center\"> - </td>\n",
    "    <td style=\"text-align:center\"> Sí </td>\n",
    "  </tr>    \n",
    "</table>"
   ]
  },
  {
   "cell_type": "markdown",
   "metadata": {},
   "source": [
    "<table class=\"determinantes\">\n",
    "  <caption style=\"font-size: 18px;\">Tabla 3: Conectividad Interna</caption>\n",
    "  <tr>\n",
    "    <th>Accesibilidad</th>\n",
    "    <th>Tiempo de viaje</th>\n",
    "    <th>Índice de Eficiencia de internet</th>\n",
    "    <th>% de firmas que eligen transporte como principal obstáculo</th>\n",
    "  </tr>\n",
    "  <tr>\n",
    "    <td style=\"text-align:center\"> - </td>\n",
    "    <td style=\"text-align:center\"> - </td>\n",
    "    <td style=\"text-align:center\"> Sí </td>\n",
    "    <td style=\"text-align:center\"> Sí </td>\n",
    "  </tr>    \n",
    "</table>"
   ]
  },
  {
   "cell_type": "markdown",
   "metadata": {},
   "source": [
    "<table class=\"determinantes\">\n",
    "  <caption style=\"font-size: 18px;\">Tabla 4: Trabajo y Conocimiento</caption>\n",
    "  <tr>\n",
    "    <th>Informalidad</th>\n",
    "    <th>Género</th>\n",
    "    <th>Desempleo</th>\n",
    "    <th>Necesidades Básicas insatisfechas</th>\n",
    "    <th>% de pob. con secundario completo</th>\n",
    "    <th>% de pob. estudiando terciario</th>\n",
    "    <th>% de pob. con terciario completo</th>\n",
    "    <th>% de firmas que eligen educación como principal obstáculo</th>\n",
    "    <th>Cuartos ocupados de hotel / población</th>\n",
    "  </tr>\n",
    "  <tr>\n",
    "    <td style=\"text-align:center\"> Sí </td>\n",
    "    <td style=\"text-align:center\"> Sí </td>\n",
    "    <td style=\"text-align:center\"> Sí </td>\n",
    "    <td style=\"text-align:center\"> - </td>\n",
    "    <td style=\"text-align:center\"> Sí </td>\n",
    "    <td style=\"text-align:center\"> Sí </td>\n",
    "    <td style=\"text-align:center\"> Sí </td>\n",
    "    <td style=\"text-align:center\"> Sí </td>\n",
    "    <td style=\"text-align:center\"> - </td>      \n",
    "  </tr>    \n",
    "</table>"
   ]
  },
  {
   "cell_type": "markdown",
   "metadata": {},
   "source": [
    "<table class=\"determinantes\">\n",
    "  <caption style=\"font-size: 18px;\">Tabla 5: Conglomerados y cadenas de valor</caption>\n",
    "  <tr>\n",
    "    <th>Índice de HH comparado al país</th>\n",
    "    <th>Principal Sector comparado al país</th>\n",
    "    <th>Número de Clusters</th>\n",
    "    <th>Número de Clusters con plan estratégico</th>\n",
    "  </tr>\n",
    "  <tr>\n",
    "    <td style=\"text-align:center\"> Sí </td>\n",
    "    <td style=\"text-align:center\"> Sí </td>\n",
    "    <td style=\"text-align:center\"> - </td>\n",
    "    <td style=\"text-align:center\"> - </td>\n",
    "  </tr>    \n",
    "</table>"
   ]
  },
  {
   "cell_type": "markdown",
   "metadata": {},
   "source": [
    "<table class=\"determinantes\">\n",
    "  <caption style=\"font-size: 18px;\">Tabla 6: Facilitación de Negocios</caption>\n",
    "  <tr>\n",
    "    <th>Composición del Crédito</th>\n",
    "    <th>Número de sucursales bancarias</th>\n",
    "    <th>Puntaje de Comienzo de Negocio</th>\n",
    "    <th>Puntaje de Permisos de Construcción</th>\n",
    "    <th>Puntaje de Registro de propiedad</th>\n",
    "    <th>Puntaje de Cumplimiento de Contratos</th>\n",
    "    <th>Incidencia del Crimen</th>\n",
    "    <th>Regulación del tipo de suelo</th>\n",
    "    <th>Precio del m2 de oficina/depósito/local comercial</th>\n",
    "    <th>Cantidad de Sueldos mensuales promedio necesarios para adquirir una vivienda</th>  \n",
    "    <th>Principales tres obstáculos</th>\n",
    "  </tr>\n",
    "  <tr>\n",
    "    <td style=\"text-align:center\"> - </td>\n",
    "    <td style=\"text-align:center\"> - </td>\n",
    "    <td style=\"text-align:center\"> - </td>\n",
    "    <td style=\"text-align:center\"> - </td>\n",
    "    <td style=\"text-align:center\"> - </td>\n",
    "    <td style=\"text-align:center\"> - </td>\n",
    "    <td style=\"text-align:center\"> Sí </td>\n",
    "    <td style=\"text-align:center\"> - </td>\n",
    "    <td style=\"text-align:center\"> Sí </td>\n",
    "    <td style=\"text-align:center\"> Sí </td>\n",
    "    <td style=\"text-align:center\"> Sí </td>  \n",
    "  </tr>    \n",
    "</table>"
   ]
  },
  {
   "cell_type": "markdown",
   "metadata": {},
   "source": [
    "<h4 style=\"text-align:left\">Conectividad Externa</h4>\n",
    "<div style=\"text-align: justify\">\n",
    "<p style=\"text-align: justify\">Dentro de este grupo de determinantes, se habían seleccionado en el trabajo “Segundo Componente”: Indicador de acceso a mercados, indicador de distancia a puerto más cercano de calidad, indicador de distancia a aeropuerto más cercano de calidad y nuevamente la data de conectividad digital. No se posee información para el indicador de distancia a puerto más cercano.</p>\n",
    "<p style=\"text-align: justify\">La velocidad de conectividad digital de córdoba se encuentra por encima del promedio nacional aunque bastante por debajo del promedio Latinoamericano. De acuerdo a la data proporcionada por <a href=\"https://www.measurementlab.net/\">M-Lab </a>, su velocidad de descarga promedio se encuentra cerca de los 2,8 megabytes por segundo (Mbps), muy por debajo del 6,51 que promedia el continente.</p>\n",
    "<p style='text-align:center'><img src='images/descarga.png'></p>\n",
    "<p style=\"text-align: justify\">En cuanto al indicador de <a href=\"#footnote-2\">acceso a mercados</a>, se obtuvo la cantidad de horas que se necesitan para acceder al 25%, 50%, 75% y 100% de la masa salarial del país en cuestión (gráfico 7). Córdoba se ubica por debajo de los promedios nacionales y regionales en los 4 indicadores, lo que pareciera indicar una buena conectividad con los principales mercados nacionales.</p>\n",
    "</div>"
   ]
  },
  {
   "cell_type": "markdown",
   "metadata": {},
   "source": [
    "<div class=\"container-fluid\" style=\"margin-top:40px\">\n",
    "    <iframe src=\"images/acceso.html\" width=\"90%\" height=\"550\"></iframe>\n",
    "</div>"
   ]
  },
  {
   "cell_type": "markdown",
   "metadata": {},
   "source": [
    "<div style=\"text-align: justify\">\n",
    "<p style='font-size:11px' id=\"footnote-2\">[2] Para construir este indicador tuvieron que realizarse una serie de metodologías. Para empezar, usa como base de ciudades el BEAM, luego se incluyen las ciudades trabajadas por CEDLAS. Al no tener datos sobre masa salarial para todas las ciudades, se procede a construir estimados en base a la población. Sin embargo, tampoco se contaba con la población para todas las ciudades, por lo que se realizó un trabajo manual para completar la base. Una vez que contamos con todas las ciudades, todas las poblaciones, y todas las masas salariales, estimadas y reales, se utlizó la duración de viajes entre ciudades (con tráfico) para calcular cuántes horas se necesitan para alcanzar una cantidad de \"mercados\" (ciudades) que representen el 25%, 50%, 75% y 100% de la masa salarial total del país.</p>\n",
    "</div>"
   ]
  },
  {
   "cell_type": "markdown",
   "metadata": {},
   "source": [
    "<h4 style=\"text-align:left\">Conectividad Interna</h4>\n",
    "<div style=\"text-align: justify\">\n",
    "<p style=\"text-align: justify\">Dentro de este grupo de determinantes, se habían seleccionado en el trabajo “Segundo Componente”: Indicador de accesibilidad de empleos, indicador de tiempo de viaje, indicador de eficiencia de internet y porcentaje de firmas que eligen al transporte como el principal obstáculo. Los primeros dos indicadores serán proporcionados por OMU-CAF, pero no contamos actualmente con ellos.</p>\n",
    "<p style=\"text-align: justify\">En cuanto al porcentaje de firmas que eligen transporte como principal obstáculo, el gráfico 8 muestra una comparación con ciudades que también disponen de dicha variable. Si bien el valor es distintos de cero, el 1,4% de Córdoba se encuentra por debajo del promedio nacional de 1,86%.</p>\n",
    "<p style='text-align:center'><img src='images/big_obs_trans.png'></p> \n",
    "</div>"
   ]
  },
  {
   "cell_type": "markdown",
   "metadata": {},
   "source": [
    "<h4 style=\"text-align:left\">Trabajo y Conocimiento</h4>\n",
    "<div style=\"text-align: justify\">\n",
    "<p style=\"text-align: justify\">Dentro de este grupo de determinantes, se habían seleccionado en el trabajo “Segundo Componente”: Indicadores de informalidad, género, desempleo, NBI, educativos, del porcentaje de firmas que eligen a la inadecuada educación de la fuerza laboral como su principal obstáculo y de cuartos ocupados de hotel / la población.</p>\n",
    "<p style=\"text-align: justify\">En cuanto al principal obstáculo, la educación de la fuerza laboral no pareciera ser un problema para las empresas de la ciudad. Sólo el 2,4% de estas la ubica como el principal obstaculo, contra 3,4% en promedio para Argentina y 10,8% para latinoamérica (gráfico 9).</p>\n",
    "<p style='text-align:center'><img src='images/big_obs_edu.png'></p>\n",
    "</div>"
   ]
  },
  {
   "cell_type": "markdown",
   "metadata": {},
   "source": [
    "<h5><b>Mercado Laboral</b></h5>\n",
    "<div>\n",
    "<p style=\"text-align: justify\">Respecto de los indicadores del mercado laboral, se inicia comparando a la ciudad respecto de su tasa de actividad y tasa de actividad por sexo (gráfico 10). Los valores oscilan entre 60% y 70% y Córdoba se encuentra bastante rezagada con un 61,45%. Las Barras de la derecha muestran la diferencia entre la tasa de actividad masculina menos la tasa de actividad femenina, en cada ciudad. Esos valores oscilan entre 15% y 30%, Córdoba se ubica por debajo del promedio nacional (21,3%) con un 20,6%.</p>\n",
    "</div>"
   ]
  },
  {
   "cell_type": "markdown",
   "metadata": {},
   "source": [
    "<div class=\"container-fluid\" style=\"margin-top:40px\">\n",
    "    <iframe src=\"images/actividad.html\" width=\"80%\" height=\"500\"></iframe>\n",
    "</div>"
   ]
  },
  {
   "cell_type": "markdown",
   "metadata": {},
   "source": [
    "<div>\n",
    "<p style=\"text-align: justify\">El gráfico 11 muestra las tasas de desempleo e informalidad de los trabajadores asalariados (este indicador excluye a los cuentapropistas y patrones). Córdoba posee la tasa de desempleo más alta del grupo con un 12,8%, muy por encima del promedio nacional de 10,3%. Respecto de la informalidad, la ciudad vuelve a ubicarse por encima del valor promedio para las ciudades argentinas: 38,9% contra 34,8%.</p>\n",
    "</div>"
   ]
  },
  {
   "cell_type": "markdown",
   "metadata": {},
   "source": [
    "<div class=\"container-fluid\" style=\"margin-top:40px\">\n",
    "    <iframe src=\"images/desempleo.html\" width=\"80%\" height=\"500\"></iframe>\n",
    "</div>"
   ]
  },
  {
   "cell_type": "markdown",
   "metadata": {},
   "source": [
    "</div>\n",
    "<p style=\"text-align: justify\">Respecto del desempleo según rango etario, el gráfico 12 nos muestra que los valores para Córdoba se encuentran siempre entre los más altos, para los tres rangos etarios: 30,3% para el rango 15-24, 10,1%% para 25-54 y 6,8% para +55. Entre estas ciudades de referencia (incluyendo los promedios), posee la segunda tasa de desempleo más alta tanto para jóvenes como para las edades intermedias.</p>\n",
    "<p style='text-align:center'><img src='images/des_etario.png'></p>\n",
    "</div>"
   ]
  },
  {
   "cell_type": "markdown",
   "metadata": {},
   "source": [
    "<h5><b>Educación</b></h5>\n",
    "<div>\n",
    "<p style=\"text-align: justify\">El gráfico 13 compara el porcentaje de la población con estudios secundarios y superiores terminados. Córdoba persenta valores altos entre las ciudades seleccionadas: se encuentra segundo tanto en educación secundaria como en educación superior, siempre por debajo de Bahía Blanca.</p>\n",
    "</div>"
   ]
  },
  {
   "cell_type": "markdown",
   "metadata": {},
   "source": [
    "<div class=\"container-fluid\" style=\"margin-top:40px\">\n",
    "    <iframe src=\"images/edu1.html\" width=\"80%\" height=\"500\"></iframe>\n",
    "</div>"
   ]
  },
  {
   "cell_type": "markdown",
   "metadata": {},
   "source": [
    "<div>\n",
    "<p style=\"text-align: justify\">El último análisis de esta sección corresponde con la comparación entre el porcentaje de personas de entre 25-35 años con superior terminado y el porcentaje de personas en edad de estudios superiores (18-25 años) que los están cursando actualmente.  San Luis de Potosí y Vitoria, poseen las tasas de educación superior más altas pero a la vez son las únicas ciudades que parecerían no mejorar sus porcentajes de personas con estudios secundarios en un futuro cercano. Córdoba posee el segundo valor más alto del grupo con 36,2%, sólo por debajo de Bahía Blanca.</p>\n",
    "<p style='text-align:center'><img src='images/edu2.png'></p>\n",
    "</div>"
   ]
  },
  {
   "cell_type": "markdown",
   "metadata": {},
   "source": [
    "<h4 style=\"text-align:left\">Conglomerados y Cadenas de Valor</h4>\n",
    "<div style=\"text-align: justify\">\n",
    "<p style=\"text-align: justify\">Dentro de este grupo de determinantes, se habían seleccionado en el trabajo “Segundo Componente”: el índice HH, absoluto y relativo al país, cuánto explica el principal sector y en qué medida se diferencia del promedio del país, y número de clusters, sobre lo que no se obtuvo información.</p>\n",
    "<p style=\"text-align: justify\">En cuanto al nivel de especialización, según los datos de CEDLAS, el sector más importante en términos de empleo es el de Comercio, con un 25,4%. El índice HH indica que Córdoba es una ciudad levemente menos especializada que el promedio del país, como podemos ver en el gráfico 15. Este último intenta mostrar la relación este la epecialización de cada ciudad (relativa al promedio del país) y el salario horario en USD observado. Córdoba parece tener niveles salariales y de especialización bajos al compararla con el resto de las ciudades argentinas.</p>\n",
    "<p style='text-align:center'><img src='images/hh_salario.png'></p>\n",
    "<p style=\"text-align: justify\">Al observar la composición del empleo y la masa salarial en el gráfico 16, vemos que Córdoba tiene valores más altos en empleo (5,8%) y masa salarial (6,7%) de \"Resto de Industrias\" que los promedios (nacional y latinoamericano). Junto con Bahía Blanca, representan a las ciudades argentinas que mayores proporciones en este segmento muestran. El otro punto alto para Córdobo tiene q ver con el sector \"Bancos\": posee los niveles más altos de empleo y masa salarial de la Argentina con 12,8% y 14,6% respectivamente.</p>\n",
    "</div>"
   ]
  },
  {
   "cell_type": "markdown",
   "metadata": {},
   "source": [
    "<div class=\"container-fluid\" style=\"margin-top:40px\">\n",
    "    <iframe src=\"images/empleoymasasalarial.html\" width=\"100%\" height=\"750\"></iframe>\n",
    "</div>"
   ]
  },
  {
   "cell_type": "markdown",
   "metadata": {},
   "source": [
    "<div>\n",
    "<p style=\"text-align: justify\">Los gráficos 17.A y 17.B intentan hacer una comparación de los salarios promedio de cada sector económico entre Córdba y el resto de las ciudades de referencia. El gráfico 17.A muestra los salarios promedio de todos los sectores para todas las ciudades de interés, mientras que el gráfico 17.B (interactivo) permite indagar con mejor precisión en las diferencias que resultan de interés. Excepto por los sectores de \"Resto de la Industria Manufacturera\" y \"Administración Pública\", los salarios de la ciudad casi siempre se ubican cerca los valores promedio para las ciudades seleccionadas.</p>\n",
    "    <p style='text-align:center'><img src='images/salarios.png'></p>\n",
    "</div>"
   ]
  },
  {
   "cell_type": "markdown",
   "metadata": {},
   "source": [
    "<div class=\"container-fluid\" style=\"margin-top:40px\">\n",
    "    <iframe src=\"images/wages.html\" width=\"80%\" height=\"550\"></iframe>\n",
    "</div>"
   ]
  },
  {
   "cell_type": "markdown",
   "metadata": {},
   "source": [
    "<h4 style=\"text-align:left\">Facilitación de Negocios</h4>\n",
    "<div style=\"text-align: justify\">\n",
    "<p style=\"text-align: justify\">Dentro de este grupo de determinantes, se habían seleccionado en el trabajo “Segundo Componente”: Composición del crédito, número de sucursales bancarias, una serie de indicadores del Banco Mundial, puntaje de comienzo de negocio, puntaje de manejo de permisos de construcción, puntaje de registro de propiedad, puntaje de cumplimiento de contratos, incidencia del crimen, regulación del tipo de suelo y precio del metro cuadrado de distintos tipos de propiedades. De los anteriores, sólo contamos con la Incidencia del Crimen y los precios de m2 de propiedades comerciales.</p>\n",
    "</div>"
   ]
  },
  {
   "cell_type": "markdown",
   "metadata": {},
   "source": [
    "<div>\n",
    "<p style=\"text-align: justify\">El siguiente indicador corresponde a la incidencia del crimen y la variable elegida tiene que ver con la tasa de homicidios por ciudad. Estos datos corresponden a las tasas de homicidios por ciudad en 2016. En el caso de Colombia, estas cifras se obtuvieron de la<a href=\"http://www.ideaspaz.org/especiales/data-fip/homicidios/index.html\"> Fundación Ideas para la Paz</a>, en el caso de Argentina los valores provienen <a href=\"https://www.argentina.gob.ar/seguridad/estadisticascriminales/bases-de-datos\">del gobierno nacional</a> y en el caso de Brasil estas surgen del <a href=\"https://www.ipea.gov.br/atlasviolencia/filtros-series/1/homicidios\">Instituto de Pesquisa Econômica Aplicada</a>. Se calcularon las tasas de homicidio cada 100.000 habitantes para el año 2016 en las ciudades de referencia para las cuáles poseemos información. El gráfico 18 muestra dicho indicador, en dónde se observa que Córdoba se encuentra cerca del promedio.</p>\n",
    "<p style='text-align:center'><img src='images/homicidios.png'></p>\n",
    "</div>"
   ]
  },
  {
   "cell_type": "markdown",
   "metadata": {},
   "source": [
    "<div>\n",
    "<p style=\"text-align: justify\">Para analizar los precios de las propiedades comerciales, se toma la base de datos de <a href=\"https://www.properati.com.ar/data/\">properati data</a>, la división de datos de la compañia de <i>analytics de Real Estate</i> en Latam. Estas corresponden a una base de todas las propiedades listadas para alquiler o venta en Colombia durante un periodo de 6 meses que va desde Julio a Diciembre de 2020. Se tomaron sólo las propiedades comerciales listadas para la venta: depósitos, locales comerciales u oficinas. Además, sólo se consideraron los avisos publicados en USD, exceptuando a Colombia, en dónde además se tomaron los publicados en Pesos Colombianos.</p>\n",
    "<p style=\"text-align: justify\">Posteriormente, se calcularon los precios de venta en USD por metro cuadrado (promedio), para cada tipo de propiedad, para todas las ciudades de interés. El gráfico 19 muestra los valores calculados. Córdoba pareciera tener precios por metro cuadrado bajos tanto para depósitos como locales comerciales. Sin embargo, el precio promedio del metro cuadrado de oficina es el segundo más alto de entre las ciudades de referencia con USD 2.278, superado sólo por el promedio de las ciudades de Uruguay.</p>\n",
    "</div>"
   ]
  },
  {
   "cell_type": "markdown",
   "metadata": {},
   "source": [
    "<div class=\"container-fluid\" style=\"margin-top:40px\">\n",
    "    <iframe src=\"images/prope.html\" width=\"80%\" height=\"500\"></iframe>\n",
    "</div>"
   ]
  },
  {
   "cell_type": "markdown",
   "metadata": {},
   "source": [
    "Para comparar los salarios con los pecios de las viviendas, se toman las publicaciones de venta de Casas y Departamentos duante el mismo periodo que para las propiedades comerciales. En este caso, en vez de calcular precios promedio por metro cuadrado para cada tipo de propiedad, se calcularon los precios promedio de publicación para cada tipo de vivienda para cada ciudad. Luego, se estimó un salario mensual para cada ciudad, asumiendo jornadas semanales de 40 hs iguales para todas las ciudades. Por último, se calculó cuántos salarios se necesitan para adquirir una Casa o un Departamento en cada ciudad. Los resultados pueden observarse en el gráfico 20."
   ]
  },
  {
   "cell_type": "markdown",
   "metadata": {},
   "source": [
    "<div class=\"container-fluid\" style=\"margin-top:40px\">\n",
    "    <iframe src=\"images/vivienda.html\" width=\"80%\" height=\"500\"></iframe>\n",
    "</div>"
   ]
  },
  {
   "cell_type": "markdown",
   "metadata": {},
   "source": [
    "<div>\n",
    "<p style=\"text-align: justify\">El último indicador para el cuál se posee información corresponde a los tres principales obstaculos que surgen de las <i>World Bank's Enterprise Surveys</i>. El gráfico 21 muestra el porcentaje del total de respuestas que eligen dicho obstáculo como el principal problema de la ciudad en términos de la facilitación de negocios. La presión tributaria, las regulaciones laborales y la inestabilidad política aparecen como los principales obstaculos para las negocios.</p>\n",
    "    <p style='text-align:center'><img src='images/biggest_obs.png'></p>\n",
    "</div>"
   ]
  }
 ],
 "metadata": {
  "kernelspec": {
   "display_name": "Python 3",
   "language": "python",
   "name": "python3"
  },
  "language_info": {
   "codemirror_mode": {
    "name": "ipython",
    "version": 3
   },
   "file_extension": ".py",
   "mimetype": "text/x-python",
   "name": "python",
   "nbconvert_exporter": "python",
   "pygments_lexer": "ipython3",
   "version": "3.7.8"
  }
 },
 "nbformat": 4,
 "nbformat_minor": 4
}
