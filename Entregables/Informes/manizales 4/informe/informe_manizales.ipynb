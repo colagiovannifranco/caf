{
 "cells": [
  {
   "cell_type": "markdown",
   "metadata": {},
   "source": [
    "<div style=\"overflow: hidden;\">\n",
    "   <div id=\"J\" style=\"float:left; width: 50%;\">\n",
    "      <img width=\"450\" height=\"500\" src=\"images/1.jpg\">\n",
    "   </div>\n",
    "   <div id=\"H\" style=\"float: left; width: 50%;\">\n",
    "      <div>\n",
    "          <h1 style='text-align:right'><b>Perfil productivo Manizales, Caldas</b></h1>\n",
    "      </div>\n",
    "      <div>\n",
    "         <h2 style='text-align:right'>Introducción y contexto</h2>\n",
    "         <p style='text-align:justify'><a style='font-weight:bold'>Manizales es una ciudad de la región cafetera de Colombia, capital del departamento de Caldas, ubicada en el centro-occidente del país.</a> Su altitud promedio es de 2.160 mts sobre el nivel del mar y su área metropolitana poseía en 2018 586.905 habitantes. La ciudad se ha dedicado históricamente a la producción de café, aunque su tejido productivo se vió diversificado hacia otras industrias de manufacturas.</p>\n",
    "      </div>\n",
    "   </div>\n",
    "</div>\n"
   ]
  },
  {
   "cell_type": "markdown",
   "metadata": {},
   "source": [
    "<h3 style=\"text-align:left\">Ciudades de Referencia</h3>\n",
    "<div style=\"text-align: justify\">\n",
    "<p style=\"text-align: justify\">A modo de referencia, se comporarán los resultados para Manizales con diversas ciudadades Colombianas, de diferentes regiones, tamaños y principales actividades económicas. Por un lado se seleccionaron otras ciudades de la región \"cafetera\" de Colombia, que incluye a Pereira, Ibagué y Medellin, así como ciudades de poblaciones similares que presentan composiciones de actividad diferentes: Villavicencio y Montería. Se agrega un grupo de ciudades de Brasil, Argentina y México que muestran similitudes en su cercanía a grandes mercados en menos de 8 horas de automóvil: Gran Resistencia, Aracajú y Morelia. En los casos en los que sea conveniente, se cambiará la composición de las ciudades de referencia. La tabla 1 muestra los principales indicadores de este grupo de ciudades.</p>\n",
    "</div>"
   ]
  },
  {
   "cell_type": "markdown",
   "metadata": {},
   "source": [
    "<table border=\"1\" class=\"dataframe\">\n",
    "<caption style=\"font-size: 18px;\">Tabla 1: Principales indicadores</caption>\n",
    "<thead>\n",
    "<tr style=\"text-align: right;\">\n",
    "<th></th>\n",
    "<th></th>\n",
    "<th>Población estimada (millones)</th>\n",
    "<th>Salario Horario (PPP 2011)</th>\n",
    "<th>Tasa de Desempleo Total</th>\n",
    "<th>% población con secundario completo Total</th>\n",
    "<th>Masa Salarial como proporción del país</th>\n",
    "<th>Proporción de la masa salarial del país a la que se accede en &lt; 9 hs</th>\n",
    "<th>Ratio Agro</th>\n",
    "<th>Ratio Baja Tec</th>\n",
    "<th>Ratio Resto Ind</th>\n",
    "</tr>\n",
    "<tr>\n",
    "<th>Country</th>\n",
    "<th>City</th>\n",
    "<th></th>\n",
    "<th></th>\n",
    "<th></th>\n",
    "<th></th>\n",
    "<th></th>\n",
    "<th></th>\n",
    "<th></th>\n",
    "<th></th>\n",
    "<th></th>\n",
    "</tr>\n",
    "</thead>\n",
    "<tbody>\n",
    "<tr>\n",
    "<th>Argentina</th>\n",
    "<th>Gran Resistencia</th>\n",
    "<td>0.29</td>\n",
    "<td>3.77</td>\n",
    "<td>1.61</td>\n",
    "<td>43.13</td>\n",
    "<td>0.01</td>\n",
    "<td>0.12</td>\n",
    "<td>0.21</td>\n",
    "<td>0.57</td>\n",
    "<td>0.34</td>\n",
    "</tr>\n",
    "<tr>\n",
    "<th>Brasil</th>\n",
    "<th>Aracaju</th>\n",
    "<td>0.62</td>\n",
    "<td>4.43</td>\n",
    "<td>16.10</td>\n",
    "<td>36.91</td>\n",
    "<td>0.01</td>\n",
    "<td>0.10</td>\n",
    "<td>1.32</td>\n",
    "<td>0.74</td>\n",
    "<td>0.57</td>\n",
    "</tr>\n",
    "<tr>\n",
    "<th rowspan=\"6\" valign=\"top\">Colombia</th>\n",
    "<th>Ibague</th>\n",
    "<td>0.53</td>\n",
    "<td>3.16</td>\n",
    "<td>12.09</td>\n",
    "<td>38.10</td>\n",
    "<td>0.01</td>\n",
    "<td>0.81</td>\n",
    "<td>0.94</td>\n",
    "<td>1.55</td>\n",
    "<td>0.91</td>\n",
    "</tr>\n",
    "<tr style=\"background-color:#FFEBCD\">\n",
    "<th>Manizales</th>\n",
    "<td>0.43</td>\n",
    "<td>3.19</td>\n",
    "<td>6.76</td>\n",
    "<td>39.31</td>\n",
    "<td>0.01</td>\n",
    "<td>0.81</td>\n",
    "<td>0.77</td>\n",
    "<td>1.34</td>\n",
    "<td>1.64</td>\n",
    "</tr>\n",
    "<tr>\n",
    "<th>Pereira</th>\n",
    "<td>0.59</td>\n",
    "<td>3.29</td>\n",
    "<td>7.64</td>\n",
    "<td>37.53</td>\n",
    "<td>0.02</td>\n",
    "<td>0.78</td>\n",
    "<td>1.02</td>\n",
    "<td>1.45</td>\n",
    "<td>1.16</td>\n",
    "</tr>\n",
    "<tr>\n",
    "<th>Medellin</th>\n",
    "<td>2.43</td>\n",
    "<td>3.55</td>\n",
    "<td>13.90</td>\n",
    "<td>39.63</td>\n",
    "<td>0.11</td>\n",
    "<td>0.80</td>\n",
    "<td>0.56</td>\n",
    "<td>1.91</td>\n",
    "<td>1.79</td>\n",
    "</tr>\n",
    "<tr>\n",
    "<th>Villavicencio</th>\n",
    "<td>0.53</td>\n",
    "<td>3.61</td>\n",
    "<td>8.24</td>\n",
    "<td>40.84</td>\n",
    "<td>0.02</td>\n",
    "<td>0.56</td>\n",
    "<td>1.53</td>\n",
    "<td>0.81</td>\n",
    "<td>0.65</td>\n",
    "</tr>\n",
    "<tr>\n",
    "<th>Monteria</th>\n",
    "<td>0.46</td>\n",
    "<td>4.07</td>\n",
    "<td>10.99</td>\n",
    "<td>42.43</td>\n",
    "<td>0.01</td>\n",
    "<td>0.25</td>\n",
    "<td>1.09</td>\n",
    "<td>0.82</td>\n",
    "<td>0.71</td>\n",
    "</tr>\n",
    "<tr>\n",
    "<th>Mexico</th>\n",
    "<th>Morelia</th>\n",
    "<td>0.60</td>\n",
    "<td>3.96</td>\n",
    "<td>5.40</td>\n",
    "<td>34.89</td>\n",
    "<td>0.01</td>\n",
    "<td>0.74</td>\n",
    "<td>0.16</td>\n",
    "<td>0.66</td>\n",
    "<td>0.50</td>\n",
    "</tr>\n",
    "</tbody>\n",
    "</table>"
   ]
  },
  {
   "cell_type": "markdown",
   "metadata": {},
   "source": [
    "<h3 style=\"text-align:left\">Población baja, Salarios Bajos</h3>\n",
    "<div style=\"text-align: justify\">\n",
    "<p style=\"text-align: justify\">Manizales tiene una población de 434.000 habitantes, mientras que su área metropolitana se compone de 586.000 personas. Dentro de la muestra incial de 26 ciudades colombianas para las cuáles se posee información, Manizales se encuentra en el puesto número 16 del ranking poblacional.</p>\n",
    "<p style=\"text-align: justify\">El salario horario (calculado a partir del salario estimado por CEDLAS para cada sector de la economía) se estima en 3,2 dólares por hora, un 13% menos que el promedio del país (3,7 dólares por hora).</p>\n",
    "    <p style='text-align:center'><img src='images/wyp.png'></p>\n",
    "</div>"
   ]
  },
  {
   "cell_type": "markdown",
   "metadata": {},
   "source": [
    "<h3 style=\"text-align:left\">Salario Esperado (según actividades) vs Salario Observado</h3>\n",
    "<div style=\"text-align: justify\">\n",
    "<p style=\"text-align: justify\">Un punto interesante del análisis es la relación que existe entre<a href='#footnote-1'> el salario observado, y el salario que uno esperaría ver en la ciudad, en base a su composición de actividades económicas</a>, (llamado <i>Salario Estimado</i>). Manizales tiene un salario estimado algo más alto que su salario observado (gráfico 3). El salario observado está por encima (7,7%) de lo que se esperaría acorde a su composición productiva. En otras palabras, si los salarios de cada sector económico de Manizales fueran iguales a los promedios nacionales, la ciudad debería poseer un salario promedio (ponderado) más bajo que el que efectivamente posee. Además, el gráfico 3 incorpora información respecto de cuál es el sector que posee mayor masa salarial de entre los tres sectores de mayor interés (Agro/Materias Primas, Industrias de Baja Tecnología y Resto de las Industrias). Los colores de los puntos se determinan a partir del sector que presenta la mayor masa salarial de entre los tres principales en la ciudad. Se intenta así divisar si existe alguna relación entre los principales tres sectores estudiados y la <i>brecha salarial observado vs estimado</i>, aunque en este caso no pareciera haber correlación.</p>\n",
    "</div>"
   ]
  },
  {
   "cell_type": "markdown",
   "metadata": {},
   "source": [
    "<div class=\"container-fluid\" style=\"margin-top:40px\">\n",
    "    <iframe src=\"images/estimado_vs_observado.html\" width=\"60%\" height=\"550\"></iframe>\n",
    "</div>"
   ]
  },
  {
   "cell_type": "markdown",
   "metadata": {},
   "source": [
    "<div style=\"text-align: justify\">\n",
    "<p style='font-size:11px' id=\"footnote-1\">[1] El salario observado resulta de calcular el promedio entre los salarios de cada actividad económica en la ciudad analizada, ponderados por el porcentaje de empleo que cada sector posee en el total de la ciudad. En el caso del salario estimado, se toman los salarios promedio del país para cada sector, ponderandolós por el share de cada sector en el empleo de la ciudad estudiada. Esto nos permite comparar los salarios sectoriales de la ciudad contra los promedios nacionales, incorporando la composición de empleo de la ciudad en cuestión.</p>\n",
    "<p style='font-size:11px'>Los colores de los puntos se corresponden con los sectores \"principales\" que presentan la mayor proporción de masa salarial sobre el total de cada ciudad. Las mencionadas actividades \"principales\" incluyen al Agro y otras actividades primarias, a las Industrias de Baja Tecnología y al Resto de la Industria Manufacturera. El color del punto implica que dicho sector presenta la mayor masa salarial en esa ciudad, entre los tres sectores mencionados (podría suceder que exista otro sector que presente mayor masa salarial en la ciudad pero no resulta un sector de interés para este análisis).</p>    \n",
    "</div>"
   ]
  },
  {
   "cell_type": "markdown",
   "metadata": {},
   "source": [
    "<h3 style=\"text-align:left\">Empleo y Masa Salarial por Actividad</h3>\n",
    "<div style=\"text-align: justify\">\n",
    "<p style=\"text-align: justify\">El gráfico 4 muestra las proporciones de masa salarial y empleo según actividad para Manizales. Los sectres que presentan valores llamativos son \"Comercio\" y \"Educación y Salud\". El sector de comercio reduce su participación de empleo a masa salarial, dando a entender que el sector tiene salarios menores al resto de las actividades. El sector de \"Educación y Salud\" presenta el caso opuesto: los salarios deberían ser mayores en este sector que en el resto.</p>\n",
    "<p style='text-align:center'><img src='images/wm_sectores.png'></p>\n",
    "</div>"
   ]
  },
  {
   "cell_type": "markdown",
   "metadata": {},
   "source": [
    "<h3 style=\"text-align:left\">Distribución de Empleo</h3>\n",
    "<div style=\"text-align: justify\">\n",
    "<p style=\"text-align: justify\">El gráfico 5 muestra la distribución del empleo por ciudad. Manizales posee un porcentaje bajo de asalariados (públicos más privados) con un 36,5%. Sin embargo, el gráfico muestra que los valores para muchas otras ciudades colombianas son incluso inferiores, dejando en evidencia que lo anterior podría ser una característica común en muchas ciudades del país.</p>\n",
    "    <p style='text-align:center'><img src='images/empleo_dist.png'></p>\n",
    "</div>"
   ]
  },
  {
   "cell_type": "markdown",
   "metadata": {},
   "source": [
    "<h3 style=\"text-align:left\">Determinantes de la productividad</h3>\n",
    "<div style=\"text-align: justify\">\n",
    "<p style=\"text-align: justify\">Se realizará entonces un trabajo de identificación, obtención de datos y construcción de indicadores, utilizando como marco téorico “Determinantes de la Productividad en las Ciudades y Políticas Públicas para su Mejora”, de Guillermo Alves y Pablo López (2020). Se comparará a Manizales con un grupo de ciudades de población similar, así como también con resultados del promedio de Colombia. La totalidad de los indicadores deseables no han sido capturados, las tablas 2 a 6 resumen los indicadores con los que contamos y los faltantes.</p>\n",
    "</div>"
   ]
  },
  {
   "cell_type": "markdown",
   "metadata": {},
   "source": [
    "<h4 style=\"text-align:left\"> Disponibilidad de Indicadores Seleccionados </h4>"
   ]
  },
  {
   "cell_type": "markdown",
   "metadata": {},
   "source": [
    "<table class=\"determinantes\">\n",
    "  <caption style=\"font-size: 18px;\">Tabla 2: Conectividad Externa</caption>\n",
    "  <tr>\n",
    "    <th>Acceso a Mercados</th>\n",
    "    <th>Distancia a Puerto</th>\n",
    "    <th>Distancia a Aeropuerto</th>\n",
    "    <th>Índice de eficiencia de Internet</th>\n",
    "  </tr>\n",
    "  <tr>\n",
    "    <td style=\"text-align:center\"> Sí </td>\n",
    "    <td style=\"text-align:center\"> - </td>\n",
    "    <td style=\"text-align:center\"> - </td>\n",
    "    <td style=\"text-align:center\"> Sí </td>\n",
    "  </tr>    \n",
    "</table>"
   ]
  },
  {
   "cell_type": "markdown",
   "metadata": {},
   "source": [
    "<table class=\"determinantes\">\n",
    "  <caption style=\"font-size: 18px;\">Tabla 3: Conectividad Interna</caption>\n",
    "  <tr>\n",
    "    <th>Accesibilidad</th>\n",
    "    <th>Tiempo de viaje</th>\n",
    "    <th>Índice de Eficiencia de internet</th>\n",
    "    <th>% de firmas que eligen transporte como principal obstáculo</th>\n",
    "  </tr>\n",
    "  <tr>\n",
    "    <td style=\"text-align:center\"> - </td>\n",
    "    <td style=\"text-align:center\"> - </td>\n",
    "    <td style=\"text-align:center\"> Sí </td>\n",
    "    <td style=\"text-align:center\"> - </td>\n",
    "  </tr>    \n",
    "</table>"
   ]
  },
  {
   "cell_type": "markdown",
   "metadata": {},
   "source": [
    "<table class=\"determinantes\">\n",
    "  <caption style=\"font-size: 18px;\">Tabla 4: Trabajo y Conocimiento</caption>\n",
    "  <tr>\n",
    "    <th>Informalidad</th>\n",
    "    <th>Género</th>\n",
    "    <th>Desempleo</th>\n",
    "    <th>Necesidades Básicas insatisfechas</th>\n",
    "    <th>% de pob. con secundario completo</th>\n",
    "    <th>% de pob. estudiando terciario</th>\n",
    "    <th>% de pob. con terciario completo</th>\n",
    "    <th>% de firmas que eligen educación como principal obstáculo</th>\n",
    "    <th>Cuartos ocupados de hotel / población</th>\n",
    "  </tr>\n",
    "  <tr>\n",
    "    <td style=\"text-align:center\"> Sí </td>\n",
    "    <td style=\"text-align:center\"> Sí </td>\n",
    "    <td style=\"text-align:center\"> Sí </td>\n",
    "    <td style=\"text-align:center\"> - </td>\n",
    "    <td style=\"text-align:center\"> Sí </td>\n",
    "    <td style=\"text-align:center\"> Sí </td>\n",
    "    <td style=\"text-align:center\"> Sí </td>\n",
    "    <td style=\"text-align:center\"> - </td>\n",
    "    <td style=\"text-align:center\"> - </td>      \n",
    "  </tr>    \n",
    "</table>"
   ]
  },
  {
   "cell_type": "markdown",
   "metadata": {},
   "source": [
    "<table class=\"determinantes\">\n",
    "  <caption style=\"font-size: 18px;\">Tabla 5: Conglomerados y cadenas de valor</caption>\n",
    "  <tr>\n",
    "    <th>Índice de HH comparado al país</th>\n",
    "    <th>Principal Sector comparado al país</th>\n",
    "    <th>Número de Clusters</th>\n",
    "    <th>Número de Clusters con plan estratégico</th>\n",
    "  </tr>\n",
    "  <tr>\n",
    "    <td style=\"text-align:center\"> Sí </td>\n",
    "    <td style=\"text-align:center\"> Sí </td>\n",
    "    <td style=\"text-align:center\"> - </td>\n",
    "    <td style=\"text-align:center\"> - </td>\n",
    "  </tr>    \n",
    "</table>"
   ]
  },
  {
   "cell_type": "markdown",
   "metadata": {},
   "source": [
    "<table class=\"determinantes\">\n",
    "  <caption style=\"font-size: 18px;\">Tabla 6: Facilitación de Negocios</caption>\n",
    "  <tr>\n",
    "    <th>Composición del Crédito</th>\n",
    "    <th>Número de sucursales bancarias</th>\n",
    "    <th>Puntaje de Comienzo de Negocio</th>\n",
    "    <th>Puntaje de Permisos de Construcción</th>\n",
    "    <th>Puntaje de Registro de propiedad</th>\n",
    "    <th>Puntaje de Cumplimiento de Contratos</th>\n",
    "    <th>Incidencia del Crimen</th>\n",
    "    <th>Regulación del tipo de suelo</th>\n",
    "    <th>Precio del m2 de oficina/depósito/local comercial</th>\n",
    "    <th>Cantidad de Sueldos mensuales promedio necesarios para adquirir una vivienda</th>  \n",
    "    <th>Principales tres obstáculos</th>\n",
    "  </tr>\n",
    "  <tr>\n",
    "    <td style=\"text-align:center\"> - </td>\n",
    "    <td style=\"text-align:center\"> - </td>\n",
    "    <td style=\"text-align:center\"> Sí </td>\n",
    "    <td style=\"text-align:center\"> Sí </td>\n",
    "    <td style=\"text-align:center\"> Sí </td>\n",
    "    <td style=\"text-align:center\"> - </td>\n",
    "    <td style=\"text-align:center\"> Sí </td>\n",
    "    <td style=\"text-align:center\"> - </td>\n",
    "    <td style=\"text-align:center\"> Sí </td>\n",
    "    <td style=\"text-align:center\"> Sí </td>\n",
    "    <td style=\"text-align:center\"> - </td>  \n",
    "  </tr>    \n",
    "</table>"
   ]
  },
  {
   "cell_type": "markdown",
   "metadata": {},
   "source": [
    "<h4 style=\"text-align:left\">Conectividad Interna</h4>\n",
    "<div style=\"text-align: justify\">\n",
    "<p style=\"text-align: justify\">Dentro de este grupo de determinantes, se habían seleccionado en el trabajo “Segundo Componente”: Indicador de accesibilidad de empleos, indicador de tiempo de viaje, indicador de eficiencia de internet y porcentaje de firmas que eligen al transporte como el principal obstáculo. Los primeros dos indicadores serán proporcionados por OMU-CAF, pero no contamos actualmente con ellos. En cuanto al porcentaje de firmas que eligen transporte como principal obstáculo, para la ciudad estudiada no hay dato. En Colombia, en promedio, solo el 1,9% de las firmas eligen este tipo de problema como el principal (año 2017). El valor promedio para Latinomérica es de 2,2% (se calcula como promedio simple de las encuestas de los países de latinoamérica disponibles, aún cuando el año de la encuesta difiere para cada país).</p>\n",
    "<p style=\"text-align: justify\">En cuanto a la velocidad de conectividad digital, la ciudad de Manizales se encuentra muy por encima tanto del promedio para Colombia como para toda Latinoamérica. De acuerdo a la data proporcionada por <a href=\"https://www.measurementlab.net/\">M-Lab </a>, su velocidad de descarga promedio se encuentra cerca de los 6 megabytes por segundo (Mbps), por encima de casi todas las demás ciudades colombianas comparables (gráfico 6). El promedio de la región es de 5 Mbps y el del país es cercano a 4 Mbps.</p>\n",
    "<p style='text-align:center'><img src='images/descarga.png'></p>\n",
    "</div>"
   ]
  },
  {
   "cell_type": "markdown",
   "metadata": {},
   "source": [
    "<h4 style=\"text-align:left\">Conectividad Externa</h4>\n",
    "<div style=\"text-align: justify\">\n",
    "<p style=\"text-align: justify\">Dentro de este grupo de determinantes, se habían seleccionado en el trabajo “Segundo Componente”: Indicador de acceso a mercados, indicador de distancia a puerto más cercano de calidad, indicador de distancia a aeropuerto más cercano de calidad y nuevamente la data de conectividad digital, ya expuesta en la sección anterior. El departamento de  Caldas no cuenta con puertos ya que no posee litoral marítimo. La ciudad se encuentra a 300 km (6 horas en automóvil aproximadamente) del puerto de Buenaventura (océano pacífico), el segundo puerto  de Colombia según <a href=\"https://www.cepal.org/sites/default/files/news/files/actividad_portuaria_2018.pdf\"><i>throughput</i></a> anual. Respecto de los puertos atlánticos, el más cercano es el de Cartagena (el principal puerto de país según <i>throughput</i>, que se encuentra a más de 800 km de distancia.</p>\n",
    "<p style=\"text-align: justify\">En cuanto al indicador de <a href=\"#footnote-2\">acceso a mercados</a>, se obtuvo la cantidad de horas que se necesitan para acceder a distintos porcentajes de la masa salarial del país en cuestión (gráfico 7). Manizales se ubica por debajo de los promedios nacionales y regionales, lo que pareciera indicar una buena conectividad con los principales mercados nacionales.</p>\n",
    "</div>"
   ]
  },
  {
   "cell_type": "markdown",
   "metadata": {},
   "source": [
    "<div class=\"container-fluid\" style=\"margin-top:40px\">\n",
    "    <iframe src=\"images/accesoII.html\" width=\"90%\" height=\"550\"></iframe>\n",
    "</div>"
   ]
  },
  {
   "cell_type": "markdown",
   "metadata": {},
   "source": [
    "<p style=\"text-align:justify\">En cuanto a acceso a aeropuertos, a menos de 9 km. al sudeste de la ciudad de Manizales se encuentra el Aeropuerto La Nubia, el cual no cuenta con vuelos internacionales. Debido a la limitada longitud de la pista, el aueropuerto sólo recibe aviones propulsados por turbohélice, lo que limita el tamaño de las aeronaves.</p>"
   ]
  },
  {
   "cell_type": "markdown",
   "metadata": {},
   "source": [
    "<div style=\"text-align: justify\">\n",
    "<p style='font-size:11px' id=\"footnote-2\">[2] Para construir este indicador tuvieron que realizarse una serie de metodologías. Para empezar, usa como base de ciudades el BEAM, luego se incluyen las ciudades trabajadas por CEDLAS. Al no tener datos sobre masa salarial para todas las ciudades, se procede a construir estimados en base a la población. Sin embargo, tampoco se contaba con la población para todas las ciudades, por lo que se realizó un trabajo manual para completar la base. Una vez que contamos con todas las ciudades, todas las poblaciones, y todas las masas salariales, estimadas y reales, se utlizó la duración de viajes entre ciudades (con tráfico) para calcular cuántes horas se necesitan para alcanzar una cantidad de \"mercados\" (ciudades) que representen el los porcentajes de la masa salarial total del país.</p>\n",
    "</div>"
   ]
  },
  {
   "cell_type": "markdown",
   "metadata": {},
   "source": [
    "<h4 style=\"text-align:left\">Trabajo y Conocimiento</h4>\n",
    "<div style=\"text-align: justify\">\n",
    "<p style=\"text-align: justify\">Dentro de este grupo de determinantes, se habían seleccionado en el trabajo “Segundo Componente”: Indicadores de informalidad, género, desempleo, NBI, educativos, del porcentaje de firmas que eligen a la inadecuada educación de la fuerza laboral como su principal obstáculo y de cuartos ocupados de hotel / la población.</p>\n",
    "<p style=\"text-align: justify\">En cuanto al principal obstáculo, de nuevo, la ciudad no fue incluída en el <i>Enterprise Surveys</i>. Aún así, las firmas del país no destacan a la \"fuerza laboral inadecuadamente educada\" como un problema relevante. El 7.7% de las firmas en promedio menciona la educación de su fuerza laboral como el principal obstáculo. De las ciudades Colombianas que sí están presentes en el <i>Survey</i>, Cartagena presenta el valor más alto, con un  17.7% de firmas mencionándola como su principal problema.</p>\n",
    "</div>"
   ]
  },
  {
   "cell_type": "markdown",
   "metadata": {},
   "source": [
    "<h5><b>Mercado Laboral</b></h5>\n",
    "<div>\n",
    "<p style=\"text-align: justify\">Respecto de los indicadores del mercado laboral, se inicia comparando a la ciudad respecto de su tasa de actividad y tasa de actividad por sexo (gráfico 8). Los valores oscilan entre 60% y 70% y Manizales se encuentra bastante rezagada con un 63,25%. Las Barras de la derecha muestran la diferencia entre la tasa de actividad masculina menos la tasa de actividad femenina, en cada ciudad. Esos valores oscilan entre 15% y 25%. Nuevamente, Manizales se encuentra rezagada en este grupo con un 24,21%.</p>\n",
    "</div>"
   ]
  },
  {
   "cell_type": "markdown",
   "metadata": {},
   "source": [
    "<div class=\"container-fluid\" style=\"margin-top:40px\">\n",
    "    <iframe src=\"images/actividad.html\" width=\"80%\" height=\"500\"></iframe>\n",
    "</div>"
   ]
  },
  {
   "cell_type": "markdown",
   "metadata": {},
   "source": [
    "<div>\n",
    "<p style=\"text-align: justify\">El gráfico 9 muestra las tasas de desempleo e informalidad de los trabajadores asalariados (este indicador excluye a los cuentapropistas y patrones). Manizales posee tasas relativamente bajas: un desempleo del 6,76% y una informalidad del 27,92%, encontrándose siempre por debajo tanto del promedio de Colombia como de Latinoamérica. Queda por remarcar que si bien la informalidad promedio en Colombia en bastante más baja que el promedio para la región (29,6% vs 38,8%), el desempleo se encuentra bastante por arriba (10,5% vs 7,5%).</p>\n",
    "</div>"
   ]
  },
  {
   "cell_type": "markdown",
   "metadata": {},
   "source": [
    "<div class=\"container-fluid\" style=\"margin-top:40px\">\n",
    "    <iframe src=\"images/desempleo.html\" width=\"80%\" height=\"500\"></iframe>\n",
    "</div>"
   ]
  },
  {
   "cell_type": "markdown",
   "metadata": {},
   "source": [
    "<div>\n",
    "<p style=\"text-align: justify\">Respecto del desempleo según rango etario, el gráfico 10 nos muestra que Manizales se encuentra bastante por debajo de los promedios del país y la región: 14,8% para el rango 15-24, 6,2% para 25-54 y 1,9% para +55.</p>\n",
    "<p style='text-align:center'><img src='images/des_etario.png'></p>\n",
    "</div>"
   ]
  },
  {
   "cell_type": "markdown",
   "metadata": {},
   "source": [
    "<h5><b>Educación</b></h5>\n",
    "<div>\n",
    "<p style=\"text-align: justify\">El gráfico 11 compara el porcentaje de la población con estudios secundarios y superiores terminados. Manizales se encuentra por debajo del promedio colombiano en porcentaje de población con secundario terminado, estando por debajo del 40%. Lo mismo sucede con la educación superior, dónde es la tercer peor ciudad del grupo con sólo un 7,8% de la población con estudios superiores terminados. El promedio para Colombia se encuentra bastante bien en secundario terminado (44%), aunque no así estudios superiores (10,9%).</p>\n",
    "</div>"
   ]
  },
  {
   "cell_type": "markdown",
   "metadata": {},
   "source": [
    "<div class=\"container-fluid\" style=\"margin-top:40px\">\n",
    "    <iframe src=\"images/edu1.html\" width=\"80%\" height=\"500\"></iframe>\n",
    "</div>"
   ]
  },
  {
   "cell_type": "markdown",
   "metadata": {},
   "source": [
    "<div>\n",
    "<p style=\"text-align: justify\">El último análisis de esta sección corresponde con la comparación entre el porcentaje de personas de entre 25-35 años con superior terminado y el porcentaje de personas en edad de estudios superiores (18-25 años) que los están cursando actualmente. Excepto por Aracajú, todas las ciuades deberían mejorar sus porcentajes de personas con estudios secundarios en un futuro cercano. La diferencia entre estos valores para Manizales es significativa: 16% contra 24,4%, lo que significaría un crecimiento de casi el 50% si las relaciones fueran lineales.</p>\n",
    "<p style='text-align:center'><img src='images/edu2.png'></p>\n",
    "</div>"
   ]
  },
  {
   "cell_type": "markdown",
   "metadata": {},
   "source": [
    "<h4 style=\"text-align:left\">Conglomerados y Cadenas de Valor</h4>\n",
    "<div style=\"text-align: justify\">\n",
    "<p style=\"text-align: justify\">Dentro de este grupo de determinantes, se habían seleccionado en el trabajo “Segundo Componente”: el índice HH, absoluto y relativo al país, cuánto explica el principal sector y en qué medida se diferencia del promedio del país, y número de clusters, sobre lo que no se obtuvo información.</p>\n",
    "<p style=\"text-align: justify\">En cuanto al nivel de especialización, según los datos de CEDLAS, el sector más importante es el de educacion, salud y servicios personales. El índice HH indica que Manizales es una ciudad levemente menos especializada que el promedio del país, como podemos ver en el gráfico 13. Este último intenta mostrar la relación este la epecialización de cada ciudad (relativa al promedio del país) y el salario horario en USD observado.</p>\n",
    "<p style='text-align:center'><img src='images/hh_salario.png'></p>\n",
    "<p style=\"text-align: justify\">Al observar la composición de la masa salarial en el gráfico 14, vemos que Manizales tiene valores similares a los promedios de todo el país. El  20% explicado por el comercio resulta algo menor al promedio nacional de 25%. Se destaca también el hecho de que la ciudad tiene una participación algo mayor que el promedio del país en industrias de baja tecnología (6.5%) y resto de las manufacturas (8%). El empleo de las industrias de baja tecnología (7.4%) y resto de las manufacturas (8%) se mantienen por encima de los valores  promedio para el país (6.8% y 5.1% respectivamente).</p>\n",
    "</div>"
   ]
  },
  {
   "cell_type": "markdown",
   "metadata": {},
   "source": [
    "<div class=\"container-fluid\" style=\"margin-top:40px\">\n",
    "    <iframe src=\"images/empleoymasasalarial.html\" width=\"100%\" height=\"750\"></iframe>\n",
    "</div>"
   ]
  },
  {
   "cell_type": "markdown",
   "metadata": {},
   "source": [
    "<div>\n",
    "<p style=\"text-align: justify\">Los gráficos 15.A y 15.B exhibe los salarios de estos sectores. El primer gráfico proporciona un panorama general de los distintos sectores mientras que el segundo permite observar con mayor detalle las diferencias dentro de cada sector. Los salarios se encuentran bastante por encima de los promedios nacionales: USD 3.81 contra USD 2.78 para bajas tecnolgías y USD 4.32 contra USD 3.57 para el resto de las manufacturas. La ciudad de Manizales posee un salario mayor al promedio de las ciudades del país en todos los sectores excepto por las actividades primarias y el sector financiero.</p>\n",
    "<p style='text-align:center'><img src='images/salarios.png'></p>\n",
    "</div>"
   ]
  },
  {
   "cell_type": "markdown",
   "metadata": {},
   "source": [
    "<div class=\"container-fluid\" style=\"margin-top:40px\">\n",
    "    <iframe src=\"images/wages.html\" width=\"80%\" height=\"550\"></iframe>\n",
    "</div>"
   ]
  },
  {
   "cell_type": "markdown",
   "metadata": {},
   "source": [
    "<h4 style=\"text-align:left\">Facilitación de Negocios</h4>\n",
    "<div style=\"text-align: justify\">\n",
    "<p style=\"text-align: justify\">Dentro de este grupo de determinantes, se habían seleccionado en el trabajo “Segundo Componente”: Composición del crédito, número de sucursales bancarias, una serie de indicadores del Banco Mundial, puntaje de comienzo de negocio, puntaje de manejo de permisos de construcción, puntaje de registro de propiedad, puntaje de cumplimiento de contratos, incidencia del crimen, regulación del tipo de suelo y precio del metro cuadrado de distintos tipos de propiedades. De los anteriores, sólo contamos con los puntajes de Permisos de Contrucción, Comienzo de Negocio y Registro de Propiedad, así como la Incidencia del Crimen y los precios de m2 de propiedades comerciales.</p>\n",
    "<p style=\"text-align: justify\">El gráfico 16 muestra los días que se demora (en cada ciudad) para obtener permisos de construcción, comenzar un negocio y registrar una propiedad. Estos surgen de los informes de <a href='https://www.doingbusiness.org/'>Doing business</a> del Banco Mundial. Manizales se encuentra en una posición bastante favorable aunque siempre cerca de los valores promedio: 114 días par un permiso de construcción, 7,5 para registrar una propiedad y 9 días para comenzar un negocio. Los tres valores se encuentran bastante por debajo de los promedios de Colombia</p>\n",
    "</div>"
   ]
  },
  {
   "cell_type": "markdown",
   "metadata": {},
   "source": [
    "<div class=\"container-fluid\" style=\"margin-top:40px\">\n",
    "    <iframe src=\"images/db.html\" width=\"80%\" height=\"500\"></iframe>\n",
    "</div>"
   ]
  },
  {
   "cell_type": "markdown",
   "metadata": {},
   "source": [
    "<div>\n",
    "<p style=\"text-align: justify\">La variable elegida para el indicador de incidencia del crimen es la <a href=\"#footnote-3\">tasa de homicidios dolosos cada 100.000 habitantes</a>. Los valores utilizados corresponden a los homicidios dolosos por ciudad ocurridos en el año 2016. El gráfico 18 muestra dicho indicador, en dónde se observa que Manizales posee valores similares a los del promedio del país: 21.71 contra 25.6 para el promedio de las principales ciudades del país..</p>\n",
    "<p style='text-align:center'><img src='images/homicidios.png'></p>\n",
    "</div>"
   ]
  },
  {
   "cell_type": "markdown",
   "metadata": {},
   "source": [
    "<p style='font-size:11px' id=\"footnote-3\">[3] Se calcularon las tasas de homicidio (doloso) cada 100.000 habitantes por ciudad para el año 2016. Se posee información para casi todas las ciudades de Argentina, Brasil, México y Colombia. Los datos fueron obtenidos de organismos oficiales de cada país.\n",
    "<ul>\n",
    "<li style='font-size:11px'>En el caso de Colombia, estas cifras se obtuvieron de la<a href=\"http://www.ideaspaz.org/especiales/data-fip/homicidios/index.html\"> Fundación Ideas para la Paz</a>.</li>\n",
    "<li style='font-size:11px'>Para Argentina los valores provienen <a href=\"https://www.argentina.gob.ar/seguridad/estadisticascriminales/bases-de-datos\">del gobierno nacional</a>.</li>\n",
    "<li style='font-size:11px'>En el caso de Brasil estas surgen del <a href=\"https://www.ipea.gov.br/atlasviolencia/filtros-series/1/homicidios\">Instituto de Pesquisa Econômica Aplicada</a>.</li>\n",
    "<li style='font-size:11px'>La información para México surge del <a href=\"https://www.gob.mx/sesnsp/acciones-y-programas/datos-abiertos-de-incidencia-delictiva\">Secretariado Ejecutivo del Sistema Nacional de Seguridad Pública</a>.</li>\n",
    "</ul>"
   ]
  },
  {
   "cell_type": "markdown",
   "metadata": {},
   "source": [
    "<div>\n",
    "<p style=\"text-align: justify\">Para analizar los precios de las propiedades, se toma la base de datos de <a href=\"#footnote-4\">properati</a>, una compañía que publica anuncios de venta y alquiler de propiedades en latinoamérica.</p>\n",
    "<p style=\"text-align: justify\">El gráfico 18 muestra los valores calculados. El indicador muestra los precios promedio del metro cuadrado para depósitos, oficinas y locales comerciales. Manizales no presenta avisas para el caso de los depósitos, aunque el promedio para Colombia muestra valores cercanos a los USD 450. En los casos de locales comerciales y oficinas, los valores se encuentran bastante por debajo de los promedios: USD 1.347 y USD 1.324 respectivamente..</p> \n",
    "</div>"
   ]
  },
  {
   "cell_type": "markdown",
   "metadata": {},
   "source": [
    "<div class=\"container-fluid\" style=\"margin-top:40px\">\n",
    "    <iframe src=\"images/prope.html\" width=\"80%\" height=\"500\"></iframe>\n",
    "</div>"
   ]
  },
  {
   "cell_type": "markdown",
   "metadata": {},
   "source": [
    "<p style='font-size:11px' id=\"footnote-4\">[4] Los datos utilizados para el cálculo de los indicadores de precios promedio de locales comerciales y salarios necesarios para adquirir una vivienda se obtinenen de <a href=\"https://www.properati.com.ar/data/\">properati data</a>, la división de datos de la compañia de <i>analytics de Real Estate</i> en Latam. La base utilizada posee todas las propiedades listadas para alquiler o venta en Argentina, Colombia, Ecuador, Perú y Uruguay durante un periodo de 6 meses que va desde Julio a Diciembre de 2020. Sólo se tomaron en cuenta las propiedades listadas para la venta. En el análisis de propiedades comerciales se incluyen los depósitos, locales comerciales y oficinas. Para el análisis de sueldos necesarios para acceder a una vivienda se consideraron casas y departamentos. Por último, sólo se consideraron los avisos publicados en USD ya que corresponden con la gran mayoría de todas las publicaciones de venta. Esto último vale para todos los países excepto para Colombia, en dónde la gran mayoría de los avisos se encuentran publicados en moneda local. En ese caso, se utilizó el <a href=\"https://www.banrep.gov.co/es/estadisticas/trm\">tipo de cambio oficial</a> publicado por la autoridad monetaria del país para convertir los valores a USD.</p> "
   ]
  },
  {
   "cell_type": "markdown",
   "metadata": {},
   "source": [
    "Para comparar los salarios con los pecios de las viviendas, se toman las publicaciones de venta de Casas y Departamentos (para  el mismo periodo utilizado para las propiedades comerciales). En este caso, en vez de calcular precios promedio por metro cuadrado para cada tipo de propiedad, se obtuvieron los precios medios (medianas) del metro cuadrado de  una vivienda (casa o departamento). Luego se procedió a calcular el valor estimado de una propiedad \"media\" de 60 m2's. Por otra parte, se estimó un salario mensual para cada ciudad, asumiendo jornadas semanales de 40 hs. Por último, se calculó cuántos salarios se necesitan para adquirir una Casa o un Departamento \"promedio\" en cada ciudad. Los resultados pueden observarse en el gráfico 19. Manizales se encuentra por encima de los promedios de Colombia y la región."
   ]
  },
  {
   "cell_type": "markdown",
   "metadata": {},
   "source": [
    "<div class=\"container-fluid\" style=\"margin-top:40px\">\n",
    "    <iframe src=\"images/vivienda.html\" width=\"80%\" height=\"500\"></iframe>\n",
    "</div>"
   ]
  }
 ],
 "metadata": {
  "kernelspec": {
   "display_name": "Python 3",
   "language": "python",
   "name": "python3"
  },
  "language_info": {
   "codemirror_mode": {
    "name": "ipython",
    "version": 3
   },
   "file_extension": ".py",
   "mimetype": "text/x-python",
   "name": "python",
   "nbconvert_exporter": "python",
   "pygments_lexer": "ipython3",
   "version": "3.7.8"
  }
 },
 "nbformat": 4,
 "nbformat_minor": 4
}
