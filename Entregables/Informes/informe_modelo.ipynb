{
 "cells": [
  {
   "cell_type": "markdown",
   "metadata": {},
   "source": [
    "<div style=\"overflow: hidden;\">\n",
    "   <div id=\"J\" style=\"float:left; width: 50%;\">\n",
    "      <img width=\"450\" height=\"500\" src=\"images/1.jpg\">\n",
    "   </div>\n",
    "   <div id=\"H\" style=\"float: left; width: 50%;\">\n",
    "      <div>\n",
    "          <h1 style='text-align:right'><b>Perfil productivo -- --, --</b></h1>\n",
    "      </div>\n",
    "      <div>\n",
    "         <h2 style='text-align:right'>Introducción y contexto</h2>\n",
    "         <p style='text-align:justify'><a style='font-weight:bold'></a></p>\n",
    "      </div>\n",
    "   </div>\n",
    "</div>"
   ]
  },
  {
   "cell_type": "markdown",
   "metadata": {},
   "source": [
    "<h3 style=\"text-align:left\">Ciudades de Referencia</h3>\n",
    "<div style=\"text-align: justify\">\n",
    "<p style=\"text-align: justify\"></p>\n",
    "</div>"
   ]
  },
  {
   "cell_type": "markdown",
   "metadata": {},
   "source": [
    "<caption style=\"font-size: 18px;\">Tabla 1: Principales indicadores</caption>\n",
    "<tr style=\"background-color:#FFEBCD\">"
   ]
  },
  {
   "cell_type": "markdown",
   "metadata": {},
   "source": [
    "<h3 style=\"text-align:left\">Población -- y Salarios --</h3>\n",
    "<div style=\"text-align: justify\">\n",
    "<p style=\"text-align: justify\"></p>\n",
    "<p style='text-align:center'><img src='images/wyp.png'></p>\n",
    "</div>"
   ]
  },
  {
   "cell_type": "markdown",
   "metadata": {},
   "source": [
    "<h3 style=\"text-align:left\">Salario Esperado (según actividades) vs Salario Observado</h3>\n",
    "<div style=\"text-align: justify\">\n",
    "<p style=\"text-align: justify\">Un punto interesante del análisis es la relación que existe entre<a href='#footnote-2'> el salario observado, y el salario que uno esperaría ver en la ciudad, en base a su composición de actividades económicas</a>, (a veces llamado <i>Salario Estimado</i>). -- tiene un salario estimado algo más alto que su salario observado (gráfico 3). El salario observado está -- de lo que se esperaría acorde a su composición productiva. En otras palabras, si los salarios de cada sector económico de -- fueran iguales a los promedios nacionales, la ciudad debería poseer un salario promedio (ponderado) más alto que el que efectivamente posee. Además, el gráfico 3 incorpora información respecto de cuál es el sector que posee mayor masa salarial de entre los tres sectores de mayor interés (Agro/Materias Primas, Industrias de Baja Tecnología y Resto de las Industrias). Los colores de los puntos se determinan a partir del sector que presenta la mayor masa salarial de entre los tres principales en la ciudad. Se intenta así divisar si existe alguna relación entre los principales tres sectores estudiados y la <i>brecha salarial observado vs estimado</i>, aunque en este caso no pareciera haber correlación.</p>\n",
    "</div>"
   ]
  },
  {
   "cell_type": "markdown",
   "metadata": {},
   "source": [
    "<div class=\"container-fluid\" style=\"margin-top:40px\">\n",
    "    <iframe src=\"images/estimado_vs_observado.html\" width=\"60%\" height=\"550\"></iframe>\n",
    "</div>"
   ]
  },
  {
   "cell_type": "markdown",
   "metadata": {},
   "source": [
    "<div style=\"text-align: justify\">\n",
    "<p style='font-size:11px' id=\"footnote-1\">[1] El salario observado resulta de calcular el promedio entre los salarios de cada actividad económica en la ciudad analizada, ponderados por el porcentaje de empleo que cada sector posee en el total de la ciudad. En el caso del salario estimado, se toman los salarios promedio del país para cada sector, ponderandolós por el share de cada sector en el empleo de la ciudad de córdoba. Esto nos permite comparar los salarios sectoriales de Córdoba contra los promedios nacionales, incorporando la composición de empleo de la ciudad en cuestión.</p>\n",
    "<p style='font-size:11px'>Los colores de los puntos se corresponden con los sectores \"principales\" que presentan la mayor proporción de masa salarial sobre el total de cada ciudad. Las mencionadas actividades \"principales\" incluyen al Agro y otras actividades primarias, a las Industrias de Baja Tecnología y al Resto de la Industria Manufacturera. El color del punto implica que dicho sector presenta la mayor masa salarial en esa ciudad, entre los tres sectores mencionados (podría suceder que exista otro sector que presente mayor masa salarial en la ciudad pero no resulta un sector de interés para este análisis).</p>    \n",
    "</div>"
   ]
  },
  {
   "cell_type": "markdown",
   "metadata": {},
   "source": [
    "<h3 style=\"text-align:left\">Empleo y Masa Salarial por Actividad</h3>\n",
    "<div style=\"text-align: justify\">\n",
    "<p style=\"text-align: justify\">El gráfico 4 muestra las proporciones de masa salarial y empleo según actividad para la ciudad.</p>\n",
    "<p style='text-align:center'><img src='images/wm_sectores.png'></p>\n",
    "</div>"
   ]
  },
  {
   "cell_type": "markdown",
   "metadata": {},
   "source": [
    "<h3 style=\"text-align:left\">Distribución de Empleo</h3>\n",
    "<div style=\"text-align: justify\">\n",
    "<p style=\"text-align: justify\">El gráfico 5 muestra la distribución del empleo por ciudad.</p>\n",
    "    <p style='text-align:center'><img src='images/empleo_dist.png'></p>\n",
    "</div>"
   ]
  },
  {
   "cell_type": "markdown",
   "metadata": {},
   "source": [
    "<h3 style=\"text-align:left\">Determinantes de la productividad</h3>\n",
    "<div style=\"text-align: justify\">\n",
    "<p style=\"text-align: justify\">Se realizará entonces un trabajo de identificación, obtención de datos y construcción de indicadores, utilizando como marco téorico “Determinantes de la Productividad en las Ciudades y Políticas Públicas para su Mejora”, de Guillermo Alves y Pablo López (2020). Se comparará a la ciudad con un grupo de ciudades de población similar, así como también con resultados del promedio del país y el resto de Latinoamérica. La totalidad de los indicadores deseables no han sido capturados, las tablas 2 a 6 resumen los indicadores con los que contamos y los faltantes.</p>\n",
    "</div>"
   ]
  },
  {
   "cell_type": "markdown",
   "metadata": {},
   "source": [
    "<h4 style=\"text-align:left\"> Disponibilidad de Indicadores Seleccionados </h4>"
   ]
  },
  {
   "cell_type": "markdown",
   "metadata": {},
   "source": [
    "<table class=\"determinantes\">\n",
    "  <caption style=\"font-size: 18px;\">Tabla 2: Conectividad Externa</caption>\n",
    "  <tr>\n",
    "    <th>Acceso a Mercados</th>\n",
    "    <th>Distancia a Puerto</th>\n",
    "    <th>Distancia a Aeropuerto</th>\n",
    "    <th>Índice de eficiencia de Internet</th>\n",
    "  </tr>\n",
    "  <tr>\n",
    "    <td style=\"text-align:center\"> Sí </td>\n",
    "    <td style=\"text-align:center\"> - </td>\n",
    "    <td style=\"text-align:center\"> - </td>\n",
    "    <td style=\"text-align:center\"> Sí </td>\n",
    "  </tr>    \n",
    "</table>"
   ]
  },
  {
   "cell_type": "markdown",
   "metadata": {},
   "source": [
    "<table class=\"determinantes\">\n",
    "  <caption style=\"font-size: 18px;\">Tabla 3: Conectividad Interna</caption>\n",
    "  <tr>\n",
    "    <th>Accesibilidad</th>\n",
    "    <th>Tiempo de viaje</th>\n",
    "    <th>Índice de Eficiencia de internet</th>\n",
    "    <th>% de firmas que eligen transporte como principal obstáculo</th>\n",
    "  </tr>\n",
    "  <tr>\n",
    "    <td style=\"text-align:center\"> - </td>\n",
    "    <td style=\"text-align:center\"> - </td>\n",
    "    <td style=\"text-align:center\"> Sí </td>\n",
    "    <td style=\"text-align:center\"> Sí </td>\n",
    "  </tr>    \n",
    "</table>"
   ]
  },
  {
   "cell_type": "markdown",
   "metadata": {},
   "source": [
    "<table class=\"determinantes\">\n",
    "  <caption style=\"font-size: 18px;\">Tabla 4: Trabajo y Conocimiento</caption>\n",
    "  <tr>\n",
    "    <th>Informalidad</th>\n",
    "    <th>Género</th>\n",
    "    <th>Desempleo</th>\n",
    "    <th>Necesidades Básicas insatisfechas</th>\n",
    "    <th>% de pob. con secundario completo</th>\n",
    "    <th>% de pob. estudiando terciario</th>\n",
    "    <th>% de pob. con terciario completo</th>\n",
    "    <th>% de firmas que eligen educación como principal obstáculo</th>\n",
    "    <th>Cuartos ocupados de hotel / población</th>\n",
    "  </tr>\n",
    "  <tr>\n",
    "    <td style=\"text-align:center\"> Sí </td>\n",
    "    <td style=\"text-align:center\"> Sí </td>\n",
    "    <td style=\"text-align:center\"> Sí </td>\n",
    "    <td style=\"text-align:center\"> - </td>\n",
    "    <td style=\"text-align:center\"> Sí </td>\n",
    "    <td style=\"text-align:center\"> Sí </td>\n",
    "    <td style=\"text-align:center\"> Sí </td>\n",
    "    <td style=\"text-align:center\"> Sí </td>\n",
    "    <td style=\"text-align:center\"> - </td>      \n",
    "  </tr>    \n",
    "</table>"
   ]
  },
  {
   "cell_type": "markdown",
   "metadata": {},
   "source": [
    "<table class=\"determinantes\">\n",
    "  <caption style=\"font-size: 18px;\">Tabla 5: Conglomerados y cadenas de valor</caption>\n",
    "  <tr>\n",
    "    <th>Índice de HH comparado al país</th>\n",
    "    <th>Principal Sector comparado al país</th>\n",
    "    <th>Número de Clusters</th>\n",
    "    <th>Número de Clusters con plan estratégico</th>\n",
    "  </tr>\n",
    "  <tr>\n",
    "    <td style=\"text-align:center\"> Sí </td>\n",
    "    <td style=\"text-align:center\"> Sí </td>\n",
    "    <td style=\"text-align:center\"> - </td>\n",
    "    <td style=\"text-align:center\"> - </td>\n",
    "  </tr>    \n",
    "</table>"
   ]
  },
  {
   "cell_type": "markdown",
   "metadata": {},
   "source": [
    "<table class=\"determinantes\">\n",
    "  <caption style=\"font-size: 18px;\">Tabla 6: Facilitación de Negocios</caption>\n",
    "  <tr>\n",
    "    <th>Composición del Crédito</th>\n",
    "    <th>Número de sucursales bancarias</th>\n",
    "    <th>Días para Comienzo de Negocio (Doing Business)</th>\n",
    "    <th>días para obtener Permisos de Construcción (Doing Business)</th>\n",
    "    <th>Días para Registro de propiedad (Doing Business)</th>\n",
    "    <th>Días para obtener permiso de operación (Enterprise Survey)</th>\n",
    "    <th>Días para obtener permisos relacionados a la construcción (Enterprise Survey)</th>\n",
    "    <th>Días para obtener licencias de importación (Enterprise Survey)</th>      \n",
    "    <th>Incidencia del Crimen</th>\n",
    "    <th>Regulación del tipo de suelo</th>\n",
    "    <th>Precio del m2 de oficina/depósito/local comercial</th>\n",
    "    <th>Cantidad de Sueldos mensuales promedio necesarios para adquirir una vivienda</th>  \n",
    "    <th>Principales tres obstáculos</th>\n",
    "  </tr>\n",
    "  <tr>\n",
    "    <td style=\"text-align:center\"> - </td>\n",
    "    <td style=\"text-align:center\"> - </td>\n",
    "    <td style=\"text-align:center\"> - </td>\n",
    "    <td style=\"text-align:center\"> - </td>\n",
    "    <td style=\"text-align:center\"> - </td>\n",
    "    <td style=\"text-align:center\"> - </td>\n",
    "    <td style=\"text-align:center\"> - </td>      \n",
    "    <td style=\"text-align:center\"> - </td>\n",
    "    <td style=\"text-align:center\"> Sí </td>\n",
    "    <td style=\"text-align:center\"> - </td>\n",
    "    <td style=\"text-align:center\"> Sí </td>\n",
    "    <td style=\"text-align:center\"> Sí </td>\n",
    "    <td style=\"text-align:center\"> Sí </td>  \n",
    "  </tr>    \n",
    "</table>"
   ]
  },
  {
   "cell_type": "markdown",
   "metadata": {},
   "source": [
    "<h4 style=\"text-align:left\">Conectividad Externa</h4>\n",
    "<div style=\"text-align: justify\">\n",
    "<p style=\"text-align: justify\">Dentro de este grupo de determinantes, se habían seleccionado en el trabajo “Segundo Componente”: Indicador de acceso a mercados, indicador de distancia a puerto más cercano de calidad, indicador de distancia a aeropuerto más cercano de calidad y nuevamente la data de conectividad digital. No se posee información para el indicador de distancia a puerto más cercano.</p>\n",
    "<p style=\"text-align: justify\">La velocidad de conectividad digital de la ciudad se encuentra por -- del promedio nacional y -- del promedio Latinoamericano. De acuerdo a la data proporcionada por <a href=\"https://www.measurementlab.net/\">M-Lab </a>, su velocidad de descarga promedio se encuentra cerca de los -- megabytes por segundo (Mbps), muy por debajo del -- que promedia el continente.</p>\n",
    "<p style='text-align:center'><img src='images/descarga.png'></p>\n",
    "<p style=\"text-align: justify\">En cuanto al indicador de <a href=\"#footnote-2\">acceso a mercados</a>, se obtuvo la cantidad de horas que se necesitan para acceder distintos niveles (porcentajes) de masa salarial del país (desde la ciudad analizada). En otras palabras: cada valor muestra la cantidad mínima de horas de automóvil que se necesitan para acceder a las ciudades que logren sumar determinados porcentajes de masas salariales. Este análisis se realizó dos veces, cambiando el enfoque del indicador. En primer lugar, se calculó para toda la masa salarial del país, es decir, teniendo en cuenta a todas las ciudades para las que se posee información. Este ejercicio se repite pero sólo teniendo en cuenta a las ciudades que poseen un salario promedio mayor al de la ciudad analizada. El gráfico 7 muestra dicha métrica de manera interactiva permitiendo observar ambos indicadores. En la solapa inicial se ve el indicador teniendo en cuenta la masa salarial total del país y en la segunda se observa el mismo indicador pero sólo teniendo en cuenta a las ciudades que poseen salarios mayores a los de la ciudad estudiada.</p>\n",
    "<p style=\"text-align: justify\"> -- </p>\n",
    "</div>"
   ]
  },
  {
   "cell_type": "markdown",
   "metadata": {},
   "source": [
    "<div class=\"container-fluid\" style=\"margin-top:40px\">\n",
    "    <iframe src=\"images/accesoII.html\" width=\"90%\" height=\"550\"></iframe>\n",
    "</div>"
   ]
  },
  {
   "cell_type": "markdown",
   "metadata": {},
   "source": [
    "<div style=\"text-align: justify\">\n",
    "<p style='font-size:11px' id=\"footnote-2\">[2] Para construir este indicador tuvieron que realizarse una serie de metodologías. Para empezar, se utiliza como base de ciudades el BEAM, luego se incluyen las ciudades trabajadas por CEDLAS. Al no tener datos sobre masa salarial para todas las ciudades, se procede a construir estimados en base a la población. Sin embargo, tampoco se contaba con la población para todas las ciudades, por lo que se realizó un trabajo manual para completar la base.</p>\n",
    "<p style='font-size:11px'>Una vez que contamos con todas las ciudades, todas las poblaciones, y todas las masas salariales (estimadas y reales) se utlizó la duración de viajes entre ciudades (con tráfico) para calcular cuántas horas se necesitan para alcanzar una cantidad de \"mercados\" (ciudades) que representen desde el 10% al 100% de la masa salarial total del país. El mismo indicador se replica pero teniendo en cuenta sólo las ciudades que presetan un salario promedio mayor al de la ciudad analizada. De esta manera, la masa salarial calculada en el segundo indicador tiene como máximo (100% de masa salarial) a la totalidad de las masas salariales del país que presentan salarios mayores a los de la ciudad estudiada.</p>\n",
    "</div>"
   ]
  },
  {
   "cell_type": "markdown",
   "metadata": {},
   "source": [
    "<h4 style=\"text-align:left\">Conectividad Interna</h4>\n",
    "<div style=\"text-align: justify\">\n",
    "<p style=\"text-align: justify\">Dentro de este grupo de determinantes, se habían seleccionado en el trabajo “Segundo Componente”: Indicador de accesibilidad de empleos, indicador de tiempo de viaje, indicador de eficiencia de internet y porcentaje de firmas que eligen al transporte como el principal obstáculo. Los primeros dos indicadores serán proporcionados por OMU-CAF, pero no contamos actualmente con ellos.</p>\n",
    "<p style=\"text-align: justify\">En cuanto al porcentaje de firmas que eligen transporte como principal obstáculo, el gráfico 8 muestra una comparación con ciudades que también disponen de dicha variable. --</p>\n",
    "<p style='text-align:center'><img src='images/big_obs_trans.png'></p> \n",
    "</div>"
   ]
  },
  {
   "cell_type": "markdown",
   "metadata": {},
   "source": [
    "<h4 style=\"text-align:left\">Trabajo y Conocimiento</h4>\n",
    "<div style=\"text-align: justify\">\n",
    "<p style=\"text-align: justify\">Dentro de este grupo de determinantes, se habían seleccionado en el trabajo “Segundo Componente”: Indicadores de informalidad, género, desempleo, NBI, educativos, del porcentaje de firmas que eligen a la inadecuada educación de la fuerza laboral como su principal obstáculo y de cuartos ocupados de hotel / la población.</p>\n",
    "<p style=\"text-align: justify\">En cuanto al principal obstáculo, --.</p>\n",
    "<p style='text-align:center'><img src='images/big_obs_edu.png'></p>\n",
    "</div>"
   ]
  },
  {
   "cell_type": "markdown",
   "metadata": {},
   "source": [
    "<h5><b>Mercado Laboral</b></h5>\n",
    "<div>\n",
    "<p style=\"text-align: justify\">Respecto de los indicadores del mercado laboral, se inicia comparando a la ciudad respecto de su tasa de actividad y tasa de actividad por sexo (gráfico 10). --.</p>\n",
    "</div>"
   ]
  },
  {
   "cell_type": "markdown",
   "metadata": {},
   "source": [
    "<div class=\"container-fluid\" style=\"margin-top:40px\">\n",
    "    <iframe src=\"images/actividad.html\" width=\"80%\" height=\"500\"></iframe>\n",
    "</div>"
   ]
  },
  {
   "cell_type": "markdown",
   "metadata": {},
   "source": [
    "<div>\n",
    "<p style=\"text-align: justify\">El gráfico 11 muestra las tasas de desempleo e informalidad de los trabajadores asalariados (este indicador excluye a los cuentapropistas y patrones). --.</p>\n",
    "</div>"
   ]
  },
  {
   "cell_type": "markdown",
   "metadata": {},
   "source": [
    "<div class=\"container-fluid\" style=\"margin-top:40px\">\n",
    "    <iframe src=\"images/desempleo.html\" width=\"80%\" height=\"500\"></iframe>\n",
    "</div>"
   ]
  },
  {
   "cell_type": "markdown",
   "metadata": {},
   "source": [
    "</div>\n",
    "<p style=\"text-align: justify\">Respecto del desempleo según rango etario, el gráfico 12 nos muestra que los valores para Córdoba se encuentran siempre entre los más altos, para los tres rangos etarios: 30,3% para el rango 15-24, 10,1%% para 25-54 y 6,8% para +55. Entre estas ciudades de referencia (incluyendo los promedios), --.</p>\n",
    "<p style='text-align:center'><img src='images/des_etario.png'></p>\n",
    "</div>"
   ]
  },
  {
   "cell_type": "markdown",
   "metadata": {},
   "source": [
    "<h5><b>Educación</b></h5>\n",
    "<div>\n",
    "<p style=\"text-align: justify\">El gráfico 13 compara el porcentaje de la población con estudios secundarios y superiores terminados. --.</p>\n",
    "</div>"
   ]
  },
  {
   "cell_type": "markdown",
   "metadata": {},
   "source": [
    "<div class=\"container-fluid\" style=\"margin-top:40px\">\n",
    "    <iframe src=\"images/edu1.html\" width=\"80%\" height=\"500\"></iframe>\n",
    "</div>"
   ]
  },
  {
   "cell_type": "markdown",
   "metadata": {},
   "source": [
    "<div>\n",
    "<p style=\"text-align: justify\">El último análisis de esta sección corresponde con la comparación entre el porcentaje de personas de entre 25-35 años con superior terminado y el porcentaje de personas en edad de estudios superiores (18-25 años) que los están cursando actualmente. --.</p>\n",
    "<p style='text-align:center'><img src='images/edu2.png'></p>\n",
    "</div>"
   ]
  },
  {
   "cell_type": "markdown",
   "metadata": {},
   "source": [
    "<h4 style=\"text-align:left\">Conglomerados y Cadenas de Valor</h4>\n",
    "<div style=\"text-align: justify\">\n",
    "<p style=\"text-align: justify\">Dentro de este grupo de determinantes, se habían seleccionado en el trabajo “Segundo Componente”: el índice HH, absoluto y relativo al país, cuánto explica el principal sector y en qué medida se diferencia del promedio del país, y número de clusters, sobre lo que no se obtuvo información.</p>\n",
    "<p style=\"text-align: justify\">En cuanto al nivel de especialización, según los datos de CEDLAS, el sector más importante en términos de empleo --. El índice HH indica que --, como podemos ver en el gráfico 15. Este último intenta mostrar la relación este la epecialización de cada ciudad (relativa al promedio del país) y el salario horario en USD observado.</p>\n",
    "<p style='text-align:center'><img src='images/hh_salario.png'></p>\n",
    "<p style=\"text-align: justify\">Al observar la composición del empleo y la masa salarial en el gráfico 16, vemos que la ciudad tiene valores --.</p>\n",
    "</div>"
   ]
  },
  {
   "cell_type": "markdown",
   "metadata": {},
   "source": [
    "<div class=\"container-fluid\" style=\"margin-top:40px\">\n",
    "    <iframe src=\"images/empleoymasasalarial.html\" width=\"100%\" height=\"750\"></iframe>\n",
    "</div>"
   ]
  },
  {
   "cell_type": "markdown",
   "metadata": {},
   "source": [
    "<div>\n",
    "<p style=\"text-align: justify\">Los gráficos 17.A y 17.B intentan hacer una comparación de los salarios promedio de cada sector económico entre la ciudad estudiada y el resto de las ciudades de referencia. El gráfico 17.A muestra los salarios promedio de todos los sectores para todas las ciudades de interés, mientras que el gráfico 17.B (interactivo) permite indagar con mejor precisión en las diferencias que resultan de interés. --.</p>\n",
    "    <p style='text-align:center'><img src='images/salarios.png'></p>\n",
    "</div>"
   ]
  },
  {
   "cell_type": "markdown",
   "metadata": {},
   "source": [
    "<div class=\"container-fluid\" style=\"margin-top:40px\">\n",
    "    <iframe src=\"images/wages.html\" width=\"80%\" height=\"550\"></iframe>\n",
    "</div>"
   ]
  },
  {
   "cell_type": "markdown",
   "metadata": {},
   "source": [
    "<h4 style=\"text-align:left\">Facilitación de Negocios</h4>\n",
    "<div style=\"text-align: justify\">\n",
    "<p style=\"text-align: justify\">Dentro de este grupo de determinantes, se habían seleccionado en el trabajo “Segundo Componente”: Composición del crédito, número de sucursales bancarias, una serie de indicadores del Banco Mundial, días para comienzo de negocio, días para permisos de construcción, días para registro de propiedad, días para cumplimiento de contratos, días para licencia de operación, días para permiso relacionado con la construcción, días para obtener una licencia de importación,incidencia del crimen, regulación del tipo de suelo,  precio del metro cuadrado de distintos tipos de propiedades comerciales y cantidad de sueldos promedio para adquirir una vivienda de 60 mts2. De los anteriores, sólo contamos con los puntajes de Permisos de Contrucción, Comienzo de Negocio y Registro de Propiedad, así como la Incidencia del Crimen y los precios de m2 de propiedades comerciales y viviendas.</p>\n",
    "<p style=\"text-align: justify\">El gráfico 16 muestra los días que se demora (en cada ciudad) para obtener permisos de construcción, comenzar un negocio y registrar una propiedad. Estos surgen de los informes de <a href='https://www.doingbusiness.org/'>Doing business</a> del Banco Mundial. --.</p>\n",
    "</div>"
   ]
  },
  {
   "cell_type": "markdown",
   "metadata": {},
   "source": [
    "<div class=\"container-fluid\" style=\"margin-top:40px\">\n",
    "    <iframe src=\"images/db.html\" width=\"80%\" height=\"500\"></iframe>\n",
    "</div>"
   ]
  },
  {
   "cell_type": "markdown",
   "metadata": {},
   "source": [
    "<div>\n",
    "<p style=\"text-align: justify\">El siguiente indicador corresponde a la cantidad de días que se requieren para obtener permisos y licencias de negocios en la ciudad. La información surge también del <a href=\"#footnote-3\"> <i>World Bank's Enterprise Surveys</i></a> . El gráfico -- muestra la cantidad de dias que se requieren para obtener licencias de operación, permisos de construcción y licencias de importación.</p>\n",
    "</div>"
   ]
  },
  {
   "cell_type": "markdown",
   "metadata": {},
   "source": [
    "<div class=\"container-fluid\" style=\"margin-top:40px\">\n",
    "    <iframe src=\"images/es2.html\" width=\"80%\" height=\"500\"></iframe>\n",
    "</div>"
   ]
  },
  {
   "cell_type": "markdown",
   "metadata": {},
   "source": [
    "<div style=\"text-align: justify\">\n",
    "<p style='font-size:11px' id=\"footnote-3\">[3] Es importante remarcar que dichos indicadores difieren de los días de demora para obtención de permisos de construcción, comienzo de negocio y registro de propiedad del reporte <i> Doing Business</i> del Banco Mundial. Si bien ambos reportes surgen del Banco Mundial, los permisos a los que los reportes se refieren son diferentes, las metodologías pueden diferir y las fechas de reporte también cambian según el país.</p>\n",
    "</div>"
   ]
  },
  {
   "cell_type": "markdown",
   "metadata": {},
   "source": [
    "<div>\n",
    "<p style=\"text-align: justify\">La variable elegida para el indicador de incidencia del crimen es la <a href=\"#footnote-4\">tasa de homicidios dolosos cada 100.000 habitantes</a>. Los valores utilizados corresponden a los homicidios dolosos por ciudad ocurridos en el año 2016. El gráfico 18 muestra dicho indicador, en dónde se observa que --.</p>\n",
    "<p style='text-align:center'><img src='images/homicidios.png'></p>\n",
    "</div>"
   ]
  },
  {
   "cell_type": "markdown",
   "metadata": {},
   "source": [
    "<p style='font-size:11px' id=\"footnote-4\">[4] Se calcularon las tasas de homicidio (doloso) cada 100.000 habitantes por ciudad para el año 2016. Se posee información para casi todas las ciudades de Argentina, Brasil, México y Colombia. Los datos fueron obtenidos de organismos oficiales de cada país.\n",
    "<ul>\n",
    "<li style='font-size:11px'>En el caso de Colombia, estas cifras se obtuvieron de la<a href=\"http://www.ideaspaz.org/especiales/data-fip/homicidios/index.html\"> Fundación Ideas para la Paz</a>.</li>\n",
    "<li style='font-size:11px'>Para Argentina los valores provienen <a href=\"https://www.argentina.gob.ar/seguridad/estadisticascriminales/bases-de-datos\">del gobierno nacional</a>.</li>\n",
    "<li style='font-size:11px'>En el caso de Brasil estas surgen del <a href=\"https://www.ipea.gov.br/atlasviolencia/filtros-series/1/homicidios\">Instituto de Pesquisa Econômica Aplicada</a>.</li>\n",
    "<li style='font-size:11px'>La información para México surge del <a href=\"https://www.gob.mx/sesnsp/acciones-y-programas/datos-abiertos-de-incidencia-delictiva\">Secretariado Ejecutivo del Sistema Nacional de Seguridad Pública</a>.</li>\n",
    "</ul>"
   ]
  },
  {
   "cell_type": "markdown",
   "metadata": {},
   "source": [
    "<div>\n",
    "<p style=\"text-align: justify\">Para analizar los precios de las propiedades, se toma la base de datos de <a href=\"#footnote-5\">properati</a>, una compañía que publica anuncios de venta y alquiler de propiedades en latinoamérica.</p>\n",
    "<p style=\"text-align: justify\">El gráfico 19 muestra los valores calculados. El indicador muestra los precios promedio del metro cuadrado para depósitos, oficinas y locales comerciales. --.</p> \n",
    "</div>"
   ]
  },
  {
   "cell_type": "markdown",
   "metadata": {},
   "source": [
    "<div class=\"container-fluid\" style=\"margin-top:40px\">\n",
    "    <iframe src=\"images/prope.html\" width=\"80%\" height=\"500\"></iframe>\n",
    "</div>"
   ]
  },
  {
   "cell_type": "markdown",
   "metadata": {},
   "source": [
    "<p style='font-size:11px' id=\"footnote-5\">[5] Los datos utilizados para el cálculo de los indicadores de precios promedio de locales comerciales y salarios necesarios para adquirir una vivienda se obtinenen de <a href=\"https://www.properati.com.ar/data/\">properati data</a>, la división de datos de la compañia de <i>analytics de Real Estate</i> en Latam. La base utilizada posee todas las propiedades listadas para alquiler o venta en Argentina, Colombia, Ecuador, Perú y Uruguay durante un periodo de 6 meses que va desde Julio a Diciembre de 2020. Sólo se tomaron en cuenta las propiedades listadas para la venta. En el análisis de propiedades comerciales se incluyen los depósitos, locales comerciales y oficinas. Para el análisis de sueldos necesarios para acceder a una vivienda se consideraron casas y departamentos. Por último, sólo se consideraron los avisos publicados en USD ya que corresponden con la gran mayoría de todas las publicaciones de venta. Esto último vale para todos los países excepto para Colombia, en dónde la gran mayoría de los avisos se encuentran publicados en moneda local. En ese caso, se utilizó el <a href=\"https://www.banrep.gov.co/es/estadisticas/trm\">tipo de cambio oficial</a> publicado por la autoridad monetaria del país para convertir los valores a USD.</p> "
   ]
  },
  {
   "cell_type": "markdown",
   "metadata": {},
   "source": [
    "Para comparar los salarios con los pecios de las viviendas, se toman las publicaciones de venta de Casas y Departamentos (para  el mismo periodo utilizado para las propiedades comerciales). En este caso, en vez de calcular precios promedio por metro cuadrado para cada tipo de propiedad, se obtuvieron los precios medios (medianas) del metro cuadrado de  una vivienda (casa o departamento). Luego se procedió a calcular el valor estimado de una propiedad \"media\" de 60 m2's. Por otra parte, se estimó un salario mensual para cada ciudad, asumiendo jornadas semanales de 40 hs. Por último, se calculó cuántos salarios se necesitan para adquirir una Casa o un Departamento \"promedio\" en cada ciudad. Los resultados pueden observarse en el gráfico 20."
   ]
  },
  {
   "cell_type": "markdown",
   "metadata": {},
   "source": [
    "<div class=\"container-fluid\" style=\"margin-top:40px\">\n",
    "    <iframe src=\"images/vivienda.html\" width=\"80%\" height=\"500\"></iframe>\n",
    "</div>"
   ]
  },
  {
   "cell_type": "markdown",
   "metadata": {},
   "source": [
    "<div>\n",
    "<p style=\"text-align: justify\">El último indicador para el cuál se posee información corresponde a los tres principales obstaculos que surgen de las <i>World Bank's Enterprise Surveys</i>. El gráfico 21 muestra el porcentaje del total de respuestas que eligen dicho obstáculo como el principal problema de la ciudad en términos de la facilitación de negocios. --.</p>\n",
    "    <p style='text-align:center'><img src='images/biggest_obs.png'></p>\n",
    "</div>"
   ]
  }
 ],
 "metadata": {
  "kernelspec": {
   "display_name": "Python 3",
   "language": "python",
   "name": "python3"
  },
  "language_info": {
   "codemirror_mode": {
    "name": "ipython",
    "version": 3
   },
   "file_extension": ".py",
   "mimetype": "text/x-python",
   "name": "python",
   "nbconvert_exporter": "python",
   "pygments_lexer": "ipython3",
   "version": "3.7.8"
  }
 },
 "nbformat": 4,
 "nbformat_minor": 4
}
