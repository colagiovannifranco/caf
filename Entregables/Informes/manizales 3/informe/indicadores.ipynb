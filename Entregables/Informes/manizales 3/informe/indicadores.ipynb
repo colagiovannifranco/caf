{
 "cells": [
  {
   "cell_type": "markdown",
   "metadata": {},
   "source": [
    "<center> <h2> Disponibilidad de Indicadores Seleccionados </h2> </center>"
   ]
  },
  {
   "cell_type": "markdown",
   "metadata": {},
   "source": [
    "<table class=\"determinantes\">\n",
    "  <caption style=\"font-size: 18px;\">Tabla 1: Conectividad Interna</caption>\n",
    "  <tr>\n",
    "    <th>Accesibilidad</th>\n",
    "    <th>Tiempo de viaje</th>\n",
    "    <th>Índice de Eficiencia de internet</th>\n",
    "    <th>% de firmas que eligen transporte como principal obstáculo</th>\n",
    "  </tr>\n",
    "  <tr>\n",
    "    <td style=\"text-align:center\"> - </td>\n",
    "    <td style=\"text-align:center\"> - </td>\n",
    "    <td style=\"text-align:center\"> Sí </td>\n",
    "    <td style=\"text-align:center\"> - </td>\n",
    "  </tr>    \n",
    "</table>"
   ]
  },
  {
   "cell_type": "markdown",
   "metadata": {},
   "source": [
    "<table class=\"determinantes\">\n",
    "  <caption style=\"font-size: 18px;\">Tabla 2: Conectividad Externa</caption>\n",
    "  <tr>\n",
    "    <th>Acceso a Mercados</th>\n",
    "    <th>Distancia a Puerto</th>\n",
    "    <th>Distancia a Aeropuerto</th>\n",
    "    <th>Índice de eficiencia de Internet</th>\n",
    "  </tr>\n",
    "  <tr>\n",
    "    <td style=\"text-align:center\"> Sí </td>\n",
    "    <td style=\"text-align:center\"> - </td>\n",
    "    <td style=\"text-align:center\"> Sí </td>\n",
    "    <td style=\"text-align:center\"> Sí </td>\n",
    "  </tr>    \n",
    "</table>"
   ]
  },
  {
   "cell_type": "markdown",
   "metadata": {},
   "source": [
    "<table class=\"determinantes\">\n",
    "  <caption style=\"font-size: 18px;\">Tabla 3: Trabajo y Conocimiento</caption>\n",
    "  <tr>\n",
    "    <th>Informalidad</th>\n",
    "    <th>Género</th>\n",
    "    <th>Desempleo</th>\n",
    "    <th>Necesidades Básicas insatisfechas</th>\n",
    "    <th>% de pob. con secundario completo</th>\n",
    "    <th>% de pob. estudiando terciario</th>\n",
    "    <th>% de pob. con terciario completo</th>\n",
    "    <th>% de firmas que eligen educación como principal obstáculo</th>\n",
    "    <th>Cuartos ocupados de hotel / población</th>\n",
    "  </tr>\n",
    "  <tr>\n",
    "    <td style=\"text-align:center\"> Sí </td>\n",
    "    <td style=\"text-align:center\"> Sí </td>\n",
    "    <td style=\"text-align:center\"> Sí </td>\n",
    "    <td style=\"text-align:center\"> Sí </td>\n",
    "    <td style=\"text-align:center\"> Sí </td>\n",
    "    <td style=\"text-align:center\"> Sí </td>\n",
    "    <td style=\"text-align:center\"> Sí </td>\n",
    "    <td style=\"text-align:center\"> Sí </td>\n",
    "    <td style=\"text-align:center\"> - </td>      \n",
    "  </tr>    \n",
    "</table>"
   ]
  },
  {
   "cell_type": "markdown",
   "metadata": {},
   "source": [
    "<table class=\"determinantes\">\n",
    "  <caption style=\"font-size: 18px;\">Tabla 4: Conglomerados y cadenas de valor</caption>\n",
    "  <tr>\n",
    "    <th>Índice de HH comparado al país</th>\n",
    "    <th>Principal Sector comparado al país</th>\n",
    "    <th>Número de Clusters</th>\n",
    "    <th>Número de Clusters con plan estratégico</th>\n",
    "  </tr>\n",
    "  <tr>\n",
    "    <td style=\"text-align:center\"> Sí </td>\n",
    "    <td style=\"text-align:center\"> Sí </td>\n",
    "    <td style=\"text-align:center\"> - </td>\n",
    "    <td style=\"text-align:center\"> - </td>\n",
    "  </tr>    \n",
    "</table>"
   ]
  },
  {
   "cell_type": "markdown",
   "metadata": {},
   "source": [
    "<table class=\"determinantes\">\n",
    "  <caption style=\"font-size: 18px;\">Tabla 5: Facilitación de Negocios</caption>\n",
    "  <tr>\n",
    "    <th>Composición del Crédito</th>\n",
    "    <th>Número de sucursales bancarias</th>\n",
    "    <th>Puntaje de Comienzo de Negocio</th>\n",
    "    <th>Puntaje de Permisos de Construcción</th>\n",
    "    <th>Puntaje de Registro de propiedad</th>\n",
    "    <th>Puntaje de Cumplimiento de Contratos</th>\n",
    "    <th>Incidencia del Crimen</th>\n",
    "    <th>Regulación del tipo de suelo</th>\n",
    "    <th>Precio del m2 de oficina/depósito/local comercial</th>\n",
    "    <th>Principales tres obstáculos</th>\n",
    "  </tr>\n",
    "  <tr>\n",
    "    <td style=\"text-align:center\"> - </td>\n",
    "    <td style=\"text-align:center\"> - </td>\n",
    "    <td style=\"text-align:center\"> Sí </td>\n",
    "    <td style=\"text-align:center\"> Sí </td>\n",
    "    <td style=\"text-align:center\"> Sí </td>\n",
    "    <td style=\"text-align:center\"> No </td>\n",
    "    <td style=\"text-align:center\"> Sí </td>\n",
    "    <td style=\"text-align:center\"> - </td>\n",
    "    <td style=\"text-align:center\"> Sí </td>\n",
    "    <td style=\"text-align:center\"> - </td>  \n",
    "  </tr>    \n",
    "</table>"
   ]
  },
  {
   "cell_type": "code",
   "execution_count": null,
   "metadata": {},
   "outputs": [],
   "source": []
  }
 ],
 "metadata": {
  "kernelspec": {
   "display_name": "Python 3",
   "language": "python",
   "name": "python3"
  },
  "language_info": {
   "codemirror_mode": {
    "name": "ipython",
    "version": 3
   },
   "file_extension": ".py",
   "mimetype": "text/x-python",
   "name": "python",
   "nbconvert_exporter": "python",
   "pygments_lexer": "ipython3",
   "version": "3.7.8"
  }
 },
 "nbformat": 4,
 "nbformat_minor": 4
}
