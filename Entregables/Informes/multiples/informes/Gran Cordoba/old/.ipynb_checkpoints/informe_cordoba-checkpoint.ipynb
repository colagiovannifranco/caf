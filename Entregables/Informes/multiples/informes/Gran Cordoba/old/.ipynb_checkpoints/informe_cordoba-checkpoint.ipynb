{
 "cells": [
  {
   "cell_type": "markdown",
   "metadata": {},
   "source": [
    "<div style=\"overflow: hidden;\">\n",
    "   <div id=\"J\" style=\"float:left; width: 50%;\">\n",
    "      <img width=\"450\" height=\"500\" src=\"images/1.jpg\">\n",
    "   </div>\n",
    "   <div id=\"H\" style=\"float: left; width: 50%;\">\n",
    "      <div>\n",
    "          <h1 style='text-align:right'><b>Perfil productivo Córdoba, Argentina</b></h1>\n",
    "      </div>\n",
    "      <div>\n",
    "         <h2 style='text-align:right'>Introducción y contexto</h2>\n",
    "      </div>\n",
    "   </div>\n",
    "</div>"
   ]
  },
  {
   "cell_type": "markdown",
   "metadata": {},
   "source": [
    "<h3 style=\"text-align:left\">Población y Salarios</h3>\n",
    "<div style=\"text-align: justify\">\n",
    "<p style=\"text-align: justify\"></p>\n",
    "</div>"
   ]
  },
  {
   "cell_type": "markdown",
   "metadata": {},
   "source": [
    "<div style=\"text-align: justify\">\n",
    "<p style=\"text-align: justify\">Una ciudad intermedia con salarios promedio.</p>\n",
    "<p style='text-align:center'><img src='images/salario_pops.png'></p>\n",
    "</div>"
   ]
  },
  {
   "cell_type": "markdown",
   "metadata": {},
   "source": [
    "<h3>Brecha Salarial: Salarios vs Promedio Salarial para el país</h3>\n",
    "<div>\n",
    "<p style=\"text-align: justify\">La ciudad posee un salario cercano al promedio del país.</p>\n",
    "<p style='text-align:center'><img src='images/brecha_promedio.png'></p>\n",
    "</div>"
   ]
  },
  {
   "cell_type": "markdown",
   "metadata": {},
   "source": [
    "<h4 style=\"text-align:left\"> Disponibilidad de Indicadores Seleccionados </h4>"
   ]
  },
  {
   "cell_type": "markdown",
   "metadata": {},
   "source": [
    "<table class=\"determinantes\">\n",
    "  <caption style=\"font-size: 18px;\">Tabla 2: Conectividad Interna</caption>\n",
    "  <tr>\n",
    "    <th>Accesibilidad</th>\n",
    "    <th>Tiempo de viaje</th>\n",
    "    <th>Índice de Eficiencia de internet</th>\n",
    "    <th>% de firmas que eligen transporte como principal obstáculo</th>\n",
    "  </tr>\n",
    "  <tr>\n",
    "    <td style=\"text-align:center\"> - </td>\n",
    "    <td style=\"text-align:center\"> - </td>\n",
    "    <td style=\"text-align:center\"> - </td>\n",
    "    <td style=\"text-align:center\"> - </td>\n",
    "  </tr>    \n",
    "</table>"
   ]
  },
  {
   "cell_type": "markdown",
   "metadata": {},
   "source": [
    "<table class=\"determinantes\">\n",
    "  <caption style=\"font-size: 18px;\">Tabla 3: Conectividad Externa</caption>\n",
    "  <tr>\n",
    "    <th>Acceso a Mercados</th>\n",
    "    <th>Distancia a Puerto</th>\n",
    "    <th>Distancia a Aeropuerto</th>\n",
    "    <th>Índice de eficiencia de Internet</th>\n",
    "  </tr>\n",
    "  <tr>\n",
    "    <td style=\"text-align:center\"> Sí </td>\n",
    "    <td style=\"text-align:center\"> - </td>\n",
    "    <td style=\"text-align:center\"> - </td>\n",
    "    <td style=\"text-align:center\"> - </td>\n",
    "  </tr>    \n",
    "</table>"
   ]
  },
  {
   "cell_type": "markdown",
   "metadata": {},
   "source": [
    "<table class=\"determinantes\">\n",
    "  <caption style=\"font-size: 18px;\">Tabla 4: Trabajo y Conocimiento</caption>\n",
    "  <tr>\n",
    "    <th>Informalidad</th>\n",
    "    <th>Género</th>\n",
    "    <th>Desempleo</th>\n",
    "    <th>Necesidades Básicas insatisfechas</th>\n",
    "    <th>% de pob. con secundario completo</th>\n",
    "    <th>% de pob. estudiando terciario</th>\n",
    "    <th>% de pob. con terciario completo</th>\n",
    "    <th>% de firmas que eligen educación como principal obstáculo</th>\n",
    "    <th>Cuartos ocupados de hotel / población</th>\n",
    "  </tr>\n",
    "  <tr>\n",
    "    <td style=\"text-align:center\"> Sí </td>\n",
    "    <td style=\"text-align:center\"> Sí </td>\n",
    "    <td style=\"text-align:center\"> Sí </td>\n",
    "    <td style=\"text-align:center\"> - </td>\n",
    "    <td style=\"text-align:center\"> Sí </td>\n",
    "    <td style=\"text-align:center\"> Sí </td>\n",
    "    <td style=\"text-align:center\"> Sí </td>\n",
    "    <td style=\"text-align:center\"> - </td>\n",
    "    <td style=\"text-align:center\"> - </td>      \n",
    "  </tr>    \n",
    "</table>"
   ]
  },
  {
   "cell_type": "markdown",
   "metadata": {},
   "source": [
    "<table class=\"determinantes\">\n",
    "  <caption style=\"font-size: 18px;\">Tabla 5: Conglomerados y cadenas de valor</caption>\n",
    "  <tr>\n",
    "    <th>Índice de HH comparado al país</th>\n",
    "    <th>Principal Sector comparado al país</th>\n",
    "    <th>Número de Clusters</th>\n",
    "    <th>Número de Clusters con plan estratégico</th>\n",
    "  </tr>\n",
    "  <tr>\n",
    "    <td style=\"text-align:center\"> Sí </td>\n",
    "    <td style=\"text-align:center\"> Sí </td>\n",
    "    <td style=\"text-align:center\"> - </td>\n",
    "    <td style=\"text-align:center\"> - </td>\n",
    "  </tr>    \n",
    "</table>"
   ]
  },
  {
   "cell_type": "markdown",
   "metadata": {},
   "source": [
    "<table class=\"determinantes\">\n",
    "  <caption style=\"font-size: 18px;\">Tabla 6: Facilitación de Negocios</caption>\n",
    "  <tr>\n",
    "    <th>Composición del Crédito</th>\n",
    "    <th>Número de sucursales bancarias</th>\n",
    "    <th>Puntaje de Comienzo de Negocio</th>\n",
    "    <th>Puntaje de Permisos de Construcción</th>\n",
    "    <th>Puntaje de Registro de propiedad</th>\n",
    "    <th>Puntaje de Cumplimiento de Contratos</th>\n",
    "    <th>Incidencia del Crimen</th>\n",
    "    <th>Regulación del tipo de suelo</th>\n",
    "    <th>Precio del m2 de oficina/depósito/local comercial</th>\n",
    "    <th>Principales tres obstáculos</th>\n",
    "  </tr>\n",
    "  <tr>\n",
    "    <td style=\"text-align:center\"> - </td>\n",
    "    <td style=\"text-align:center\"> - </td>\n",
    "    <td style=\"text-align:center\"> - </td>\n",
    "    <td style=\"text-align:center\"> - </td>\n",
    "    <td style=\"text-align:center\"> - </td>\n",
    "    <td style=\"text-align:center\"> - </td>\n",
    "    <td style=\"text-align:center\"> - </td>\n",
    "    <td style=\"text-align:center\"> - </td>\n",
    "    <td style=\"text-align:center\"> - </td>\n",
    "    <td style=\"text-align:center\"> - </td>  \n",
    "  </tr>    \n",
    "</table>"
   ]
  },
  {
   "cell_type": "markdown",
   "metadata": {},
   "source": [
    "<h4 style=\"text-align:left\">Conectividad Externa</h4>\n",
    "<div style=\"text-align: justify\">\n",
    "<p style=\"text-align: justify\">La ciudad no parece tener buen acceso a los mercados del país por vías terrestres.</p>\n",
    "<p style='text-align:center'><img src='images/acceso.png'></p>\n",
    "</div>"
   ]
  },
  {
   "cell_type": "markdown",
   "metadata": {},
   "source": [
    "<h4 style=\"text-align:left\">Trabajo y Conocimiento</h4>\n",
    "<div style=\"text-align: justify\">\n",
    "<p style=\"text-align: justify\">Dentro de este grupo de determinantes, se habían seleccionado en el trabajo “Segundo Componente”: Indicadores de informalidad, género, desempleo, NBI, educativos, del porcentaje de firmas que eligen a la inadecuada educación de la fuerza laboral como su principal obstáculo y de cuartos ocupados de hotel / la población.</p>\n",
    "</div>"
   ]
  },
  {
   "cell_type": "markdown",
   "metadata": {},
   "source": [
    "<h5><b>Mercado Laboral</b></h5>\n",
    "<div>\n",
    "<p style='text-align:center'><img src='images/actividad.png'></p>\n",
    "<p style='text-align:center'><img src='images/empleo_dist.png'></p>\n",
    "<p style='text-align:center'><img src='images/inf_des.png'></p>\n",
    "<p style='text-align:center'><img src='images/des_etario.png'></p>\n",
    "</div>\n",
    "<h5><b>Educación</b></h5>\n",
    "<div>\n",
    "<p style=\"text-align: justify\">No se poseen datos de educación secundaria para las ciudades chilenas.</p>\n",
    "<p style='text-align:center'><img src='images/edu_secundaria.png'></p>\n",
    "<p style=\"text-align: justify\"></p>\n",
    "<p style='text-align:center'><img src='images/edu_superior.png'></p>\n",
    "</div>"
   ]
  },
  {
   "cell_type": "markdown",
   "metadata": {},
   "source": [
    "<h4 style=\"text-align:left\">Conglomerados y Cadenas de Valor</h4>\n",
    "<div style=\"text-align: justify\">\n",
    "<p style=\"text-align: justify\">Dentro de este grupo de determinantes, se habían seleccionado en el trabajo “Segundo Componente”: el índice HH, absoluto y relativo al país, cuánto explica el principal sector y en qué medida se diferencia del promedio del país, y número de clusters, sobre lo que no se obtuvo información.</p>\n",
    "<p style='text-align:center'><img src='images/hh_salario.png'></p>\n",
    "</div>"
   ]
  },
  {
   "cell_type": "markdown",
   "metadata": {},
   "source": [
    "<div>\n",
    "<p style='text-align:center'><img src='images/ms_vs_empleo.png'></p>\n",
    "</div>"
   ]
  }
 ],
 "metadata": {
  "kernelspec": {
   "display_name": "Python 3",
   "language": "python",
   "name": "python3"
  },
  "language_info": {
   "codemirror_mode": {
    "name": "ipython",
    "version": 3
   },
   "file_extension": ".py",
   "mimetype": "text/x-python",
   "name": "python",
   "nbconvert_exporter": "python",
   "pygments_lexer": "ipython3",
   "version": "3.7.8"
  }
 },
 "nbformat": 4,
 "nbformat_minor": 4
}
