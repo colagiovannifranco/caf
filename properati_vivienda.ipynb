{
 "cells": [
  {
   "cell_type": "code",
   "execution_count": 1,
   "metadata": {},
   "outputs": [],
   "source": [
    "import numpy as np\n",
    "import pandas as pd\n",
    "import unidecode\n",
    "import os"
   ]
  },
  {
   "cell_type": "code",
   "execution_count": 2,
   "metadata": {},
   "outputs": [],
   "source": [
    "path = r'C:\\Users\\Franco\\Dropbox\\files\\clean'"
   ]
  },
  {
   "cell_type": "code",
   "execution_count": 171,
   "metadata": {},
   "outputs": [],
   "source": [
    "mylist = []\n",
    "\n",
    "for file in os.listdir(r'C:\\Users\\Franco\\Dropbox\\files\\properati'):\n",
    "    if file.endswith(\".csv\"):\n",
    "        mylist += [file]"
   ]
  },
  {
   "cell_type": "code",
   "execution_count": 172,
   "metadata": {},
   "outputs": [],
   "source": [
    "prope = pd.DataFrame()\n",
    "\n",
    "for file in mylist:\n",
    "    df = pd.read_csv(r'C:\\Users\\Franco\\Dropbox\\files\\properati\\{}'.format(file))\n",
    "    prope = prope.append(df)"
   ]
  },
  {
   "cell_type": "code",
   "execution_count": 173,
   "metadata": {},
   "outputs": [],
   "source": [
    "prope = prope.drop(columns=['ad_type','rooms','bedrooms','bathrooms','title','description','lat','lon'])\n",
    "prope = prope[prope['l1'].isin(['Argentina', 'Uruguay','Perú', 'Colombia','Ecuador'])]\n",
    "prope = prope.loc[prope['operation_type']=='Venta',:]\n",
    "prope = prope[prope['property_type'].isin(['Casa','Departamento','PH','Apartamento'])]"
   ]
  },
  {
   "cell_type": "code",
   "execution_count": 174,
   "metadata": {},
   "outputs": [],
   "source": [
    "[prope['Country'],prope['City']] = [prope['l1'],prope['l3']]\n",
    "\n",
    "prope = prope[prope['price'].notna()]\n",
    "prope = prope[prope['City'].notna()]"
   ]
  },
  {
   "cell_type": "markdown",
   "metadata": {},
   "source": [
    "Cambio de Buenos Aires y Montevideo"
   ]
  },
  {
   "cell_type": "code",
   "execution_count": 175,
   "metadata": {},
   "outputs": [],
   "source": [
    "prope = prope.set_index(['l2'])"
   ]
  },
  {
   "cell_type": "code",
   "execution_count": 176,
   "metadata": {},
   "outputs": [],
   "source": [
    "prope.at['Capital Federal','City'] = 'Ciudad de Buenos Aires'"
   ]
  },
  {
   "cell_type": "code",
   "execution_count": 177,
   "metadata": {},
   "outputs": [],
   "source": [
    "prope.at['Montevideo','City'] = 'Montevideo'"
   ]
  },
  {
   "cell_type": "code",
   "execution_count": 178,
   "metadata": {},
   "outputs": [],
   "source": [
    "prope = prope.reset_index()"
   ]
  },
  {
   "cell_type": "code",
   "execution_count": 179,
   "metadata": {},
   "outputs": [],
   "source": [
    "prope = prope.replace({'Country':{'Perú':'Peru'}})"
   ]
  },
  {
   "cell_type": "markdown",
   "metadata": {},
   "source": [
    "CAMBIAR NOBMRES"
   ]
  },
  {
   "cell_type": "code",
   "execution_count": 201,
   "metadata": {},
   "outputs": [],
   "source": [
    "#Prope precios de prop's comerciales para obtener nombres limpios\n",
    "p = pd.read_excel(r'C:\\Users\\Franco\\Dropbox\\files\\clean\\prope\\comercial\\properati_i.xlsx',index_col=[0,1])"
   ]
  },
  {
   "cell_type": "code",
   "execution_count": 202,
   "metadata": {},
   "outputs": [],
   "source": [
    "p = p.loc[:,'City Original'].reset_index().drop_duplicates().rename(columns={'City':'City cw','City Original':'City'}).set_index(['Country','City'])"
   ]
  },
  {
   "cell_type": "code",
   "execution_count": 203,
   "metadata": {},
   "outputs": [],
   "source": [
    "p = p.reset_index().append(pd.DataFrame([['Argentina','San Miguel de Tucumán','Gran Tucuman-Tafi Viejo']],columns=['Country','City','City cw'])).set_index(['Country','City'])"
   ]
  },
  {
   "cell_type": "code",
   "execution_count": 209,
   "metadata": {},
   "outputs": [],
   "source": [
    "prope['City'] = prope['City'].apply(lambda x: unidecode.unidecode(x))"
   ]
  },
  {
   "cell_type": "code",
   "execution_count": 210,
   "metadata": {},
   "outputs": [],
   "source": [
    "prope['Country'] = prope['Country'].apply(lambda x: unidecode.unidecode(x))"
   ]
  },
  {
   "cell_type": "code",
   "execution_count": 211,
   "metadata": {},
   "outputs": [],
   "source": [
    "prope = prope.set_index(['Country','City'])"
   ]
  },
  {
   "cell_type": "code",
   "execution_count": 212,
   "metadata": {},
   "outputs": [],
   "source": [
    "prope = prope.join(p,how='inner')"
   ]
  },
  {
   "cell_type": "code",
   "execution_count": 213,
   "metadata": {},
   "outputs": [],
   "source": [
    "prope['fecha'] = prope['created_on'].str.strip()"
   ]
  },
  {
   "cell_type": "code",
   "execution_count": 214,
   "metadata": {},
   "outputs": [],
   "source": [
    "prope = prope[prope['currency'].isin(['USD','COP'])]"
   ]
  },
  {
   "cell_type": "code",
   "execution_count": 215,
   "metadata": {},
   "outputs": [],
   "source": [
    "prope = prope.loc[:,['surface_total','surface_covered','price','currency','property_type','City cw','fecha']]"
   ]
  },
  {
   "cell_type": "markdown",
   "metadata": {},
   "source": [
    "Calcular metros promedio por pais y tipo de propiedad"
   ]
  },
  {
   "cell_type": "code",
   "execution_count": 219,
   "metadata": {},
   "outputs": [],
   "source": [
    "inds = prope[['surface_total','surface_covered']].isnull().all(axis=1)"
   ]
  },
  {
   "cell_type": "code",
   "execution_count": 220,
   "metadata": {},
   "outputs": [],
   "source": [
    "me = prope.loc[~inds,:]"
   ]
  },
  {
   "cell_type": "code",
   "execution_count": 237,
   "metadata": {},
   "outputs": [],
   "source": [
    "def r(row):\n",
    "    if row['property_type'] in ['Departamento','Apartamento']:\n",
    "        val = 'Departamento'\n",
    "    else:\n",
    "        val = 'Casa'\n",
    "    return val"
   ]
  },
  {
   "cell_type": "code",
   "execution_count": 221,
   "metadata": {},
   "outputs": [
    {
     "name": "stderr",
     "output_type": "stream",
     "text": [
      "C:\\ProgramData\\Anaconda3\\envs\\caf\\lib\\site-packages\\ipykernel_launcher.py:1: SettingWithCopyWarning: \n",
      "A value is trying to be set on a copy of a slice from a DataFrame.\n",
      "Try using .loc[row_indexer,col_indexer] = value instead\n",
      "\n",
      "See the caveats in the documentation: https://pandas.pydata.org/pandas-docs/stable/user_guide/indexing.html#returning-a-view-versus-a-copy\n",
      "  \"\"\"Entry point for launching an IPython kernel.\n"
     ]
    }
   ],
   "source": [
    "me['Tipo Propiedad'] = me.apply(r,axis=1)"
   ]
  },
  {
   "cell_type": "code",
   "execution_count": 222,
   "metadata": {},
   "outputs": [
    {
     "name": "stderr",
     "output_type": "stream",
     "text": [
      "C:\\ProgramData\\Anaconda3\\envs\\caf\\lib\\site-packages\\ipykernel_launcher.py:1: FutureWarning: Indexing with multiple keys (implicitly converted to a tuple of keys) will be deprecated, use a list instead.\n",
      "  \"\"\"Entry point for launching an IPython kernel.\n"
     ]
    }
   ],
   "source": [
    "me = me.groupby(['Country','Tipo Propiedad'])['surface_total','surface_covered'].mean()"
   ]
  },
  {
   "cell_type": "code",
   "execution_count": 225,
   "metadata": {},
   "outputs": [],
   "source": [
    "me.to_csv(r'C:/Users/Franco/Dropbox\\files/clean/prope/vivienda/metros_promedio.csv')"
   ]
  },
  {
   "cell_type": "markdown",
   "metadata": {},
   "source": [
    "Currency"
   ]
  },
  {
   "cell_type": "code",
   "execution_count": 36,
   "metadata": {},
   "outputs": [],
   "source": [
    "serie = os.listdir(r'c:/Users/Franco/Dropbox/files/properati')[0]"
   ]
  },
  {
   "cell_type": "code",
   "execution_count": 37,
   "metadata": {},
   "outputs": [],
   "source": [
    "tc = pd.read_excel(r'c:/Users/Franco/Dropbox/files/properati/{}'.format(serie),usecols=[0,1],skiprows=[0,1,2,3,4,5,6]).dropna()"
   ]
  },
  {
   "cell_type": "code",
   "execution_count": 38,
   "metadata": {},
   "outputs": [],
   "source": [
    "tc['fecha'] = tc[tc.columns[0]].astype(str).str.split(' ').str[0].str.strip()"
   ]
  },
  {
   "cell_type": "code",
   "execution_count": 39,
   "metadata": {},
   "outputs": [],
   "source": [
    "tc = tc.rename(columns={'Tasa de cambio representativa del mercado (TRM)':'TDC'})"
   ]
  },
  {
   "cell_type": "markdown",
   "metadata": {},
   "source": [
    "Join"
   ]
  },
  {
   "cell_type": "code",
   "execution_count": 226,
   "metadata": {},
   "outputs": [],
   "source": [
    "prope = prope.drop(columns=['surface_total','surface_covered']) "
   ]
  },
  {
   "cell_type": "code",
   "execution_count": 227,
   "metadata": {},
   "outputs": [],
   "source": [
    "prope['price'] = prope['price'].astype('int')"
   ]
  },
  {
   "cell_type": "markdown",
   "metadata": {},
   "source": [
    "Parto con las df's de prope porq es demasiado grande"
   ]
  },
  {
   "cell_type": "code",
   "execution_count": 228,
   "metadata": {},
   "outputs": [],
   "source": [
    "prope = prope.reset_index().set_index('Country')"
   ]
  },
  {
   "cell_type": "code",
   "execution_count": 229,
   "metadata": {},
   "outputs": [],
   "source": [
    "prope_no = prope.drop('Colombia')"
   ]
  },
  {
   "cell_type": "code",
   "execution_count": 230,
   "metadata": {},
   "outputs": [],
   "source": [
    "prope_col = prope.reset_index()[prope.reset_index()['Country']=='Colombia']"
   ]
  },
  {
   "cell_type": "code",
   "execution_count": 231,
   "metadata": {},
   "outputs": [],
   "source": [
    "prope_col = prope_col.merge(tc.loc[:,['fecha','TDC']],on='fecha',how='left',indicator=True,validate='m:1')"
   ]
  },
  {
   "cell_type": "code",
   "execution_count": 232,
   "metadata": {},
   "outputs": [
    {
     "name": "stderr",
     "output_type": "stream",
     "text": [
      "C:\\ProgramData\\Anaconda3\\envs\\caf\\lib\\site-packages\\ipykernel_launcher.py:1: SettingWithCopyWarning: \n",
      "A value is trying to be set on a copy of a slice from a DataFrame.\n",
      "Try using .loc[row_indexer,col_indexer] = value instead\n",
      "\n",
      "See the caveats in the documentation: https://pandas.pydata.org/pandas-docs/stable/user_guide/indexing.html#returning-a-view-versus-a-copy\n",
      "  \"\"\"Entry point for launching an IPython kernel.\n"
     ]
    }
   ],
   "source": [
    "prope_no['TDC'] = np.nan"
   ]
  },
  {
   "cell_type": "code",
   "execution_count": 233,
   "metadata": {},
   "outputs": [],
   "source": [
    "prope_no = prope_no.reset_index()"
   ]
  },
  {
   "cell_type": "code",
   "execution_count": 234,
   "metadata": {},
   "outputs": [],
   "source": [
    "prope = prope_no.append(prope_col.drop(columns='_merge'))"
   ]
  },
  {
   "cell_type": "code",
   "execution_count": 235,
   "metadata": {},
   "outputs": [],
   "source": [
    "def f(row):\n",
    "    if row['currency'] == 'USD':\n",
    "        val = row['price']\n",
    "    else:\n",
    "        val = row['price'] / row['TDC']\n",
    "    return val"
   ]
  },
  {
   "cell_type": "code",
   "execution_count": 236,
   "metadata": {},
   "outputs": [],
   "source": [
    "prope['Precio USD'] = prope.apply(f,axis=1)"
   ]
  },
  {
   "cell_type": "code",
   "execution_count": 237,
   "metadata": {},
   "outputs": [],
   "source": [
    "def r(row):\n",
    "    if row['property_type'] in ['Departamento','Apartamento']:\n",
    "        val = 'Departamento'\n",
    "    else:\n",
    "        val = 'Casa'\n",
    "    return val"
   ]
  },
  {
   "cell_type": "code",
   "execution_count": 238,
   "metadata": {},
   "outputs": [],
   "source": [
    "prope['Tipo Propiedad'] = prope.apply(r,axis=1)"
   ]
  },
  {
   "cell_type": "code",
   "execution_count": 239,
   "metadata": {},
   "outputs": [],
   "source": [
    "prope = prope.rename(columns={'City':'City Original','City cw':'City'}).set_index(['Country','City'])"
   ]
  },
  {
   "cell_type": "code",
   "execution_count": 240,
   "metadata": {},
   "outputs": [],
   "source": [
    "prope_vivienda = prope.drop(columns=['price','TDC','property_type']).groupby(['Country','City','Tipo Propiedad']).mean()"
   ]
  },
  {
   "cell_type": "code",
   "execution_count": 244,
   "metadata": {},
   "outputs": [],
   "source": [
    "prope.to_csv(r'C:/Users/Franco/Dropbox\\files/clean/prope/vivienda/prope_vivienda.csv')"
   ]
  },
  {
   "cell_type": "code",
   "execution_count": 245,
   "metadata": {},
   "outputs": [],
   "source": [
    "prope_vivienda.to_csv(r'C:/Users/Franco/Dropbox\\files/clean/prope/vivienda/prope_vivienda_promedios.csv')"
   ]
  },
  {
   "cell_type": "markdown",
   "metadata": {},
   "source": [
    "### Ver tema cantidad de salarios para comprar vivienda"
   ]
  },
  {
   "cell_type": "code",
   "execution_count": 246,
   "metadata": {},
   "outputs": [],
   "source": [
    "cw = pd.read_excel(r'C:/Users/Franco/Dropbox/files/clean/cwpops.xlsx',index_col=[0,1])"
   ]
  },
  {
   "cell_type": "code",
   "execution_count": 247,
   "metadata": {},
   "outputs": [],
   "source": [
    "laboral = pd.read_excel(r'C:/Users/Franco/Dropbox/files/clean/laboral_2.xlsx',index_col=[0,1])"
   ]
  },
  {
   "cell_type": "code",
   "execution_count": 248,
   "metadata": {},
   "outputs": [],
   "source": [
    "salarios = cw.loc[:,'pops'].to_frame().join(laboral.loc[:,'Salario Horario (PPP 2011)'],how='inner')"
   ]
  },
  {
   "cell_type": "code",
   "execution_count": 249,
   "metadata": {},
   "outputs": [],
   "source": [
    "salarios['Salario Mensual'] = salarios['Salario Horario (PPP 2011)'] * 175"
   ]
  },
  {
   "cell_type": "code",
   "execution_count": 250,
   "metadata": {},
   "outputs": [],
   "source": [
    "prope_vivienda = prope_vivienda.unstack()"
   ]
  },
  {
   "cell_type": "code",
   "execution_count": 259,
   "metadata": {},
   "outputs": [],
   "source": [
    "salarios = salarios.join(prope_vivienda,how='inner').rename(columns={('Precio USD', 'Casa'):'Precio Promedio Casa (USD)',('Precio USD', 'Departamento'):'Precio Promedio Departamento (USD)'})"
   ]
  },
  {
   "cell_type": "code",
   "execution_count": 261,
   "metadata": {},
   "outputs": [],
   "source": [
    "[salarios['Cantidad de salarios mensuales para adquirir Casa'],salarios['Cantidad de salarios mensuales para adquirir Departamento']] = [salarios['Precio Promedio Casa (USD)']/salarios['Salario Mensual'],salarios['Precio Promedio Departamento (USD)']/salarios['Salario Mensual']]"
   ]
  },
  {
   "cell_type": "code",
   "execution_count": 263,
   "metadata": {},
   "outputs": [],
   "source": [
    "salarios.to_csv(r'C:/Users/Franco/Dropbox\\files/clean/prope/vivienda/salariosxviviendo.csv')"
   ]
  },
  {
   "cell_type": "code",
   "execution_count": null,
   "metadata": {},
   "outputs": [],
   "source": []
  }
 ],
 "metadata": {
  "kernelspec": {
   "display_name": "Python 3",
   "language": "python",
   "name": "python3"
  },
  "language_info": {
   "codemirror_mode": {
    "name": "ipython",
    "version": 3
   },
   "file_extension": ".py",
   "mimetype": "text/x-python",
   "name": "python",
   "nbconvert_exporter": "python",
   "pygments_lexer": "ipython3",
   "version": "3.7.8"
  }
 },
 "nbformat": 4,
 "nbformat_minor": 4
}
