{
 "cells": [
  {
   "cell_type": "code",
   "execution_count": 1,
   "metadata": {},
   "outputs": [],
   "source": [
    "import numpy as np\n",
    "import pandas as pd\n",
    "\n",
    "import geopandas as gpd\n",
    "#from shapely.geometry import Point\n",
    "#from shapely import wkt\n",
    "#import geographiclib\n",
    "#from geographiclib.geodesic import Geodesic\n",
    "#import utm\n",
    "#from shapely.ops import nearest_points\n",
    "\n",
    "import re\n",
    "import sys\n",
    "import os\n",
    "import requests\n",
    "from bs4 import BeautifulSoup\n",
    "from lxml import html\n",
    "import openpyxl\n",
    "import warnings\n",
    "\n",
    "import matplotlib as mpl\n",
    "import matplotlib.pyplot as plt\n",
    "import seaborn as sns\n",
    "\n",
    "#import urbanpy as up\n",
    "#import contextily as ctx\n",
    "\n",
    "import io\n",
    "import json\n",
    "\n",
    "import plotly.graph_objects as go\n",
    "import plotly.express as px\n",
    "import plotly as py\n",
    "\n",
    "pd.set_option('display.max_rows',999)\n",
    "pd.set_option('display.min_rows',4)\n",
    "pd.set_option('display.float_format', '{:,.2f}'.format)\n",
    "\n",
    "warnings.filterwarnings(\"ignore\")"
   ]
  },
  {
   "cell_type": "markdown",
   "metadata": {},
   "source": [
    "### 20 colores"
   ]
  },
  {
   "cell_type": "code",
   "execution_count": 2,
   "metadata": {},
   "outputs": [],
   "source": [
    "cl = [e for e in sns.color_palette('rocket',20)]\n",
    "cl2 = [(int(t[0]*255), int(t[1]*255) , int(t[2]*255)) for t in cl]\n",
    "colors = ['#%02x%02x%02x' % e for e in cl2]"
   ]
  },
  {
   "cell_type": "markdown",
   "metadata": {},
   "source": [
    "### idx"
   ]
  },
  {
   "cell_type": "code",
   "execution_count": 3,
   "metadata": {},
   "outputs": [],
   "source": [
    "idx = pd.IndexSlice"
   ]
  },
  {
   "cell_type": "markdown",
   "metadata": {},
   "source": [
    "### Bases"
   ]
  },
  {
   "cell_type": "code",
   "execution_count": 4,
   "metadata": {},
   "outputs": [],
   "source": [
    "dbox = r'c:/Users/Franco/Dropbox/files/clean/'\n",
    "files = os.listdir(dbox)"
   ]
  },
  {
   "cell_type": "code",
   "execution_count": 5,
   "metadata": {},
   "outputs": [],
   "source": [
    "sectores = pd.read_excel(dbox+'sectores.xlsx',index_col=[0,1])\n",
    "laboral = pd.read_excel(dbox+'laboral_final(ajustes).xlsx',index_col=[0,1])\n",
    "acceso = pd.read_excel(dbox+'accesom_2.xlsx',index_col=[0,1])\n",
    "accesom = pd.read_excel(dbox+'horas_msII.xlsx',index_col=[0,1]) \n",
    "cw = pd.read_excel(dbox+'cwpops.xlsx',index_col=[0,1])\n",
    "latlongs = pd.read_excel(dbox+'latlongs.xlsx',index_col=[0,1])\n",
    "msa = pd.read_excel(dbox+'metro_areas.xlsx',index_col=[0,1])"
   ]
  },
  {
   "cell_type": "code",
   "execution_count": 8,
   "metadata": {},
   "outputs": [],
   "source": [
    "prope_com = pd.read_excel(dbox+'prope_comercial.xlsx',index_col=[0,1])\n",
    "prope_vi = pd.read_csv(dbox+'prope_vivienda.csv',index_col=[0,1])"
   ]
  },
  {
   "cell_type": "code",
   "execution_count": 9,
   "metadata": {},
   "outputs": [],
   "source": [
    "es = pd.read_excel(dbox+'es.xlsx',index_col=[0,1])"
   ]
  },
  {
   "cell_type": "code",
   "execution_count": 11,
   "metadata": {},
   "outputs": [],
   "source": [
    "hom = pd.read_excel(dbox+'homicidios.xlsx',index_col = [0,1])"
   ]
  },
  {
   "cell_type": "markdown",
   "metadata": {},
   "source": [
    "### Ciudades de referencia"
   ]
  },
  {
   "cell_type": "code",
   "execution_count": 26,
   "metadata": {},
   "outputs": [],
   "source": [
    "ref = ['Gran Cordoba','Gran Tucuman-Tafi Viejo','Gran Rosario','Gran Mendoza','Mar del Plata-Batan','Bahia Blanca-Cerri','Vitoria','Cali','San Luis Potosi']\n",
    "ref_prom = ref + ['Promedio Argentina','Promedio Latam']"
   ]
  },
  {
   "cell_type": "code",
   "execution_count": 30,
   "metadata": {},
   "outputs": [],
   "source": [
    "ref = ['Manizales','Gran Mendoza']"
   ]
  },
  {
   "cell_type": "markdown",
   "metadata": {},
   "source": [
    "## Funciones"
   ]
  },
  {
   "cell_type": "code",
   "execution_count": 28,
   "metadata": {},
   "outputs": [],
   "source": [
    "#Tabla 1\n",
    "def tabla1(ref1=ref):\n",
    "    vars_laboral = ['Salario Horario (PPP 2011)','Tasa de Desempleo Total','% población con secundario completo Total']\n",
    "    vars_acceso = ['cutoff_0','cutoff_9']\n",
    "    vars_sectores = ['Ratio Agro','Ratio Baja Tec','Ratio Resto Ind']\n",
    "    \n",
    "    comp = cw.loc[idx[:,ref1],'pops'].to_frame().join(laboral.loc[:,vars_laboral]).join(acceso.loc[:,vars_acceso]).join(sectores.loc[:,vars_sectores])\n",
    "    comp = comp.rename(columns={'pops':'Población estimada (millones)','cutoff_0':'Masa Salarial como proporción del país','cutoff_9':'Proporción de la masa salarial del país a la que se accede en < 9 hs'})\n",
    "    \n",
    "    return BeautifulSoup(comp.sort_values(['Country','Salario Horario (PPP 2011)']).to_html(), 'html.parser')"
   ]
  },
  {
   "cell_type": "code",
   "execution_count": 31,
   "metadata": {},
   "outputs": [
    {
     "data": {
      "text/plain": [
       "<table border=\"1\" class=\"dataframe\">\n",
       "<thead>\n",
       "<tr style=\"text-align: right;\">\n",
       "<th></th>\n",
       "<th></th>\n",
       "<th>Población estimada (millones)</th>\n",
       "<th>Salario Horario (PPP 2011)</th>\n",
       "<th>Tasa de Desempleo Total</th>\n",
       "<th>% población con secundario completo Total</th>\n",
       "<th>Masa Salarial como proporción del país</th>\n",
       "<th>Proporción de la masa salarial del país a la que se accede en &lt; 9 hs</th>\n",
       "<th>Ratio Agro</th>\n",
       "<th>Ratio Baja Tec</th>\n",
       "<th>Ratio Resto Ind</th>\n",
       "</tr>\n",
       "<tr>\n",
       "<th>Country</th>\n",
       "<th>City</th>\n",
       "<th></th>\n",
       "<th></th>\n",
       "<th></th>\n",
       "<th></th>\n",
       "<th></th>\n",
       "<th></th>\n",
       "<th></th>\n",
       "<th></th>\n",
       "<th></th>\n",
       "</tr>\n",
       "</thead>\n",
       "<tbody>\n",
       "<tr>\n",
       "<th rowspan=\"6\" valign=\"top\">Argentina</th>\n",
       "<th>Gran Tucuman-Tafi Viejo</th>\n",
       "<td>1.45</td>\n",
       "<td>4.45</td>\n",
       "<td>10.32</td>\n",
       "<td>42.95</td>\n",
       "<td>0.04</td>\n",
       "<td>0.13</td>\n",
       "<td>0.96</td>\n",
       "<td>0.89</td>\n",
       "<td>0.97</td>\n",
       "</tr>\n",
       "<tr>\n",
       "<th>Gran Cordoba</th>\n",
       "<td>1.43</td>\n",
       "<td>4.64</td>\n",
       "<td>12.75</td>\n",
       "<td>46.18</td>\n",
       "<td>0.04</td>\n",
       "<td>0.87</td>\n",
       "<td>0.31</td>\n",
       "<td>1.09</td>\n",
       "<td>1.51</td>\n",
       "</tr>\n",
       "<tr>\n",
       "<th>Gran Mendoza</th>\n",
       "<td>1.08</td>\n",
       "<td>4.76</td>\n",
       "<td>8.46</td>\n",
       "<td>38.40</td>\n",
       "<td>0.03</td>\n",
       "<td>0.58</td>\n",
       "<td>1.34</td>\n",
       "<td>1.14</td>\n",
       "<td>1.24</td>\n",
       "</tr>\n",
       "<tr>\n",
       "<th>Gran Rosario</th>\n",
       "<td>1.20</td>\n",
       "<td>5.29</td>\n",
       "<td>11.05</td>\n",
       "<td>46.14</td>\n",
       "<td>0.05</td>\n",
       "<td>0.79</td>\n",
       "<td>0.39</td>\n",
       "<td>1.46</td>\n",
       "<td>1.60</td>\n",
       "</tr>\n",
       "<tr>\n",
       "<th>Mar del Plata-Batan</th>\n",
       "<td>0.66</td>\n",
       "<td>6.46</td>\n",
       "<td>11.30</td>\n",
       "<td>45.33</td>\n",
       "<td>0.03</td>\n",
       "<td>0.73</td>\n",
       "<td>0.75</td>\n",
       "<td>1.81</td>\n",
       "<td>0.86</td>\n",
       "</tr>\n",
       "<tr>\n",
       "<th>Bahia Blanca-Cerri</th>\n",
       "<td>0.31</td>\n",
       "<td>6.50</td>\n",
       "<td>9.01</td>\n",
       "<td>49.04</td>\n",
       "<td>0.01</td>\n",
       "<td>0.69</td>\n",
       "<td>0.99</td>\n",
       "<td>0.98</td>\n",
       "<td>1.56</td>\n",
       "</tr>\n",
       "<tr>\n",
       "<th>Brasil</th>\n",
       "<th>Vitoria</th>\n",
       "<td>1.91</td>\n",
       "<td>5.42</td>\n",
       "<td>10.95</td>\n",
       "<td>42.51</td>\n",
       "<td>0.02</td>\n",
       "<td>0.05</td>\n",
       "<td>1.18</td>\n",
       "<td>1.60</td>\n",
       "<td>1.38</td>\n",
       "</tr>\n",
       "<tr>\n",
       "<th>Colombia</th>\n",
       "<th>Cali</th>\n",
       "<td>2.23</td>\n",
       "<td>4.11</td>\n",
       "<td>12.28</td>\n",
       "<td>40.26</td>\n",
       "<td>0.09</td>\n",
       "<td>0.77</td>\n",
       "<td>0.68</td>\n",
       "<td>1.50</td>\n",
       "<td>2.04</td>\n",
       "</tr>\n",
       "<tr>\n",
       "<th>Mexico</th>\n",
       "<th>San Luis Potosi</th>\n",
       "<td>0.82</td>\n",
       "<td>4.57</td>\n",
       "<td>3.15</td>\n",
       "<td>32.46</td>\n",
       "<td>0.01</td>\n",
       "<td>0.75</td>\n",
       "<td>0.44</td>\n",
       "<td>0.65</td>\n",
       "<td>1.93</td>\n",
       "</tr>\n",
       "</tbody>\n",
       "</table>"
      ]
     },
     "execution_count": 31,
     "metadata": {},
     "output_type": "execute_result"
    }
   ],
   "source": [
    "tabla1()"
   ]
  },
  {
   "cell_type": "code",
   "execution_count": null,
   "metadata": {},
   "outputs": [],
   "source": []
  }
 ],
 "metadata": {
  "kernelspec": {
   "display_name": "Python 3",
   "language": "python",
   "name": "python3"
  },
  "language_info": {
   "codemirror_mode": {
    "name": "ipython",
    "version": 3
   },
   "file_extension": ".py",
   "mimetype": "text/x-python",
   "name": "python",
   "nbconvert_exporter": "python",
   "pygments_lexer": "ipython3",
   "version": "3.7.8"
  }
 },
 "nbformat": 4,
 "nbformat_minor": 4
}
