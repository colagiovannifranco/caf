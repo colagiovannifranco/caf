{
 "cells": [
  {
   "cell_type": "code",
   "execution_count": 1,
   "metadata": {},
   "outputs": [],
   "source": [
    "import re\n",
    "import numpy as np\n",
    "import pandas as pd\n",
    "import openpyxl\n",
    "\n",
    "import geopandas as gpd\n",
    "from shapely.geometry import Point\n",
    "import geographiclib\n",
    "from geographiclib.geodesic import Geodesic\n",
    "import utm\n",
    "from shapely.ops import nearest_points\n",
    "\n",
    "import sys\n",
    "import os\n",
    "import requests\n",
    "from bs4 import BeautifulSoup\n",
    "from lxml import html\n",
    "import warnings\n",
    "\n",
    "import seaborn as sns\n",
    "import matplotlib as mpl\n",
    "import matplotlib.pyplot as plt\n",
    "\n",
    "import urbanpy as up\n",
    "import contextily as ctx\n",
    "\n",
    "import io\n",
    "import json\n",
    "\n",
    "pd.set_option('display.max_rows',999)\n",
    "pd.set_option('display.float_format', lambda x: '%.3f' % x)\n",
    "\n",
    "\n",
    "warnings.filterwarnings(\"ignore\")\n",
    "#import unicodedata\n",
    "#import gzip\n",
    "\n",
    "from shapely import wkt\n",
    "\n",
    "import unidecode "
   ]
  },
  {
   "cell_type": "code",
   "execution_count": 2,
   "metadata": {},
   "outputs": [],
   "source": [
    "import plotly.graph_objects as go\n",
    "import plotly.express as px\n",
    "import chart_studio.plotly as py\n",
    "import plotly"
   ]
  },
  {
   "cell_type": "code",
   "execution_count": 3,
   "metadata": {},
   "outputs": [],
   "source": [
    "pd.options.display.float_format = '{:,.2f}'.format"
   ]
  },
  {
   "cell_type": "markdown",
   "metadata": {},
   "source": [
    "## files"
   ]
  },
  {
   "cell_type": "code",
   "execution_count": 6,
   "metadata": {},
   "outputs": [],
   "source": [
    "dbox = r'c:/Users/Franco/Dropbox/files/clean'\n",
    "files = os.listdir(dbox)"
   ]
  },
  {
   "cell_type": "code",
   "execution_count": 7,
   "metadata": {},
   "outputs": [
    {
     "data": {
      "text/plain": [
       "['accesom.xlsx',\n",
       " 'accesom_2.xlsx',\n",
       " 'cwpops.xlsx',\n",
       " 'dbiz.xlsx',\n",
       " 'dbizi.xlsx',\n",
       " 'dbiz_extras.xlsx',\n",
       " 'distances.xlsx',\n",
       " 'es.xlsx',\n",
       " 'es_sin_brasil.xlsx',\n",
       " 'geom_air.xlsx',\n",
       " 'laboral.xlsx',\n",
       " 'laboral_2.xlsx',\n",
       " 'latlongs.xlsx',\n",
       " 'metro_areas.xlsx',\n",
       " 'mlab.xlsx',\n",
       " 'mlabi.xlsx',\n",
       " 'prope',\n",
       " 'sectores.xlsx']"
      ]
     },
     "execution_count": 7,
     "metadata": {},
     "output_type": "execute_result"
    }
   ],
   "source": [
    "files"
   ]
  },
  {
   "cell_type": "code",
   "execution_count": 718,
   "metadata": {},
   "outputs": [],
   "source": [
    "cw = pd.read_excel(dbox+'/cwpops.xlsx',index_col=[0,1])"
   ]
  },
  {
   "cell_type": "code",
   "execution_count": 719,
   "metadata": {},
   "outputs": [],
   "source": [
    "sectores = pd.read_excel(dbox+'/sectores.xlsx',index_col=[0,1])"
   ]
  },
  {
   "cell_type": "code",
   "execution_count": 720,
   "metadata": {},
   "outputs": [],
   "source": [
    "laboral = pd.read_excel(dbox+'/laboral2.xlsx',index_col=[0,1])"
   ]
  },
  {
   "cell_type": "code",
   "execution_count": 721,
   "metadata": {},
   "outputs": [],
   "source": [
    "distances = pd.read_excel(dbox+'/distances.xlsx',index_col=[0,1])"
   ]
  },
  {
   "cell_type": "markdown",
   "metadata": {},
   "source": [
    "### Base Distances"
   ]
  },
  {
   "cell_type": "code",
   "execution_count": 722,
   "metadata": {},
   "outputs": [],
   "source": [
    "#Obtengo Salarios de todas las ciudades que poseo\n",
    "\n",
    "drop = laboral.reset_index()[laboral.reset_index()['City'].str.contains('total')].set_index(['Country','City']).index\n",
    "lab = laboral.drop(index=drop).loc[:,'Salario Horario (PPP 2011)'].to_frame()"
   ]
  },
  {
   "cell_type": "code",
   "execution_count": 723,
   "metadata": {},
   "outputs": [],
   "source": [
    "lab = lab.reset_index()"
   ]
  },
  {
   "cell_type": "code",
   "execution_count": 724,
   "metadata": {},
   "outputs": [],
   "source": [
    "lab['City2'] = lab['City'].str.replace(r'\\([^)]*\\)', '').str.strip()"
   ]
  },
  {
   "cell_type": "code",
   "execution_count": 725,
   "metadata": {},
   "outputs": [],
   "source": [
    "lab = lab.rename(columns={'City':'City old','City2':'City'}).set_index(['Country','City']).drop(columns='City old')"
   ]
  },
  {
   "cell_type": "code",
   "execution_count": 726,
   "metadata": {},
   "outputs": [],
   "source": [
    "#Obtengo indice de ciudades que quiero obtener salarios/salario + cercano\n",
    "\n",
    "indices = distances.reset_index().dropna().drop_duplicates(['Country','City']).loc[:,['Country','City']].set_index(['Country','City']).join(cw.loc[:,['pops']],how='inner')\n",
    "indices['Salario Horario (PPP 2011)'] = np.nan\n",
    "indices['Nearest City'] = \"\"\n",
    "indices = indices.rename(columns={'pops':'Población (millones)'})"
   ]
  },
  {
   "cell_type": "code",
   "execution_count": 727,
   "metadata": {},
   "outputs": [],
   "source": [
    "#Creo base de distances con salarios para las ciudades B\n",
    "\n",
    "distances = distances.dropna()\n",
    "distances_i = distances.reset_index().set_index(['Country','City B']).join(lab.reset_index().rename(columns={'City':'City B'}).set_index(['Country','City B']),how='inner').reset_index().sort_values(['Country','City','City B']).set_index(['Country','City'])\n",
    "distances_i = distances_i.reset_index().sort_values(['Country','City','duration_traffic']).drop_duplicates(subset=['Country','City'])"
   ]
  },
  {
   "cell_type": "code",
   "execution_count": 728,
   "metadata": {},
   "outputs": [],
   "source": [
    "#Necesito Filtrar la base distances_i y dejar solo las ciudades para las que no tengo salario para luego appendearla a Lab, y tener 422 ciudades con sal/sal cercano\n",
    "\n",
    "distances_i = distances_i.rename(columns={'City B':'nearest_loc'}).drop(columns=['Point A','Point B','Distance','Duration','Duration in traffic','parsed_duration','dit_elementos'])\n",
    "distances_i = distances_i.set_index(['Country','City'])"
   ]
  },
  {
   "cell_type": "code",
   "execution_count": 729,
   "metadata": {},
   "outputs": [],
   "source": [
    "for i,r in indices.iterrows():\n",
    "    if i in lab.index:\n",
    "        a = lab.loc[i,'Salario Horario (PPP 2011)']\n",
    "        b = i[1]\n",
    "    else:\n",
    "        a = distances_i.loc[i,'Salario Horario (PPP 2011)']\n",
    "        b = distances_i.loc[i,'nearest_loc']\n",
    "    indices.at[i,'Salario Horario (PPP 2011)'] = a\n",
    "    indices.at[i,'Nearest City'] = b"
   ]
  },
  {
   "cell_type": "code",
   "execution_count": 731,
   "metadata": {},
   "outputs": [],
   "source": [
    "indices['Masa Salarial'] = indices['Población (millones)'] * indices['Salario Horario (PPP 2011)']"
   ]
  },
  {
   "cell_type": "markdown",
   "metadata": {},
   "source": [
    "#### Debemos ahora, crear la primer función que logre generar los 25,50,75,100"
   ]
  },
  {
   "cell_type": "code",
   "execution_count": 736,
   "metadata": {},
   "outputs": [],
   "source": [
    "dist = distances[distances.columns[-2:]]\n",
    "dist = dist.reset_index()"
   ]
  },
  {
   "cell_type": "code",
   "execution_count": 737,
   "metadata": {},
   "outputs": [],
   "source": [
    "#Distances duplicados\n",
    "dist = dist.drop(index=dist[dist.duplicated(subset=['Country','City','City B'])].index).set_index(['Country','City'])"
   ]
  },
  {
   "cell_type": "code",
   "execution_count": 739,
   "metadata": {},
   "outputs": [],
   "source": [
    "#Creo Masa Salarial como % de la MS nacional\n",
    "indices = indices.join(indices.loc[:,'Masa Salarial'].groupby('Country').sum().to_frame(),rsuffix=' (Total País)')\n",
    "indices['Masa Salarial (% Total País)'] = indices['Masa Salarial'] / indices['Masa Salarial (Total País)']"
   ]
  },
  {
   "cell_type": "code",
   "execution_count": 763,
   "metadata": {},
   "outputs": [],
   "source": [
    "indices = indices.reset_index()\n",
    "dist = dist.reset_index()"
   ]
  },
  {
   "cell_type": "code",
   "execution_count": 765,
   "metadata": {},
   "outputs": [],
   "source": [
    "#Creo Base Shares, que contiene distancias, MS's y Salarios\n",
    "shares = dist.merge(indices.loc[:,['Country','City','Masa Salarial (% Total País)','Salario Horario (PPP 2011)']],how='left',left_on=['Country','City B'],right_on=['Country','City'],indicator=True,validate='m:1').dropna()\n",
    "shares = shares.drop(columns=['_merge','City_y']).rename(columns={'City_x':'City'}).set_index(['Country','City'])\n",
    "indices = indices.rename(columns={'pops':'Población (millones)'})"
   ]
  },
  {
   "cell_type": "code",
   "execution_count": 767,
   "metadata": {},
   "outputs": [],
   "source": [
    "indices = indices.set_index(['Country','City'])"
   ]
  },
  {
   "cell_type": "code",
   "execution_count": 753,
   "metadata": {},
   "outputs": [],
   "source": [
    "def horas(index,tresh):\n",
    "    \n",
    "    a = indices.loc[index,'Masa Salarial (% Total País)']\n",
    "    \n",
    "    df = shares.loc[index]\n",
    "    df = df.sort_values(['Country','City','duration_traffic'])\n",
    "    df['cumsum'] = df['Masa Salarial (% Total País)'].cumsum()\n",
    "    \n",
    "    try:\n",
    "        b = df.loc[df['cumsum']>=(tresh-a),'duration_traffic'][0]\n",
    "    except IndexError:\n",
    "        b = df['duration_traffic'].max()\n",
    "        \n",
    "    return b"
   ]
  },
  {
   "cell_type": "code",
   "execution_count": 754,
   "metadata": {},
   "outputs": [],
   "source": [
    "[indices['Horas al 25% de MS'],indices['Horas al 50% de MS'],indices['Horas al 75% de MS'],indices['Horas al 100% de MS']] = [indices.apply(lambda x: horas(x.name,0.25),axis=1),indices.apply(lambda x: horas(x.name,0.5),axis=1),indices.apply(lambda x: horas(x.name,0.75),axis=1),indices.apply(lambda x: horas(x.name,0.99),axis=1)]"
   ]
  },
  {
   "cell_type": "code",
   "execution_count": 777,
   "metadata": {},
   "outputs": [],
   "source": [
    "def horas(index,tresh):\n",
    "    \n",
    "    a = indices.loc[index,'Masa Salarial (% Total País)']\n",
    "    wage = indices.loc[index,'Salario Horario (PPP 2011)']\n",
    "    \n",
    "    df = shares.loc[index]\n",
    "    df = df.loc[df['Salario Horario (PPP 2011)']>=wage]\n",
    "    df = df.sort_values(['Country','City','duration_traffic'])\n",
    "    df['cumsum'] = df['Masa Salarial (% Total País)'].cumsum()\n",
    "    \n",
    "    try:\n",
    "        b = df.loc[df['cumsum']>=(tresh-a),'duration_traffic'][0]\n",
    "    except IndexError:\n",
    "        b = np.nan\n",
    "        \n",
    "    return b"
   ]
  },
  {
   "cell_type": "code",
   "execution_count": 778,
   "metadata": {},
   "outputs": [],
   "source": [
    "[indices['Horas al 25% de MS (Salarios sup. a ciudad de ref.)'],indices['Horas al 50% de MS (Salarios sup. a ciudad de ref.)'],indices['Horas al 75% de MS (Salarios sup. a ciudad de ref.)'],indices['Horas al 100% de MS (Salarios sup. a ciudad de ref.)']] = [indices.apply(lambda x: horas(x.name,0.25),axis=1),indices.apply(lambda x: horas(x.name,0.5),axis=1),indices.apply(lambda x: horas(x.name,0.75),axis=1),indices.apply(lambda x: horas(x.name,0.99),axis=1)]"
   ]
  },
  {
   "cell_type": "code",
   "execution_count": 780,
   "metadata": {},
   "outputs": [],
   "source": [
    "indices.to_excel(dbox+'/horas_ms.xlsx')"
   ]
  },
  {
   "cell_type": "code",
   "execution_count": null,
   "metadata": {},
   "outputs": [],
   "source": []
  }
 ],
 "metadata": {
  "kernelspec": {
   "display_name": "Python 3",
   "language": "python",
   "name": "python3"
  },
  "language_info": {
   "codemirror_mode": {
    "name": "ipython",
    "version": 3
   },
   "file_extension": ".py",
   "mimetype": "text/x-python",
   "name": "python",
   "nbconvert_exporter": "python",
   "pygments_lexer": "ipython3",
   "version": "3.7.8"
  }
 },
 "nbformat": 4,
 "nbformat_minor": 4
}
