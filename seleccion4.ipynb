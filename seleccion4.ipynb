{
 "cells": [
  {
   "cell_type": "code",
   "execution_count": 1,
   "metadata": {},
   "outputs": [],
   "source": [
    "import re\n",
    "import numpy as np\n",
    "import pandas as pd\n",
    "import openpyxl\n",
    "\n",
    "import geopandas as gpd\n",
    "from shapely.geometry import Point\n",
    "import geographiclib\n",
    "from geographiclib.geodesic import Geodesic\n",
    "import utm\n",
    "from shapely.ops import nearest_points\n",
    "\n",
    "import sys\n",
    "import os\n",
    "import requests\n",
    "from bs4 import BeautifulSoup\n",
    "from lxml import html\n",
    "import warnings\n",
    "\n",
    "import seaborn as sns\n",
    "import matplotlib as mpl\n",
    "import matplotlib.pyplot as plt\n",
    "\n",
    "import urbanpy as up\n",
    "import contextily as ctx\n",
    "\n",
    "import io\n",
    "import json\n",
    "\n",
    "pd.set_option('display.max_rows',999)\n",
    "pd.set_option('display.float_format', lambda x: '%.3f' % x)\n",
    "\n",
    "\n",
    "warnings.filterwarnings(\"ignore\")\n",
    "#import unicodedata\n",
    "#import gzip\n",
    "\n",
    "from shapely import wkt\n",
    "\n",
    "import unidecode"
   ]
  },
  {
   "cell_type": "code",
   "execution_count": 2,
   "metadata": {},
   "outputs": [],
   "source": [
    "import plotly.graph_objects as go\n",
    "import plotly.express as px\n",
    "import chart_studio.plotly as py\n",
    "import plotly"
   ]
  },
  {
   "cell_type": "code",
   "execution_count": 3,
   "metadata": {},
   "outputs": [],
   "source": [
    "pd.options.display.float_format = '{:,.2f}'.format"
   ]
  },
  {
   "cell_type": "markdown",
   "metadata": {},
   "source": [
    "## files"
   ]
  },
  {
   "cell_type": "code",
   "execution_count": 4,
   "metadata": {},
   "outputs": [],
   "source": [
    "dbox = r'c:/Users/Franco/Dropbox/files/clean'\n",
    "files = os.listdir(dbox)"
   ]
  },
  {
   "cell_type": "code",
   "execution_count": 5,
   "metadata": {},
   "outputs": [
    {
     "data": {
      "text/plain": [
       "['accesom.xlsx',\n",
       " 'accesom_2.xlsx',\n",
       " 'cwpops.xlsx',\n",
       " 'dbiz.xlsx',\n",
       " 'dbizi.xlsx',\n",
       " 'dbiz_extras.xlsx',\n",
       " 'distances.xlsx',\n",
       " 'es.xlsx',\n",
       " 'es_sin_brasil.xlsx',\n",
       " 'geom_air.xlsx',\n",
       " 'laboral.xlsx',\n",
       " 'laboral_2(calculo manual para ciudades sin edu secundaria).xlsx',\n",
       " 'latlongs.xlsx',\n",
       " 'metro_areas.xlsx',\n",
       " 'mlab.xlsx',\n",
       " 'mlabi.xlsx',\n",
       " 'prope',\n",
       " 'sectores.xlsx']"
      ]
     },
     "execution_count": 5,
     "metadata": {},
     "output_type": "execute_result"
    }
   ],
   "source": [
    "files"
   ]
  },
  {
   "cell_type": "code",
   "execution_count": 6,
   "metadata": {},
   "outputs": [],
   "source": [
    "cwpops = pd.read_excel(dbox+'/cwpops.xlsx',index_col=[0,1])"
   ]
  },
  {
   "cell_type": "code",
   "execution_count": 7,
   "metadata": {},
   "outputs": [],
   "source": [
    "sectores = pd.read_excel(dbox+'/sectores.xlsx',index_col=[0,1])"
   ]
  },
  {
   "cell_type": "code",
   "execution_count": 8,
   "metadata": {},
   "outputs": [],
   "source": [
    "laboral = pd.read_excel(dbox+'/laboral.xlsx',index_col=[0,1])"
   ]
  },
  {
   "cell_type": "code",
   "execution_count": 10,
   "metadata": {},
   "outputs": [],
   "source": [
    "distances = pd.read_excel(dbox+'/distances.xlsx',index_col=[0,1])"
   ]
  },
  {
   "cell_type": "markdown",
   "metadata": {},
   "source": [
    "#### Mergeos"
   ]
  },
  {
   "cell_type": "code",
   "execution_count": 844,
   "metadata": {},
   "outputs": [],
   "source": [
    "laboral = laboral.reset_index()\n",
    "laboral['Ciudad'] = laboral['City'].str.strip(' ')"
   ]
  },
  {
   "cell_type": "code",
   "execution_count": 845,
   "metadata": {},
   "outputs": [],
   "source": [
    "laboral[laboral['Country']=='Uruguay']['Ciudad'] = laboral.loc[laboral['Country']=='Uruguay','Ciudad'].str.title()"
   ]
  },
  {
   "cell_type": "code",
   "execution_count": 846,
   "metadata": {},
   "outputs": [],
   "source": [
    "laboral = laboral.drop(columns='City').rename(columns={'Ciudad':'City'}).set_index(['Country','City'])"
   ]
  },
  {
   "cell_type": "code",
   "execution_count": 847,
   "metadata": {},
   "outputs": [],
   "source": [
    "lab = laboral.loc[:,laboral.columns[0]].to_frame().merge(geom.loc[:,['lat','long']],left_index=True,right_index=True,how='inner',indicator=True)"
   ]
  },
  {
   "cell_type": "code",
   "execution_count": 848,
   "metadata": {},
   "outputs": [],
   "source": [
    "lab['index_lab'] = lab.index"
   ]
  },
  {
   "cell_type": "code",
   "execution_count": 849,
   "metadata": {},
   "outputs": [],
   "source": [
    "lab = lab.dropna()"
   ]
  },
  {
   "cell_type": "code",
   "execution_count": 850,
   "metadata": {},
   "outputs": [],
   "source": [
    "cw = cwpops.loc[:,['pops','nearest_loc','index1']].join(geom.loc[:,['lat','long']])"
   ]
  },
  {
   "cell_type": "code",
   "execution_count": 851,
   "metadata": {},
   "outputs": [],
   "source": [
    "cw = cw.dropna()"
   ]
  },
  {
   "cell_type": "code",
   "execution_count": 852,
   "metadata": {},
   "outputs": [],
   "source": [
    "cw = gpd.GeoDataFrame(cw, geometry=gpd.points_from_xy(cw.long, cw.lat),crs={'init':'epsg:4326'}) #\n",
    "lab = gpd.GeoDataFrame(lab, geometry=gpd.points_from_xy(lab.long, lab.lat),crs={'init':'epsg:4326'}) #"
   ]
  },
  {
   "cell_type": "code",
   "execution_count": 853,
   "metadata": {},
   "outputs": [],
   "source": [
    "cw = cw.to_crs(epsg=3310)"
   ]
  },
  {
   "cell_type": "code",
   "execution_count": 854,
   "metadata": {},
   "outputs": [],
   "source": [
    "lab = lab.to_crs(epsg=3310)"
   ]
  },
  {
   "cell_type": "code",
   "execution_count": 855,
   "metadata": {},
   "outputs": [],
   "source": [
    "pts = lab['geometry'].unary_union"
   ]
  },
  {
   "cell_type": "code",
   "execution_count": 856,
   "metadata": {},
   "outputs": [],
   "source": [
    "cw['lab_cercana'] = cw['geometry'].apply(lambda x: nearest_points(x, pts)[1])"
   ]
  },
  {
   "cell_type": "code",
   "execution_count": 857,
   "metadata": {},
   "outputs": [],
   "source": [
    "lab['geometry_str'] = lab['geometry'].apply(lambda x: wkt.dumps(x))"
   ]
  },
  {
   "cell_type": "code",
   "execution_count": 858,
   "metadata": {},
   "outputs": [],
   "source": [
    "cw['lab_cercana_str'] = cw['lab_cercana'].apply(lambda x: wkt.dumps(x))"
   ]
  },
  {
   "cell_type": "code",
   "execution_count": 863,
   "metadata": {},
   "outputs": [],
   "source": [
    "cwm = cw.reset_index().merge(lab.loc[:,['Salario Horario (PPP 2011)','index_lab','geometry_str']],how='left',left_on='lab_cercana_str',right_on='geometry_str',validate='m:1',indicator=True).set_index(['Country','City'])"
   ]
  },
  {
   "cell_type": "code",
   "execution_count": 867,
   "metadata": {},
   "outputs": [],
   "source": [
    "cwm = cwm.drop(columns=['lab_cercana_str','geometry_str'])"
   ]
  },
  {
   "cell_type": "code",
   "execution_count": 869,
   "metadata": {},
   "outputs": [],
   "source": [
    "cwm = cwm.rename(columns={'nearest_loc':'near_loc_old'})"
   ]
  },
  {
   "cell_type": "code",
   "execution_count": 905,
   "metadata": {},
   "outputs": [],
   "source": [
    "a = cwm.groupby(['Country','City']).count()['pops'].to_frame()"
   ]
  },
  {
   "cell_type": "code",
   "execution_count": 906,
   "metadata": {},
   "outputs": [
    {
     "data": {
      "text/html": [
       "<div>\n",
       "<style scoped>\n",
       "    .dataframe tbody tr th:only-of-type {\n",
       "        vertical-align: middle;\n",
       "    }\n",
       "\n",
       "    .dataframe tbody tr th {\n",
       "        vertical-align: top;\n",
       "    }\n",
       "\n",
       "    .dataframe thead th {\n",
       "        text-align: right;\n",
       "    }\n",
       "</style>\n",
       "<table border=\"1\" class=\"dataframe\">\n",
       "  <thead>\n",
       "    <tr style=\"text-align: right;\">\n",
       "      <th></th>\n",
       "      <th></th>\n",
       "      <th>pops</th>\n",
       "    </tr>\n",
       "    <tr>\n",
       "      <th>Country</th>\n",
       "      <th>City</th>\n",
       "      <th></th>\n",
       "    </tr>\n",
       "  </thead>\n",
       "  <tbody>\n",
       "    <tr>\n",
       "      <th>Argentina</th>\n",
       "      <th>Partidos del GBA</th>\n",
       "      <td>2</td>\n",
       "    </tr>\n",
       "    <tr>\n",
       "      <th>Mexico</th>\n",
       "      <th>Pachuca</th>\n",
       "      <td>2</td>\n",
       "    </tr>\n",
       "  </tbody>\n",
       "</table>\n",
       "</div>"
      ],
      "text/plain": [
       "                            pops\n",
       "Country   City                  \n",
       "Argentina Partidos del GBA     2\n",
       "Mexico    Pachuca              2"
      ]
     },
     "execution_count": 906,
     "metadata": {},
     "output_type": "execute_result"
    }
   ],
   "source": [
    "a[a['pops']>1]"
   ]
  },
  {
   "cell_type": "code",
   "execution_count": 915,
   "metadata": {},
   "outputs": [],
   "source": [
    "cwm = cwm.reset_index().drop_duplicates(subset=['Country','City']).set_index(['Country','City'])"
   ]
  },
  {
   "cell_type": "markdown",
   "metadata": {},
   "source": [
    "### Tema Población Metroarea"
   ]
  },
  {
   "cell_type": "code",
   "execution_count": 893,
   "metadata": {},
   "outputs": [],
   "source": [
    "msa = pd.read_excel('files/aglomerados/msa.xlsx',index_col=[0,1]).reset_index().replace({'Brazil':'Brasil'})"
   ]
  },
  {
   "cell_type": "code",
   "execution_count": 894,
   "metadata": {},
   "outputs": [],
   "source": [
    "msa['City'] = msa['City'].apply(lambda x: unidecode.unidecode(x))\n",
    "\n",
    "msa = msa.replace({'City':{'Puebla':'Puebla-Tlaxcala'}})\n",
    "\n",
    "mydict={'Córdoba':'Gran Cordoba','Mendoza':'Gran Mendoza','Tucumán':'Gran Tucuman-Tafi Viejo','Rosario':'Gran Rosario','Buenos Aires':'Partidos del GBA'}\n",
    "msa = msa.replace({'City':mydict})\n",
    "\n",
    "mydict={'Santa Cruz de la Sierra':'Andrés Ibañez/Santa Cruz de la Sierra','Cochabamba':'Cercado/Cochabamba','La Paz':'Pedro Domingo Murillo/La Paz y el Alto'}\n",
    "msa = msa.replace({'City':mydict})\n",
    "\n",
    "notlist = ['United States','Canada']\n",
    "\n",
    "msa_latam = msa.loc[~msa['Country'].isin(notlist)]\n",
    "\n",
    "msa_latam = msa_latam.sort_values(['Country','City']).set_index(['Country','City'])\n",
    "\n",
    "msa_latam = msa_latam.rename(columns={'pops':'Población estimada'})"
   ]
  },
  {
   "cell_type": "code",
   "execution_count": 895,
   "metadata": {},
   "outputs": [],
   "source": [
    "msa_latam.to_excel('files\\\\clean\\\\metro_areas.xlsx')"
   ]
  },
  {
   "cell_type": "code",
   "execution_count": 887,
   "metadata": {},
   "outputs": [
    {
     "data": {
      "text/plain": [
       "Index(['rank_continent', 'Población estimada', 'year', 'Continent', 'rank'], dtype='object')"
      ]
     },
     "execution_count": 887,
     "metadata": {},
     "output_type": "execute_result"
    }
   ],
   "source": [
    "msa_latam.columns"
   ]
  },
  {
   "cell_type": "markdown",
   "metadata": {},
   "source": [
    "### Merge"
   ]
  },
  {
   "cell_type": "code",
   "execution_count": 917,
   "metadata": {},
   "outputs": [],
   "source": [
    "cwm = cwm.drop(columns=['_merge'])"
   ]
  },
  {
   "cell_type": "code",
   "execution_count": 919,
   "metadata": {},
   "outputs": [],
   "source": [
    "cwm = cwm.merge(msa_latam.loc[:,'Población estimada'],how='left',left_index=True,right_index=True,indicator=True,validate='1:1')"
   ]
  },
  {
   "cell_type": "code",
   "execution_count": 924,
   "metadata": {},
   "outputs": [],
   "source": [
    "cwm['Población'] = cwm[['pops','Población estimada']].max(axis=1)"
   ]
  },
  {
   "cell_type": "markdown",
   "metadata": {},
   "source": [
    "#### CityWage"
   ]
  },
  {
   "cell_type": "code",
   "execution_count": 929,
   "metadata": {},
   "outputs": [],
   "source": [
    "cwm['City_Wage'] = cwm['Población'] * cwm['Salario Horario (PPP 2011)']"
   ]
  },
  {
   "cell_type": "markdown",
   "metadata": {},
   "source": [
    "## recalculamos el tema de acceso a mercados\n",
    "\n",
    "* La idea es obtener la cantidad de horas de automovil que existe entre 1 ciudad y el 25% / 50% / 75% /100% de la masa salarial del pais que se encuentra con un salario por encima de la ciudad objetivo"
   ]
  },
  {
   "cell_type": "code",
   "execution_count": 989,
   "metadata": {},
   "outputs": [],
   "source": [
    "distances = distances.reset_index()"
   ]
  },
  {
   "cell_type": "code",
   "execution_count": 990,
   "metadata": {},
   "outputs": [],
   "source": [
    "distances = distances.rename(columns={'City':'City A'})"
   ]
  },
  {
   "cell_type": "code",
   "execution_count": 960,
   "metadata": {},
   "outputs": [],
   "source": [
    "cwm = cwm.rename(columns={'index1':'index_old'})"
   ]
  },
  {
   "cell_type": "code",
   "execution_count": 961,
   "metadata": {},
   "outputs": [],
   "source": [
    "cwm['index1'] = cwm.index"
   ]
  },
  {
   "cell_type": "markdown",
   "metadata": {},
   "source": [
    "Ajustes por ciudades faltantes"
   ]
  },
  {
   "cell_type": "code",
   "execution_count": 1000,
   "metadata": {},
   "outputs": [],
   "source": [
    "#Mexico\n",
    "distances = distances.replace({'City A':{'Valle de Mexico':'Mexico'},'City B':{'Valle de Mexico':'Mexico'}})"
   ]
  },
  {
   "cell_type": "code",
   "execution_count": 992,
   "metadata": {},
   "outputs": [],
   "source": [
    "#Panama\n",
    "distances = distances[(distances['City A']!='Panama Arraijan')&(distances['City B']!='Panama Arraijan')]"
   ]
  },
  {
   "cell_type": "code",
   "execution_count": 997,
   "metadata": {},
   "outputs": [],
   "source": [
    "#Paraguay\n",
    "distances = distances[(distances['City A']!='Caaguazu')&(distances['City B']!='Caaguazu')]\n",
    "\n",
    "distances = distances[(distances['City A']!='Alto Parana')&(distances['City B']!='Alto Parana')]\n",
    "\n",
    "distances = distances[(distances['City A']!='Itapua')&(distances['City B']!='Itapua')]"
   ]
  },
  {
   "cell_type": "code",
   "execution_count": 1001,
   "metadata": {},
   "outputs": [],
   "source": [
    "#Peru\n",
    "distances = distances[(distances['City A']!='Canete')&(distances['City B']!='Canete')]"
   ]
  },
  {
   "cell_type": "code",
   "execution_count": 1002,
   "metadata": {},
   "outputs": [],
   "source": [
    "def get_wages_from_cutoff(city_index, cutoff):\n",
    "    city_wage = cwm.drop_duplicates('index1').loc[city_index]['City_Wage']\n",
    "    distan = distances[(distances['Country'] == city_index[0])\n",
    "                            &(distances['City A'] == city_index[1])\n",
    "                            &(distances['duration_traffic'] <= cutoff)].drop_duplicates('City B')\n",
    "\n",
    "    nearby_cities = [(x,y) for x,y in distan[['Country','City B']].values.tolist()]\n",
    "    if len(nearby_cities) == 0:\n",
    "        return city_wage\n",
    "    else:\n",
    "        nearby_wages = cwm.loc[nearby_cities]['City_Wage'].sum()\n",
    "        return nearby_wages + city_wage"
   ]
  },
  {
   "cell_type": "code",
   "execution_count": 1003,
   "metadata": {},
   "outputs": [],
   "source": [
    "def get_countryshare_from_cutoff(city_index, cutoff, share_out = True):\n",
    "    nearwages = get_wages_from_cutoff(city_index, cutoff = cutoff)\n",
    "    country_wages = cwm.groupby('Country')['City_Wage'].sum().loc[city_index[0]]\n",
    "    share = nearwages/country_wages\n",
    "    if share_out == True:\n",
    "        return share\n",
    "    else:\n",
    "        return nearwages"
   ]
  },
  {
   "cell_type": "code",
   "execution_count": 1004,
   "metadata": {},
   "outputs": [],
   "source": [
    "shares_cutoff = pd.DataFrame(index = cwm.index)\n",
    "\n",
    "shares_cutoff['index1'] = shares_cutoff.index\n",
    "for i in range(10):\n",
    "    shares_cutoff['cutoff_' + str(i)] = shares_cutoff['index1'].apply(\n",
    "                lambda x: get_countryshare_from_cutoff(x, cutoff = i))"
   ]
  },
  {
   "cell_type": "code",
   "execution_count": 1008,
   "metadata": {},
   "outputs": [],
   "source": [
    "shares_cutoff.to_excel(direc+'\\\\accesom_2.xlsx')"
   ]
  },
  {
   "cell_type": "code",
   "execution_count": 1007,
   "metadata": {},
   "outputs": [
    {
     "data": {
      "text/plain": [
       "'c:\\\\Users\\\\Franco\\\\Python\\\\CAF\\\\files\\\\clean'"
      ]
     },
     "execution_count": 1007,
     "metadata": {},
     "output_type": "execute_result"
    }
   ],
   "source": [
    "direc"
   ]
  },
  {
   "cell_type": "markdown",
   "metadata": {},
   "source": [
    "## Ahora hay que cambiar las funciones"
   ]
  },
  {
   "cell_type": "code",
   "execution_count": 1002,
   "metadata": {},
   "outputs": [],
   "source": [
    "def get_wages_from_cutoff(city_index, cutoff):\n",
    "    city_wage = cwm.drop_duplicates('index1').loc[city_index]['City_Wage']\n",
    "    distan = distances[(distances['Country'] == city_index[0])\n",
    "                            &(distances['City A'] == city_index[1])\n",
    "                            &(distances['duration_traffic'] <= cutoff)].drop_duplicates('City B')\n",
    "\n",
    "    nearby_cities = [(x,y) for x,y in distan[['Country','City B']].values.tolist()]\n",
    "    if len(nearby_cities) == 0:\n",
    "        return city_wage\n",
    "    else:\n",
    "        nearby_wages = cwm.loc[nearby_cities]['City_Wage'].sum()\n",
    "        return nearby_wages + city_wage"
   ]
  },
  {
   "cell_type": "code",
   "execution_count": 1003,
   "metadata": {},
   "outputs": [],
   "source": [
    "def get_countryshare_from_cutoff(city_index, cutoff, share_out = True):\n",
    "    nearwages = get_wages_from_cutoff(city_index, cutoff = cutoff)\n",
    "    country_wages = cwm.groupby('Country')['City_Wage'].sum().loc[city_index[0]]\n",
    "    share = nearwages/country_wages\n",
    "    if share_out == True:\n",
    "        return share\n",
    "    else:\n",
    "        return nearwages"
   ]
  },
  {
   "cell_type": "code",
   "execution_count": 1004,
   "metadata": {},
   "outputs": [],
   "source": [
    "shares_cutoff = pd.DataFrame(index = cwm.index)\n",
    "\n",
    "shares_cutoff['index1'] = shares_cutoff.index\n",
    "for i in range(10):\n",
    "    shares_cutoff['cutoff_' + str(i)] = shares_cutoff['index1'].apply(\n",
    "                lambda x: get_countryshare_from_cutoff(x, cutoff = i))"
   ]
  },
  {
   "cell_type": "code",
   "execution_count": 1009,
   "metadata": {},
   "outputs": [
    {
     "data": {
      "text/html": [
       "<div>\n",
       "<style scoped>\n",
       "    .dataframe tbody tr th:only-of-type {\n",
       "        vertical-align: middle;\n",
       "    }\n",
       "\n",
       "    .dataframe tbody tr th {\n",
       "        vertical-align: top;\n",
       "    }\n",
       "\n",
       "    .dataframe thead th {\n",
       "        text-align: right;\n",
       "    }\n",
       "</style>\n",
       "<table border=\"1\" class=\"dataframe\">\n",
       "  <thead>\n",
       "    <tr style=\"text-align: right;\">\n",
       "      <th></th>\n",
       "      <th></th>\n",
       "      <th>index1</th>\n",
       "      <th>cutoff_0</th>\n",
       "      <th>cutoff_1</th>\n",
       "      <th>cutoff_2</th>\n",
       "      <th>cutoff_3</th>\n",
       "      <th>cutoff_4</th>\n",
       "      <th>cutoff_5</th>\n",
       "      <th>cutoff_6</th>\n",
       "      <th>cutoff_7</th>\n",
       "      <th>cutoff_8</th>\n",
       "      <th>cutoff_9</th>\n",
       "    </tr>\n",
       "    <tr>\n",
       "      <th>Country</th>\n",
       "      <th>City</th>\n",
       "      <th></th>\n",
       "      <th></th>\n",
       "      <th></th>\n",
       "      <th></th>\n",
       "      <th></th>\n",
       "      <th></th>\n",
       "      <th></th>\n",
       "      <th></th>\n",
       "      <th></th>\n",
       "      <th></th>\n",
       "      <th></th>\n",
       "    </tr>\n",
       "  </thead>\n",
       "  <tbody>\n",
       "    <tr>\n",
       "      <th rowspan=\"5\" valign=\"top\">Argentina</th>\n",
       "      <th>Bahia Blanca-Cerri</th>\n",
       "      <td>(Argentina, Bahia Blanca-Cerri)</td>\n",
       "      <td>0.01</td>\n",
       "      <td>0.01</td>\n",
       "      <td>0.01</td>\n",
       "      <td>0.02</td>\n",
       "      <td>0.02</td>\n",
       "      <td>0.02</td>\n",
       "      <td>0.05</td>\n",
       "      <td>0.06</td>\n",
       "      <td>0.69</td>\n",
       "      <td>0.69</td>\n",
       "    </tr>\n",
       "    <tr>\n",
       "      <th>Ciudad de Buenos Aires</th>\n",
       "      <td>(Argentina, Ciudad de Buenos Aires)</td>\n",
       "      <td>0.15</td>\n",
       "      <td>0.62</td>\n",
       "      <td>0.62</td>\n",
       "      <td>0.63</td>\n",
       "      <td>0.68</td>\n",
       "      <td>0.72</td>\n",
       "      <td>0.73</td>\n",
       "      <td>0.73</td>\n",
       "      <td>0.79</td>\n",
       "      <td>0.79</td>\n",
       "    </tr>\n",
       "    <tr>\n",
       "      <th>Comodoro Rivadavia-Rada Tilly</th>\n",
       "      <td>(Argentina, Comodoro Rivadavia-Rada Tilly)</td>\n",
       "      <td>0.01</td>\n",
       "      <td>0.01</td>\n",
       "      <td>0.01</td>\n",
       "      <td>0.01</td>\n",
       "      <td>0.01</td>\n",
       "      <td>0.01</td>\n",
       "      <td>0.01</td>\n",
       "      <td>0.01</td>\n",
       "      <td>0.01</td>\n",
       "      <td>0.02</td>\n",
       "    </tr>\n",
       "    <tr>\n",
       "      <th>Concordia</th>\n",
       "      <td>(Argentina, Concordia)</td>\n",
       "      <td>0.00</td>\n",
       "      <td>0.00</td>\n",
       "      <td>0.00</td>\n",
       "      <td>0.00</td>\n",
       "      <td>0.02</td>\n",
       "      <td>0.69</td>\n",
       "      <td>0.72</td>\n",
       "      <td>0.73</td>\n",
       "      <td>0.77</td>\n",
       "      <td>0.80</td>\n",
       "    </tr>\n",
       "    <tr>\n",
       "      <th>Corrientes</th>\n",
       "      <td>(Argentina, Corrientes)</td>\n",
       "      <td>0.01</td>\n",
       "      <td>0.02</td>\n",
       "      <td>0.02</td>\n",
       "      <td>0.02</td>\n",
       "      <td>0.03</td>\n",
       "      <td>0.03</td>\n",
       "      <td>0.03</td>\n",
       "      <td>0.04</td>\n",
       "      <td>0.07</td>\n",
       "      <td>0.12</td>\n",
       "    </tr>\n",
       "  </tbody>\n",
       "</table>\n",
       "</div>"
      ],
      "text/plain": [
       "                                                                             index1  \\\n",
       "Country   City                                                                        \n",
       "Argentina Bahia Blanca-Cerri                        (Argentina, Bahia Blanca-Cerri)   \n",
       "          Ciudad de Buenos Aires                (Argentina, Ciudad de Buenos Aires)   \n",
       "          Comodoro Rivadavia-Rada Tilly  (Argentina, Comodoro Rivadavia-Rada Tilly)   \n",
       "          Concordia                                          (Argentina, Concordia)   \n",
       "          Corrientes                                        (Argentina, Corrientes)   \n",
       "\n",
       "                                         cutoff_0  cutoff_1  cutoff_2  \\\n",
       "Country   City                                                          \n",
       "Argentina Bahia Blanca-Cerri                 0.01      0.01      0.01   \n",
       "          Ciudad de Buenos Aires             0.15      0.62      0.62   \n",
       "          Comodoro Rivadavia-Rada Tilly      0.01      0.01      0.01   \n",
       "          Concordia                          0.00      0.00      0.00   \n",
       "          Corrientes                         0.01      0.02      0.02   \n",
       "\n",
       "                                         cutoff_3  cutoff_4  cutoff_5  \\\n",
       "Country   City                                                          \n",
       "Argentina Bahia Blanca-Cerri                 0.02      0.02      0.02   \n",
       "          Ciudad de Buenos Aires             0.63      0.68      0.72   \n",
       "          Comodoro Rivadavia-Rada Tilly      0.01      0.01      0.01   \n",
       "          Concordia                          0.00      0.02      0.69   \n",
       "          Corrientes                         0.02      0.03      0.03   \n",
       "\n",
       "                                         cutoff_6  cutoff_7  cutoff_8  \\\n",
       "Country   City                                                          \n",
       "Argentina Bahia Blanca-Cerri                 0.05      0.06      0.69   \n",
       "          Ciudad de Buenos Aires             0.73      0.73      0.79   \n",
       "          Comodoro Rivadavia-Rada Tilly      0.01      0.01      0.01   \n",
       "          Concordia                          0.72      0.73      0.77   \n",
       "          Corrientes                         0.03      0.04      0.07   \n",
       "\n",
       "                                         cutoff_9  \n",
       "Country   City                                     \n",
       "Argentina Bahia Blanca-Cerri                 0.69  \n",
       "          Ciudad de Buenos Aires             0.79  \n",
       "          Comodoro Rivadavia-Rada Tilly      0.02  \n",
       "          Concordia                          0.80  \n",
       "          Corrientes                         0.12  "
      ]
     },
     "execution_count": 1009,
     "metadata": {},
     "output_type": "execute_result"
    }
   ],
   "source": [
    "shares_cutoff.head()"
   ]
  },
  {
   "cell_type": "code",
   "execution_count": null,
   "metadata": {},
   "outputs": [],
   "source": []
  }
 ],
 "metadata": {
  "kernelspec": {
   "display_name": "Python 3",
   "language": "python",
   "name": "python3"
  },
  "language_info": {
   "codemirror_mode": {
    "name": "ipython",
    "version": 3
   },
   "file_extension": ".py",
   "mimetype": "text/x-python",
   "name": "python",
   "nbconvert_exporter": "python",
   "pygments_lexer": "ipython3",
   "version": "3.7.8"
  }
 },
 "nbformat": 4,
 "nbformat_minor": 4
}
