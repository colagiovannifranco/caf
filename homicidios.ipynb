{
 "cells": [
  {
   "cell_type": "code",
   "execution_count": 1,
   "metadata": {},
   "outputs": [],
   "source": [
    "import re\n",
    "import numpy as np\n",
    "import pandas as pd\n",
    "import openpyxl\n",
    "\n",
    "import geopandas as gpd\n",
    "#from shapely.geometry import Point\n",
    "#from shapely import wkt\n",
    "#import geographiclib\n",
    "#from geographiclib.geodesic import Geodesic\n",
    "#import utm\n",
    "#from shapely.ops import nearest_points\n",
    "\n",
    "import sys\n",
    "import os\n",
    "import requests\n",
    "from bs4 import BeautifulSoup\n",
    "from lxml import html\n",
    "import warnings\n",
    "import unidecode\n",
    "\n",
    "import matplotlib as mpl\n",
    "import matplotlib.pyplot as plt\n",
    "import seaborn as sns\n",
    "\n",
    "#import urbanpy as up\n",
    "#import contextily as ctx\n",
    "\n",
    "import io\n",
    "import json\n",
    "\n",
    "import plotly.graph_objects as go\n",
    "import plotly.express as px\n",
    "import plotly as py\n",
    "\n",
    "pd.set_option('display.max_rows',999)\n",
    "pd.set_option('display.min_rows',4)\n",
    "pd.set_option('display.float_format', '{:,.2f}'.format)\n",
    "\n",
    "warnings.filterwarnings(\"ignore\")"
   ]
  },
  {
   "cell_type": "code",
   "execution_count": 2,
   "metadata": {},
   "outputs": [],
   "source": [
    "path = r'c:/Users/Franco/dropbox/files/'"
   ]
  },
  {
   "cell_type": "code",
   "execution_count": 3,
   "metadata": {},
   "outputs": [],
   "source": [
    "cw = pd.read_excel(path+'clean/cwpops.xlsx',index_col=[0,1]).loc[:,['pops','City2']]"
   ]
  },
  {
   "cell_type": "code",
   "execution_count": 4,
   "metadata": {},
   "outputs": [],
   "source": [
    "idx = pd.IndexSlice"
   ]
  },
  {
   "cell_type": "markdown",
   "metadata": {},
   "source": [
    "## Mex"
   ]
  },
  {
   "cell_type": "code",
   "execution_count": 149,
   "metadata": {},
   "outputs": [],
   "source": [
    "pmex = 'Homicidios/mex/'"
   ]
  },
  {
   "cell_type": "markdown",
   "metadata": {},
   "source": [
    "* https://www.gob.mx/sesnsp/acciones-y-programas/datos-abiertos-de-incidencia-delictiva\n",
    "* https://drive.google.com/file/d/15IwT5yJ-fEF6tLc0iM4-Q1OWhOGRFnLB/view?usp=sharing"
   ]
  },
  {
   "cell_type": "code",
   "execution_count": 5,
   "metadata": {},
   "outputs": [],
   "source": [
    "files_mex = os.listdir(path+mex)"
   ]
  },
  {
   "cell_type": "code",
   "execution_count": 10,
   "metadata": {},
   "outputs": [],
   "source": [
    "mex = pd.read_excel(path+mex+files_mex[1])"
   ]
  },
  {
   "cell_type": "code",
   "execution_count": 51,
   "metadata": {},
   "outputs": [],
   "source": [
    "mex['Homicidios_año'] = mex.loc[:,['Enero','Febrero','Marzo','Abril','Mayo','Junio','Julio','Agosto','Septiembre','Octubre','Noviembre','Diciembre']].sum(axis=1)"
   ]
  },
  {
   "cell_type": "code",
   "execution_count": 73,
   "metadata": {},
   "outputs": [],
   "source": [
    "mex['City'] = mex['Municipio']"
   ]
  },
  {
   "cell_type": "code",
   "execution_count": 86,
   "metadata": {},
   "outputs": [],
   "source": [
    "mex = mex.set_index('Entidad')\n",
    "mex.at['Ciudad de México','City'] = 'Valle de Mexico'"
   ]
  },
  {
   "cell_type": "code",
   "execution_count": 97,
   "metadata": {},
   "outputs": [],
   "source": [
    "mex1 = mex[(mex['Subtipo de delito'] == 'Homicidio doloso')].groupby(['Entidad','City']).agg({'Año':'first','Cve. Municipio':'first','Clave_Ent':'first','Municipio':'first','Homicidios_año':'sum'}).reset_index().rename(columns={'Entidad':'Estado'})"
   ]
  },
  {
   "cell_type": "code",
   "execution_count": 98,
   "metadata": {},
   "outputs": [],
   "source": [
    "mex1['City'] = mex1['City'].apply(lambda x: unidecode.unidecode(x))"
   ]
  },
  {
   "cell_type": "code",
   "execution_count": 105,
   "metadata": {},
   "outputs": [],
   "source": [
    "mex2 = cw.loc['Mexico','pops'].to_frame().join(mex1.set_index('City'),how='inner')"
   ]
  },
  {
   "cell_type": "code",
   "execution_count": 120,
   "metadata": {},
   "outputs": [],
   "source": [
    "dup = mex2[mex2.loc[:,'Estado'].groupby('City').count()>1]"
   ]
  },
  {
   "cell_type": "code",
   "execution_count": 128,
   "metadata": {},
   "outputs": [],
   "source": [
    "dup = dup.reset_index().loc[[1,5,8,9,12]]"
   ]
  },
  {
   "cell_type": "code",
   "execution_count": 135,
   "metadata": {},
   "outputs": [],
   "source": [
    "mex3 = mex2[~mex2.index.duplicated(keep=False)].append(dup.set_index('City'))"
   ]
  },
  {
   "cell_type": "code",
   "execution_count": 144,
   "metadata": {},
   "outputs": [],
   "source": [
    "mex3['Homicidios cada 100.000 hab.'] = mex3['Homicidios_año'] / (mex3['pops'] * 1000000 / 100000)"
   ]
  },
  {
   "cell_type": "code",
   "execution_count": 152,
   "metadata": {},
   "outputs": [],
   "source": [
    "mex3.to_excel(path+pmex+'mex_2016.xlsx')"
   ]
  },
  {
   "cell_type": "markdown",
   "metadata": {},
   "source": [
    "## Arg"
   ]
  },
  {
   "cell_type": "code",
   "execution_count": 403,
   "metadata": {},
   "outputs": [],
   "source": [
    "homicidios_arg = pd.read_excel('c:\\\\Users\\\\Franco\\\\Dropbox\\\\files\\\\Homicidios\\\\arg\\\\homicidios_ar.xlsx',index_col=[0,1,2])"
   ]
  },
  {
   "cell_type": "code",
   "execution_count": 404,
   "metadata": {},
   "outputs": [],
   "source": [
    "caba = pd.DataFrame({'Provincia':['Ciudad Autonoma de Buenos Aires'],\n",
    "              'Departamento':['Ciudad de Buenos Aires'],\n",
    "              'Year':[2016],\n",
    "              'provincia_id':[np.nan],'dpto_id':[np.nan],\n",
    "              'codigo_delito_agrupado_nombre':['Total de víctimas de homicidios dolosos'],\n",
    "              'cantidad_hechos':[np.nan],\n",
    "               'cantidad_victimas':[148]}).set_index(['Provincia','Departamento','Year'])"
   ]
  },
  {
   "cell_type": "code",
   "execution_count": 405,
   "metadata": {},
   "outputs": [],
   "source": [
    "hom_arg = homicidios_arg.append(caba)"
   ]
  },
  {
   "cell_type": "code",
   "execution_count": 406,
   "metadata": {},
   "outputs": [],
   "source": [
    "hom_arg = hom_arg.loc[idx[:,:,2016],:]"
   ]
  },
  {
   "cell_type": "code",
   "execution_count": 407,
   "metadata": {},
   "outputs": [],
   "source": [
    "hom_arg = hom_arg.reset_index()"
   ]
  },
  {
   "cell_type": "code",
   "execution_count": 408,
   "metadata": {},
   "outputs": [],
   "source": [
    "hom_arg['City'] = hom_arg['Departamento']"
   ]
  },
  {
   "cell_type": "code",
   "execution_count": 409,
   "metadata": {},
   "outputs": [],
   "source": [
    "hom_arg['City'] = hom_arg['City'].apply(lambda x: unidecode.unidecode(x))\n",
    "hom_arg['Provincia'] = hom_arg['Provincia'].apply(lambda x: unidecode.unidecode(x))\n",
    "hom_arg['Departamento'] = hom_arg['Departamento'].apply(lambda x: unidecode.unidecode(x))"
   ]
  },
  {
   "cell_type": "code",
   "execution_count": 410,
   "metadata": {},
   "outputs": [],
   "source": [
    "pgba = ['Avellaneda',\n",
    "'General San Martín',\n",
    "'Hurlingham',\n",
    "'Ituzaingó',\n",
    "'José C. Paz',\n",
    "'Lanús',\n",
    "'Lomas de Zamora',\n",
    "'Malvinas Argentinas',\n",
    "'Morón',\n",
    "'Quilmes',\n",
    "'San Isidro',\n",
    "'Tres de Febrero',\n",
    "'Vicente López',\n",
    "'Almirante Brown',\n",
    "'Berazategui',\n",
    "'Esteban Echeverría',\n",
    "'Ezeiza',\n",
    "'Florencio Varela',\n",
    "'La Matanza',\n",
    "'Merlo',\n",
    "'Moreno',\n",
    "'San Fernando',\n",
    "'San Miguel',\n",
    "'Tigre']"
   ]
  },
  {
   "cell_type": "code",
   "execution_count": 411,
   "metadata": {},
   "outputs": [],
   "source": [
    "pgba = [unidecode.unidecode(x) for x in pgba]"
   ]
  },
  {
   "cell_type": "code",
   "execution_count": 412,
   "metadata": {},
   "outputs": [],
   "source": [
    "hom_arg = hom_arg.set_index(['Provincia','Departamento'])"
   ]
  },
  {
   "cell_type": "code",
   "execution_count": 414,
   "metadata": {},
   "outputs": [],
   "source": [
    "hom_arg.loc[idx['Buenos Aires',pgba],'City'] = 'Partidos del GBA'"
   ]
  },
  {
   "cell_type": "code",
   "execution_count": 415,
   "metadata": {},
   "outputs": [],
   "source": [
    "hom_arg = hom_arg.reset_index().set_index(['Provincia','City'])"
   ]
  },
  {
   "cell_type": "code",
   "execution_count": 416,
   "metadata": {},
   "outputs": [],
   "source": [
    "amba = hom_arg.loc[('Buenos Aires','Partidos del GBA'),:]"
   ]
  },
  {
   "cell_type": "code",
   "execution_count": 417,
   "metadata": {},
   "outputs": [],
   "source": [
    "noamba = hom_arg.drop(index=amba.index)"
   ]
  },
  {
   "cell_type": "code",
   "execution_count": 418,
   "metadata": {},
   "outputs": [],
   "source": [
    "amba = amba.reset_index().groupby('City').agg({'Provincia':'first','Year':'first','provincia_id':'first','dpto_id':'first','cantidad_hechos':'sum','cantidad_victimas':'sum'}).reset_index().set_index(['Provincia','City'])"
   ]
  },
  {
   "cell_type": "code",
   "execution_count": 419,
   "metadata": {},
   "outputs": [],
   "source": [
    "ha = noamba.append(amba)"
   ]
  },
  {
   "cell_type": "code",
   "execution_count": 498,
   "metadata": {},
   "outputs": [],
   "source": [
    "ha['Cityh'] = ha.index"
   ]
  },
  {
   "cell_type": "code",
   "execution_count": 420,
   "metadata": {},
   "outputs": [],
   "source": [
    "city_cw = cw.loc['Argentina'].index.to_list()"
   ]
  },
  {
   "cell_type": "code",
   "execution_count": 458,
   "metadata": {},
   "outputs": [],
   "source": [
    "cityh = [('Buenos Aires','Bahia Blanca'),\n",
    " ('Ciudad Autonoma de Buenos Aires','Ciudad de Buenos Aires'),\n",
    " ('Chubut','Escalante'),\n",
    " ('Entre Rios','Concordia'),\n",
    " ('Corrientes','Capital'),\n",
    " ('Formosa','Formosa'),\n",
    " ('Catamarca','Capital'),\n",
    " ('Cordoba','Capital'),\n",
    " ('Buenos Aires','La Plata'),\n",
    " ('Mendoza','Capital'),\n",
    " ('Entre Rios','Parana'),\n",
    " ('Chaco','San Fernando'),\n",
    " ('Santa Fe','Rosario'),\n",
    " ('San Juan','Capital'),\n",
    " ('Santa Fe','La Capital'),\n",
    " ('Tucuman','Capital'),\n",
    " ('Jujuy','Dr. Manuel Belgrano'),\n",
    " ('La Rioja','Capital'),\n",
    " ('Buenos Aires','General Pueyrredon'),\n",
    " ('Neuquen','Confluencia'),\n",
    " ('Buenos Aires','Partidos del GBA'),\n",
    " ('Misiones','Capital'),\n",
    " ('Chubut','Rawson'),\n",
    " ('Cordoba','Rio Cuarto'),\n",
    " ('Santa Cruz','Guer Aike'),\n",
    " ('Salta','Capital'),\n",
    " ('San Luis','La Capital'),\n",
    " ('Buenos Aires','San Nicolas'),\n",
    " ('Mendoza','San Rafael'),\n",
    " ('La Pampa','Centro (Santa Rosa)'),\n",
    " ('Santiago del Estero','Capital'),\n",
    " ('Buenos Aires','Tandil'),\n",
    " ('Tierra del Fuego','Ushuaia'),\n",
    " ('Rio Negro','Adolfo Alsina')]"
   ]
  },
  {
   "cell_type": "code",
   "execution_count": 486,
   "metadata": {},
   "outputs": [],
   "source": [
    "merge = pd.DataFrame({'City':city_cw,'Cityh':cityh}).set_index('City')"
   ]
  },
  {
   "cell_type": "code",
   "execution_count": 478,
   "metadata": {},
   "outputs": [],
   "source": [
    "cwa = cw.loc['Argentina'].reset_index()"
   ]
  },
  {
   "cell_type": "code",
   "execution_count": 479,
   "metadata": {},
   "outputs": [],
   "source": [
    "cwa['City2'] = cwa['City']"
   ]
  },
  {
   "cell_type": "code",
   "execution_count": 489,
   "metadata": {},
   "outputs": [],
   "source": [
    "cwa = cwa.set_index('City').join(merge)"
   ]
  },
  {
   "cell_type": "code",
   "execution_count": 504,
   "metadata": {},
   "outputs": [],
   "source": [
    "cwa = cwa.reset_index().merge(ha,left_on='Cityh',right_on='Cityh',how='left',indicator=True).set_index('City')"
   ]
  },
  {
   "cell_type": "code",
   "execution_count": 507,
   "metadata": {},
   "outputs": [],
   "source": [
    "cwa['Homicidios cada 100.000 hab.'] = cwa['cantidad_victimas'] / (cwa['pops'] * 1000000 / 100000)"
   ]
  },
  {
   "cell_type": "code",
   "execution_count": 508,
   "metadata": {},
   "outputs": [],
   "source": [
    "cwa.to_excel('c:\\\\Users\\\\Franco\\\\Dropbox\\\\files\\\\Homicidios\\\\arg\\\\hom_arg_final.xlsx')"
   ]
  },
  {
   "cell_type": "markdown",
   "metadata": {},
   "source": [
    "## Bra"
   ]
  },
  {
   "cell_type": "code",
   "execution_count": 83,
   "metadata": {},
   "outputs": [],
   "source": [
    "hbra_tasa = pd.read_excel('c:\\\\Users\\\\Franco\\\\Dropbox\\\\files\\\\Homicidios\\\\bra\\\\homicidios_bra.xlsx',index_col=[0,1])"
   ]
  },
  {
   "cell_type": "code",
   "execution_count": 87,
   "metadata": {},
   "outputs": [],
   "source": [
    "hom = hbra_tasa.reset_index().rename(columns={'City':'nome'})"
   ]
  },
  {
   "cell_type": "code",
   "execution_count": 88,
   "metadata": {},
   "outputs": [],
   "source": [
    "hom['City'] = hom['nome'].apply(lambda x: unidecode.unidecode(x))"
   ]
  },
  {
   "cell_type": "code",
   "execution_count": 89,
   "metadata": {},
   "outputs": [],
   "source": [
    "hom = hom.sort_values(['City','Year']).set_index(['City','Year'])"
   ]
  },
  {
   "cell_type": "code",
   "execution_count": 90,
   "metadata": {},
   "outputs": [],
   "source": [
    "h16 = hom.loc[idx[:,2016],:]"
   ]
  },
  {
   "cell_type": "code",
   "execution_count": 91,
   "metadata": {},
   "outputs": [],
   "source": [
    "cbra = cw.loc['Brasil']"
   ]
  },
  {
   "cell_type": "code",
   "execution_count": 95,
   "metadata": {},
   "outputs": [],
   "source": [
    "hbra = cbra.join(h16,how='inner').sort_values(['City','Homicidios cada 100.000 hab.'],ascending=[True,False]).drop_duplicates('City2',keep='first')#.groupby('City').agg({'pops':'first','City2':'first':'cod'})"
   ]
  },
  {
   "cell_type": "code",
   "execution_count": 96,
   "metadata": {},
   "outputs": [],
   "source": [
    "hbra.to_excel('c:\\\\Users\\\\Franco\\\\Dropbox\\\\files\\\\Homicidios\\\\bra\\\\homicidos_2016.xlsx')"
   ]
  },
  {
   "cell_type": "markdown",
   "metadata": {},
   "source": [
    "col"
   ]
  },
  {
   "cell_type": "code",
   "execution_count": 97,
   "metadata": {},
   "outputs": [],
   "source": [
    "homicidios_col = pd.read_excel('c:\\\\Users\\\\Franco\\\\Dropbox\\\\files\\\\Homicidios\\\\col\\\\homicidios_col.xlsx',index_col=[0,1])"
   ]
  },
  {
   "cell_type": "code",
   "execution_count": 101,
   "metadata": {},
   "outputs": [],
   "source": [
    "col = cw.loc['Colombia']"
   ]
  },
  {
   "cell_type": "code",
   "execution_count": 105,
   "metadata": {
    "collapsed": true,
    "jupyter": {
     "outputs_hidden": true
    }
   },
   "outputs": [
    {
     "data": {
      "text/html": [
       "<div>\n",
       "<style scoped>\n",
       "    .dataframe tbody tr th:only-of-type {\n",
       "        vertical-align: middle;\n",
       "    }\n",
       "\n",
       "    .dataframe tbody tr th {\n",
       "        vertical-align: top;\n",
       "    }\n",
       "\n",
       "    .dataframe thead th {\n",
       "        text-align: right;\n",
       "    }\n",
       "</style>\n",
       "<table border=\"1\" class=\"dataframe\">\n",
       "  <thead>\n",
       "    <tr style=\"text-align: right;\">\n",
       "      <th></th>\n",
       "      <th></th>\n",
       "      <th>Departamento</th>\n",
       "      <th>Homicidios cada 100.000 hab.</th>\n",
       "      <th>pops</th>\n",
       "      <th>City2</th>\n",
       "    </tr>\n",
       "    <tr>\n",
       "      <th>City</th>\n",
       "      <th>Year</th>\n",
       "      <th></th>\n",
       "      <th></th>\n",
       "      <th></th>\n",
       "      <th></th>\n",
       "    </tr>\n",
       "  </thead>\n",
       "  <tbody>\n",
       "    <tr>\n",
       "      <th>Armenia</th>\n",
       "      <th>2016</th>\n",
       "      <td>Quindío</td>\n",
       "      <td>36.22</td>\n",
       "      <td>2.96</td>\n",
       "      <td>Armenia</td>\n",
       "    </tr>\n",
       "    <tr>\n",
       "      <th>Barrancabermeja</th>\n",
       "      <th>2016</th>\n",
       "      <td>Santander</td>\n",
       "      <td>16.69</td>\n",
       "      <td>0.16</td>\n",
       "      <td>Barrancabermeja</td>\n",
       "    </tr>\n",
       "    <tr>\n",
       "      <th>Barranquilla</th>\n",
       "      <th>2016</th>\n",
       "      <td>Atlántico</td>\n",
       "      <td>31.95</td>\n",
       "      <td>1.27</td>\n",
       "      <td>Barranquilla</td>\n",
       "    </tr>\n",
       "    <tr>\n",
       "      <th>Bogota</th>\n",
       "      <th>2016</th>\n",
       "      <td>Cundinamarca</td>\n",
       "      <td>16.02</td>\n",
       "      <td>7.41</td>\n",
       "      <td>Bogota</td>\n",
       "    </tr>\n",
       "    <tr>\n",
       "      <th>Bucaramanga</th>\n",
       "      <th>2016</th>\n",
       "      <td>Santander</td>\n",
       "      <td>18.74</td>\n",
       "      <td>0.58</td>\n",
       "      <td>Bucaramanga</td>\n",
       "    </tr>\n",
       "    <tr>\n",
       "      <th>Cali</th>\n",
       "      <th>2016</th>\n",
       "      <td>Valle del Cauca</td>\n",
       "      <td>53.78</td>\n",
       "      <td>2.23</td>\n",
       "      <td>Cali</td>\n",
       "    </tr>\n",
       "    <tr>\n",
       "      <th>Cartagena</th>\n",
       "      <th>2016</th>\n",
       "      <td>Bolívar</td>\n",
       "      <td>23.78</td>\n",
       "      <td>0.91</td>\n",
       "      <td>Cartagena</td>\n",
       "    </tr>\n",
       "    <tr>\n",
       "      <th>Cartago</th>\n",
       "      <th>2016</th>\n",
       "      <td>Valle del Cauca</td>\n",
       "      <td>33.84</td>\n",
       "      <td>0.11</td>\n",
       "      <td>Cartago</td>\n",
       "    </tr>\n",
       "    <tr>\n",
       "      <th>Cucuta</th>\n",
       "      <th>2016</th>\n",
       "      <td>Norte de Santander</td>\n",
       "      <td>40.22</td>\n",
       "      <td>0.75</td>\n",
       "      <td>Cucuta</td>\n",
       "    </tr>\n",
       "    <tr>\n",
       "      <th>Florencia</th>\n",
       "      <th>2016</th>\n",
       "      <td>Caquetá</td>\n",
       "      <td>30.79</td>\n",
       "      <td>0.17</td>\n",
       "      <td>Florencia</td>\n",
       "    </tr>\n",
       "    <tr>\n",
       "      <th>Ibague</th>\n",
       "      <th>2016</th>\n",
       "      <td>Tolima</td>\n",
       "      <td>18.07</td>\n",
       "      <td>0.53</td>\n",
       "      <td>Ibague</td>\n",
       "    </tr>\n",
       "    <tr>\n",
       "      <th>Manizales</th>\n",
       "      <th>2016</th>\n",
       "      <td>Caldas</td>\n",
       "      <td>19.37</td>\n",
       "      <td>0.43</td>\n",
       "      <td>Manizales</td>\n",
       "    </tr>\n",
       "    <tr>\n",
       "      <th>Medellin</th>\n",
       "      <th>2016</th>\n",
       "      <td>Antioquia</td>\n",
       "      <td>21.55</td>\n",
       "      <td>2.43</td>\n",
       "      <td>Medellin</td>\n",
       "    </tr>\n",
       "    <tr>\n",
       "      <th>Monteria</th>\n",
       "      <th>2016</th>\n",
       "      <td>Córdoba</td>\n",
       "      <td>21.89</td>\n",
       "      <td>0.46</td>\n",
       "      <td>Monteria</td>\n",
       "    </tr>\n",
       "    <tr>\n",
       "      <th>Neiva</th>\n",
       "      <th>2016</th>\n",
       "      <td>Huila</td>\n",
       "      <td>17.44</td>\n",
       "      <td>0.32</td>\n",
       "      <td>Neiva</td>\n",
       "    </tr>\n",
       "    <tr>\n",
       "      <th>Pasto</th>\n",
       "      <th>2016</th>\n",
       "      <td>Nariño</td>\n",
       "      <td>14.81</td>\n",
       "      <td>0.46</td>\n",
       "      <td>Pasto</td>\n",
       "    </tr>\n",
       "    <tr>\n",
       "      <th>Pereira</th>\n",
       "      <th>2016</th>\n",
       "      <td>Risaralda</td>\n",
       "      <td>30.72</td>\n",
       "      <td>0.59</td>\n",
       "      <td>Pereira</td>\n",
       "    </tr>\n",
       "    <tr>\n",
       "      <th>Popayan</th>\n",
       "      <th>2016</th>\n",
       "      <td>Cauca</td>\n",
       "      <td>20.35</td>\n",
       "      <td>0.30</td>\n",
       "      <td>Popayan</td>\n",
       "    </tr>\n",
       "    <tr>\n",
       "      <th>Quibdo</th>\n",
       "      <th>2016</th>\n",
       "      <td>Chocó</td>\n",
       "      <td>93.15</td>\n",
       "      <td>0.12</td>\n",
       "      <td>Quibdo</td>\n",
       "    </tr>\n",
       "    <tr>\n",
       "      <th>Riohacha</th>\n",
       "      <th>2016</th>\n",
       "      <td>La Guajira</td>\n",
       "      <td>23.07</td>\n",
       "      <td>0.24</td>\n",
       "      <td>Riohacha</td>\n",
       "    </tr>\n",
       "    <tr>\n",
       "      <th>Santa Marta</th>\n",
       "      <th>2016</th>\n",
       "      <td>Magdalena</td>\n",
       "      <td>17.91</td>\n",
       "      <td>0.52</td>\n",
       "      <td>Santa Marta</td>\n",
       "    </tr>\n",
       "    <tr>\n",
       "      <th>Sincelejo</th>\n",
       "      <th>2016</th>\n",
       "      <td>Sucre</td>\n",
       "      <td>20.43</td>\n",
       "      <td>0.28</td>\n",
       "      <td>Sincelejo</td>\n",
       "    </tr>\n",
       "    <tr>\n",
       "      <th>Tulua</th>\n",
       "      <th>2016</th>\n",
       "      <td>Valle del Cauca</td>\n",
       "      <td>49.51</td>\n",
       "      <td>0.14</td>\n",
       "      <td>Tulua</td>\n",
       "    </tr>\n",
       "    <tr>\n",
       "      <th>Tunja</th>\n",
       "      <th>2016</th>\n",
       "      <td>Boyacá</td>\n",
       "      <td>3.65</td>\n",
       "      <td>0.17</td>\n",
       "      <td>Tunja</td>\n",
       "    </tr>\n",
       "    <tr>\n",
       "      <th>Valledupar</th>\n",
       "      <th>2016</th>\n",
       "      <td>Cesar</td>\n",
       "      <td>14.68</td>\n",
       "      <td>0.49</td>\n",
       "      <td>Valledupar</td>\n",
       "    </tr>\n",
       "    <tr>\n",
       "      <th>Villavicencio</th>\n",
       "      <th>2016</th>\n",
       "      <td>Meta</td>\n",
       "      <td>27.46</td>\n",
       "      <td>0.53</td>\n",
       "      <td>Villavicencio</td>\n",
       "    </tr>\n",
       "  </tbody>\n",
       "</table>\n",
       "</div>"
      ],
      "text/plain": [
       "                             Departamento  Homicidios cada 100.000 hab.  pops  \\\n",
       "City            Year                                                            \n",
       "Armenia         2016              Quindío                         36.22  2.96   \n",
       "Barrancabermeja 2016            Santander                         16.69  0.16   \n",
       "Barranquilla    2016            Atlántico                         31.95  1.27   \n",
       "Bogota          2016         Cundinamarca                         16.02  7.41   \n",
       "Bucaramanga     2016            Santander                         18.74  0.58   \n",
       "Cali            2016      Valle del Cauca                         53.78  2.23   \n",
       "Cartagena       2016              Bolívar                         23.78  0.91   \n",
       "Cartago         2016      Valle del Cauca                         33.84  0.11   \n",
       "Cucuta          2016   Norte de Santander                         40.22  0.75   \n",
       "Florencia       2016              Caquetá                         30.79  0.17   \n",
       "Ibague          2016               Tolima                         18.07  0.53   \n",
       "Manizales       2016               Caldas                         19.37  0.43   \n",
       "Medellin        2016            Antioquia                         21.55  2.43   \n",
       "Monteria        2016              Córdoba                         21.89  0.46   \n",
       "Neiva           2016                Huila                         17.44  0.32   \n",
       "Pasto           2016               Nariño                         14.81  0.46   \n",
       "Pereira         2016            Risaralda                         30.72  0.59   \n",
       "Popayan         2016                Cauca                         20.35  0.30   \n",
       "Quibdo          2016                Chocó                         93.15  0.12   \n",
       "Riohacha        2016           La Guajira                         23.07  0.24   \n",
       "Santa Marta     2016            Magdalena                         17.91  0.52   \n",
       "Sincelejo       2016                Sucre                         20.43  0.28   \n",
       "Tulua           2016      Valle del Cauca                         49.51  0.14   \n",
       "Tunja           2016               Boyacá                          3.65  0.17   \n",
       "Valledupar      2016                Cesar                         14.68  0.49   \n",
       "Villavicencio   2016                 Meta                         27.46  0.53   \n",
       "\n",
       "                                City2  \n",
       "City            Year                   \n",
       "Armenia         2016          Armenia  \n",
       "Barrancabermeja 2016  Barrancabermeja  \n",
       "Barranquilla    2016     Barranquilla  \n",
       "Bogota          2016           Bogota  \n",
       "Bucaramanga     2016      Bucaramanga  \n",
       "Cali            2016             Cali  \n",
       "Cartagena       2016        Cartagena  \n",
       "Cartago         2016          Cartago  \n",
       "Cucuta          2016           Cucuta  \n",
       "Florencia       2016        Florencia  \n",
       "Ibague          2016           Ibague  \n",
       "Manizales       2016        Manizales  \n",
       "Medellin        2016         Medellin  \n",
       "Monteria        2016         Monteria  \n",
       "Neiva           2016            Neiva  \n",
       "Pasto           2016            Pasto  \n",
       "Pereira         2016          Pereira  \n",
       "Popayan         2016          Popayan  \n",
       "Quibdo          2016           Quibdo  \n",
       "Riohacha        2016         Riohacha  \n",
       "Santa Marta     2016      Santa Marta  \n",
       "Sincelejo       2016        Sincelejo  \n",
       "Tulua           2016            Tulua  \n",
       "Tunja           2016            Tunja  \n",
       "Valledupar      2016       Valledupar  \n",
       "Villavicencio   2016    Villavicencio  "
      ]
     },
     "execution_count": 105,
     "metadata": {},
     "output_type": "execute_result"
    }
   ],
   "source": [
    "homicidios_col.join(col,how='inner')"
   ]
  },
  {
   "cell_type": "code",
   "execution_count": 398,
   "metadata": {},
   "outputs": [],
   "source": [
    "hcol = homicidios_col.reset_index().loc[homicidios_col.reset_index()['City']=='Cali',:].drop(columns=['Year','Departamento']).set_index('City')"
   ]
  },
  {
   "cell_type": "markdown",
   "metadata": {},
   "source": [
    "## Uni"
   ]
  },
  {
   "cell_type": "code",
   "execution_count": 134,
   "metadata": {},
   "outputs": [],
   "source": [
    "homicidios_col = homicidios_col.drop(index='Otros')"
   ]
  },
  {
   "cell_type": "code",
   "execution_count": 136,
   "metadata": {},
   "outputs": [],
   "source": [
    "homicidios_col['Country'] = 'Colombia'"
   ]
  },
  {
   "cell_type": "code",
   "execution_count": 138,
   "metadata": {},
   "outputs": [],
   "source": [
    "homicidios_col = homicidios_col.reset_index().set_index(['Country','City'])"
   ]
  },
  {
   "cell_type": "code",
   "execution_count": 146,
   "metadata": {
    "collapsed": true,
    "jupyter": {
     "outputs_hidden": true
    }
   },
   "outputs": [
    {
     "data": {
      "text/html": [
       "<div>\n",
       "<style scoped>\n",
       "    .dataframe tbody tr th:only-of-type {\n",
       "        vertical-align: middle;\n",
       "    }\n",
       "\n",
       "    .dataframe tbody tr th {\n",
       "        vertical-align: top;\n",
       "    }\n",
       "\n",
       "    .dataframe thead th {\n",
       "        text-align: right;\n",
       "    }\n",
       "</style>\n",
       "<table border=\"1\" class=\"dataframe\">\n",
       "  <thead>\n",
       "    <tr style=\"text-align: right;\">\n",
       "      <th></th>\n",
       "      <th></th>\n",
       "      <th>Year</th>\n",
       "      <th>Departamento</th>\n",
       "      <th>Homicidios cada 100.000 hab.</th>\n",
       "    </tr>\n",
       "    <tr>\n",
       "      <th>Country</th>\n",
       "      <th>City</th>\n",
       "      <th></th>\n",
       "      <th></th>\n",
       "      <th></th>\n",
       "    </tr>\n",
       "  </thead>\n",
       "  <tbody>\n",
       "    <tr>\n",
       "      <th rowspan=\"5\" valign=\"top\">Colombia</th>\n",
       "      <th>Aguachica</th>\n",
       "      <td>2016</td>\n",
       "      <td>Cesar</td>\n",
       "      <td>22.36</td>\n",
       "    </tr>\n",
       "    <tr>\n",
       "      <th>Apartado</th>\n",
       "      <td>2016</td>\n",
       "      <td>Antioquia</td>\n",
       "      <td>20.14</td>\n",
       "    </tr>\n",
       "    <tr>\n",
       "      <th>Arauca</th>\n",
       "      <td>2016</td>\n",
       "      <td>Arauca</td>\n",
       "      <td>13.38</td>\n",
       "    </tr>\n",
       "    <tr>\n",
       "      <th>Armenia</th>\n",
       "      <td>2016</td>\n",
       "      <td>Quindío</td>\n",
       "      <td>36.22</td>\n",
       "    </tr>\n",
       "    <tr>\n",
       "      <th>Barrancabermeja</th>\n",
       "      <td>2016</td>\n",
       "      <td>Santander</td>\n",
       "      <td>16.69</td>\n",
       "    </tr>\n",
       "  </tbody>\n",
       "</table>\n",
       "</div>"
      ],
      "text/plain": [
       "                          Year Departamento  Homicidios cada 100.000 hab.\n",
       "Country  City                                                            \n",
       "Colombia Aguachica        2016        Cesar                         22.36\n",
       "         Apartado         2016    Antioquia                         20.14\n",
       "         Arauca           2016       Arauca                         13.38\n",
       "         Armenia          2016      Quindío                         36.22\n",
       "         Barrancabermeja  2016    Santander                         16.69"
      ]
     },
     "execution_count": 146,
     "metadata": {},
     "output_type": "execute_result"
    }
   ],
   "source": [
    "homicidios_col.head()"
   ]
  },
  {
   "cell_type": "code",
   "execution_count": 112,
   "metadata": {},
   "outputs": [],
   "source": [
    "cwa = pd.read_excel('c:\\\\Users\\\\Franco\\\\Dropbox\\\\files\\\\Homicidios\\\\arg\\\\hom_arg_final.xlsx').set_index(['City','Year'])"
   ]
  },
  {
   "cell_type": "code",
   "execution_count": 140,
   "metadata": {},
   "outputs": [],
   "source": [
    "cwa['Country'] = 'Argentina'"
   ]
  },
  {
   "cell_type": "code",
   "execution_count": 141,
   "metadata": {},
   "outputs": [],
   "source": [
    "cwa = cwa.reset_index().set_index(['Country','City'])"
   ]
  },
  {
   "cell_type": "code",
   "execution_count": 142,
   "metadata": {
    "collapsed": true,
    "jupyter": {
     "outputs_hidden": true
    }
   },
   "outputs": [
    {
     "data": {
      "text/html": [
       "<div>\n",
       "<style scoped>\n",
       "    .dataframe tbody tr th:only-of-type {\n",
       "        vertical-align: middle;\n",
       "    }\n",
       "\n",
       "    .dataframe tbody tr th {\n",
       "        vertical-align: top;\n",
       "    }\n",
       "\n",
       "    .dataframe thead th {\n",
       "        text-align: right;\n",
       "    }\n",
       "</style>\n",
       "<table border=\"1\" class=\"dataframe\">\n",
       "  <thead>\n",
       "    <tr style=\"text-align: right;\">\n",
       "      <th></th>\n",
       "      <th></th>\n",
       "      <th>Year</th>\n",
       "      <th>pops</th>\n",
       "      <th>City2</th>\n",
       "      <th>Cityh</th>\n",
       "      <th>Departamento</th>\n",
       "      <th>provincia_id</th>\n",
       "      <th>dpto_id</th>\n",
       "      <th>codigo_delito_agrupado_nombre</th>\n",
       "      <th>cantidad_hechos</th>\n",
       "      <th>cantidad_victimas</th>\n",
       "      <th>_merge</th>\n",
       "      <th>Homicidios cada 100.000 hab.</th>\n",
       "    </tr>\n",
       "    <tr>\n",
       "      <th>Country</th>\n",
       "      <th>City</th>\n",
       "      <th></th>\n",
       "      <th></th>\n",
       "      <th></th>\n",
       "      <th></th>\n",
       "      <th></th>\n",
       "      <th></th>\n",
       "      <th></th>\n",
       "      <th></th>\n",
       "      <th></th>\n",
       "      <th></th>\n",
       "      <th></th>\n",
       "      <th></th>\n",
       "    </tr>\n",
       "  </thead>\n",
       "  <tbody>\n",
       "    <tr>\n",
       "      <th rowspan=\"5\" valign=\"top\">Argentina</th>\n",
       "      <th>Bahia Blanca-Cerri</th>\n",
       "      <td>2016</td>\n",
       "      <td>0.31</td>\n",
       "      <td>Bahia Blanca-Cerri</td>\n",
       "      <td>('Buenos Aires', 'Bahia Blanca')</td>\n",
       "      <td>Bahia Blanca</td>\n",
       "      <td>6.00</td>\n",
       "      <td>6,056.00</td>\n",
       "      <td>Total de víctimas de homicidios dolosos</td>\n",
       "      <td>nan</td>\n",
       "      <td>10</td>\n",
       "      <td>both</td>\n",
       "      <td>3.23</td>\n",
       "    </tr>\n",
       "    <tr>\n",
       "      <th>Ciudad de Buenos Aires</th>\n",
       "      <td>2016</td>\n",
       "      <td>3.08</td>\n",
       "      <td>Ciudad de Buenos Aires</td>\n",
       "      <td>('Ciudad Autonoma de Buenos Aires', 'Ciudad de...</td>\n",
       "      <td>Ciudad de Buenos Aires</td>\n",
       "      <td>nan</td>\n",
       "      <td>nan</td>\n",
       "      <td>Total de víctimas de homicidios dolosos</td>\n",
       "      <td>nan</td>\n",
       "      <td>148</td>\n",
       "      <td>both</td>\n",
       "      <td>4.81</td>\n",
       "    </tr>\n",
       "    <tr>\n",
       "      <th>Comodoro Rivadavia-Rada Tilly</th>\n",
       "      <td>2016</td>\n",
       "      <td>0.24</td>\n",
       "      <td>Comodoro Rivadavia-Rada Tilly</td>\n",
       "      <td>('Chubut', 'Escalante')</td>\n",
       "      <td>Escalante</td>\n",
       "      <td>26.00</td>\n",
       "      <td>26,021.00</td>\n",
       "      <td>Total de víctimas de homicidios dolosos</td>\n",
       "      <td>nan</td>\n",
       "      <td>23</td>\n",
       "      <td>both</td>\n",
       "      <td>9.49</td>\n",
       "    </tr>\n",
       "    <tr>\n",
       "      <th>Concordia</th>\n",
       "      <td>2016</td>\n",
       "      <td>0.17</td>\n",
       "      <td>Concordia</td>\n",
       "      <td>('Entre Rios', 'Concordia')</td>\n",
       "      <td>Concordia</td>\n",
       "      <td>30.00</td>\n",
       "      <td>30,015.00</td>\n",
       "      <td>Total de víctimas de homicidios dolosos</td>\n",
       "      <td>nan</td>\n",
       "      <td>17</td>\n",
       "      <td>both</td>\n",
       "      <td>10.00</td>\n",
       "    </tr>\n",
       "    <tr>\n",
       "      <th>Corrientes</th>\n",
       "      <td>2016</td>\n",
       "      <td>0.35</td>\n",
       "      <td>Corrientes</td>\n",
       "      <td>('Corrientes', 'Capital')</td>\n",
       "      <td>Capital</td>\n",
       "      <td>18.00</td>\n",
       "      <td>18,021.00</td>\n",
       "      <td>Total de víctimas de homicidios dolosos</td>\n",
       "      <td>nan</td>\n",
       "      <td>5</td>\n",
       "      <td>both</td>\n",
       "      <td>1.42</td>\n",
       "    </tr>\n",
       "  </tbody>\n",
       "</table>\n",
       "</div>"
      ],
      "text/plain": [
       "                                         Year  pops  \\\n",
       "Country   City                                        \n",
       "Argentina Bahia Blanca-Cerri             2016  0.31   \n",
       "          Ciudad de Buenos Aires         2016  3.08   \n",
       "          Comodoro Rivadavia-Rada Tilly  2016  0.24   \n",
       "          Concordia                      2016  0.17   \n",
       "          Corrientes                     2016  0.35   \n",
       "\n",
       "                                                                 City2  \\\n",
       "Country   City                                                           \n",
       "Argentina Bahia Blanca-Cerri                        Bahia Blanca-Cerri   \n",
       "          Ciudad de Buenos Aires                Ciudad de Buenos Aires   \n",
       "          Comodoro Rivadavia-Rada Tilly  Comodoro Rivadavia-Rada Tilly   \n",
       "          Concordia                                          Concordia   \n",
       "          Corrientes                                        Corrientes   \n",
       "\n",
       "                                                                                     Cityh  \\\n",
       "Country   City                                                                               \n",
       "Argentina Bahia Blanca-Cerri                              ('Buenos Aires', 'Bahia Blanca')   \n",
       "          Ciudad de Buenos Aires         ('Ciudad Autonoma de Buenos Aires', 'Ciudad de...   \n",
       "          Comodoro Rivadavia-Rada Tilly                            ('Chubut', 'Escalante')   \n",
       "          Concordia                                            ('Entre Rios', 'Concordia')   \n",
       "          Corrientes                                             ('Corrientes', 'Capital')   \n",
       "\n",
       "                                                   Departamento  provincia_id  \\\n",
       "Country   City                                                                  \n",
       "Argentina Bahia Blanca-Cerri                       Bahia Blanca          6.00   \n",
       "          Ciudad de Buenos Aires         Ciudad de Buenos Aires           nan   \n",
       "          Comodoro Rivadavia-Rada Tilly               Escalante         26.00   \n",
       "          Concordia                                   Concordia         30.00   \n",
       "          Corrientes                                    Capital         18.00   \n",
       "\n",
       "                                          dpto_id  \\\n",
       "Country   City                                      \n",
       "Argentina Bahia Blanca-Cerri             6,056.00   \n",
       "          Ciudad de Buenos Aires              nan   \n",
       "          Comodoro Rivadavia-Rada Tilly 26,021.00   \n",
       "          Concordia                     30,015.00   \n",
       "          Corrientes                    18,021.00   \n",
       "\n",
       "                                                   codigo_delito_agrupado_nombre  \\\n",
       "Country   City                                                                     \n",
       "Argentina Bahia Blanca-Cerri             Total de víctimas de homicidios dolosos   \n",
       "          Ciudad de Buenos Aires         Total de víctimas de homicidios dolosos   \n",
       "          Comodoro Rivadavia-Rada Tilly  Total de víctimas de homicidios dolosos   \n",
       "          Concordia                      Total de víctimas de homicidios dolosos   \n",
       "          Corrientes                     Total de víctimas de homicidios dolosos   \n",
       "\n",
       "                                         cantidad_hechos  cantidad_victimas  \\\n",
       "Country   City                                                                \n",
       "Argentina Bahia Blanca-Cerri                         nan                 10   \n",
       "          Ciudad de Buenos Aires                     nan                148   \n",
       "          Comodoro Rivadavia-Rada Tilly              nan                 23   \n",
       "          Concordia                                  nan                 17   \n",
       "          Corrientes                                 nan                  5   \n",
       "\n",
       "                                        _merge  Homicidios cada 100.000 hab.  \n",
       "Country   City                                                                \n",
       "Argentina Bahia Blanca-Cerri              both                          3.23  \n",
       "          Ciudad de Buenos Aires          both                          4.81  \n",
       "          Comodoro Rivadavia-Rada Tilly   both                          9.49  \n",
       "          Concordia                       both                         10.00  \n",
       "          Corrientes                      both                          1.42  "
      ]
     },
     "execution_count": 142,
     "metadata": {},
     "output_type": "execute_result"
    }
   ],
   "source": [
    "cwa.head()"
   ]
  },
  {
   "cell_type": "code",
   "execution_count": 116,
   "metadata": {},
   "outputs": [],
   "source": [
    "hmex = pd.read_excel(r'C:/Users/Franco/Dropbox/files/Homicidios/mex/mex_2016.xlsx').rename(columns={'Año':'Year'}).set_index(['City','Year'])"
   ]
  },
  {
   "cell_type": "code",
   "execution_count": 143,
   "metadata": {},
   "outputs": [],
   "source": [
    "hmex['Country'] = 'Mexico'"
   ]
  },
  {
   "cell_type": "code",
   "execution_count": 144,
   "metadata": {},
   "outputs": [],
   "source": [
    "hmex = hmex.reset_index().set_index(['Country','City'])"
   ]
  },
  {
   "cell_type": "code",
   "execution_count": 145,
   "metadata": {
    "collapsed": true,
    "jupyter": {
     "outputs_hidden": true
    }
   },
   "outputs": [
    {
     "data": {
      "text/html": [
       "<div>\n",
       "<style scoped>\n",
       "    .dataframe tbody tr th:only-of-type {\n",
       "        vertical-align: middle;\n",
       "    }\n",
       "\n",
       "    .dataframe tbody tr th {\n",
       "        vertical-align: top;\n",
       "    }\n",
       "\n",
       "    .dataframe thead th {\n",
       "        text-align: right;\n",
       "    }\n",
       "</style>\n",
       "<table border=\"1\" class=\"dataframe\">\n",
       "  <thead>\n",
       "    <tr style=\"text-align: right;\">\n",
       "      <th></th>\n",
       "      <th></th>\n",
       "      <th>Year</th>\n",
       "      <th>pops</th>\n",
       "      <th>Estado</th>\n",
       "      <th>Cve. Municipio</th>\n",
       "      <th>Clave_Ent</th>\n",
       "      <th>Municipio</th>\n",
       "      <th>Homicidios_año</th>\n",
       "      <th>Homicidios cada 100.000 hab.</th>\n",
       "    </tr>\n",
       "    <tr>\n",
       "      <th>Country</th>\n",
       "      <th>City</th>\n",
       "      <th></th>\n",
       "      <th></th>\n",
       "      <th></th>\n",
       "      <th></th>\n",
       "      <th></th>\n",
       "      <th></th>\n",
       "      <th></th>\n",
       "      <th></th>\n",
       "    </tr>\n",
       "  </thead>\n",
       "  <tbody>\n",
       "    <tr>\n",
       "      <th rowspan=\"5\" valign=\"top\">Mexico</th>\n",
       "      <th>Acayucan</th>\n",
       "      <td>2016</td>\n",
       "      <td>0.10</td>\n",
       "      <td>Veracruz de Ignacio de la Llave</td>\n",
       "      <td>30003</td>\n",
       "      <td>30</td>\n",
       "      <td>Acayucan</td>\n",
       "      <td>35</td>\n",
       "      <td>33.98</td>\n",
       "    </tr>\n",
       "    <tr>\n",
       "      <th>Acuna</th>\n",
       "      <td>2016</td>\n",
       "      <td>0.11</td>\n",
       "      <td>Coahuila de Zaragoza</td>\n",
       "      <td>5002</td>\n",
       "      <td>5</td>\n",
       "      <td>Acuña</td>\n",
       "      <td>12</td>\n",
       "      <td>11.09</td>\n",
       "    </tr>\n",
       "    <tr>\n",
       "      <th>Aguascalientes</th>\n",
       "      <td>2016</td>\n",
       "      <td>0.18</td>\n",
       "      <td>Aguascalientes</td>\n",
       "      <td>1001</td>\n",
       "      <td>1</td>\n",
       "      <td>Aguascalientes</td>\n",
       "      <td>27</td>\n",
       "      <td>14.89</td>\n",
       "    </tr>\n",
       "    <tr>\n",
       "      <th>Campeche</th>\n",
       "      <td>2016</td>\n",
       "      <td>0.19</td>\n",
       "      <td>Campeche</td>\n",
       "      <td>4002</td>\n",
       "      <td>4</td>\n",
       "      <td>Campeche</td>\n",
       "      <td>16</td>\n",
       "      <td>8.39</td>\n",
       "    </tr>\n",
       "    <tr>\n",
       "      <th>Celaya</th>\n",
       "      <td>2016</td>\n",
       "      <td>0.28</td>\n",
       "      <td>Guanajuato</td>\n",
       "      <td>11007</td>\n",
       "      <td>11</td>\n",
       "      <td>Celaya</td>\n",
       "      <td>98</td>\n",
       "      <td>35.28</td>\n",
       "    </tr>\n",
       "  </tbody>\n",
       "</table>\n",
       "</div>"
      ],
      "text/plain": [
       "                        Year  pops                           Estado  \\\n",
       "Country City                                                          \n",
       "Mexico  Acayucan        2016  0.10  Veracruz de Ignacio de la Llave   \n",
       "        Acuna           2016  0.11             Coahuila de Zaragoza   \n",
       "        Aguascalientes  2016  0.18                   Aguascalientes   \n",
       "        Campeche        2016  0.19                         Campeche   \n",
       "        Celaya          2016  0.28                       Guanajuato   \n",
       "\n",
       "                        Cve. Municipio  Clave_Ent       Municipio  \\\n",
       "Country City                                                        \n",
       "Mexico  Acayucan                 30003         30        Acayucan   \n",
       "        Acuna                     5002          5           Acuña   \n",
       "        Aguascalientes            1001          1  Aguascalientes   \n",
       "        Campeche                  4002          4        Campeche   \n",
       "        Celaya                   11007         11          Celaya   \n",
       "\n",
       "                        Homicidios_año  Homicidios cada 100.000 hab.  \n",
       "Country City                                                          \n",
       "Mexico  Acayucan                    35                         33.98  \n",
       "        Acuna                       12                         11.09  \n",
       "        Aguascalientes              27                         14.89  \n",
       "        Campeche                    16                          8.39  \n",
       "        Celaya                      98                         35.28  "
      ]
     },
     "execution_count": 145,
     "metadata": {},
     "output_type": "execute_result"
    }
   ],
   "source": [
    "hmex.head()"
   ]
  },
  {
   "cell_type": "code",
   "execution_count": 148,
   "metadata": {},
   "outputs": [],
   "source": [
    "hbra['Country'] = 'Brasil'"
   ]
  },
  {
   "cell_type": "code",
   "execution_count": 150,
   "metadata": {},
   "outputs": [],
   "source": [
    "hbra = hbra.reset_index().set_index(['Country','City'])"
   ]
  },
  {
   "cell_type": "code",
   "execution_count": 152,
   "metadata": {},
   "outputs": [],
   "source": [
    "homicidios = homicidios_col.append(hmex).append(cwa).append(hbra).dropna(axis=1)"
   ]
  },
  {
   "cell_type": "code",
   "execution_count": 154,
   "metadata": {},
   "outputs": [],
   "source": [
    "homicidios.to_excel(r'c:/users/franco/dropbox/files/clean/homicidios.xlsx')"
   ]
  }
 ],
 "metadata": {
  "kernelspec": {
   "display_name": "Python 3",
   "language": "python",
   "name": "python3"
  },
  "language_info": {
   "codemirror_mode": {
    "name": "ipython",
    "version": 3
   },
   "file_extension": ".py",
   "mimetype": "text/x-python",
   "name": "python",
   "nbconvert_exporter": "python",
   "pygments_lexer": "ipython3",
   "version": "3.7.8"
  }
 },
 "nbformat": 4,
 "nbformat_minor": 4
}
