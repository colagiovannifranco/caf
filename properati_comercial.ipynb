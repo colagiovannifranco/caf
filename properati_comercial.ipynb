{
 "cells": [
  {
   "cell_type": "code",
   "execution_count": 3,
   "metadata": {},
   "outputs": [],
   "source": [
    "import numpy as np\n",
    "import pandas as pd\n",
    "import unidecode\n",
    "import os"
   ]
  },
  {
   "cell_type": "code",
   "execution_count": 4,
   "metadata": {},
   "outputs": [],
   "source": [
    "pd.set_option('display.max_rows',999)\n",
    "pd.set_option('display.min_rows',10)\n",
    "pd.set_option('display.float_format', '{:,.2f}'.format)"
   ]
  },
  {
   "cell_type": "code",
   "execution_count": 5,
   "metadata": {},
   "outputs": [],
   "source": [
    "path = r'C:/Users/Franco/Dropbox/files/properati/'"
   ]
  },
  {
   "cell_type": "markdown",
   "metadata": {},
   "source": [
    "Me faltan propiedades comerciales para CABA, Lima Bogota"
   ]
  },
  {
   "cell_type": "code",
   "execution_count": 6,
   "metadata": {},
   "outputs": [],
   "source": [
    "mylist = []\n",
    "\n",
    "for file in os.listdir(path):\n",
    "    if file.endswith(\".csv\"):\n",
    "        mylist += [file]"
   ]
  },
  {
   "cell_type": "code",
   "execution_count": 7,
   "metadata": {},
   "outputs": [],
   "source": [
    "prope = pd.DataFrame()\n",
    "\n",
    "for file in mylist:\n",
    "    df = pd.read_csv(path+'{}'.format(file))\n",
    "    prope = prope.append(df)"
   ]
  },
  {
   "cell_type": "code",
   "execution_count": 8,
   "metadata": {},
   "outputs": [],
   "source": [
    "prope = prope[prope['l1'].isin(['Argentina', 'Uruguay','Perú', 'Colombia','Ecuador'])]\n",
    "prope = prope.loc[prope['operation_type']=='Venta',:]\n",
    "prope = prope[prope['property_type'].isin(['Depósito','Local comercial','Oficina'])]"
   ]
  },
  {
   "cell_type": "code",
   "execution_count": 9,
   "metadata": {},
   "outputs": [],
   "source": [
    "[prope['Country'],prope['City']] = [prope['l1'],prope['l3']]"
   ]
  },
  {
   "cell_type": "markdown",
   "metadata": {},
   "source": [
    "Cambio de Buenos Aires y Montevideo"
   ]
  },
  {
   "cell_type": "code",
   "execution_count": 10,
   "metadata": {},
   "outputs": [],
   "source": [
    "prope = prope.set_index(['l2'])\n",
    "prope.at['Capital Federal','City'] = 'Ciudad de Buenos Aires'\n",
    "prope.at['Montevideo','City'] = 'Montevideo'\n",
    "prope = prope.reset_index()\n",
    "prope = prope.replace({'Country':{'Perú':'Peru'}})"
   ]
  },
  {
   "cell_type": "code",
   "execution_count": 11,
   "metadata": {},
   "outputs": [],
   "source": [
    "prope = prope[prope['price'].notna()]\n",
    "prope = prope[prope['City'].notna()]"
   ]
  },
  {
   "cell_type": "markdown",
   "metadata": {},
   "source": [
    "Otros ajustes"
   ]
  },
  {
   "cell_type": "code",
   "execution_count": 12,
   "metadata": {},
   "outputs": [],
   "source": [
    "prope = prope.drop(columns=['ad_type','l1','l2','l3','l4','l5','l6','operation_type'])\n",
    "prope = prope[prope.columns.tolist()[-2:] + [prope.columns.tolist()[-3]] + prope.columns.tolist()[:-3]]\n",
    "prope = prope.drop(columns=['id','title','description','price_period'])\n",
    "prope = prope[(prope['price']!=0)]\n",
    "prope = prope.set_index(['Country','City'])\n",
    "prope['fecha'] = prope['created_on'].str.strip()"
   ]
  },
  {
   "cell_type": "markdown",
   "metadata": {},
   "source": [
    "#### Tipo de cambio"
   ]
  },
  {
   "cell_type": "code",
   "execution_count": 13,
   "metadata": {},
   "outputs": [],
   "source": [
    "tc = pd.read_excel(path+'1.1.1.TCM_Serie histórica IQY.xlsx',usecols=[0,1],skiprows=[0,1,2,3,4,5,6]).dropna()\n",
    "tc['fecha'] = tc[tc.columns[0]].astype(str).str.split(' ').str[0].str.strip()\n",
    "tc = tc.rename(columns={'Tasa de cambio representativa del mercado (TRM)':'TDC'})"
   ]
  },
  {
   "cell_type": "markdown",
   "metadata": {},
   "source": [
    "Parto con las df's de prope porq es demasiado grande"
   ]
  },
  {
   "cell_type": "code",
   "execution_count": 14,
   "metadata": {},
   "outputs": [
    {
     "name": "stderr",
     "output_type": "stream",
     "text": [
      "C:\\ProgramData\\Anaconda3\\envs\\caf\\lib\\site-packages\\ipykernel_launcher.py:3: SettingWithCopyWarning: \n",
      "A value is trying to be set on a copy of a slice from a DataFrame.\n",
      "Try using .loc[row_indexer,col_indexer] = value instead\n",
      "\n",
      "See the caveats in the documentation: https://pandas.pydata.org/pandas-docs/stable/user_guide/indexing.html#returning-a-view-versus-a-copy\n",
      "  This is separate from the ipykernel package so we can avoid doing imports until\n"
     ]
    }
   ],
   "source": [
    "prope2 = prope.reset_index().set_index('Country')\n",
    "prope_no = prope2.drop('Colombia')\n",
    "prope_no['TDC'] = np.nan\n",
    "prope_no = prope_no[prope_no['currency']=='USD']\n",
    "prope_no = prope_no.reset_index()\n",
    "\n",
    "prope_col = prope2.reset_index()[prope.reset_index()['Country']=='Colombia']\n",
    "prope_col = prope_col.merge(tc.loc[:,['fecha','TDC']],on='fecha',how='left',indicator=True,validate='m:1')\n",
    "\n",
    "prope2 = prope_no.append(prope_col.drop(columns='_merge'))"
   ]
  },
  {
   "cell_type": "code",
   "execution_count": 15,
   "metadata": {},
   "outputs": [],
   "source": [
    "def f(row):\n",
    "    if row['currency'] == 'USD':\n",
    "        val = row['price']\n",
    "    else:\n",
    "        val = row['price'] / row['TDC']\n",
    "    return val"
   ]
  },
  {
   "cell_type": "code",
   "execution_count": 16,
   "metadata": {},
   "outputs": [],
   "source": [
    "prope2['Precio USD'] = prope2.apply(f,axis=1)"
   ]
  },
  {
   "cell_type": "code",
   "execution_count": 17,
   "metadata": {},
   "outputs": [],
   "source": [
    "def nulos(row):\n",
    "    if pd.notna(row['surface_total']):\n",
    "        sur =  row['surface_total']\n",
    "    elif pd.notna(row['surface_covered']):\n",
    "        sur = row['surface_covered']\n",
    "    else:\n",
    "        sur = np.nan\n",
    "    return sur"
   ]
  },
  {
   "cell_type": "code",
   "execution_count": 18,
   "metadata": {},
   "outputs": [],
   "source": [
    "prope2['surf'] = prope2.apply(nulos,axis=1)"
   ]
  },
  {
   "cell_type": "code",
   "execution_count": 19,
   "metadata": {},
   "outputs": [],
   "source": [
    "prope3 = prope2[prope2['surf'].notna()]"
   ]
  },
  {
   "cell_type": "code",
   "execution_count": 20,
   "metadata": {},
   "outputs": [],
   "source": [
    "prope3 = prope3[(prope3['surf']!=0)]"
   ]
  },
  {
   "cell_type": "code",
   "execution_count": 21,
   "metadata": {},
   "outputs": [],
   "source": [
    "prope3['Precio x m2'] = prope3['Precio USD'] / prope3['surf']"
   ]
  },
  {
   "cell_type": "code",
   "execution_count": 22,
   "metadata": {},
   "outputs": [],
   "source": [
    "prope4 = prope3.loc[:,['Country','City','property_type','Precio x m2']].groupby(['Country','City','property_type']).median()#.agg({'Precio x m2':['min',q05,q95, 'max','mean','median','count']})"
   ]
  },
  {
   "cell_type": "markdown",
   "metadata": {},
   "source": [
    "### Nombres"
   ]
  },
  {
   "cell_type": "code",
   "execution_count": 23,
   "metadata": {},
   "outputs": [],
   "source": [
    "propef = prope4.reset_index()"
   ]
  },
  {
   "cell_type": "code",
   "execution_count": 24,
   "metadata": {},
   "outputs": [],
   "source": [
    "cw = pd.read_excel(r'C:\\Users\\Franco\\Dropbox\\files\\clean\\cwpops.xlsx').ffill()"
   ]
  },
  {
   "cell_type": "code",
   "execution_count": 25,
   "metadata": {},
   "outputs": [],
   "source": [
    "cw['Country'] = cw['Country'].apply(lambda x: unidecode.unidecode(x))\n",
    "cw['City'] = cw['City'].apply(lambda x: unidecode.unidecode(x))"
   ]
  },
  {
   "cell_type": "code",
   "execution_count": 26,
   "metadata": {},
   "outputs": [],
   "source": [
    "propef['Country'] = propef['Country'].apply(lambda x: unidecode.unidecode(x))\n",
    "propef['City'] = propef['City'].apply(lambda x: unidecode.unidecode(x))"
   ]
  },
  {
   "cell_type": "code",
   "execution_count": 33,
   "metadata": {},
   "outputs": [],
   "source": [
    "#Prope precios de prop's comerciales para obtener nombres limpios\n",
    "p = pd.read_excel(r'C:\\Users\\Franco\\Dropbox\\files\\clean\\prope\\comercial\\properati_i.xlsx',index_col=[0,1])\n",
    "p = p.loc[:,'City Original'].reset_index().drop_duplicates().rename(columns={'City':'City cw','City Original':'City'})\n",
    "#p = p.reset_index().append(pd.DataFrame([['Argentina','San Miguel de Tucumán','Gran Tucuman-Tafi Viejo']],columns=['Country','City','City cw'])).set_index(['Country','City'])"
   ]
  },
  {
   "cell_type": "code",
   "execution_count": 28,
   "metadata": {},
   "outputs": [],
   "source": [
    "pgba = pd.DataFrame({'Country':['Argentina'] * 24,\n",
    "'City' : ['Avellaneda',\n",
    "'General San Martín',\n",
    "'Hurlingham',\n",
    "'Ituzaingó',\n",
    "'José C.Paz',\n",
    "'Lanús',\n",
    "'Lomas de Zamora',\n",
    "'Malvinas Argentinas',\n",
    "'Morón',\n",
    "'Quilmes',\n",
    "'San Isidro',\n",
    "'Tres de Febrero',\n",
    "'Vicente López',\n",
    "'Almirante Brown',\n",
    "'Berazategui',\n",
    "'Esteban Echeverría',\n",
    "'Ezeiza',\n",
    "'Florencio Varela',\n",
    "'La Matanza',\n",
    "'Merlo',\n",
    "'Moreno',\n",
    "'San Fernando',\n",
    "'San Miguel',\n",
    "'Tigre'],\n",
    "'City cw':['Partidos del GBA'] * 24})"
   ]
  },
  {
   "cell_type": "code",
   "execution_count": 29,
   "metadata": {},
   "outputs": [],
   "source": [
    "otros = pd.DataFrame({'Country':['Argentina','Argentina','Peru','Colombia'],'City':['Ciudad de Buenos Aires','San Miguel de Tucumán','Lima','Bogota D.C'],'City cw':['Ciudad de Buenos Aires','Gran Tucuman-Tafi Viejo','Callao y Lima','Bogota']})"
   ]
  },
  {
   "cell_type": "code",
   "execution_count": 34,
   "metadata": {},
   "outputs": [],
   "source": [
    "p = p.append(pgba).append(otros)"
   ]
  },
  {
   "cell_type": "code",
   "execution_count": 35,
   "metadata": {},
   "outputs": [],
   "source": [
    "p['Country'] = p['Country'].apply(lambda x: unidecode.unidecode(x))\n",
    "p['City'] = p['City'].apply(lambda x: unidecode.unidecode(x))"
   ]
  },
  {
   "cell_type": "code",
   "execution_count": 36,
   "metadata": {},
   "outputs": [],
   "source": [
    "p = p.set_index(['Country','City']).sort_values(['Country','City'])"
   ]
  },
  {
   "cell_type": "code",
   "execution_count": 37,
   "metadata": {},
   "outputs": [],
   "source": [
    "propef = propef.set_index(['Country','City'])"
   ]
  },
  {
   "cell_type": "code",
   "execution_count": 38,
   "metadata": {},
   "outputs": [],
   "source": [
    "prope_cw = propef.join(p,how='inner')"
   ]
  },
  {
   "cell_type": "code",
   "execution_count": 39,
   "metadata": {},
   "outputs": [],
   "source": [
    "gba = prope_cw[prope_cw['City cw']=='Partidos del GBA']"
   ]
  },
  {
   "cell_type": "code",
   "execution_count": 40,
   "metadata": {},
   "outputs": [],
   "source": [
    "gba = gba.groupby('property_type').mean()"
   ]
  },
  {
   "cell_type": "code",
   "execution_count": 41,
   "metadata": {},
   "outputs": [],
   "source": [
    "[gba['Country'],gba['City'],gba['City cw']] = [['Argentina']*3,['Partidos del GBA']*3,['Partidos del GBA']*3]"
   ]
  },
  {
   "cell_type": "code",
   "execution_count": 42,
   "metadata": {},
   "outputs": [],
   "source": [
    "pro = prope_cw[prope_cw['City cw']!='Partidos del GBA']"
   ]
  },
  {
   "cell_type": "code",
   "execution_count": 43,
   "metadata": {},
   "outputs": [],
   "source": [
    "pro = pro.append(gba.reset_index().set_index(['Country','City']))"
   ]
  },
  {
   "cell_type": "code",
   "execution_count": 45,
   "metadata": {},
   "outputs": [],
   "source": [
    "pro.to_excel(r'C:/Users/Franco/Dropbox/files/clean/prope/comercial/comercial.xlsx')"
   ]
  }
 ],
 "metadata": {
  "kernelspec": {
   "display_name": "Python 3",
   "language": "python",
   "name": "python3"
  },
  "language_info": {
   "codemirror_mode": {
    "name": "ipython",
    "version": 3
   },
   "file_extension": ".py",
   "mimetype": "text/x-python",
   "name": "python",
   "nbconvert_exporter": "python",
   "pygments_lexer": "ipython3",
   "version": "3.7.8"
  }
 },
 "nbformat": 4,
 "nbformat_minor": 4
}
