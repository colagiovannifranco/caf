{
 "cells": [
  {
   "cell_type": "code",
   "execution_count": 1,
   "metadata": {},
   "outputs": [],
   "source": [
    "import re\n",
    "import numpy as np\n",
    "import pandas as pd\n",
    "import geopandas as gpd\n",
    "import openpyxl\n",
    "\n",
    "import os\n",
    "import requests\n",
    "import warnings\n",
    "\n",
    "import seaborn as sns\n",
    "import matplotlib as mpl\n",
    "import matplotlib.pyplot as plt\n",
    "\n",
    "import urbanpy as up\n",
    "import contextily as ctx\n",
    "\n",
    "import io\n",
    "\n",
    "pd.set_option('display.max_rows',999)\n",
    "pd.set_option('display.float_format', lambda x: '%.3f' % x)\n",
    "\n",
    "warnings.filterwarnings(\"ignore\")\n",
    "#import unicodedata\n",
    "#import gzip"
   ]
  },
  {
   "cell_type": "code",
   "execution_count": 2,
   "metadata": {},
   "outputs": [],
   "source": [
    "os.chdir('C:\\\\Users\\\\Franco\\\\Python\\\\CAF')"
   ]
  },
  {
   "cell_type": "code",
   "execution_count": 3,
   "metadata": {},
   "outputs": [],
   "source": [
    "distances = pd.read_excel('files/distances.xlsx', index_col = 0)"
   ]
  },
  {
   "cell_type": "code",
   "execution_count": 4,
   "metadata": {},
   "outputs": [],
   "source": [
    "cwpops = pd.read_excel('files/cwpops.xlsx', index_col = [0,1])"
   ]
  },
  {
   "cell_type": "code",
   "execution_count": 5,
   "metadata": {},
   "outputs": [],
   "source": [
    "ejd = pd.read_excel('files/analisis_ejd.xlsx',  sheet_name='Sheet1 (2)')"
   ]
  },
  {
   "cell_type": "code",
   "execution_count": 6,
   "metadata": {},
   "outputs": [],
   "source": [
    "ejd = ejd.rename(columns={'Pais':'Country','Ciudad':'City'})"
   ]
  },
  {
   "cell_type": "code",
   "execution_count": 7,
   "metadata": {},
   "outputs": [],
   "source": [
    "#Creo DICT para poder cambiar las siglas de los paises por los nomrbes de los paises\n",
    "\n",
    "a = list(ejd.loc[:,'Country'].unique())\n",
    "\n",
    "b = [\n",
    " 'Brasil',\n",
    " 'Costa Rica',\n",
    " 'Argentina',\n",
    " 'Paraguay',\n",
    " 'Uruguay',\n",
    " 'Mexico',\n",
    " 'Peru',\n",
    " 'Ecuador',\n",
    " 'Bolivia',\n",
    " 'Panama',\n",
    " 'Venezuela',\n",
    " 'Chile',\n",
    " 'Colombia']\n",
    "\n",
    "b = sorted(b)\n",
    "\n",
    "nombres = dict(zip(a, b))\n",
    "\n",
    "nombres['PER'] = 'Peru'\n",
    "nombres['PRY'] = 'Paraguay'"
   ]
  },
  {
   "cell_type": "code",
   "execution_count": 8,
   "metadata": {},
   "outputs": [],
   "source": [
    "ejd = ejd.replace({\"Country\": nombres}).set_index(['Country','City'])"
   ]
  },
  {
   "cell_type": "code",
   "execution_count": 9,
   "metadata": {},
   "outputs": [],
   "source": [
    "#a = cwpops.loc['Mexico'].join(ejd.loc['Mexico'],how='inner').index.tolist()\n",
    "\n",
    "#cwpops.loc['Mexico'].join(ejd.loc['Mexico'],how='outer').drop(index=a)"
   ]
  },
  {
   "cell_type": "code",
   "execution_count": 10,
   "metadata": {},
   "outputs": [],
   "source": [
    "dic = pd.read_excel('files/Diccionario.xlsx',header=1,usecols='B',nrows=10)\n",
    "\n",
    "dic.columns = ['actividad']\n",
    "\n",
    "dic['sn'] = 's' + dic['actividad'].str[:2]\n",
    "\n",
    "dic['sn'] = dic['sn'].str.replace(\" \",\"\")\n",
    "\n",
    "dic['actividad'] = dic['actividad'].str[5:]\n",
    "\n",
    "dic = dic.rename(columns={'sn':'principal_sector'})"
   ]
  },
  {
   "cell_type": "markdown",
   "metadata": {},
   "source": [
    "### Acomodar el tema 'Distances' a km"
   ]
  },
  {
   "cell_type": "code",
   "execution_count": 11,
   "metadata": {},
   "outputs": [],
   "source": [
    "distances['Distance2'] = distances['Distance']"
   ]
  },
  {
   "cell_type": "code",
   "execution_count": 12,
   "metadata": {},
   "outputs": [],
   "source": [
    "distances.loc[(distances['Distance'].str.contains(' ft| m')),'Distance2'] = '0 km'"
   ]
  },
  {
   "cell_type": "code",
   "execution_count": 13,
   "metadata": {},
   "outputs": [],
   "source": [
    "distances['distance_km'] = distances['Distance2'].apply(lambda x: x.replace(' km',''))"
   ]
  },
  {
   "cell_type": "code",
   "execution_count": 14,
   "metadata": {},
   "outputs": [],
   "source": [
    "distances['distance_km'] = distances['distance_km'].astype('float')"
   ]
  },
  {
   "cell_type": "code",
   "execution_count": 15,
   "metadata": {},
   "outputs": [],
   "source": [
    "del distances['Distance2']"
   ]
  },
  {
   "cell_type": "markdown",
   "metadata": {},
   "source": [
    "### Base cutoff"
   ]
  },
  {
   "cell_type": "code",
   "execution_count": 16,
   "metadata": {},
   "outputs": [],
   "source": [
    "def get_wages_from_cutoff(city_index, cutoff):\n",
    "    city_wage = cwpops.drop_duplicates('index1').loc[city_index]['estimated_citywage']\n",
    "    distan = distances[(distances['Country'] == city_index[0])\n",
    "                            &(distances['City A'] == city_index[1])\n",
    "                            &(distances['parsed_duration'] <= cutoff)].drop_duplicates('City B')\n",
    "\n",
    "    nearby_cities = [(x,y) for x,y in distan[['Country','City B']].values.tolist()]\n",
    "    if len(nearby_cities) == 0:\n",
    "        return city_wage\n",
    "    else:\n",
    "        nearby_wages = cwpops.loc[nearby_cities]['estimated_citywage'].sum()\n",
    "        return nearby_wages + city_wage"
   ]
  },
  {
   "cell_type": "code",
   "execution_count": 17,
   "metadata": {},
   "outputs": [],
   "source": [
    "def get_countryshare_from_cutoff(city_index, cutoff, share_out = True):\n",
    "    nearwages = get_wages_from_cutoff(city_index, cutoff = cutoff)\n",
    "    country_wages = cwpops.groupby('Country')['estimated_citywage'].sum().loc[city_index[0]]\n",
    "    share = nearwages/country_wages\n",
    "    if share_out == True:\n",
    "        return share\n",
    "    else:\n",
    "        return nearwages"
   ]
  },
  {
   "cell_type": "code",
   "execution_count": 18,
   "metadata": {},
   "outputs": [],
   "source": [
    "shares_cutoff = pd.DataFrame(index = cwpops.index)"
   ]
  },
  {
   "cell_type": "code",
   "execution_count": 19,
   "metadata": {},
   "outputs": [],
   "source": [
    "shares_cutoff['index1'] = shares_cutoff.index\n",
    "for i in range(10):\n",
    "    shares_cutoff['cutoff_' + str(i)] = shares_cutoff['index1'].apply(lambda x: get_countryshare_from_cutoff(x , cutoff = i))"
   ]
  },
  {
   "cell_type": "code",
   "execution_count": 20,
   "metadata": {},
   "outputs": [],
   "source": [
    "shares_cutoff = pd.concat([shares_cutoff, shares_cutoff.mean().to_frame(('Promedios','Promedios')).T])"
   ]
  },
  {
   "cell_type": "markdown",
   "metadata": {},
   "source": [
    "### Base Congestion"
   ]
  },
  {
   "cell_type": "code",
   "execution_count": 21,
   "metadata": {},
   "outputs": [],
   "source": [
    "distances['dit_elementos'] = distances['Duration in traffic'].apply(lambda x: len(re.split('day|hour|mins|seconds',x)))"
   ]
  },
  {
   "cell_type": "code",
   "execution_count": 22,
   "metadata": {},
   "outputs": [],
   "source": [
    "distances['duration_traffic'] = np.nan\n",
    "\n",
    "for i, row in distances.iterrows():\n",
    "    if 'second' in row['Duration in traffic']:\n",
    "        distances.loc[i,'duration_traffic']  = float(0)\n",
    "    elif 'mins' in row['Duration in traffic'] and 'hour' not in row['Duration in traffic']:\n",
    "        if len(row['Duration in traffic'].replace(' mins','')) > 1:\n",
    "            distances.loc[i,'duration_traffic']  = float('0.'+row['Duration in traffic'].replace(' mins',''))*100/60\n",
    "        else:\n",
    "            distances.loc[i,'duration_traffic']  = float('0.0'+row['Duration in traffic'].replace(' mins',''))*100/60\n",
    "    elif 'hour' in row['Duration in traffic'] and 'day' not in row['Duration in traffic']:\n",
    "        if len(row['Duration in traffic'].split(' hour ')[1].replace(' mins','')) > 1:\n",
    "            distances.loc[i,'duration_traffic'] = float(row['Duration in traffic'].split(' hour ')[0])+float('.'+row['Duration in traffic'].split(' hour ')[1].replace(' mins',''))*100/60\n",
    "        else:\n",
    "            distances.loc[i,'duration_traffic'] = float(row['Duration in traffic'].split(' hour ')[0])+float('.0'+row['Duration in traffic'].split(' hour ')[1].replace(' mins',''))*100/60\n",
    "    elif 'day' in row['Duration in traffic']:\n",
    "        a = re.split(' day | hour | mins',row['Duration in traffic'])\n",
    "        if len(a[2]) > 1:\n",
    "            distances.loc[i,'duration_traffic']  = float(a[0])*24+float(a[1])+float('.'+a[2])*100/60\n",
    "        else:\n",
    "            distances.loc[i,'duration_traffic']  = float(a[0])*24+float(a[1])+float('.0'+a[2])*100/60"
   ]
  },
  {
   "cell_type": "markdown",
   "metadata": {},
   "source": [
    "#### Calculo de congestión promedio\n",
    "\n",
    "Mantengo sólo ciudades que se encuentran a menos de 12 horas de la ciudad objetivo"
   ]
  },
  {
   "cell_type": "code",
   "execution_count": 23,
   "metadata": {},
   "outputs": [],
   "source": [
    "distances = distances.replace('NAN', np.nan)"
   ]
  },
  {
   "cell_type": "code",
   "execution_count": 24,
   "metadata": {},
   "outputs": [],
   "source": [
    "cerca = distances.loc[(distances['duration_traffic'] <= 12),:]"
   ]
  },
  {
   "cell_type": "markdown",
   "metadata": {},
   "source": [
    "City B: filtro por ciudades con masa salarial (% del total del país) mayor a la mediana del país"
   ]
  },
  {
   "cell_type": "code",
   "execution_count": 25,
   "metadata": {},
   "outputs": [],
   "source": [
    "citywage = pd.DataFrame(cwpops.loc[:,'estimated_citywage'])\n",
    "\n",
    "a = citywage.groupby('Country').sum('estimated_citywage')\n",
    "a.rename(columns={'estimated_citywage':'country_wage'},inplace=True)\n",
    "\n",
    "citywage = a.join(citywage,how='inner')\n",
    "\n",
    "citywage['wage_ratio'] = citywage['estimated_citywage'] / citywage['country_wage']\n",
    "\n",
    "citywage.dropna(subset=['wage_ratio'],inplace=True)"
   ]
  },
  {
   "cell_type": "code",
   "execution_count": 26,
   "metadata": {},
   "outputs": [],
   "source": [
    "a = pd.DataFrame(citywage.loc[:,'wage_ratio'].groupby('Country').median('wage_ratio'))\n",
    "\n",
    "a.rename(columns={'wage_ratio':'median_wr'},inplace=True)"
   ]
  },
  {
   "cell_type": "code",
   "execution_count": 27,
   "metadata": {},
   "outputs": [],
   "source": [
    "citywage = a.join(citywage,how='inner')"
   ]
  },
  {
   "cell_type": "code",
   "execution_count": 28,
   "metadata": {},
   "outputs": [],
   "source": [
    "mercados_target = citywage.loc[(citywage['wage_ratio']>citywage['median_wr']),:]"
   ]
  },
  {
   "cell_type": "markdown",
   "metadata": {},
   "source": [
    "Ahora filtro mi base de distancias dejando solo los mercados target dentro de las city B"
   ]
  },
  {
   "cell_type": "code",
   "execution_count": 29,
   "metadata": {},
   "outputs": [],
   "source": [
    "mercados_target.reset_index(inplace=True)\n",
    "mercados_target.rename(columns={'City':'City B'},inplace=True)\n",
    "mercados_target.drop(columns=['Country','median_wr','country_wage'],inplace=True)"
   ]
  },
  {
   "cell_type": "code",
   "execution_count": 30,
   "metadata": {},
   "outputs": [],
   "source": [
    "cerca_mercado = cerca.merge(mercados_target,on='City B', how='inner',validate='m:1',)"
   ]
  },
  {
   "cell_type": "code",
   "execution_count": 31,
   "metadata": {},
   "outputs": [],
   "source": [
    "cerca_mercado['kms_hora'] = cerca_mercado['distance_km'] / cerca_mercado['duration_traffic']"
   ]
  },
  {
   "cell_type": "markdown",
   "metadata": {},
   "source": [
    "Ahora tengo que crear las distancias x hora recorridas promedio de cada ciudad para 3 6 9 y 12 horas max"
   ]
  },
  {
   "cell_type": "code",
   "execution_count": 38,
   "metadata": {},
   "outputs": [],
   "source": [
    "cm = pd.DataFrame(np.nan ,index = cerca_mercado.index.unique(),columns=['dist_3horas','dist_6horas','dist_9horas','dist_12horas'])"
   ]
  },
  {
   "cell_type": "code",
   "execution_count": 33,
   "metadata": {},
   "outputs": [],
   "source": [
    "mylist = [3,6,9,12]\n",
    "\n",
    "cerca_mercado = cerca_mercado.rename(columns={'City A':'City'}).set_index(['Country','City'])"
   ]
  },
  {
   "cell_type": "code",
   "execution_count": 34,
   "metadata": {},
   "outputs": [],
   "source": [
    "#Cerca mercado es la base de distances en la que las ciudades destino estan a menos de 12 horas \n",
    "#y corresponden a masas salariares superiores a la mediana del pais"
   ]
  },
  {
   "cell_type": "code",
   "execution_count": 35,
   "metadata": {},
   "outputs": [],
   "source": [
    "#cerca_mercado.query('(Country == \"Argentina\" and City == \"Bahia Blanca-Cerri\") and duration_traffic <= 9').loc[:,'kms_hora'].mean()"
   ]
  },
  {
   "cell_type": "code",
   "execution_count": 40,
   "metadata": {},
   "outputs": [],
   "source": [
    "for i,r in cm.iterrows():\n",
    "    p = cerca_mercado.loc[i,:]\n",
    "    for e in mylist:\n",
    "        cm.loc[i,'dist_{}horas'.format(e)] = p.loc[(p['duration_traffic'] <= e),'kms_hora'].mean()"
   ]
  },
  {
   "cell_type": "markdown",
   "metadata": {},
   "source": [
    "### Mexico"
   ]
  },
  {
   "cell_type": "code",
   "execution_count": 41,
   "metadata": {},
   "outputs": [],
   "source": [
    "mex = cwpops.loc['Mexico'].sort_values('pops',ascending=False).iloc[7:37,]"
   ]
  },
  {
   "cell_type": "code",
   "execution_count": 42,
   "metadata": {},
   "outputs": [],
   "source": [
    "ejd_mex = ejd.loc['Mexico']"
   ]
  },
  {
   "cell_type": "code",
   "execution_count": 43,
   "metadata": {},
   "outputs": [],
   "source": [
    "a = ejd_mex.reset_index().apply(lambda row: row['City'].replace('Zona metropolitana de ','').replace('Zona metropolitana del ',''),axis=1).to_frame()"
   ]
  },
  {
   "cell_type": "code",
   "execution_count": 44,
   "metadata": {},
   "outputs": [],
   "source": [
    "ejd_mex = ejd_mex.reset_index().join(a,how='inner')"
   ]
  },
  {
   "cell_type": "code",
   "execution_count": 45,
   "metadata": {},
   "outputs": [],
   "source": [
    "ejd_mex = ejd_mex.rename(columns={'City':'City_old',0:'City'}).set_index('City')"
   ]
  },
  {
   "cell_type": "code",
   "execution_count": 394,
   "metadata": {
    "collapsed": true,
    "jupyter": {
     "outputs_hidden": true
    }
   },
   "outputs": [
    {
     "data": {
      "text/html": [
       "<div>\n",
       "<style scoped>\n",
       "    .dataframe tbody tr th:only-of-type {\n",
       "        vertical-align: middle;\n",
       "    }\n",
       "\n",
       "    .dataframe tbody tr th {\n",
       "        vertical-align: top;\n",
       "    }\n",
       "\n",
       "    .dataframe thead th {\n",
       "        text-align: right;\n",
       "    }\n",
       "</style>\n",
       "<table border=\"1\" class=\"dataframe\">\n",
       "  <thead>\n",
       "    <tr style=\"text-align: right;\">\n",
       "      <th></th>\n",
       "      <th>index1</th>\n",
       "      <th>nearest_loc</th>\n",
       "      <th>City_old</th>\n",
       "    </tr>\n",
       "    <tr>\n",
       "      <th>City</th>\n",
       "      <th></th>\n",
       "      <th></th>\n",
       "      <th></th>\n",
       "    </tr>\n",
       "  </thead>\n",
       "  <tbody>\n",
       "    <tr>\n",
       "      <th>Acapulco</th>\n",
       "      <td>('Mexico', 'Acapulco')</td>\n",
       "      <td>('Mexico', 'Zona metropolitana de Acapulco')</td>\n",
       "      <td>Zona metropolitana de Acapulco</td>\n",
       "    </tr>\n",
       "    <tr>\n",
       "      <th>Aguascalientes</th>\n",
       "      <td>NaN</td>\n",
       "      <td>NaN</td>\n",
       "      <td>Zona metropolitana de Aguascalientes</td>\n",
       "    </tr>\n",
       "    <tr>\n",
       "      <th>Cancún</th>\n",
       "      <td>('Mexico', 'Cancún')</td>\n",
       "      <td>('Mexico', 'Zona metropolitana de Cancún')</td>\n",
       "      <td>Zona metropolitana de Cancún</td>\n",
       "    </tr>\n",
       "    <tr>\n",
       "      <th>Chihuahua</th>\n",
       "      <td>('Mexico', 'Chihuahua')</td>\n",
       "      <td>('Mexico', 'Zona metropolitana de Chihuahua')</td>\n",
       "      <td>Zona metropolitana de Chihuahua</td>\n",
       "    </tr>\n",
       "    <tr>\n",
       "      <th>Colima-Villa de Álvarez</th>\n",
       "      <td>('Mexico', 'Colima-Villa de Álvarez')</td>\n",
       "      <td>('Mexico', 'Zona metropolitana de Colima-Villa...</td>\n",
       "      <td>Zona metropolitana de Colima-Villa de Álvarez</td>\n",
       "    </tr>\n",
       "    <tr>\n",
       "      <th>Cuernavaca</th>\n",
       "      <td>('Mexico', 'Cuernavaca')</td>\n",
       "      <td>('Mexico', 'Zona metropolitana de Cuernavaca')</td>\n",
       "      <td>Zona metropolitana de Cuernavaca</td>\n",
       "    </tr>\n",
       "    <tr>\n",
       "      <th>Culiacán</th>\n",
       "      <td>NaN</td>\n",
       "      <td>NaN</td>\n",
       "      <td>Culiacán</td>\n",
       "    </tr>\n",
       "    <tr>\n",
       "      <th>Durango</th>\n",
       "      <td>('Mexico', 'Durango')</td>\n",
       "      <td>('Mexico', 'Durango')</td>\n",
       "      <td>Durango</td>\n",
       "    </tr>\n",
       "    <tr>\n",
       "      <th>Guadalajara</th>\n",
       "      <td>NaN</td>\n",
       "      <td>NaN</td>\n",
       "      <td>Zona metropolitana de Guadalajara</td>\n",
       "    </tr>\n",
       "    <tr>\n",
       "      <th>Hermosillo</th>\n",
       "      <td>('Mexico', 'Hermosillo')</td>\n",
       "      <td>('Mexico', 'Hermosillo')</td>\n",
       "      <td>Hermosillo</td>\n",
       "    </tr>\n",
       "    <tr>\n",
       "      <th>Juárez</th>\n",
       "      <td>NaN</td>\n",
       "      <td>NaN</td>\n",
       "      <td>Zona metropolitana de Juárez</td>\n",
       "    </tr>\n",
       "    <tr>\n",
       "      <th>La Laguna</th>\n",
       "      <td>('Mexico', 'La Laguna')</td>\n",
       "      <td>('Mexico', 'Zona metropolitana de La Laguna')</td>\n",
       "      <td>Zona metropolitana de La Laguna</td>\n",
       "    </tr>\n",
       "    <tr>\n",
       "      <th>León</th>\n",
       "      <td>NaN</td>\n",
       "      <td>NaN</td>\n",
       "      <td>Zona metropolitana de León</td>\n",
       "    </tr>\n",
       "    <tr>\n",
       "      <th>Mazatlan</th>\n",
       "      <td>('Mexico', 'Mazatlan')</td>\n",
       "      <td>('Mexico', 'Culiacán')</td>\n",
       "      <td>NaN</td>\n",
       "    </tr>\n",
       "    <tr>\n",
       "      <th>Mexicali</th>\n",
       "      <td>('Mexico', 'Mexicali')</td>\n",
       "      <td>('Mexico', 'Zona metropolitana de Mexicali')</td>\n",
       "      <td>Zona metropolitana de Mexicali</td>\n",
       "    </tr>\n",
       "    <tr>\n",
       "      <th>Monterrey</th>\n",
       "      <td>('Mexico', 'Monterrey')</td>\n",
       "      <td>('Mexico', 'Zona metropolitana de Monterrey')</td>\n",
       "      <td>Zona metropolitana de Monterrey</td>\n",
       "    </tr>\n",
       "    <tr>\n",
       "      <th>Morelia</th>\n",
       "      <td>('Mexico', 'Morelia')</td>\n",
       "      <td>('Mexico', 'Zona metropolitana de Morelia')</td>\n",
       "      <td>Zona metropolitana de Morelia</td>\n",
       "    </tr>\n",
       "    <tr>\n",
       "      <th>Mérida</th>\n",
       "      <td>('Mexico', 'Mérida')</td>\n",
       "      <td>('Mexico', 'Zona metropolitana de Mérida')</td>\n",
       "      <td>Zona metropolitana de Mérida</td>\n",
       "    </tr>\n",
       "    <tr>\n",
       "      <th>Oaxaca</th>\n",
       "      <td>('Mexico', 'Oaxaca')</td>\n",
       "      <td>('Mexico', 'Zona metropolitana de Oaxaca')</td>\n",
       "      <td>Zona metropolitana de Oaxaca</td>\n",
       "    </tr>\n",
       "    <tr>\n",
       "      <th>Pachuca</th>\n",
       "      <td>('Mexico', 'Pachuca')</td>\n",
       "      <td>('Mexico', 'Zona metropolitana de Pachuca')</td>\n",
       "      <td>Zona metropolitana de Pachuca</td>\n",
       "    </tr>\n",
       "    <tr>\n",
       "      <th>Poza Rica de Hidalgo</th>\n",
       "      <td>('Mexico', 'Poza Rica de Hidalgo')</td>\n",
       "      <td>('Mexico', 'Zona metropolitana de La Laguna')</td>\n",
       "      <td>NaN</td>\n",
       "    </tr>\n",
       "    <tr>\n",
       "      <th>Puebla-Tlaxcala</th>\n",
       "      <td>NaN</td>\n",
       "      <td>NaN</td>\n",
       "      <td>Zona metropolitana de Puebla-Tlaxcala</td>\n",
       "    </tr>\n",
       "    <tr>\n",
       "      <th>Querétaro</th>\n",
       "      <td>('Mexico', 'Querétaro')</td>\n",
       "      <td>('Mexico', 'Zona metropolitana de Querétaro')</td>\n",
       "      <td>Zona metropolitana de Querétaro</td>\n",
       "    </tr>\n",
       "    <tr>\n",
       "      <th>Reynosa</th>\n",
       "      <td>('Mexico', 'Reynosa')</td>\n",
       "      <td>('Mexico', 'Zona metropolitana de Monterrey')</td>\n",
       "      <td>NaN</td>\n",
       "    </tr>\n",
       "    <tr>\n",
       "      <th>Saltillo</th>\n",
       "      <td>('Mexico', 'Saltillo')</td>\n",
       "      <td>('Mexico', 'Zona metropolitana de Saltillo')</td>\n",
       "      <td>Zona metropolitana de Saltillo</td>\n",
       "    </tr>\n",
       "    <tr>\n",
       "      <th>San Luis Potosí</th>\n",
       "      <td>('Mexico', 'San Luis Potosí')</td>\n",
       "      <td>('Mexico', 'San Luis Potosí')</td>\n",
       "      <td>San Luis Potosí</td>\n",
       "    </tr>\n",
       "    <tr>\n",
       "      <th>Tampico</th>\n",
       "      <td>NaN</td>\n",
       "      <td>NaN</td>\n",
       "      <td>Zona metropolitana de Tampico</td>\n",
       "    </tr>\n",
       "    <tr>\n",
       "      <th>Tepic</th>\n",
       "      <td>('Mexico', 'Tepic')</td>\n",
       "      <td>('Mexico', 'Tepic')</td>\n",
       "      <td>Tepic</td>\n",
       "    </tr>\n",
       "    <tr>\n",
       "      <th>Tijuana</th>\n",
       "      <td>NaN</td>\n",
       "      <td>NaN</td>\n",
       "      <td>Zona metropolitana de Tijuana</td>\n",
       "    </tr>\n",
       "    <tr>\n",
       "      <th>Tlaxcala-Apizaco</th>\n",
       "      <td>('Mexico', 'Tlaxcala-Apizaco')</td>\n",
       "      <td>('Mexico', 'Zona metropolitana de Tlaxcala-Api...</td>\n",
       "      <td>Zona metropolitana de Tlaxcala-Apizaco</td>\n",
       "    </tr>\n",
       "    <tr>\n",
       "      <th>Toluca</th>\n",
       "      <td>('Mexico', 'Toluca')</td>\n",
       "      <td>('Mexico', 'Zona metropolitana de Toluca')</td>\n",
       "      <td>Zona metropolitana de Toluca</td>\n",
       "    </tr>\n",
       "    <tr>\n",
       "      <th>Torreon</th>\n",
       "      <td>('Mexico', 'Torreon')</td>\n",
       "      <td>('Mexico', 'Durango')</td>\n",
       "      <td>NaN</td>\n",
       "    </tr>\n",
       "    <tr>\n",
       "      <th>Tuxtla Gutiérrez</th>\n",
       "      <td>('Mexico', 'Tuxtla Gutiérrez')</td>\n",
       "      <td>('Mexico', 'Zona metropolitana de Tuxtla Gutié...</td>\n",
       "      <td>Zona metropolitana de Tuxtla Gutiérrez</td>\n",
       "    </tr>\n",
       "    <tr>\n",
       "      <th>Valle de México</th>\n",
       "      <td>NaN</td>\n",
       "      <td>NaN</td>\n",
       "      <td>Zona metropolitana del Valle de México</td>\n",
       "    </tr>\n",
       "    <tr>\n",
       "      <th>Veracruz</th>\n",
       "      <td>('Mexico', 'Veracruz')</td>\n",
       "      <td>('Mexico', 'Zona metropolitana de Tlaxcala-Api...</td>\n",
       "      <td>NaN</td>\n",
       "    </tr>\n",
       "    <tr>\n",
       "      <th>Villahermosa</th>\n",
       "      <td>('Mexico', 'Villahermosa')</td>\n",
       "      <td>('Mexico', 'Zona metropolitana de Villahermosa')</td>\n",
       "      <td>Zona metropolitana de Villahermosa</td>\n",
       "    </tr>\n",
       "    <tr>\n",
       "      <th>Xalapa</th>\n",
       "      <td>('Mexico', 'Xalapa')</td>\n",
       "      <td>('Mexico', 'Zona metropolitana de Tlaxcala-Api...</td>\n",
       "      <td>NaN</td>\n",
       "    </tr>\n",
       "  </tbody>\n",
       "</table>\n",
       "</div>"
      ],
      "text/plain": [
       "                                                        index1  \\\n",
       "City                                                             \n",
       "Acapulco                                ('Mexico', 'Acapulco')   \n",
       "Aguascalientes                                             NaN   \n",
       "Cancún                                    ('Mexico', 'Cancún')   \n",
       "Chihuahua                              ('Mexico', 'Chihuahua')   \n",
       "Colima-Villa de Álvarez  ('Mexico', 'Colima-Villa de Álvarez')   \n",
       "Cuernavaca                            ('Mexico', 'Cuernavaca')   \n",
       "Culiacán                                                   NaN   \n",
       "Durango                                  ('Mexico', 'Durango')   \n",
       "Guadalajara                                                NaN   \n",
       "Hermosillo                            ('Mexico', 'Hermosillo')   \n",
       "Juárez                                                     NaN   \n",
       "La Laguna                              ('Mexico', 'La Laguna')   \n",
       "León                                                       NaN   \n",
       "Mazatlan                                ('Mexico', 'Mazatlan')   \n",
       "Mexicali                                ('Mexico', 'Mexicali')   \n",
       "Monterrey                              ('Mexico', 'Monterrey')   \n",
       "Morelia                                  ('Mexico', 'Morelia')   \n",
       "Mérida                                    ('Mexico', 'Mérida')   \n",
       "Oaxaca                                    ('Mexico', 'Oaxaca')   \n",
       "Pachuca                                  ('Mexico', 'Pachuca')   \n",
       "Poza Rica de Hidalgo        ('Mexico', 'Poza Rica de Hidalgo')   \n",
       "Puebla-Tlaxcala                                            NaN   \n",
       "Querétaro                              ('Mexico', 'Querétaro')   \n",
       "Reynosa                                  ('Mexico', 'Reynosa')   \n",
       "Saltillo                                ('Mexico', 'Saltillo')   \n",
       "San Luis Potosí                  ('Mexico', 'San Luis Potosí')   \n",
       "Tampico                                                    NaN   \n",
       "Tepic                                      ('Mexico', 'Tepic')   \n",
       "Tijuana                                                    NaN   \n",
       "Tlaxcala-Apizaco                ('Mexico', 'Tlaxcala-Apizaco')   \n",
       "Toluca                                    ('Mexico', 'Toluca')   \n",
       "Torreon                                  ('Mexico', 'Torreon')   \n",
       "Tuxtla Gutiérrez                ('Mexico', 'Tuxtla Gutiérrez')   \n",
       "Valle de México                                            NaN   \n",
       "Veracruz                                ('Mexico', 'Veracruz')   \n",
       "Villahermosa                        ('Mexico', 'Villahermosa')   \n",
       "Xalapa                                    ('Mexico', 'Xalapa')   \n",
       "\n",
       "                                                               nearest_loc  \\\n",
       "City                                                                         \n",
       "Acapulco                      ('Mexico', 'Zona metropolitana de Acapulco')   \n",
       "Aguascalientes                                                         NaN   \n",
       "Cancún                          ('Mexico', 'Zona metropolitana de Cancún')   \n",
       "Chihuahua                    ('Mexico', 'Zona metropolitana de Chihuahua')   \n",
       "Colima-Villa de Álvarez  ('Mexico', 'Zona metropolitana de Colima-Villa...   \n",
       "Cuernavaca                  ('Mexico', 'Zona metropolitana de Cuernavaca')   \n",
       "Culiacán                                                               NaN   \n",
       "Durango                                              ('Mexico', 'Durango')   \n",
       "Guadalajara                                                            NaN   \n",
       "Hermosillo                                        ('Mexico', 'Hermosillo')   \n",
       "Juárez                                                                 NaN   \n",
       "La Laguna                    ('Mexico', 'Zona metropolitana de La Laguna')   \n",
       "León                                                                   NaN   \n",
       "Mazatlan                                            ('Mexico', 'Culiacán')   \n",
       "Mexicali                      ('Mexico', 'Zona metropolitana de Mexicali')   \n",
       "Monterrey                    ('Mexico', 'Zona metropolitana de Monterrey')   \n",
       "Morelia                        ('Mexico', 'Zona metropolitana de Morelia')   \n",
       "Mérida                          ('Mexico', 'Zona metropolitana de Mérida')   \n",
       "Oaxaca                          ('Mexico', 'Zona metropolitana de Oaxaca')   \n",
       "Pachuca                        ('Mexico', 'Zona metropolitana de Pachuca')   \n",
       "Poza Rica de Hidalgo         ('Mexico', 'Zona metropolitana de La Laguna')   \n",
       "Puebla-Tlaxcala                                                        NaN   \n",
       "Querétaro                    ('Mexico', 'Zona metropolitana de Querétaro')   \n",
       "Reynosa                      ('Mexico', 'Zona metropolitana de Monterrey')   \n",
       "Saltillo                      ('Mexico', 'Zona metropolitana de Saltillo')   \n",
       "San Luis Potosí                              ('Mexico', 'San Luis Potosí')   \n",
       "Tampico                                                                NaN   \n",
       "Tepic                                                  ('Mexico', 'Tepic')   \n",
       "Tijuana                                                                NaN   \n",
       "Tlaxcala-Apizaco         ('Mexico', 'Zona metropolitana de Tlaxcala-Api...   \n",
       "Toluca                          ('Mexico', 'Zona metropolitana de Toluca')   \n",
       "Torreon                                              ('Mexico', 'Durango')   \n",
       "Tuxtla Gutiérrez         ('Mexico', 'Zona metropolitana de Tuxtla Gutié...   \n",
       "Valle de México                                                        NaN   \n",
       "Veracruz                 ('Mexico', 'Zona metropolitana de Tlaxcala-Api...   \n",
       "Villahermosa              ('Mexico', 'Zona metropolitana de Villahermosa')   \n",
       "Xalapa                   ('Mexico', 'Zona metropolitana de Tlaxcala-Api...   \n",
       "\n",
       "                                                              City_old  \n",
       "City                                                                    \n",
       "Acapulco                                Zona metropolitana de Acapulco  \n",
       "Aguascalientes                    Zona metropolitana de Aguascalientes  \n",
       "Cancún                                    Zona metropolitana de Cancún  \n",
       "Chihuahua                              Zona metropolitana de Chihuahua  \n",
       "Colima-Villa de Álvarez  Zona metropolitana de Colima-Villa de Álvarez  \n",
       "Cuernavaca                            Zona metropolitana de Cuernavaca  \n",
       "Culiacán                                                      Culiacán  \n",
       "Durango                                                        Durango  \n",
       "Guadalajara                          Zona metropolitana de Guadalajara  \n",
       "Hermosillo                                                  Hermosillo  \n",
       "Juárez                                    Zona metropolitana de Juárez  \n",
       "La Laguna                              Zona metropolitana de La Laguna  \n",
       "León                                        Zona metropolitana de León  \n",
       "Mazatlan                                                           NaN  \n",
       "Mexicali                                Zona metropolitana de Mexicali  \n",
       "Monterrey                              Zona metropolitana de Monterrey  \n",
       "Morelia                                  Zona metropolitana de Morelia  \n",
       "Mérida                                    Zona metropolitana de Mérida  \n",
       "Oaxaca                                    Zona metropolitana de Oaxaca  \n",
       "Pachuca                                  Zona metropolitana de Pachuca  \n",
       "Poza Rica de Hidalgo                                               NaN  \n",
       "Puebla-Tlaxcala                  Zona metropolitana de Puebla-Tlaxcala  \n",
       "Querétaro                              Zona metropolitana de Querétaro  \n",
       "Reynosa                                                            NaN  \n",
       "Saltillo                                Zona metropolitana de Saltillo  \n",
       "San Luis Potosí                                        San Luis Potosí  \n",
       "Tampico                                  Zona metropolitana de Tampico  \n",
       "Tepic                                                            Tepic  \n",
       "Tijuana                                  Zona metropolitana de Tijuana  \n",
       "Tlaxcala-Apizaco                Zona metropolitana de Tlaxcala-Apizaco  \n",
       "Toluca                                    Zona metropolitana de Toluca  \n",
       "Torreon                                                            NaN  \n",
       "Tuxtla Gutiérrez                Zona metropolitana de Tuxtla Gutiérrez  \n",
       "Valle de México                 Zona metropolitana del Valle de México  \n",
       "Veracruz                                                           NaN  \n",
       "Villahermosa                        Zona metropolitana de Villahermosa  \n",
       "Xalapa                                                             NaN  "
      ]
     },
     "execution_count": 394,
     "metadata": {},
     "output_type": "execute_result"
    }
   ],
   "source": [
    "#mex.join(ejd_mex,how='outer').loc[:,['index1','nearest_loc','City_old']]"
   ]
  },
  {
   "cell_type": "markdown",
   "metadata": {},
   "source": [
    "Lejos de Mercados"
   ]
  },
  {
   "cell_type": "code",
   "execution_count": 47,
   "metadata": {},
   "outputs": [],
   "source": [
    "sc_mex = shares_cutoff.drop(columns=['index1']).loc['Mexico'].loc[mex.index.tolist()].sort_values('cutoff_9').iloc[:10,:]"
   ]
  },
  {
   "cell_type": "code",
   "execution_count": 48,
   "metadata": {},
   "outputs": [],
   "source": [
    "sc_mex = sc_mex.loc[(sc_mex['cutoff_9']<0.1),:]"
   ]
  },
  {
   "cell_type": "code",
   "execution_count": 102,
   "metadata": {},
   "outputs": [],
   "source": [
    "scmex_stack = sc_mex.stack(dropna=False).to_frame().reset_index().set_index(['City']).rename(columns={'level_1':'horas',0:'% MS alcanzada'})"
   ]
  },
  {
   "cell_type": "code",
   "execution_count": 103,
   "metadata": {
    "collapsed": true,
    "jupyter": {
     "outputs_hidden": true
    }
   },
   "outputs": [
    {
     "data": {
      "image/png": "[encoded data removed]",
      "text/plain": [
       "<Figure size 720x576 with 1 Axes>"
      ]
     },
     "metadata": {},
     "output_type": "display_data"
    }
   ],
   "source": [
    "sns.set(rc={'figure.figsize':(10,8)})\n",
    "sns.lineplot(data=scmex_stack, x=\"horas\", y=\"% MS alcanzada\" , hue = 'City').set_title('Gráfico 6: Ciudades que no presentan grandes urbes cercanas')\n",
    "plt.legend(bbox_to_anchor=(1.05, 1), loc=2, borderaxespad=0.)\n",
    "#plt.ticklabel_format(style='plain', axis='y')\n",
    "plt.savefig(\"Entregables/Indicadores/Mexico/lejanas.png\",bbox_inches='tight')"
   ]
  },
  {
   "cell_type": "code",
   "execution_count": 49,
   "metadata": {
    "jupyter": {
     "source_hidden": true
    }
   },
   "outputs": [],
   "source": [
    "sc_mex.to_excel(\"Entregables/Indicadores/Mexico/lejanas.xlsx\")"
   ]
  },
  {
   "cell_type": "code",
   "execution_count": 65,
   "metadata": {},
   "outputs": [],
   "source": [
    "mylist = [ejd.columns.tolist()[e] for e in [0,2,9,-1]]"
   ]
  },
  {
   "cell_type": "code",
   "execution_count": 73,
   "metadata": {},
   "outputs": [],
   "source": [
    "lejanos_tab = sc_mex.join(ejd_mex,how='inner').loc[:,mylist].join(mex.loc[:,['estimated_hourly_wage_US','pops']],how='inner').reset_index().merge(dic,on='principal_sector',validate='m:1').set_index('City').drop(columns=['principal_sector'])"
   ]
  },
  {
   "cell_type": "code",
   "execution_count": 75,
   "metadata": {},
   "outputs": [],
   "source": [
    "lejanos_tab = lejanos_tab.rename(columns={'principal_sector_share':'% principal sector', 'nivedu1':'% edu1 (0-8 años)', 'nivedu2':'% edu2 (9-13 años)', 'nivedu3':'% edu3 (+14 años)', 'formal':'% de formalidad laboral', 'informal':'% de informalidad laboral', 'actividad' :'principal sector','estimated_hourly_wage_US':'salario promedio (usd/hora)','pops':'población estimada'})"
   ]
  },
  {
   "cell_type": "code",
   "execution_count": 76,
   "metadata": {},
   "outputs": [],
   "source": [
    "cols = lejanos_tab.columns.tolist()"
   ]
  },
  {
   "cell_type": "code",
   "execution_count": 78,
   "metadata": {},
   "outputs": [],
   "source": [
    "cols = [cols[-1]] + cols[:-1] \n",
    "\n",
    "lejanos_tab = lejanos_tab[cols]"
   ]
  },
  {
   "cell_type": "code",
   "execution_count": 80,
   "metadata": {},
   "outputs": [],
   "source": [
    "lejanos_tab.to_excel('Entregables/Indicadores/Mexico/tabla_lejanas.xlsx')"
   ]
  },
  {
   "cell_type": "markdown",
   "metadata": {},
   "source": [
    "Urbe significativas cerca"
   ]
  },
  {
   "cell_type": "code",
   "execution_count": 134,
   "metadata": {},
   "outputs": [],
   "source": [
    "sc_mex2 = shares_cutoff.drop(columns=['index1']).loc['Mexico'].loc[mex.index.tolist()]"
   ]
  },
  {
   "cell_type": "code",
   "execution_count": 135,
   "metadata": {},
   "outputs": [],
   "source": [
    "sc_mex2['crec_ms'] = (sc_mex2['cutoff_9'] / sc_mex2['cutoff_0']) - 1"
   ]
  },
  {
   "cell_type": "code",
   "execution_count": 138,
   "metadata": {},
   "outputs": [],
   "source": [
    "sc_mex2 = sc_mex2['crec_ms'].to_frame()"
   ]
  },
  {
   "cell_type": "code",
   "execution_count": 448,
   "metadata": {},
   "outputs": [],
   "source": [
    "sel2 = sc_mex2.join(mex.loc[:,['masalarial','estimated_hourly_wage_US','pops']],how='left').loc[(sc_mex2['crec_ms']>10),:].sort_values('pops',ascending=False).iloc[:10,:]"
   ]
  },
  {
   "cell_type": "code",
   "execution_count": 449,
   "metadata": {},
   "outputs": [],
   "source": [
    "sel2.join(shares_cutoff,how='left').sort_values('pops',ascending=False).iloc[:,5:].to_excel('Entregables/Indicadores/Mexico/cercanas.xlsx')"
   ]
  },
  {
   "cell_type": "code",
   "execution_count": 472,
   "metadata": {},
   "outputs": [],
   "source": [
    "tab2 = sel2.iloc[:,:2].join(ejd_mex, how='inner').reset_index().merge(dic,on='principal_sector',validate='m:1').set_index('City').join(mex.loc[:,['estimated_hourly_wage_US','pops']],how='left').drop(columns=['crec_ms','masalarial','City_old','principal_sector','HH','HH_pais','nivedu1','nivedu2','esp_HH','formal','country_principal_sector_share','principal_sector_country_comparison','mujer','hombre']).rename(columns={'principal_sector_share':'% principal sector', 'nivedu1':'% edu1 (0-8 años)',\n",
    "       'nivedu2':'% edu2 (9-13 años)', 'nivedu3':'% edu3 (+14 años)', 'formal':'% de formalidad laboral', 'informal':'% de informalidad laboral', 'actividad' :'principal sector','estimated_hourly_wage_US':'salario promedio (usd/hora)','pops':'población estimada'})\n"
   ]
  },
  {
   "cell_type": "code",
   "execution_count": 473,
   "metadata": {},
   "outputs": [],
   "source": [
    "cols = tab2.columns.tolist()\n",
    "\n",
    "cols = [cols[3]] + cols[:3] + cols[-2:]\n",
    "\n",
    "tab2 = tab2[cols]"
   ]
  },
  {
   "cell_type": "code",
   "execution_count": 475,
   "metadata": {},
   "outputs": [],
   "source": [
    "tab2.to_excel('Entregables/Indicadores/Mexico/tabla_cercanas.xlsx')"
   ]
  },
  {
   "cell_type": "markdown",
   "metadata": {},
   "source": [
    "Congestion"
   ]
  },
  {
   "cell_type": "code",
   "execution_count": 91,
   "metadata": {},
   "outputs": [],
   "source": [
    "cm_mex = cm.loc['Mexico']"
   ]
  },
  {
   "cell_type": "code",
   "execution_count": 103,
   "metadata": {},
   "outputs": [],
   "source": [
    "sel3 = cm_mex.join(mex.loc[(mex['pops']>400000),['pops']],how='inner').sort_values('dist_3horas').iloc[:10,:]"
   ]
  },
  {
   "cell_type": "code",
   "execution_count": 114,
   "metadata": {},
   "outputs": [],
   "source": [
    "sel3.to_excel('Entregables/Indicadores/Mexico/congestion.xlsx')"
   ]
  },
  {
   "cell_type": "code",
   "execution_count": 120,
   "metadata": {},
   "outputs": [],
   "source": [
    "sel3_tab = sel3.iloc[:,-1].to_frame().join(mex.loc[:,['estimated_hourly_wage_US']],how='inner').join(ejd_mex.loc[:,['principal_sector','principal_sector_share','nivedu3','informal']],how='inner')"
   ]
  },
  {
   "cell_type": "code",
   "execution_count": 123,
   "metadata": {},
   "outputs": [],
   "source": [
    "sel3_tab = sel3_tab.reset_index().merge(dic,on='principal_sector',validate='m:1').set_index('City').drop(columns=['principal_sector'])"
   ]
  },
  {
   "cell_type": "code",
   "execution_count": 126,
   "metadata": {},
   "outputs": [],
   "source": [
    "sel3_tab = sel3_tab.rename(columns={'principal_sector_share':'% principal sector', 'nivedu1':'% edu1 (0-8 años)','nivedu2':'% edu2 (9-13 años)', 'nivedu3':'% edu3 (+14 años)', 'formal':'% de formalidad laboral', 'informal':'% de informalidad laboral', 'actividad' :'principal sector','estimated_hourly_wage_US':'salario promedio (usd/hora)','pops':'población estimada'})"
   ]
  },
  {
   "cell_type": "code",
   "execution_count": 127,
   "metadata": {},
   "outputs": [
    {
     "data": {
      "text/plain": [
       "Index(['población estimada', 'salario promedio (usd/hora)',\n",
       "       '% principal sector', '% edu3 (+14 años)', '% de informalidad laboral',\n",
       "       'principal sector'],\n",
       "      dtype='object')"
      ]
     },
     "execution_count": 127,
     "metadata": {},
     "output_type": "execute_result"
    }
   ],
   "source": [
    "sel3_tab.columns"
   ]
  },
  {
   "cell_type": "code",
   "execution_count": 128,
   "metadata": {},
   "outputs": [],
   "source": [
    "cols = sel3_tab.columns.tolist()"
   ]
  },
  {
   "cell_type": "code",
   "execution_count": 129,
   "metadata": {},
   "outputs": [],
   "source": [
    "cols = [cols[-1]] + cols[2:5] + [cols[1]] + [cols[0]]\n",
    "\n",
    "sel3_tab = sel3_tab[cols]"
   ]
  },
  {
   "cell_type": "code",
   "execution_count": 131,
   "metadata": {},
   "outputs": [],
   "source": [
    "sel3_tab.to_excel('Entregables/Indicadores/Mexico/congestion_tabla.xlsx')"
   ]
  },
  {
   "cell_type": "markdown",
   "metadata": {},
   "source": [
    "### Colombia"
   ]
  },
  {
   "cell_type": "code",
   "execution_count": 133,
   "metadata": {},
   "outputs": [
    {
     "data": {
      "text/plain": [
       "(26, 11)"
      ]
     },
     "execution_count": 133,
     "metadata": {},
     "output_type": "execute_result"
    }
   ],
   "source": [
    "cwpops.loc['Colombia'].shape"
   ]
  },
  {
   "cell_type": "code",
   "execution_count": 134,
   "metadata": {},
   "outputs": [
    {
     "data": {
      "text/plain": [
       "(23, 14)"
      ]
     },
     "execution_count": 134,
     "metadata": {},
     "output_type": "execute_result"
    }
   ],
   "source": [
    "ejd.loc['Colombia'].shape"
   ]
  },
  {
   "cell_type": "code",
   "execution_count": 157,
   "metadata": {},
   "outputs": [],
   "source": [
    "col = cwpops.loc['Colombia'].join(ejd.loc['Colombia'],how='inner').loc[:,['principal_sector','principal_sector_share','nivedu3','informal','estimated_hourly_wage_US','pops',]].reset_index().merge(dic,on='principal_sector',validate='m:1').set_index('City').drop(columns=['principal_sector'])"
   ]
  },
  {
   "cell_type": "code",
   "execution_count": 164,
   "metadata": {},
   "outputs": [],
   "source": [
    "cols = col.columns.tolist()\n",
    "cols = [cols[-1]] + cols[:-1]"
   ]
  },
  {
   "cell_type": "code",
   "execution_count": 166,
   "metadata": {},
   "outputs": [],
   "source": [
    "col = col[cols]"
   ]
  },
  {
   "cell_type": "code",
   "execution_count": 184,
   "metadata": {},
   "outputs": [],
   "source": [
    "#acomodo pob de Armenia\n",
    "col.iloc[0,-1] = 295208"
   ]
  },
  {
   "cell_type": "code",
   "execution_count": 199,
   "metadata": {},
   "outputs": [],
   "source": [
    "sel_col = col.sort_values('pops',ascending=False).iloc[3:15,:].rename(columns={'principal_sector_share':'% principal sector', 'nivedu1':'% edu1 (0-8 años)','nivedu2':'% edu2 (9-13 años)', 'nivedu3':'% edu3 (+14 años)', 'formal':'% de formalidad laboral', 'informal':'% de informalidad laboral', 'actividad' :'principal sector','estimated_hourly_wage_US':'salario promedio (usd/hora)','pops':'población estimada'})"
   ]
  },
  {
   "cell_type": "markdown",
   "metadata": {},
   "source": [
    "Lejanas"
   ]
  },
  {
   "cell_type": "code",
   "execution_count": 200,
   "metadata": {},
   "outputs": [],
   "source": [
    "sc_col = shares_cutoff.loc['Colombia'].loc[sel_col.index].drop(columns=['index1'])"
   ]
  },
  {
   "cell_type": "code",
   "execution_count": 201,
   "metadata": {},
   "outputs": [],
   "source": [
    "sc_col.loc[(sc_col['cutoff_9']<0.15),:].to_excel('Entregables/Indicadores/Colombia/lejanas.xlsx')"
   ]
  },
  {
   "cell_type": "code",
   "execution_count": 203,
   "metadata": {},
   "outputs": [],
   "source": [
    "sel_col.loc[sc_col.loc[(sc_col['cutoff_9']<0.15),:].index].to_excel('Entregables/Indicadores/Colombia/lejanas_tab.xlsx')"
   ]
  },
  {
   "cell_type": "markdown",
   "metadata": {},
   "source": [
    "cercanas"
   ]
  },
  {
   "cell_type": "code",
   "execution_count": 211,
   "metadata": {},
   "outputs": [],
   "source": [
    "sel_col2 =  col.sort_values('pops',ascending=False).iloc[3:15,:].rename(columns={'principal_sector_share':'% principal sector', 'nivedu1':'% edu1 (0-8 años)','nivedu2':'% edu2 (9-13 años)', 'nivedu3':'% edu3 (+14 años)', 'formal':'% de formalidad laboral', 'informal':'% de informalidad laboral', 'actividad' :'principal sector','estimated_hourly_wage_US':'salario promedio (usd/hora)','pops':'población estimada'})"
   ]
  },
  {
   "cell_type": "code",
   "execution_count": 212,
   "metadata": {},
   "outputs": [],
   "source": [
    "sc_col2 = shares_cutoff.loc['Colombia'].loc[sel_col2.index].drop(columns=['index1'])"
   ]
  },
  {
   "cell_type": "code",
   "execution_count": 213,
   "metadata": {},
   "outputs": [],
   "source": [
    "sc_col2['crec_ms'] = (sc_col2['cutoff_9'] / sc_col2['cutoff_0']) - 1"
   ]
  },
  {
   "cell_type": "code",
   "execution_count": 217,
   "metadata": {},
   "outputs": [],
   "source": [
    "sc_col2.sort_values('crec_ms',ascending=False).iloc[:5,:].to_excel('Entregables/Indicadores/Colombia/cercanas.xlsx')"
   ]
  },
  {
   "cell_type": "code",
   "execution_count": 221,
   "metadata": {},
   "outputs": [],
   "source": [
    "sel_col.loc[sc_col2.sort_values('crec_ms',ascending=False).iloc[:5,:].index].to_excel('Entregables/Indicadores/Colombia/cercanas_tab.xlsx')"
   ]
  },
  {
   "cell_type": "markdown",
   "metadata": {},
   "source": [
    "Congestión"
   ]
  },
  {
   "cell_type": "code",
   "execution_count": 230,
   "metadata": {},
   "outputs": [],
   "source": [
    "sel_col3 =  col.sort_values('pops',ascending=False).iloc[3:15,:].rename(columns={'principal_sector_share':'% principal sector', 'nivedu1':'% edu1 (0-8 años)','nivedu2':'% edu2 (9-13 años)', 'nivedu3':'% edu3 (+14 años)', 'formal':'% de formalidad laboral', 'informal':'% de informalidad laboral', 'actividad' :'principal sector','estimated_hourly_wage_US':'salario promedio (usd/hora)','pops':'población estimada'})"
   ]
  },
  {
   "cell_type": "code",
   "execution_count": 231,
   "metadata": {},
   "outputs": [],
   "source": [
    "cm_col = cm.loc['Colombia']"
   ]
  },
  {
   "cell_type": "code",
   "execution_count": 528,
   "metadata": {},
   "outputs": [],
   "source": [
    "cm_col.loc[sel_col3.index].dropna().sort_values('dist_3horas').to_excel('Entregables/Indicadores/Colombia/congestion.xlsx')"
   ]
  },
  {
   "cell_type": "code",
   "execution_count": 237,
   "metadata": {},
   "outputs": [],
   "source": [
    "sel_col3.loc[cm_col.loc[sel_col3.index].dropna().sort_values('dist_3horas').index].to_excel('Entregables/Indicadores/Colombia/congestion_tab.xlsx')"
   ]
  },
  {
   "cell_type": "markdown",
   "metadata": {},
   "source": [
    "## Resto de Latam"
   ]
  },
  {
   "cell_type": "code",
   "execution_count": 260,
   "metadata": {},
   "outputs": [],
   "source": [
    "mylist = ['Peru','Chile','Panama','Bolivia','Ecuador','Costa Rica']"
   ]
  },
  {
   "cell_type": "code",
   "execution_count": 318,
   "metadata": {},
   "outputs": [],
   "source": [
    "#cwpops.query('(Country.ist \"Argentina\" and City == \"Bahia Blanca-Cerri\") and duration_traffic <= 9')"
   ]
  },
  {
   "cell_type": "code",
   "execution_count": 317,
   "metadata": {},
   "outputs": [],
   "source": [
    "latam = cwpops.reset_index().loc[cwpops.reset_index().isin(mylist)['Country']].set_index(['Country','City'])"
   ]
  },
  {
   "cell_type": "code",
   "execution_count": 341,
   "metadata": {},
   "outputs": [],
   "source": [
    "ejd_latam = ejd.loc[:,['principal_sector','principal_sector_share' , 'nivedu3','informal']].join(latam.loc[:,['estimated_hourly_wage_US','pops']],how='inner')"
   ]
  },
  {
   "cell_type": "code",
   "execution_count": 349,
   "metadata": {},
   "outputs": [],
   "source": [
    "a = latam.join(ejd_latam.loc[:,'principal_sector'],how='outer')"
   ]
  },
  {
   "cell_type": "code",
   "execution_count": 358,
   "metadata": {},
   "outputs": [],
   "source": [
    "missing = a[a['principal_sector'].isna()]"
   ]
  },
  {
   "cell_type": "code",
   "execution_count": 379,
   "metadata": {},
   "outputs": [],
   "source": [
    "#latam.iloc[:,[3,9]].join(ejd,how='inner')\n",
    "sel_latam = ejd_latam.reset_index().merge(dic,on='principal_sector',validate='m:1').set_index(['Country','City']).rename(columns={'principal_sector_share':'% principal sector', 'nivedu1':'% edu1 (0-8 años)','nivedu2':'% edu2 (9-13 años)', 'nivedu3':'% edu3 (+14 años)', 'formal':'% de formalidad laboral', 'informal':'% de informalidad laboral', 'actividad' :'principal sector','estimated_hourly_wage_US':'salario promedio (usd/hora)','pops':'población estimada'}).iloc[:,1:]"
   ]
  },
  {
   "cell_type": "code",
   "execution_count": 386,
   "metadata": {},
   "outputs": [],
   "source": [
    "cols = sel_latam.columns"
   ]
  },
  {
   "cell_type": "code",
   "execution_count": 387,
   "metadata": {},
   "outputs": [
    {
     "data": {
      "text/plain": [
       "Index(['% principal sector', '% edu3 (+14 años)', '% de informalidad laboral',\n",
       "       'salario promedio (usd/hora)', 'población estimada',\n",
       "       'principal sector'],\n",
       "      dtype='object')"
      ]
     },
     "execution_count": 387,
     "metadata": {},
     "output_type": "execute_result"
    }
   ],
   "source": [
    "cols"
   ]
  },
  {
   "cell_type": "code",
   "execution_count": 394,
   "metadata": {},
   "outputs": [],
   "source": [
    "cols = [cols[-1]] + cols[:-1].tolist()"
   ]
  },
  {
   "cell_type": "code",
   "execution_count": 395,
   "metadata": {},
   "outputs": [],
   "source": [
    "sel_latam = sel_latam[cols]"
   ]
  },
  {
   "cell_type": "code",
   "execution_count": 398,
   "metadata": {},
   "outputs": [
    {
     "data": {
      "text/html": [
       "<div>\n",
       "<style scoped>\n",
       "    .dataframe tbody tr th:only-of-type {\n",
       "        vertical-align: middle;\n",
       "    }\n",
       "\n",
       "    .dataframe tbody tr th {\n",
       "        vertical-align: top;\n",
       "    }\n",
       "\n",
       "    .dataframe thead th {\n",
       "        text-align: right;\n",
       "    }\n",
       "</style>\n",
       "<table border=\"1\" class=\"dataframe\">\n",
       "  <thead>\n",
       "    <tr style=\"text-align: right;\">\n",
       "      <th></th>\n",
       "      <th>principal sector</th>\n",
       "      <th>% principal sector</th>\n",
       "      <th>% edu3 (+14 años)</th>\n",
       "      <th>% de informalidad laboral</th>\n",
       "      <th>salario promedio (usd/hora)</th>\n",
       "      <th>población estimada</th>\n",
       "    </tr>\n",
       "    <tr>\n",
       "      <th>Country</th>\n",
       "      <th></th>\n",
       "      <th></th>\n",
       "      <th></th>\n",
       "      <th></th>\n",
       "      <th></th>\n",
       "      <th></th>\n",
       "    </tr>\n",
       "  </thead>\n",
       "  <tbody>\n",
       "    <tr>\n",
       "      <th>Bolivia</th>\n",
       "      <td>12</td>\n",
       "      <td>12</td>\n",
       "      <td>12</td>\n",
       "      <td>12</td>\n",
       "      <td>12</td>\n",
       "      <td>12</td>\n",
       "    </tr>\n",
       "    <tr>\n",
       "      <th>Chile</th>\n",
       "      <td>37</td>\n",
       "      <td>37</td>\n",
       "      <td>37</td>\n",
       "      <td>37</td>\n",
       "      <td>37</td>\n",
       "      <td>37</td>\n",
       "    </tr>\n",
       "    <tr>\n",
       "      <th>Costa Rica</th>\n",
       "      <td>5</td>\n",
       "      <td>5</td>\n",
       "      <td>5</td>\n",
       "      <td>5</td>\n",
       "      <td>5</td>\n",
       "      <td>5</td>\n",
       "    </tr>\n",
       "    <tr>\n",
       "      <th>Ecuador</th>\n",
       "      <td>18</td>\n",
       "      <td>18</td>\n",
       "      <td>18</td>\n",
       "      <td>18</td>\n",
       "      <td>18</td>\n",
       "      <td>18</td>\n",
       "    </tr>\n",
       "    <tr>\n",
       "      <th>Panama</th>\n",
       "      <td>11</td>\n",
       "      <td>11</td>\n",
       "      <td>11</td>\n",
       "      <td>11</td>\n",
       "      <td>11</td>\n",
       "      <td>11</td>\n",
       "    </tr>\n",
       "    <tr>\n",
       "      <th>Peru</th>\n",
       "      <td>42</td>\n",
       "      <td>42</td>\n",
       "      <td>42</td>\n",
       "      <td>42</td>\n",
       "      <td>42</td>\n",
       "      <td>42</td>\n",
       "    </tr>\n",
       "  </tbody>\n",
       "</table>\n",
       "</div>"
      ],
      "text/plain": [
       "            principal sector  % principal sector  % edu3 (+14 años)  \\\n",
       "Country                                                               \n",
       "Bolivia                   12                  12                 12   \n",
       "Chile                     37                  37                 37   \n",
       "Costa Rica                 5                   5                  5   \n",
       "Ecuador                   18                  18                 18   \n",
       "Panama                    11                  11                 11   \n",
       "Peru                      42                  42                 42   \n",
       "\n",
       "            % de informalidad laboral  salario promedio (usd/hora)  \\\n",
       "Country                                                              \n",
       "Bolivia                            12                           12   \n",
       "Chile                              37                           37   \n",
       "Costa Rica                          5                            5   \n",
       "Ecuador                            18                           18   \n",
       "Panama                             11                           11   \n",
       "Peru                               42                           42   \n",
       "\n",
       "            población estimada  \n",
       "Country                         \n",
       "Bolivia                     12  \n",
       "Chile                       37  \n",
       "Costa Rica                   5  \n",
       "Ecuador                     18  \n",
       "Panama                      11  \n",
       "Peru                        42  "
      ]
     },
     "execution_count": 398,
     "metadata": {},
     "output_type": "execute_result"
    }
   ],
   "source": [
    "sel_latam.groupby('Country').count()"
   ]
  },
  {
   "cell_type": "code",
   "execution_count": 412,
   "metadata": {},
   "outputs": [],
   "source": [
    "mydict={}\n",
    "\n",
    "for i in mylist:\n",
    "    mydict['{}'.format(i)] = ''\n",
    "\n",
    "mydict['Peru'] = 4\n",
    "mydict['Chile'] = 4\n",
    "mydict['Ecuador'] = 2\n",
    "mydict['Bolivia'] = 2\n",
    "mydict['Panama'] = 2\n",
    "mydict['Costa Rica'] = 1"
   ]
  },
  {
   "cell_type": "code",
   "execution_count": 434,
   "metadata": {},
   "outputs": [],
   "source": [
    "for key, value in mydict.items():\n",
    "    valor = value*3\n",
    "    sel_latam.loc[key].sort_values('población estimada',ascending=False).iloc[1:valor].to_excel('Entregables/Indicadores/Latam/{}.xlsx'.format(key))"
   ]
  },
  {
   "cell_type": "code",
   "execution_count": 440,
   "metadata": {},
   "outputs": [],
   "source": [
    "sel_latam.loc['Bolivia'].sort_values('población estimada',ascending=False).iloc[:3,:].to_excel('Entregables/Indicadores/Latam/Bolivia.xlsx')"
   ]
  },
  {
   "cell_type": "code",
   "execution_count": 449,
   "metadata": {},
   "outputs": [],
   "source": [
    "sel_latam.loc['Ecuador'].sort_values('población estimada',ascending=False).iloc[:6,:].to_excel('Entregables/Indicadores/Latam/Ecuador.xlsx')"
   ]
  },
  {
   "cell_type": "code",
   "execution_count": 453,
   "metadata": {},
   "outputs": [],
   "source": [
    "sel_latam.loc['Costa Rica'].sort_values('población estimada',ascending=False).iloc[:3,:].to_excel('Entregables/Indicadores/Latam/Costa Rica.xlsx')"
   ]
  },
  {
   "cell_type": "markdown",
   "metadata": {},
   "source": [
    "### Argentina"
   ]
  },
  {
   "cell_type": "code",
   "execution_count": 490,
   "metadata": {},
   "outputs": [],
   "source": [
    "arg = cwpops.loc['Argentina',['pops','estimated_hourly_wage_US']].join(ejd.loc['Argentina',['principal_sector','principal_sector_share','nivedu3','informal']],how='inner')"
   ]
  },
  {
   "cell_type": "code",
   "execution_count": 491,
   "metadata": {},
   "outputs": [],
   "source": [
    "arg = arg.reset_index().merge(dic,on='principal_sector',validate='m:1').set_index('City').drop(columns=['principal_sector'])"
   ]
  },
  {
   "cell_type": "code",
   "execution_count": 492,
   "metadata": {},
   "outputs": [],
   "source": [
    "arg = arg.rename(columns={'principal_sector_share':'% principal sector', 'nivedu1':'% edu1 (0-8 años)','nivedu2':'% edu2 (9-13 años)', 'nivedu3':'% edu3 (+14 años)', 'formal':'% de formalidad laboral', 'informal':'% de informalidad laboral', 'actividad' :'principal sector','estimated_hourly_wage_US':'salario promedio (usd/hora)','pops':'población estimada'})"
   ]
  },
  {
   "cell_type": "code",
   "execution_count": 493,
   "metadata": {},
   "outputs": [],
   "source": [
    "cols = arg.columns.tolist()"
   ]
  },
  {
   "cell_type": "code",
   "execution_count": 495,
   "metadata": {},
   "outputs": [],
   "source": [
    "cols = [cols[-1]] + cols[2:5] + [cols[1]] + [cols[0]]"
   ]
  },
  {
   "cell_type": "code",
   "execution_count": 496,
   "metadata": {},
   "outputs": [],
   "source": [
    "arg = arg[cols]"
   ]
  },
  {
   "cell_type": "code",
   "execution_count": 584,
   "metadata": {},
   "outputs": [],
   "source": [
    "sel_arg = arg.sort_values('población estimada',ascending=False).iloc[2:27,:]"
   ]
  },
  {
   "cell_type": "code",
   "execution_count": 593,
   "metadata": {},
   "outputs": [
    {
     "data": {
      "text/plain": [
       "(25, 6)"
      ]
     },
     "execution_count": 593,
     "metadata": {},
     "output_type": "execute_result"
    }
   ],
   "source": [
    "sel_arg.shape"
   ]
  },
  {
   "cell_type": "markdown",
   "metadata": {},
   "source": [
    "Lejanas"
   ]
  },
  {
   "cell_type": "code",
   "execution_count": 586,
   "metadata": {},
   "outputs": [],
   "source": [
    "sc_arg = shares_cutoff.loc['Argentina'].loc[sel_arg.index].drop(columns=['index1'])"
   ]
  },
  {
   "cell_type": "code",
   "execution_count": 587,
   "metadata": {
    "collapsed": true,
    "jupyter": {
     "outputs_hidden": true
    }
   },
   "outputs": [
    {
     "data": {
      "text/html": [
       "<div>\n",
       "<style scoped>\n",
       "    .dataframe tbody tr th:only-of-type {\n",
       "        vertical-align: middle;\n",
       "    }\n",
       "\n",
       "    .dataframe tbody tr th {\n",
       "        vertical-align: top;\n",
       "    }\n",
       "\n",
       "    .dataframe thead th {\n",
       "        text-align: right;\n",
       "    }\n",
       "</style>\n",
       "<table border=\"1\" class=\"dataframe\">\n",
       "  <thead>\n",
       "    <tr style=\"text-align: right;\">\n",
       "      <th></th>\n",
       "      <th>cutoff_0</th>\n",
       "      <th>cutoff_1</th>\n",
       "      <th>cutoff_2</th>\n",
       "      <th>cutoff_3</th>\n",
       "      <th>cutoff_4</th>\n",
       "      <th>cutoff_5</th>\n",
       "      <th>cutoff_6</th>\n",
       "      <th>cutoff_7</th>\n",
       "      <th>cutoff_8</th>\n",
       "      <th>cutoff_9</th>\n",
       "    </tr>\n",
       "    <tr>\n",
       "      <th>City</th>\n",
       "      <th></th>\n",
       "      <th></th>\n",
       "      <th></th>\n",
       "      <th></th>\n",
       "      <th></th>\n",
       "      <th></th>\n",
       "      <th></th>\n",
       "      <th></th>\n",
       "      <th></th>\n",
       "      <th></th>\n",
       "    </tr>\n",
       "  </thead>\n",
       "  <tbody>\n",
       "    <tr>\n",
       "      <th>Comodoro Rivadavia-Rada Tilly</th>\n",
       "      <td>0.012</td>\n",
       "      <td>0.012</td>\n",
       "      <td>0.012</td>\n",
       "      <td>0.012</td>\n",
       "      <td>0.012</td>\n",
       "      <td>0.012</td>\n",
       "      <td>0.013</td>\n",
       "      <td>0.013</td>\n",
       "      <td>0.013</td>\n",
       "      <td>0.018</td>\n",
       "    </tr>\n",
       "    <tr>\n",
       "      <th>Posadas</th>\n",
       "      <td>0.007</td>\n",
       "      <td>0.007</td>\n",
       "      <td>0.007</td>\n",
       "      <td>0.007</td>\n",
       "      <td>0.015</td>\n",
       "      <td>0.022</td>\n",
       "      <td>0.022</td>\n",
       "      <td>0.033</td>\n",
       "      <td>0.033</td>\n",
       "      <td>0.041</td>\n",
       "    </tr>\n",
       "    <tr>\n",
       "      <th>Formosa</th>\n",
       "      <td>0.006</td>\n",
       "      <td>0.006</td>\n",
       "      <td>0.006</td>\n",
       "      <td>0.021</td>\n",
       "      <td>0.021</td>\n",
       "      <td>0.021</td>\n",
       "      <td>0.021</td>\n",
       "      <td>0.028</td>\n",
       "      <td>0.028</td>\n",
       "      <td>0.046</td>\n",
       "    </tr>\n",
       "    <tr>\n",
       "      <th>Corrientes</th>\n",
       "      <td>0.008</td>\n",
       "      <td>0.016</td>\n",
       "      <td>0.016</td>\n",
       "      <td>0.021</td>\n",
       "      <td>0.028</td>\n",
       "      <td>0.028</td>\n",
       "      <td>0.033</td>\n",
       "      <td>0.033</td>\n",
       "      <td>0.073</td>\n",
       "      <td>0.073</td>\n",
       "    </tr>\n",
       "    <tr>\n",
       "      <th>Gran San Juan</th>\n",
       "      <td>0.012</td>\n",
       "      <td>0.012</td>\n",
       "      <td>0.012</td>\n",
       "      <td>0.015</td>\n",
       "      <td>0.015</td>\n",
       "      <td>0.020</td>\n",
       "      <td>0.028</td>\n",
       "      <td>0.035</td>\n",
       "      <td>0.083</td>\n",
       "      <td>0.083</td>\n",
       "    </tr>\n",
       "    <tr>\n",
       "      <th>Jujuy-Palpala</th>\n",
       "      <td>0.007</td>\n",
       "      <td>0.007</td>\n",
       "      <td>0.020</td>\n",
       "      <td>0.020</td>\n",
       "      <td>0.020</td>\n",
       "      <td>0.061</td>\n",
       "      <td>0.080</td>\n",
       "      <td>0.080</td>\n",
       "      <td>0.085</td>\n",
       "      <td>0.090</td>\n",
       "    </tr>\n",
       "    <tr>\n",
       "      <th>Salta</th>\n",
       "      <td>0.014</td>\n",
       "      <td>0.014</td>\n",
       "      <td>0.020</td>\n",
       "      <td>0.020</td>\n",
       "      <td>0.061</td>\n",
       "      <td>0.061</td>\n",
       "      <td>0.080</td>\n",
       "      <td>0.085</td>\n",
       "      <td>0.085</td>\n",
       "      <td>0.090</td>\n",
       "    </tr>\n",
       "    <tr>\n",
       "      <th>Gran Resistencia</th>\n",
       "      <td>0.007</td>\n",
       "      <td>0.016</td>\n",
       "      <td>0.016</td>\n",
       "      <td>0.021</td>\n",
       "      <td>0.021</td>\n",
       "      <td>0.028</td>\n",
       "      <td>0.028</td>\n",
       "      <td>0.046</td>\n",
       "      <td>0.073</td>\n",
       "      <td>0.115</td>\n",
       "    </tr>\n",
       "    <tr>\n",
       "      <th>Gran Tucuman-Tafi Viejo</th>\n",
       "      <td>0.040</td>\n",
       "      <td>0.040</td>\n",
       "      <td>0.040</td>\n",
       "      <td>0.064</td>\n",
       "      <td>0.078</td>\n",
       "      <td>0.090</td>\n",
       "      <td>0.090</td>\n",
       "      <td>0.134</td>\n",
       "      <td>0.134</td>\n",
       "      <td>0.134</td>\n",
       "    </tr>\n",
       "    <tr>\n",
       "      <th>La Rioja</th>\n",
       "      <td>0.005</td>\n",
       "      <td>0.005</td>\n",
       "      <td>0.009</td>\n",
       "      <td>0.009</td>\n",
       "      <td>0.009</td>\n",
       "      <td>0.069</td>\n",
       "      <td>0.130</td>\n",
       "      <td>0.130</td>\n",
       "      <td>0.140</td>\n",
       "      <td>0.164</td>\n",
       "    </tr>\n",
       "    <tr>\n",
       "      <th>Gran Catamarca</th>\n",
       "      <td>0.004</td>\n",
       "      <td>0.004</td>\n",
       "      <td>0.009</td>\n",
       "      <td>0.009</td>\n",
       "      <td>0.069</td>\n",
       "      <td>0.069</td>\n",
       "      <td>0.113</td>\n",
       "      <td>0.127</td>\n",
       "      <td>0.157</td>\n",
       "      <td>0.215</td>\n",
       "    </tr>\n",
       "    <tr>\n",
       "      <th>Santiago del Estero-La Banda</th>\n",
       "      <td>0.019</td>\n",
       "      <td>0.019</td>\n",
       "      <td>0.019</td>\n",
       "      <td>0.060</td>\n",
       "      <td>0.064</td>\n",
       "      <td>0.069</td>\n",
       "      <td>0.134</td>\n",
       "      <td>0.134</td>\n",
       "      <td>0.177</td>\n",
       "      <td>0.219</td>\n",
       "    </tr>\n",
       "    <tr>\n",
       "      <th>Neuquen-Plottier</th>\n",
       "      <td>0.013</td>\n",
       "      <td>0.013</td>\n",
       "      <td>0.013</td>\n",
       "      <td>0.013</td>\n",
       "      <td>0.508</td>\n",
       "      <td>0.508</td>\n",
       "      <td>0.508</td>\n",
       "      <td>0.526</td>\n",
       "      <td>0.529</td>\n",
       "      <td>0.535</td>\n",
       "    </tr>\n",
       "    <tr>\n",
       "      <th>Gran Mendoza</th>\n",
       "      <td>0.003</td>\n",
       "      <td>0.003</td>\n",
       "      <td>0.003</td>\n",
       "      <td>0.023</td>\n",
       "      <td>0.023</td>\n",
       "      <td>0.023</td>\n",
       "      <td>0.030</td>\n",
       "      <td>0.030</td>\n",
       "      <td>0.079</td>\n",
       "      <td>0.582</td>\n",
       "    </tr>\n",
       "    <tr>\n",
       "      <th>San Luis-El Chorrillo</th>\n",
       "      <td>0.005</td>\n",
       "      <td>0.005</td>\n",
       "      <td>0.005</td>\n",
       "      <td>0.015</td>\n",
       "      <td>0.018</td>\n",
       "      <td>0.030</td>\n",
       "      <td>0.083</td>\n",
       "      <td>0.083</td>\n",
       "      <td>0.134</td>\n",
       "      <td>0.661</td>\n",
       "    </tr>\n",
       "    <tr>\n",
       "      <th>Bahia Blanca-Cerri</th>\n",
       "      <td>0.011</td>\n",
       "      <td>0.011</td>\n",
       "      <td>0.011</td>\n",
       "      <td>0.011</td>\n",
       "      <td>0.018</td>\n",
       "      <td>0.021</td>\n",
       "      <td>0.045</td>\n",
       "      <td>0.058</td>\n",
       "      <td>0.721</td>\n",
       "      <td>0.733</td>\n",
       "    </tr>\n",
       "    <tr>\n",
       "      <th>Mar del Plata-Batan</th>\n",
       "      <td>0.023</td>\n",
       "      <td>0.023</td>\n",
       "      <td>0.023</td>\n",
       "      <td>0.027</td>\n",
       "      <td>0.027</td>\n",
       "      <td>0.684</td>\n",
       "      <td>0.695</td>\n",
       "      <td>0.695</td>\n",
       "      <td>0.742</td>\n",
       "      <td>0.749</td>\n",
       "    </tr>\n",
       "    <tr>\n",
       "      <th>Concordia</th>\n",
       "      <td>0.005</td>\n",
       "      <td>0.005</td>\n",
       "      <td>0.005</td>\n",
       "      <td>0.005</td>\n",
       "      <td>0.025</td>\n",
       "      <td>0.716</td>\n",
       "      <td>0.737</td>\n",
       "      <td>0.752</td>\n",
       "      <td>0.796</td>\n",
       "      <td>0.805</td>\n",
       "    </tr>\n",
       "    <tr>\n",
       "      <th>Gran Parana</th>\n",
       "      <td>0.008</td>\n",
       "      <td>0.021</td>\n",
       "      <td>0.021</td>\n",
       "      <td>0.063</td>\n",
       "      <td>0.073</td>\n",
       "      <td>0.073</td>\n",
       "      <td>0.766</td>\n",
       "      <td>0.780</td>\n",
       "      <td>0.815</td>\n",
       "      <td>0.822</td>\n",
       "    </tr>\n",
       "    <tr>\n",
       "      <th>Gran La Plata</th>\n",
       "      <td>0.008</td>\n",
       "      <td>0.008</td>\n",
       "      <td>0.657</td>\n",
       "      <td>0.657</td>\n",
       "      <td>0.662</td>\n",
       "      <td>0.731</td>\n",
       "      <td>0.749</td>\n",
       "      <td>0.756</td>\n",
       "      <td>0.778</td>\n",
       "      <td>0.822</td>\n",
       "    </tr>\n",
       "    <tr>\n",
       "      <th>San Nicolas-Villa Constitucion</th>\n",
       "      <td>0.005</td>\n",
       "      <td>0.047</td>\n",
       "      <td>0.047</td>\n",
       "      <td>0.709</td>\n",
       "      <td>0.725</td>\n",
       "      <td>0.769</td>\n",
       "      <td>0.780</td>\n",
       "      <td>0.784</td>\n",
       "      <td>0.816</td>\n",
       "      <td>0.827</td>\n",
       "    </tr>\n",
       "    <tr>\n",
       "      <th>Gran Santa Fe</th>\n",
       "      <td>0.013</td>\n",
       "      <td>0.021</td>\n",
       "      <td>0.063</td>\n",
       "      <td>0.068</td>\n",
       "      <td>0.073</td>\n",
       "      <td>0.611</td>\n",
       "      <td>0.780</td>\n",
       "      <td>0.788</td>\n",
       "      <td>0.815</td>\n",
       "      <td>0.839</td>\n",
       "    </tr>\n",
       "    <tr>\n",
       "      <th>Gran Rosario</th>\n",
       "      <td>0.042</td>\n",
       "      <td>0.047</td>\n",
       "      <td>0.060</td>\n",
       "      <td>0.068</td>\n",
       "      <td>0.717</td>\n",
       "      <td>0.780</td>\n",
       "      <td>0.780</td>\n",
       "      <td>0.784</td>\n",
       "      <td>0.816</td>\n",
       "      <td>0.843</td>\n",
       "    </tr>\n",
       "    <tr>\n",
       "      <th>Rio Cuarto</th>\n",
       "      <td>0.007</td>\n",
       "      <td>0.007</td>\n",
       "      <td>0.007</td>\n",
       "      <td>0.056</td>\n",
       "      <td>0.056</td>\n",
       "      <td>0.101</td>\n",
       "      <td>0.126</td>\n",
       "      <td>0.640</td>\n",
       "      <td>0.842</td>\n",
       "      <td>0.846</td>\n",
       "    </tr>\n",
       "    <tr>\n",
       "      <th>Gran Cordoba</th>\n",
       "      <td>0.044</td>\n",
       "      <td>0.044</td>\n",
       "      <td>0.044</td>\n",
       "      <td>0.051</td>\n",
       "      <td>0.051</td>\n",
       "      <td>0.111</td>\n",
       "      <td>0.153</td>\n",
       "      <td>0.197</td>\n",
       "      <td>0.861</td>\n",
       "      <td>0.876</td>\n",
       "    </tr>\n",
       "  </tbody>\n",
       "</table>\n",
       "</div>"
      ],
      "text/plain": [
       "                                cutoff_0  cutoff_1  cutoff_2  cutoff_3  \\\n",
       "City                                                                     \n",
       "Comodoro Rivadavia-Rada Tilly      0.012     0.012     0.012     0.012   \n",
       "Posadas                            0.007     0.007     0.007     0.007   \n",
       "Formosa                            0.006     0.006     0.006     0.021   \n",
       "Corrientes                         0.008     0.016     0.016     0.021   \n",
       "Gran San Juan                      0.012     0.012     0.012     0.015   \n",
       "Jujuy-Palpala                      0.007     0.007     0.020     0.020   \n",
       "Salta                              0.014     0.014     0.020     0.020   \n",
       "Gran Resistencia                   0.007     0.016     0.016     0.021   \n",
       "Gran Tucuman-Tafi Viejo            0.040     0.040     0.040     0.064   \n",
       "La Rioja                           0.005     0.005     0.009     0.009   \n",
       "Gran Catamarca                     0.004     0.004     0.009     0.009   \n",
       "Santiago del Estero-La Banda       0.019     0.019     0.019     0.060   \n",
       "Neuquen-Plottier                   0.013     0.013     0.013     0.013   \n",
       "Gran Mendoza                       0.003     0.003     0.003     0.023   \n",
       "San Luis-El Chorrillo              0.005     0.005     0.005     0.015   \n",
       "Bahia Blanca-Cerri                 0.011     0.011     0.011     0.011   \n",
       "Mar del Plata-Batan                0.023     0.023     0.023     0.027   \n",
       "Concordia                          0.005     0.005     0.005     0.005   \n",
       "Gran Parana                        0.008     0.021     0.021     0.063   \n",
       "Gran La Plata                      0.008     0.008     0.657     0.657   \n",
       "San Nicolas-Villa Constitucion     0.005     0.047     0.047     0.709   \n",
       "Gran Santa Fe                      0.013     0.021     0.063     0.068   \n",
       "Gran Rosario                       0.042     0.047     0.060     0.068   \n",
       "Rio Cuarto                         0.007     0.007     0.007     0.056   \n",
       "Gran Cordoba                       0.044     0.044     0.044     0.051   \n",
       "\n",
       "                                cutoff_4  cutoff_5  cutoff_6  cutoff_7  \\\n",
       "City                                                                     \n",
       "Comodoro Rivadavia-Rada Tilly      0.012     0.012     0.013     0.013   \n",
       "Posadas                            0.015     0.022     0.022     0.033   \n",
       "Formosa                            0.021     0.021     0.021     0.028   \n",
       "Corrientes                         0.028     0.028     0.033     0.033   \n",
       "Gran San Juan                      0.015     0.020     0.028     0.035   \n",
       "Jujuy-Palpala                      0.020     0.061     0.080     0.080   \n",
       "Salta                              0.061     0.061     0.080     0.085   \n",
       "Gran Resistencia                   0.021     0.028     0.028     0.046   \n",
       "Gran Tucuman-Tafi Viejo            0.078     0.090     0.090     0.134   \n",
       "La Rioja                           0.009     0.069     0.130     0.130   \n",
       "Gran Catamarca                     0.069     0.069     0.113     0.127   \n",
       "Santiago del Estero-La Banda       0.064     0.069     0.134     0.134   \n",
       "Neuquen-Plottier                   0.508     0.508     0.508     0.526   \n",
       "Gran Mendoza                       0.023     0.023     0.030     0.030   \n",
       "San Luis-El Chorrillo              0.018     0.030     0.083     0.083   \n",
       "Bahia Blanca-Cerri                 0.018     0.021     0.045     0.058   \n",
       "Mar del Plata-Batan                0.027     0.684     0.695     0.695   \n",
       "Concordia                          0.025     0.716     0.737     0.752   \n",
       "Gran Parana                        0.073     0.073     0.766     0.780   \n",
       "Gran La Plata                      0.662     0.731     0.749     0.756   \n",
       "San Nicolas-Villa Constitucion     0.725     0.769     0.780     0.784   \n",
       "Gran Santa Fe                      0.073     0.611     0.780     0.788   \n",
       "Gran Rosario                       0.717     0.780     0.780     0.784   \n",
       "Rio Cuarto                         0.056     0.101     0.126     0.640   \n",
       "Gran Cordoba                       0.051     0.111     0.153     0.197   \n",
       "\n",
       "                                cutoff_8  cutoff_9  \n",
       "City                                                \n",
       "Comodoro Rivadavia-Rada Tilly      0.013     0.018  \n",
       "Posadas                            0.033     0.041  \n",
       "Formosa                            0.028     0.046  \n",
       "Corrientes                         0.073     0.073  \n",
       "Gran San Juan                      0.083     0.083  \n",
       "Jujuy-Palpala                      0.085     0.090  \n",
       "Salta                              0.085     0.090  \n",
       "Gran Resistencia                   0.073     0.115  \n",
       "Gran Tucuman-Tafi Viejo            0.134     0.134  \n",
       "La Rioja                           0.140     0.164  \n",
       "Gran Catamarca                     0.157     0.215  \n",
       "Santiago del Estero-La Banda       0.177     0.219  \n",
       "Neuquen-Plottier                   0.529     0.535  \n",
       "Gran Mendoza                       0.079     0.582  \n",
       "San Luis-El Chorrillo              0.134     0.661  \n",
       "Bahia Blanca-Cerri                 0.721     0.733  \n",
       "Mar del Plata-Batan                0.742     0.749  \n",
       "Concordia                          0.796     0.805  \n",
       "Gran Parana                        0.815     0.822  \n",
       "Gran La Plata                      0.778     0.822  \n",
       "San Nicolas-Villa Constitucion     0.816     0.827  \n",
       "Gran Santa Fe                      0.815     0.839  \n",
       "Gran Rosario                       0.816     0.843  \n",
       "Rio Cuarto                         0.842     0.846  \n",
       "Gran Cordoba                       0.861     0.876  "
      ]
     },
     "execution_count": 587,
     "metadata": {},
     "output_type": "execute_result"
    }
   ],
   "source": [
    "sc_arg.sort_values('cutoff_9')"
   ]
  },
  {
   "cell_type": "code",
   "execution_count": 510,
   "metadata": {},
   "outputs": [],
   "source": [
    "sc_arg.loc[(sc_arg['cutoff_9']<0.2),:].to_excel('Entregables/Indicadores/Argentina/lejanas.xlsx')"
   ]
  },
  {
   "cell_type": "code",
   "execution_count": 511,
   "metadata": {},
   "outputs": [],
   "source": [
    "sel_arg.loc[sc_arg.loc[(sc_arg['cutoff_9']<0.2),:].index].to_excel('Entregables/Indicadores/Argentina/lejanas_tab.xlsx')"
   ]
  },
  {
   "cell_type": "markdown",
   "metadata": {},
   "source": [
    "Cercanas"
   ]
  },
  {
   "cell_type": "code",
   "execution_count": 588,
   "metadata": {},
   "outputs": [],
   "source": [
    "sc_arg2 = sc_arg\n",
    "sc_arg2['crec_ms'] = (sc_arg['cutoff_9'] / sc_arg['cutoff_0']) - 1"
   ]
  },
  {
   "cell_type": "code",
   "execution_count": 591,
   "metadata": {},
   "outputs": [],
   "source": [
    "sc_arg2.sort_values('crec_ms',ascending=False).iloc[:6,:].to_excel('Entregables/Indicadores/Argentina/cercanas.xlsx')"
   ]
  },
  {
   "cell_type": "code",
   "execution_count": 592,
   "metadata": {},
   "outputs": [],
   "source": [
    "sel_arg.loc[sc_arg2.sort_values('crec_ms',ascending=False).iloc[:6,:].index].to_excel('Entregables/Indicadores/Argentina/cercanas_tab.xlsx')"
   ]
  },
  {
   "cell_type": "markdown",
   "metadata": {},
   "source": [
    "Congestión"
   ]
  },
  {
   "cell_type": "code",
   "execution_count": 525,
   "metadata": {},
   "outputs": [],
   "source": [
    "cm_arg = cm.loc['Argentina']"
   ]
  },
  {
   "cell_type": "code",
   "execution_count": 529,
   "metadata": {},
   "outputs": [],
   "source": [
    "cm_arg.loc[sel_arg.index].dropna().sort_values('dist_3horas').to_excel('Entregables/Indicadores/Argentina/congestion.xlsx')"
   ]
  },
  {
   "cell_type": "code",
   "execution_count": 530,
   "metadata": {},
   "outputs": [],
   "source": [
    "sel_arg.loc[cm_arg.loc[sel_arg.index].dropna().sort_values('dist_3horas').index].to_excel('Entregables/Indicadores/Argentina/congestion_tab.xlsx')"
   ]
  },
  {
   "cell_type": "markdown",
   "metadata": {},
   "source": [
    "### Brasil"
   ]
  },
  {
   "cell_type": "code",
   "execution_count": 532,
   "metadata": {},
   "outputs": [],
   "source": [
    "bra = cwpops.loc['Brasil',['pops','estimated_hourly_wage_US']].join(ejd.loc['Brasil',['principal_sector','principal_sector_share','nivedu3','informal']],how='inner')"
   ]
  },
  {
   "cell_type": "code",
   "execution_count": 536,
   "metadata": {},
   "outputs": [],
   "source": [
    "bra = bra.reset_index().merge(dic,on='principal_sector',validate='m:1').set_index('City').drop(columns=['principal_sector'])"
   ]
  },
  {
   "cell_type": "code",
   "execution_count": 538,
   "metadata": {},
   "outputs": [],
   "source": [
    "bra = bra.rename(columns={'principal_sector_share':'% principal sector', 'nivedu1':'% edu1 (0-8 años)','nivedu2':'% edu2 (9-13 años)', 'nivedu3':'% edu3 (+14 años)', 'formal':'% de formalidad laboral', 'informal':'% de informalidad laboral', 'actividad' :'principal sector','estimated_hourly_wage_US':'salario promedio (usd/hora)','pops':'población estimada'})"
   ]
  },
  {
   "cell_type": "code",
   "execution_count": 539,
   "metadata": {},
   "outputs": [],
   "source": [
    "cols = bra.columns.tolist()"
   ]
  },
  {
   "cell_type": "code",
   "execution_count": 540,
   "metadata": {},
   "outputs": [],
   "source": [
    "cols = [cols[-1]] + cols[2:5] + [cols[1]] + [cols[0]]"
   ]
  },
  {
   "cell_type": "code",
   "execution_count": 541,
   "metadata": {},
   "outputs": [],
   "source": [
    "bra = bra[cols]"
   ]
  },
  {
   "cell_type": "code",
   "execution_count": 548,
   "metadata": {},
   "outputs": [],
   "source": [
    "sel_bra = bra.sort_values('población estimada',ascending=False).iloc[2:15,:]"
   ]
  },
  {
   "cell_type": "markdown",
   "metadata": {},
   "source": [
    "Lejanas"
   ]
  },
  {
   "cell_type": "code",
   "execution_count": 549,
   "metadata": {},
   "outputs": [],
   "source": [
    "sc_bra = shares_cutoff.loc['Brasil'].loc[sel_bra.index].drop(columns=['index1'])"
   ]
  },
  {
   "cell_type": "code",
   "execution_count": 550,
   "metadata": {},
   "outputs": [
    {
     "data": {
      "text/html": [
       "<div>\n",
       "<style scoped>\n",
       "    .dataframe tbody tr th:only-of-type {\n",
       "        vertical-align: middle;\n",
       "    }\n",
       "\n",
       "    .dataframe tbody tr th {\n",
       "        vertical-align: top;\n",
       "    }\n",
       "\n",
       "    .dataframe thead th {\n",
       "        text-align: right;\n",
       "    }\n",
       "</style>\n",
       "<table border=\"1\" class=\"dataframe\">\n",
       "  <thead>\n",
       "    <tr style=\"text-align: right;\">\n",
       "      <th></th>\n",
       "      <th>cutoff_0</th>\n",
       "      <th>cutoff_1</th>\n",
       "      <th>cutoff_2</th>\n",
       "      <th>cutoff_3</th>\n",
       "      <th>cutoff_4</th>\n",
       "      <th>cutoff_5</th>\n",
       "      <th>cutoff_6</th>\n",
       "      <th>cutoff_7</th>\n",
       "      <th>cutoff_8</th>\n",
       "      <th>cutoff_9</th>\n",
       "    </tr>\n",
       "    <tr>\n",
       "      <th>City</th>\n",
       "      <th></th>\n",
       "      <th></th>\n",
       "      <th></th>\n",
       "      <th></th>\n",
       "      <th></th>\n",
       "      <th></th>\n",
       "      <th></th>\n",
       "      <th></th>\n",
       "      <th></th>\n",
       "      <th></th>\n",
       "    </tr>\n",
       "  </thead>\n",
       "  <tbody>\n",
       "    <tr>\n",
       "      <th>Sao Luis</th>\n",
       "      <td>0.010</td>\n",
       "      <td>0.010</td>\n",
       "      <td>0.010</td>\n",
       "      <td>0.010</td>\n",
       "      <td>0.010</td>\n",
       "      <td>0.010</td>\n",
       "      <td>0.010</td>\n",
       "      <td>0.011</td>\n",
       "      <td>0.020</td>\n",
       "      <td>0.020</td>\n",
       "    </tr>\n",
       "    <tr>\n",
       "      <th>Manaus</th>\n",
       "      <td>0.020</td>\n",
       "      <td>0.020</td>\n",
       "      <td>0.020</td>\n",
       "      <td>0.020</td>\n",
       "      <td>0.020</td>\n",
       "      <td>0.020</td>\n",
       "      <td>0.020</td>\n",
       "      <td>0.020</td>\n",
       "      <td>0.020</td>\n",
       "      <td>0.020</td>\n",
       "    </tr>\n",
       "    <tr>\n",
       "      <th>Brasilia</th>\n",
       "      <td>0.051</td>\n",
       "      <td>0.051</td>\n",
       "      <td>0.051</td>\n",
       "      <td>0.051</td>\n",
       "      <td>0.051</td>\n",
       "      <td>0.051</td>\n",
       "      <td>0.051</td>\n",
       "      <td>0.051</td>\n",
       "      <td>0.051</td>\n",
       "      <td>0.051</td>\n",
       "    </tr>\n",
       "    <tr>\n",
       "      <th>Fortaleza</th>\n",
       "      <td>0.027</td>\n",
       "      <td>0.027</td>\n",
       "      <td>0.027</td>\n",
       "      <td>0.027</td>\n",
       "      <td>0.030</td>\n",
       "      <td>0.030</td>\n",
       "      <td>0.030</td>\n",
       "      <td>0.031</td>\n",
       "      <td>0.042</td>\n",
       "      <td>0.053</td>\n",
       "    </tr>\n",
       "    <tr>\n",
       "      <th>Teresina</th>\n",
       "      <td>0.007</td>\n",
       "      <td>0.007</td>\n",
       "      <td>0.008</td>\n",
       "      <td>0.008</td>\n",
       "      <td>0.008</td>\n",
       "      <td>0.009</td>\n",
       "      <td>0.011</td>\n",
       "      <td>0.011</td>\n",
       "      <td>0.021</td>\n",
       "      <td>0.053</td>\n",
       "    </tr>\n",
       "    <tr>\n",
       "      <th>Goiania</th>\n",
       "      <td>0.021</td>\n",
       "      <td>0.021</td>\n",
       "      <td>0.025</td>\n",
       "      <td>0.027</td>\n",
       "      <td>0.029</td>\n",
       "      <td>0.036</td>\n",
       "      <td>0.040</td>\n",
       "      <td>0.046</td>\n",
       "      <td>0.061</td>\n",
       "      <td>0.068</td>\n",
       "    </tr>\n",
       "    <tr>\n",
       "      <th>Recife</th>\n",
       "      <td>0.020</td>\n",
       "      <td>0.020</td>\n",
       "      <td>0.032</td>\n",
       "      <td>0.032</td>\n",
       "      <td>0.056</td>\n",
       "      <td>0.058</td>\n",
       "      <td>0.058</td>\n",
       "      <td>0.065</td>\n",
       "      <td>0.067</td>\n",
       "      <td>0.069</td>\n",
       "    </tr>\n",
       "    <tr>\n",
       "      <th>Salvador</th>\n",
       "      <td>0.033</td>\n",
       "      <td>0.035</td>\n",
       "      <td>0.042</td>\n",
       "      <td>0.042</td>\n",
       "      <td>0.042</td>\n",
       "      <td>0.049</td>\n",
       "      <td>0.051</td>\n",
       "      <td>0.057</td>\n",
       "      <td>0.063</td>\n",
       "      <td>0.075</td>\n",
       "    </tr>\n",
       "    <tr>\n",
       "      <th>Natal</th>\n",
       "      <td>0.008</td>\n",
       "      <td>0.008</td>\n",
       "      <td>0.008</td>\n",
       "      <td>0.017</td>\n",
       "      <td>0.041</td>\n",
       "      <td>0.044</td>\n",
       "      <td>0.046</td>\n",
       "      <td>0.058</td>\n",
       "      <td>0.085</td>\n",
       "      <td>0.089</td>\n",
       "    </tr>\n",
       "    <tr>\n",
       "      <th>Maceio</th>\n",
       "      <td>0.010</td>\n",
       "      <td>0.010</td>\n",
       "      <td>0.010</td>\n",
       "      <td>0.016</td>\n",
       "      <td>0.037</td>\n",
       "      <td>0.044</td>\n",
       "      <td>0.057</td>\n",
       "      <td>0.057</td>\n",
       "      <td>0.068</td>\n",
       "      <td>0.107</td>\n",
       "    </tr>\n",
       "    <tr>\n",
       "      <th>Porto Alegre</th>\n",
       "      <td>0.028</td>\n",
       "      <td>0.028</td>\n",
       "      <td>0.034</td>\n",
       "      <td>0.034</td>\n",
       "      <td>0.051</td>\n",
       "      <td>0.058</td>\n",
       "      <td>0.067</td>\n",
       "      <td>0.077</td>\n",
       "      <td>0.086</td>\n",
       "      <td>0.145</td>\n",
       "    </tr>\n",
       "    <tr>\n",
       "      <th>Curitiba</th>\n",
       "      <td>0.058</td>\n",
       "      <td>0.058</td>\n",
       "      <td>0.071</td>\n",
       "      <td>0.074</td>\n",
       "      <td>0.091</td>\n",
       "      <td>0.094</td>\n",
       "      <td>0.134</td>\n",
       "      <td>0.160</td>\n",
       "      <td>0.179</td>\n",
       "      <td>0.231</td>\n",
       "    </tr>\n",
       "    <tr>\n",
       "      <th>Belo Horizonte</th>\n",
       "      <td>0.021</td>\n",
       "      <td>0.021</td>\n",
       "      <td>0.021</td>\n",
       "      <td>0.021</td>\n",
       "      <td>0.021</td>\n",
       "      <td>0.021</td>\n",
       "      <td>0.021</td>\n",
       "      <td>0.122</td>\n",
       "      <td>0.346</td>\n",
       "      <td>0.346</td>\n",
       "    </tr>\n",
       "  </tbody>\n",
       "</table>\n",
       "</div>"
      ],
      "text/plain": [
       "                cutoff_0  cutoff_1  cutoff_2  cutoff_3  cutoff_4  cutoff_5  \\\n",
       "City                                                                         \n",
       "Sao Luis           0.010     0.010     0.010     0.010     0.010     0.010   \n",
       "Manaus             0.020     0.020     0.020     0.020     0.020     0.020   \n",
       "Brasilia           0.051     0.051     0.051     0.051     0.051     0.051   \n",
       "Fortaleza          0.027     0.027     0.027     0.027     0.030     0.030   \n",
       "Teresina           0.007     0.007     0.008     0.008     0.008     0.009   \n",
       "Goiania            0.021     0.021     0.025     0.027     0.029     0.036   \n",
       "Recife             0.020     0.020     0.032     0.032     0.056     0.058   \n",
       "Salvador           0.033     0.035     0.042     0.042     0.042     0.049   \n",
       "Natal              0.008     0.008     0.008     0.017     0.041     0.044   \n",
       "Maceio             0.010     0.010     0.010     0.016     0.037     0.044   \n",
       "Porto Alegre       0.028     0.028     0.034     0.034     0.051     0.058   \n",
       "Curitiba           0.058     0.058     0.071     0.074     0.091     0.094   \n",
       "Belo Horizonte     0.021     0.021     0.021     0.021     0.021     0.021   \n",
       "\n",
       "                cutoff_6  cutoff_7  cutoff_8  cutoff_9  \n",
       "City                                                    \n",
       "Sao Luis           0.010     0.011     0.020     0.020  \n",
       "Manaus             0.020     0.020     0.020     0.020  \n",
       "Brasilia           0.051     0.051     0.051     0.051  \n",
       "Fortaleza          0.030     0.031     0.042     0.053  \n",
       "Teresina           0.011     0.011     0.021     0.053  \n",
       "Goiania            0.040     0.046     0.061     0.068  \n",
       "Recife             0.058     0.065     0.067     0.069  \n",
       "Salvador           0.051     0.057     0.063     0.075  \n",
       "Natal              0.046     0.058     0.085     0.089  \n",
       "Maceio             0.057     0.057     0.068     0.107  \n",
       "Porto Alegre       0.067     0.077     0.086     0.145  \n",
       "Curitiba           0.134     0.160     0.179     0.231  \n",
       "Belo Horizonte     0.021     0.122     0.346     0.346  "
      ]
     },
     "execution_count": 550,
     "metadata": {},
     "output_type": "execute_result"
    }
   ],
   "source": [
    "sc_bra.sort_values('cutoff_9')"
   ]
  },
  {
   "cell_type": "code",
   "execution_count": 559,
   "metadata": {},
   "outputs": [],
   "source": [
    "sc_bra.loc[(sc_bra['cutoff_9']<0.08),:].to_excel('Entregables/Indicadores/Brasil/lejanas.xlsx')"
   ]
  },
  {
   "cell_type": "code",
   "execution_count": 560,
   "metadata": {},
   "outputs": [],
   "source": [
    "sel_bra.loc[sc_bra.loc[(sc_bra['cutoff_9']<0.08),:].index].to_excel('Entregables/Indicadores/Brasil/lejanas_tab.xlsx')"
   ]
  },
  {
   "cell_type": "markdown",
   "metadata": {},
   "source": [
    "Cercanas"
   ]
  },
  {
   "cell_type": "code",
   "execution_count": 556,
   "metadata": {},
   "outputs": [],
   "source": [
    "sc_bra2 = sc_bra\n",
    "sc_bra2['crec_ms'] = (sc_bra['cutoff_9'] / sc_bra['cutoff_0']) - 1"
   ]
  },
  {
   "cell_type": "code",
   "execution_count": 563,
   "metadata": {},
   "outputs": [
    {
     "data": {
      "text/html": [
       "<div>\n",
       "<style scoped>\n",
       "    .dataframe tbody tr th:only-of-type {\n",
       "        vertical-align: middle;\n",
       "    }\n",
       "\n",
       "    .dataframe tbody tr th {\n",
       "        vertical-align: top;\n",
       "    }\n",
       "\n",
       "    .dataframe thead th {\n",
       "        text-align: right;\n",
       "    }\n",
       "</style>\n",
       "<table border=\"1\" class=\"dataframe\">\n",
       "  <thead>\n",
       "    <tr style=\"text-align: right;\">\n",
       "      <th></th>\n",
       "      <th>cutoff_0</th>\n",
       "      <th>cutoff_1</th>\n",
       "      <th>cutoff_2</th>\n",
       "      <th>cutoff_3</th>\n",
       "      <th>cutoff_4</th>\n",
       "      <th>cutoff_5</th>\n",
       "      <th>cutoff_6</th>\n",
       "      <th>cutoff_7</th>\n",
       "      <th>cutoff_8</th>\n",
       "      <th>cutoff_9</th>\n",
       "      <th>crec_ms</th>\n",
       "    </tr>\n",
       "    <tr>\n",
       "      <th>City</th>\n",
       "      <th></th>\n",
       "      <th></th>\n",
       "      <th></th>\n",
       "      <th></th>\n",
       "      <th></th>\n",
       "      <th></th>\n",
       "      <th></th>\n",
       "      <th></th>\n",
       "      <th></th>\n",
       "      <th></th>\n",
       "      <th></th>\n",
       "    </tr>\n",
       "  </thead>\n",
       "  <tbody>\n",
       "    <tr>\n",
       "      <th>Belo Horizonte</th>\n",
       "      <td>0.021</td>\n",
       "      <td>0.021</td>\n",
       "      <td>0.021</td>\n",
       "      <td>0.021</td>\n",
       "      <td>0.021</td>\n",
       "      <td>0.021</td>\n",
       "      <td>0.021</td>\n",
       "      <td>0.122</td>\n",
       "      <td>0.346</td>\n",
       "      <td>0.346</td>\n",
       "      <td>15.308</td>\n",
       "    </tr>\n",
       "    <tr>\n",
       "      <th>Natal</th>\n",
       "      <td>0.008</td>\n",
       "      <td>0.008</td>\n",
       "      <td>0.008</td>\n",
       "      <td>0.017</td>\n",
       "      <td>0.041</td>\n",
       "      <td>0.044</td>\n",
       "      <td>0.046</td>\n",
       "      <td>0.058</td>\n",
       "      <td>0.085</td>\n",
       "      <td>0.089</td>\n",
       "      <td>9.985</td>\n",
       "    </tr>\n",
       "    <tr>\n",
       "      <th>Maceio</th>\n",
       "      <td>0.010</td>\n",
       "      <td>0.010</td>\n",
       "      <td>0.010</td>\n",
       "      <td>0.016</td>\n",
       "      <td>0.037</td>\n",
       "      <td>0.044</td>\n",
       "      <td>0.057</td>\n",
       "      <td>0.057</td>\n",
       "      <td>0.068</td>\n",
       "      <td>0.107</td>\n",
       "      <td>9.224</td>\n",
       "    </tr>\n",
       "    <tr>\n",
       "      <th>Teresina</th>\n",
       "      <td>0.007</td>\n",
       "      <td>0.007</td>\n",
       "      <td>0.008</td>\n",
       "      <td>0.008</td>\n",
       "      <td>0.008</td>\n",
       "      <td>0.009</td>\n",
       "      <td>0.011</td>\n",
       "      <td>0.011</td>\n",
       "      <td>0.021</td>\n",
       "      <td>0.053</td>\n",
       "      <td>6.221</td>\n",
       "    </tr>\n",
       "    <tr>\n",
       "      <th>Porto Alegre</th>\n",
       "      <td>0.028</td>\n",
       "      <td>0.028</td>\n",
       "      <td>0.034</td>\n",
       "      <td>0.034</td>\n",
       "      <td>0.051</td>\n",
       "      <td>0.058</td>\n",
       "      <td>0.067</td>\n",
       "      <td>0.077</td>\n",
       "      <td>0.086</td>\n",
       "      <td>0.145</td>\n",
       "      <td>4.196</td>\n",
       "    </tr>\n",
       "    <tr>\n",
       "      <th>Curitiba</th>\n",
       "      <td>0.058</td>\n",
       "      <td>0.058</td>\n",
       "      <td>0.071</td>\n",
       "      <td>0.074</td>\n",
       "      <td>0.091</td>\n",
       "      <td>0.094</td>\n",
       "      <td>0.134</td>\n",
       "      <td>0.160</td>\n",
       "      <td>0.179</td>\n",
       "      <td>0.231</td>\n",
       "      <td>2.959</td>\n",
       "    </tr>\n",
       "    <tr>\n",
       "      <th>Recife</th>\n",
       "      <td>0.020</td>\n",
       "      <td>0.020</td>\n",
       "      <td>0.032</td>\n",
       "      <td>0.032</td>\n",
       "      <td>0.056</td>\n",
       "      <td>0.058</td>\n",
       "      <td>0.058</td>\n",
       "      <td>0.065</td>\n",
       "      <td>0.067</td>\n",
       "      <td>0.069</td>\n",
       "      <td>2.381</td>\n",
       "    </tr>\n",
       "    <tr>\n",
       "      <th>Goiania</th>\n",
       "      <td>0.021</td>\n",
       "      <td>0.021</td>\n",
       "      <td>0.025</td>\n",
       "      <td>0.027</td>\n",
       "      <td>0.029</td>\n",
       "      <td>0.036</td>\n",
       "      <td>0.040</td>\n",
       "      <td>0.046</td>\n",
       "      <td>0.061</td>\n",
       "      <td>0.068</td>\n",
       "      <td>2.310</td>\n",
       "    </tr>\n",
       "  </tbody>\n",
       "</table>\n",
       "</div>"
      ],
      "text/plain": [
       "                cutoff_0  cutoff_1  cutoff_2  cutoff_3  cutoff_4  cutoff_5  \\\n",
       "City                                                                         \n",
       "Belo Horizonte     0.021     0.021     0.021     0.021     0.021     0.021   \n",
       "Natal              0.008     0.008     0.008     0.017     0.041     0.044   \n",
       "Maceio             0.010     0.010     0.010     0.016     0.037     0.044   \n",
       "Teresina           0.007     0.007     0.008     0.008     0.008     0.009   \n",
       "Porto Alegre       0.028     0.028     0.034     0.034     0.051     0.058   \n",
       "Curitiba           0.058     0.058     0.071     0.074     0.091     0.094   \n",
       "Recife             0.020     0.020     0.032     0.032     0.056     0.058   \n",
       "Goiania            0.021     0.021     0.025     0.027     0.029     0.036   \n",
       "\n",
       "                cutoff_6  cutoff_7  cutoff_8  cutoff_9  crec_ms  \n",
       "City                                                             \n",
       "Belo Horizonte     0.021     0.122     0.346     0.346   15.308  \n",
       "Natal              0.046     0.058     0.085     0.089    9.985  \n",
       "Maceio             0.057     0.057     0.068     0.107    9.224  \n",
       "Teresina           0.011     0.011     0.021     0.053    6.221  \n",
       "Porto Alegre       0.067     0.077     0.086     0.145    4.196  \n",
       "Curitiba           0.134     0.160     0.179     0.231    2.959  \n",
       "Recife             0.058     0.065     0.067     0.069    2.381  \n",
       "Goiania            0.040     0.046     0.061     0.068    2.310  "
      ]
     },
     "execution_count": 563,
     "metadata": {},
     "output_type": "execute_result"
    }
   ],
   "source": [
    "sc_bra2.sort_values('crec_ms',ascending=False).iloc[:8,:].to_excel('Entregables/Indicadores/Brasil/cercanas.xlsx')"
   ]
  },
  {
   "cell_type": "code",
   "execution_count": 564,
   "metadata": {},
   "outputs": [],
   "source": [
    "sel_bra.loc[sc_bra2.sort_values('crec_ms',ascending=False).iloc[:8,:].index].to_excel('Entregables/Indicadores/Brasil/cercanas_tab.xlsx')"
   ]
  },
  {
   "cell_type": "markdown",
   "metadata": {},
   "source": [
    "Congestion"
   ]
  },
  {
   "cell_type": "code",
   "execution_count": 566,
   "metadata": {},
   "outputs": [],
   "source": [
    "cm_bra = cm.loc['Brasil']"
   ]
  },
  {
   "cell_type": "code",
   "execution_count": 568,
   "metadata": {},
   "outputs": [],
   "source": [
    "cm_bra.loc[sel_bra.index].dropna().sort_values('dist_3horas').to_excel('Entregables/Indicadores/Brasil/congestion.xlsx')"
   ]
  },
  {
   "cell_type": "code",
   "execution_count": 569,
   "metadata": {},
   "outputs": [],
   "source": [
    "sel_bra.loc[cm_bra.loc[sel_bra.index].dropna().sort_values('dist_3horas').index].to_excel('Entregables/Indicadores/Brasil/congestion_tab.xlsx')"
   ]
  },
  {
   "cell_type": "code",
   "execution_count": null,
   "metadata": {},
   "outputs": [],
   "source": []
  }
 ],
 "metadata": {
  "kernelspec": {
   "display_name": "Python 3",
   "language": "python",
   "name": "python3"
  },
  "language_info": {
   "codemirror_mode": {
    "name": "ipython",
    "version": 3
   },
   "file_extension": ".py",
   "mimetype": "text/x-python",
   "name": "python",
   "nbconvert_exporter": "python",
   "pygments_lexer": "ipython3",
   "version": "3.7.8"
  }
 },
 "nbformat": 4,
 "nbformat_minor": 4
}
