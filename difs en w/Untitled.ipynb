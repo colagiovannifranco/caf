{
 "cells": [
  {
   "cell_type": "markdown",
   "metadata": {},
   "source": [
    "## Diferencias entre salarios observados y salarios horarios (PPP 2011)"
   ]
  },
  {
   "cell_type": "markdown",
   "metadata": {},
   "source": [
    "* El salario horario (PPP 2011) surge del último envío de Santiago Garganta. \n",
    "* El salario observado surge de multiplicar los salarios de cada sector de la ciudad por su <i>share</i> de empleo. De esta manera, logramos un salario promedio \"ponderado\". Según me comentó Enrique, la base que posee salarios y empleos por sector para cada ciudad (utilizada para calcular el salario observado) también surge de CEDLAS."
   ]
  },
  {
   "cell_type": "markdown",
   "metadata": {},
   "source": [
    "El gráfico muestra los salarios obsrevados y horarios para todas las ciudades de Colombia. Se ve que si existen algunas diferencias significativas. Existen casos en dónde el salario horario es bastante mayor al observado y viceversa. \n",
    "<p style='text-align:center'><img src='comp_salarios.png'></p>"
   ]
  },
  {
   "cell_type": "markdown",
   "metadata": {},
   "source": [
    "<table border=\"1\" class=\"dataframe\">\n",
    "    <caption>Tabla 1: mayores diferencias entre salario horario y salario observado</caption>\n",
    "<thead>\n",
    "<tr style=\"text-align: right;\">\n",
    "<th></th>\n",
    "<th>Salario Horario (PPP 2011)</th>\n",
    "<th>Salario Observado</th>\n",
    "<th>Diferencia S. Horario - S. Observado</th>\n",
    "</tr>\n",
    "<tr>\n",
    "<th>City</th>\n",
    "<th></th>\n",
    "<th></th>\n",
    "<th></th>\n",
    "</tr>\n",
    "</thead>\n",
    "<tbody>\n",
    "<tr>\n",
    "<th>Quibdo</th>\n",
    "<td>4.56</td>\n",
    "<td>3.62</td>\n",
    "<td>0.94</td>\n",
    "</tr>\n",
    "<tr>\n",
    "<th>Sincelejo</th>\n",
    "<td>4.05</td>\n",
    "<td>3.16</td>\n",
    "<td>0.89</td>\n",
    "</tr>\n",
    "<tr>\n",
    "<th>Cucuta</th>\n",
    "<td>4.06</td>\n",
    "<td>3.30</td>\n",
    "<td>0.76</td>\n",
    "</tr>\n",
    "<tr>\n",
    "<th>Monteria</th>\n",
    "<td>4.07</td>\n",
    "<td>3.38</td>\n",
    "<td>0.69</td>\n",
    "</tr>\n",
    "<tr>\n",
    "<th>Santa Marta</th>\n",
    "<td>3.84</td>\n",
    "<td>3.39</td>\n",
    "<td>0.45</td>\n",
    "</tr>\n",
    "</tbody>\n",
    "</table>"
   ]
  },
  {
   "cell_type": "markdown",
   "metadata": {},
   "source": [
    "<table border=\"1\" class=\"dataframe\">\n",
    "    <caption>Tabla 2: mayores diferencias entre salario observado y salario horario</caption>\n",
    "    <thead>\n",
    "<tr style=\"text-align: right;\">\n",
    "<th></th>\n",
    "<th>Salario Horario (PPP 2011)</th>\n",
    "<th>Salario Observado</th>\n",
    "<th>Diferencia S. Horario - S. Observado</th>\n",
    "</tr>\n",
    "<tr>\n",
    "<th>City</th>\n",
    "<th></th>\n",
    "<th></th>\n",
    "<th></th>\n",
    "</tr>\n",
    "</thead>\n",
    "<tbody>\n",
    "<tr>\n",
    "<th>Bucaramanga</th>\n",
    "<td>3.04</td>\n",
    "<td>4.74</td>\n",
    "<td>-1.70</td>\n",
    "</tr>\n",
    "<tr>\n",
    "<th>Medellin</th>\n",
    "<td>3.55</td>\n",
    "<td>4.77</td>\n",
    "<td>-1.22</td>\n",
    "</tr>\n",
    "<tr>\n",
    "<th>Neiva</th>\n",
    "<td>3.04</td>\n",
    "<td>4.19</td>\n",
    "<td>-1.15</td>\n",
    "</tr>\n",
    "<tr>\n",
    "<th>Manizales</th>\n",
    "<td>3.19</td>\n",
    "<td>4.34</td>\n",
    "<td>-1.15</td>\n",
    "</tr>\n",
    "<tr>\n",
    "<th>Pereira</th>\n",
    "<td>3.29</td>\n",
    "<td>4.12</td>\n",
    "<td>-0.83</td>\n",
    "</tr>\n",
    "</tbody>\n",
    "</table>\n",
    "\n"
   ]
  }
 ],
 "metadata": {
  "kernelspec": {
   "display_name": "Python 3",
   "language": "python",
   "name": "python3"
  },
  "language_info": {
   "codemirror_mode": {
    "name": "ipython",
    "version": 3
   },
   "file_extension": ".py",
   "mimetype": "text/x-python",
   "name": "python",
   "nbconvert_exporter": "python",
   "pygments_lexer": "ipython3",
   "version": "3.7.8"
  }
 },
 "nbformat": 4,
 "nbformat_minor": 4
}
